{
  "nbformat": 4,
  "nbformat_minor": 0,
  "metadata": {
    "language_info": {
      "codemirror_mode": {
        "name": "ipython",
        "version": 3
      },
      "file_extension": ".py",
      "mimetype": "text/x-python",
      "name": "python",
      "nbconvert_exporter": "python",
      "pygments_lexer": "ipython3",
      "version": "3.8.5-final"
    },
    "orig_nbformat": 2,
    "kernelspec": {
      "name": "python38564bitbaseconda378a717c3d1e409e93df1db8692daf27",
      "display_name": "Python 3.8.5 64-bit ('base': conda)",
      "language": "python"
    },
    "colab": {
      "name": "nairobi_county.ipynb",
      "provenance": []
    }
  },
  "cells": [
    {
      "cell_type": "markdown",
      "metadata": {
        "id": "AsLUVfp4Serq"
      },
      "source": [
        "**Overview**\n",
        "\n",
        "\n",
        "*   The data used here is what we scraped from the \"snscrape.ipynb\" file\n",
        "*   Scraping was done on local machine as Google Colab uses Python Version 3.6 as of the time this was published; snscrape only works with Pyhon 3.8 and above.\n",
        "\n"
      ]
    },
    {
      "cell_type": "code",
      "metadata": {
        "colab": {
          "base_uri": "https://localhost:8080/"
        },
        "id": "nIDtBzhBKiPY",
        "outputId": "f4d50f6d-4ac2-44cb-9b93-a8e691cdac70"
      },
      "source": [
        "pip install nrclex"
      ],
      "execution_count": 1,
      "outputs": [
        {
          "output_type": "stream",
          "text": [
            "Collecting nrclex\n",
            "\u001b[?25l  Downloading https://files.pythonhosted.org/packages/41/1c/0097ee39d456c8a92b2eb5dfd59f581a09a6bafede184a058fb0f19bb6ea/NRCLex-3.0.0.tar.gz (396kB)\n",
            "\r\u001b[K     |▉                               | 10kB 14.3MB/s eta 0:00:01\r\u001b[K     |█▋                              | 20kB 20.5MB/s eta 0:00:01\r\u001b[K     |██▌                             | 30kB 12.3MB/s eta 0:00:01\r\u001b[K     |███▎                            | 40kB 10.5MB/s eta 0:00:01\r\u001b[K     |████▏                           | 51kB 8.3MB/s eta 0:00:01\r\u001b[K     |█████                           | 61kB 8.8MB/s eta 0:00:01\r\u001b[K     |█████▉                          | 71kB 8.3MB/s eta 0:00:01\r\u001b[K     |██████▋                         | 81kB 8.8MB/s eta 0:00:01\r\u001b[K     |███████▍                        | 92kB 8.7MB/s eta 0:00:01\r\u001b[K     |████████▎                       | 102kB 9.1MB/s eta 0:00:01\r\u001b[K     |█████████                       | 112kB 9.1MB/s eta 0:00:01\r\u001b[K     |██████████                      | 122kB 9.1MB/s eta 0:00:01\r\u001b[K     |██████████▊                     | 133kB 9.1MB/s eta 0:00:01\r\u001b[K     |███████████▋                    | 143kB 9.1MB/s eta 0:00:01\r\u001b[K     |████████████▍                   | 153kB 9.1MB/s eta 0:00:01\r\u001b[K     |█████████████▎                  | 163kB 9.1MB/s eta 0:00:01\r\u001b[K     |██████████████                  | 174kB 9.1MB/s eta 0:00:01\r\u001b[K     |██████████████▉                 | 184kB 9.1MB/s eta 0:00:01\r\u001b[K     |███████████████▊                | 194kB 9.1MB/s eta 0:00:01\r\u001b[K     |████████████████▌               | 204kB 9.1MB/s eta 0:00:01\r\u001b[K     |█████████████████▍              | 215kB 9.1MB/s eta 0:00:01\r\u001b[K     |██████████████████▏             | 225kB 9.1MB/s eta 0:00:01\r\u001b[K     |███████████████████             | 235kB 9.1MB/s eta 0:00:01\r\u001b[K     |███████████████████▉            | 245kB 9.1MB/s eta 0:00:01\r\u001b[K     |████████████████████▊           | 256kB 9.1MB/s eta 0:00:01\r\u001b[K     |█████████████████████▌          | 266kB 9.1MB/s eta 0:00:01\r\u001b[K     |██████████████████████▎         | 276kB 9.1MB/s eta 0:00:01\r\u001b[K     |███████████████████████▏        | 286kB 9.1MB/s eta 0:00:01\r\u001b[K     |████████████████████████        | 296kB 9.1MB/s eta 0:00:01\r\u001b[K     |████████████████████████▉       | 307kB 9.1MB/s eta 0:00:01\r\u001b[K     |█████████████████████████▋      | 317kB 9.1MB/s eta 0:00:01\r\u001b[K     |██████████████████████████▌     | 327kB 9.1MB/s eta 0:00:01\r\u001b[K     |███████████████████████████▎    | 337kB 9.1MB/s eta 0:00:01\r\u001b[K     |████████████████████████████    | 348kB 9.1MB/s eta 0:00:01\r\u001b[K     |█████████████████████████████   | 358kB 9.1MB/s eta 0:00:01\r\u001b[K     |█████████████████████████████▊  | 368kB 9.1MB/s eta 0:00:01\r\u001b[K     |██████████████████████████████▋ | 378kB 9.1MB/s eta 0:00:01\r\u001b[K     |███████████████████████████████▍| 389kB 9.1MB/s eta 0:00:01\r\u001b[K     |████████████████████████████████| 399kB 9.1MB/s \n",
            "\u001b[?25hRequirement already satisfied: textblob in /usr/local/lib/python3.7/dist-packages (from nrclex) (0.15.3)\n",
            "Requirement already satisfied: nltk>=3.1 in /usr/local/lib/python3.7/dist-packages (from textblob->nrclex) (3.2.5)\n",
            "Requirement already satisfied: six in /usr/local/lib/python3.7/dist-packages (from nltk>=3.1->textblob->nrclex) (1.15.0)\n",
            "Building wheels for collected packages: nrclex\n",
            "  Building wheel for nrclex (setup.py) ... \u001b[?25l\u001b[?25hdone\n",
            "  Created wheel for nrclex: filename=NRCLex-3.0.0-cp37-none-any.whl size=43310 sha256=3b0deaf9579cb53a0c2e49f287d125a690f41130e7fbd3d12af824fac0b9aee0\n",
            "  Stored in directory: /root/.cache/pip/wheels/17/31/64/035a8d245b4c217aeb8e8a2702d05dc91544b9c2334db72414\n",
            "Successfully built nrclex\n",
            "Installing collected packages: nrclex\n",
            "Successfully installed nrclex-3.0.0\n"
          ],
          "name": "stdout"
        }
      ]
    },
    {
      "cell_type": "markdown",
      "metadata": {
        "id": "wkL6LozWOaaq"
      },
      "source": [
        "**Importing Libraries & Modules**"
      ]
    },
    {
      "cell_type": "code",
      "metadata": {
        "id": "LcvdZHuSOO8M"
      },
      "source": [
        "import pandas as pd \n",
        "import matplotlib.pyplot as plt \n",
        "import seaborn as sns\n",
        "%matplotlib inline\n",
        "import numpy as np\n",
        "import re\n",
        "import nltk\n",
        "import warnings \n",
        "warnings.filterwarnings(\"ignore\", category=DeprecationWarning)\n",
        "from plotly import graph_objs as go\n",
        "from google.colab import drive\n",
        "\"\"\" To connect to colab using your local runtime, use the command: \n",
        "jupyter notebook --NotebookApp.allow_origin='https://colab.research.google.com' --NotebookApp.port_retries=0 \n",
        "--notebook-dir=\"\" --no-browser --allow-root --NotebookApp.token='' --NotebookApp.disable_check_xsrf=True --port=8888\n",
        "to fire up your jupyter notebook then paste: http://localhost:8888/\n",
        "on the colab url pop-up window \"\"\"\n",
        "from PIL import Image\n",
        "from wordcloud import WordCloud, STOPWORDS, ImageColorGenerator\n",
        "from collections import Counter\n",
        "from nltk.corpus import stopwords \n",
        "from nltk.tokenize import word_tokenize\n",
        "from nltk.stem.porter import  PorterStemmer\n",
        "from nltk.stem import WordNetLemmatizer\n",
        "from bs4 import BeautifulSoup\n",
        "from sklearn.feature_extraction.text import CountVectorizer \n",
        "from scipy import sparse\n",
        "from nrclex import NRCLex\n",
        "import plotly.express as px\n",
        "import spacy \n",
        "import networkx as nx\n",
        "from itertools import combinations\n",
        "from collections import defaultdict\n",
        "import operator"
      ],
      "execution_count": 2,
      "outputs": []
    },
    {
      "cell_type": "code",
      "metadata": {
        "id": "bH1An5VTOO8Q",
        "colab": {
          "base_uri": "https://localhost:8080/"
        },
        "outputId": "bd9a2af6-b796-4cc9-c547-20d7157ac4f7"
      },
      "source": [
        "#Mount the google drive folder\n",
        "\n",
        "drive.mount('/content/gdrive')"
      ],
      "execution_count": 3,
      "outputs": [
        {
          "output_type": "stream",
          "text": [
            "Mounted at /content/gdrive\n"
          ],
          "name": "stdout"
        }
      ]
    },
    {
      "cell_type": "code",
      "metadata": {
        "id": "xky7JEDzP0LL",
        "colab": {
          "base_uri": "https://localhost:8080/",
          "height": 198
        },
        "outputId": "88a80812-db5b-4df2-be84-c6746da7469c"
      },
      "source": [
        "#Load the dataset\n",
        "\n",
        "nairobi_df = pd.read_csv('/content/gdrive/My Drive/Coronavirus_Tweets/nairobi_county.csv')\n",
        "\n",
        "#Preview the first four rows of the dataset\n",
        "\n",
        "nairobi_df.head()"
      ],
      "execution_count": 4,
      "outputs": [
        {
          "output_type": "execute_result",
          "data": {
            "text/html": [
              "<div>\n",
              "<style scoped>\n",
              "    .dataframe tbody tr th:only-of-type {\n",
              "        vertical-align: middle;\n",
              "    }\n",
              "\n",
              "    .dataframe tbody tr th {\n",
              "        vertical-align: top;\n",
              "    }\n",
              "\n",
              "    .dataframe thead th {\n",
              "        text-align: right;\n",
              "    }\n",
              "</style>\n",
              "<table border=\"1\" class=\"dataframe\">\n",
              "  <thead>\n",
              "    <tr style=\"text-align: right;\">\n",
              "      <th></th>\n",
              "      <th>Unnamed: 0</th>\n",
              "      <th>Unnamed: 0.1</th>\n",
              "      <th>Datetime</th>\n",
              "      <th>Text</th>\n",
              "      <th>retweets</th>\n",
              "      <th>likes</th>\n",
              "    </tr>\n",
              "  </thead>\n",
              "  <tbody>\n",
              "    <tr>\n",
              "      <th>0</th>\n",
              "      <td>0</td>\n",
              "      <td>0</td>\n",
              "      <td>2020-06-06 19:28:03+00:00</td>\n",
              "      <td>Mmetukosea sana! \\n\\nSasa ningeenda hadi pahal...</td>\n",
              "      <td>0</td>\n",
              "      <td>2</td>\n",
              "    </tr>\n",
              "    <tr>\n",
              "      <th>1</th>\n",
              "      <td>1</td>\n",
              "      <td>1</td>\n",
              "      <td>2020-06-06 13:25:27+00:00</td>\n",
              "      <td>CAN'T WAIT 🥰🥰 #6thjune #BlackLivesMatter #Curf...</td>\n",
              "      <td>1</td>\n",
              "      <td>10</td>\n",
              "    </tr>\n",
              "    <tr>\n",
              "      <th>2</th>\n",
              "      <td>2</td>\n",
              "      <td>2</td>\n",
              "      <td>2020-06-06 13:24:27+00:00</td>\n",
              "      <td>Wakenya hawachoki na meme za Uhuru😂😂 #UhuruKen...</td>\n",
              "      <td>1</td>\n",
              "      <td>4</td>\n",
              "    </tr>\n",
              "    <tr>\n",
              "      <th>3</th>\n",
              "      <td>3</td>\n",
              "      <td>3</td>\n",
              "      <td>2020-06-06 13:03:01+00:00</td>\n",
              "      <td>Fellow Kenyans #uhuruspeaks #UhuruAddress http...</td>\n",
              "      <td>0</td>\n",
              "      <td>1</td>\n",
              "    </tr>\n",
              "    <tr>\n",
              "      <th>4</th>\n",
              "      <td>4</td>\n",
              "      <td>4</td>\n",
              "      <td>2020-06-06 13:02:49+00:00</td>\n",
              "      <td>#UhuruKenyatta Cessation of movement in Nairob...</td>\n",
              "      <td>0</td>\n",
              "      <td>2</td>\n",
              "    </tr>\n",
              "  </tbody>\n",
              "</table>\n",
              "</div>"
            ],
            "text/plain": [
              "   Unnamed: 0  Unnamed: 0.1  ... retweets likes\n",
              "0           0             0  ...        0     2\n",
              "1           1             1  ...        1    10\n",
              "2           2             2  ...        1     4\n",
              "3           3             3  ...        0     1\n",
              "4           4             4  ...        0     2\n",
              "\n",
              "[5 rows x 6 columns]"
            ]
          },
          "metadata": {
            "tags": []
          },
          "execution_count": 4
        }
      ]
    },
    {
      "cell_type": "code",
      "metadata": {
        "id": "PpSAayBBT3bF",
        "colab": {
          "base_uri": "https://localhost:8080/",
          "height": 198
        },
        "outputId": "79c0f27b-7ca2-4c8f-fa78-bc5cba16b412"
      },
      "source": [
        "#Preview the last four rows of the dataset\n",
        "\n",
        "nairobi_df.tail()"
      ],
      "execution_count": 5,
      "outputs": [
        {
          "output_type": "execute_result",
          "data": {
            "text/html": [
              "<div>\n",
              "<style scoped>\n",
              "    .dataframe tbody tr th:only-of-type {\n",
              "        vertical-align: middle;\n",
              "    }\n",
              "\n",
              "    .dataframe tbody tr th {\n",
              "        vertical-align: top;\n",
              "    }\n",
              "\n",
              "    .dataframe thead th {\n",
              "        text-align: right;\n",
              "    }\n",
              "</style>\n",
              "<table border=\"1\" class=\"dataframe\">\n",
              "  <thead>\n",
              "    <tr style=\"text-align: right;\">\n",
              "      <th></th>\n",
              "      <th>Unnamed: 0</th>\n",
              "      <th>Unnamed: 0.1</th>\n",
              "      <th>Datetime</th>\n",
              "      <th>Text</th>\n",
              "      <th>retweets</th>\n",
              "      <th>likes</th>\n",
              "    </tr>\n",
              "  </thead>\n",
              "  <tbody>\n",
              "    <tr>\n",
              "      <th>8179</th>\n",
              "      <td>37</td>\n",
              "      <td>37</td>\n",
              "      <td>2020-05-29 06:20:25+00:00</td>\n",
              "      <td>President Uhuru Kenyatta made it clear that's ...</td>\n",
              "      <td>0</td>\n",
              "      <td>2</td>\n",
              "    </tr>\n",
              "    <tr>\n",
              "      <th>8180</th>\n",
              "      <td>38</td>\n",
              "      <td>38</td>\n",
              "      <td>2020-05-29 06:03:22+00:00</td>\n",
              "      <td>#Uhurustoughchoices Mlisema huyu Ni mtoto wa N...</td>\n",
              "      <td>0</td>\n",
              "      <td>0</td>\n",
              "    </tr>\n",
              "    <tr>\n",
              "      <th>8181</th>\n",
              "      <td>39</td>\n",
              "      <td>39</td>\n",
              "      <td>2020-05-29 05:19:20+00:00</td>\n",
              "      <td>Among other tough choices Uhuru must make is g...</td>\n",
              "      <td>3</td>\n",
              "      <td>4</td>\n",
              "    </tr>\n",
              "    <tr>\n",
              "      <th>8182</th>\n",
              "      <td>40</td>\n",
              "      <td>40</td>\n",
              "      <td>2020-05-27 18:59:53+00:00</td>\n",
              "      <td>Pandemic. Perforated pockets. Plunging economy...</td>\n",
              "      <td>1</td>\n",
              "      <td>6</td>\n",
              "    </tr>\n",
              "    <tr>\n",
              "      <th>8183</th>\n",
              "      <td>41</td>\n",
              "      <td>41</td>\n",
              "      <td>2020-05-27 18:54:16+00:00</td>\n",
              "      <td>Pandemic. Perforated pockets. Plunging economy...</td>\n",
              "      <td>26</td>\n",
              "      <td>35</td>\n",
              "    </tr>\n",
              "  </tbody>\n",
              "</table>\n",
              "</div>"
            ],
            "text/plain": [
              "      Unnamed: 0  Unnamed: 0.1  ... retweets likes\n",
              "8179          37            37  ...        0     2\n",
              "8180          38            38  ...        0     0\n",
              "8181          39            39  ...        3     4\n",
              "8182          40            40  ...        1     6\n",
              "8183          41            41  ...       26    35\n",
              "\n",
              "[5 rows x 6 columns]"
            ]
          },
          "metadata": {
            "tags": []
          },
          "execution_count": 5
        }
      ]
    },
    {
      "cell_type": "markdown",
      "metadata": {
        "id": "V6Yg1rtZUvAe"
      },
      "source": [
        "### Shape of the data"
      ]
    },
    {
      "cell_type": "code",
      "metadata": {
        "id": "6ncE1FR8UmRK",
        "colab": {
          "base_uri": "https://localhost:8080/"
        },
        "outputId": "0077b01f-8a2c-4811-ff49-2d2f37f3a641"
      },
      "source": [
        "#number of rows and columns of the data\n",
        "\n",
        "nairobi_df.shape"
      ],
      "execution_count": 6,
      "outputs": [
        {
          "output_type": "execute_result",
          "data": {
            "text/plain": [
              "(8184, 6)"
            ]
          },
          "metadata": {
            "tags": []
          },
          "execution_count": 6
        }
      ]
    },
    {
      "cell_type": "code",
      "metadata": {
        "id": "p9lx3NUbVJnD",
        "colab": {
          "base_uri": "https://localhost:8080/"
        },
        "outputId": "b211774d-5002-4792-bc0e-cb96983ffe89"
      },
      "source": [
        "#Checking the data types of our data\n",
        "\n",
        "\"\"\" This is crucial for modeling tasks. e.g when solving a regression problem, we only deal with numerical data types and not categorical. \"\"\"\n",
        "\n",
        "nairobi_df.dtypes"
      ],
      "execution_count": 7,
      "outputs": [
        {
          "output_type": "execute_result",
          "data": {
            "text/plain": [
              "Unnamed: 0       int64\n",
              "Unnamed: 0.1     int64\n",
              "Datetime        object\n",
              "Text            object\n",
              "retweets         int64\n",
              "likes            int64\n",
              "dtype: object"
            ]
          },
          "metadata": {
            "tags": []
          },
          "execution_count": 7
        }
      ]
    },
    {
      "cell_type": "markdown",
      "metadata": {
        "id": "PJC6MB0cVY94"
      },
      "source": [
        "**Cleaning the Data**"
      ]
    },
    {
      "cell_type": "markdown",
      "metadata": {
        "id": "Pu8AfS4gVfwo"
      },
      "source": [
        "### Dealing with missing values"
      ]
    },
    {
      "cell_type": "code",
      "metadata": {
        "id": "_XOm4gHUVSem",
        "colab": {
          "base_uri": "https://localhost:8080/"
        },
        "outputId": "ba13523e-18aa-4e50-eba6-94391073c314"
      },
      "source": [
        "#Checking for missing values\n",
        "\n",
        "\"\"\" If there are missing values in the columns, we either fill or drop them from the respective columns with too many missing values that are not of significance to the modeling task.\n",
        "\n",
        "For this case, there are no missing values to handle.\"\"\"\n",
        "\n",
        "nairobi_df.isnull().sum()"
      ],
      "execution_count": 8,
      "outputs": [
        {
          "output_type": "execute_result",
          "data": {
            "text/plain": [
              "Unnamed: 0      0\n",
              "Unnamed: 0.1    0\n",
              "Datetime        0\n",
              "Text            0\n",
              "retweets        0\n",
              "likes           0\n",
              "dtype: int64"
            ]
          },
          "metadata": {
            "tags": []
          },
          "execution_count": 8
        }
      ]
    },
    {
      "cell_type": "code",
      "metadata": {
        "id": "40ymaK9CVvfb",
        "colab": {
          "base_uri": "https://localhost:8080/"
        },
        "outputId": "dca974b3-2e7b-4e99-a123-c2b4e386d231"
      },
      "source": [
        "#Checking for duplicates\n",
        "print(nairobi_df.duplicated().any())"
      ],
      "execution_count": 9,
      "outputs": [
        {
          "output_type": "stream",
          "text": [
            "True\n"
          ],
          "name": "stdout"
        }
      ]
    },
    {
      "cell_type": "code",
      "metadata": {
        "id": "h70AV97CV37q",
        "colab": {
          "base_uri": "https://localhost:8080/"
        },
        "outputId": "859e560e-7e42-4959-9150-8b861496649e"
      },
      "source": [
        "#Dropping Duplicates\n",
        "\n",
        "nairobi_df.drop_duplicates(keep=False, inplace=True)\n",
        "\n",
        "#Confirming there are no duplicates\n",
        "\n",
        "print(nairobi_df.duplicated().any())\n",
        "print(nairobi_df.shape)"
      ],
      "execution_count": 10,
      "outputs": [
        {
          "output_type": "stream",
          "text": [
            "False\n",
            "(4214, 6)\n"
          ],
          "name": "stdout"
        }
      ]
    },
    {
      "cell_type": "markdown",
      "metadata": {
        "id": "nCwTKBpyWTVq"
      },
      "source": [
        "### Dealing with Outliers\n",
        "\n",
        "##### We check for outliers because often times, they result into an impbalanced data for modeling. i.e too many outliers bring about a high variance to our data. High variance causes overfitting to our model.\n",
        "\n",
        "##### A Z score is used since our dataset consists of more than 30 rows."
      ]
    },
    {
      "cell_type": "code",
      "metadata": {
        "id": "2TrskM1IWDNu",
        "colab": {
          "base_uri": "https://localhost:8080/"
        },
        "outputId": "7194ec29-eb60-4106-bc6f-63d91d642a77"
      },
      "source": [
        "#Dealing with outliers\n",
        "#\n",
        "#Import stats from scipy library\n",
        "\n",
        "from scipy import stats\n",
        "num = ['retweets']\n",
        "for i, col in enumerate(num):\n",
        "    z = np.abs(stats.zscore(nairobi_df[col]))\n",
        "print(z)"
      ],
      "execution_count": 11,
      "outputs": [
        {
          "output_type": "stream",
          "text": [
            "[0.14138055 0.0583916  0.0583916  ... 0.10758628 0.0583916  2.016332  ]\n"
          ],
          "name": "stdout"
        }
      ]
    },
    {
      "cell_type": "code",
      "metadata": {
        "id": "ivXPuJocWhrJ",
        "colab": {
          "base_uri": "https://localhost:8080/"
        },
        "outputId": "fe1965bf-790b-4dd4-9e4b-5547f8945dcf"
      },
      "source": [
        "#Confirming that our outliers have been dropped from the data set\n",
        "\n",
        "nairobi_df2 = nairobi_df[( z < 2 )]\n",
        "\n",
        "print(f\"Previous dataframe size : {nairobi_df.shape[0]}\" )\n",
        "print(f\"New dataframe size : {nairobi_df2.shape[0]}\" )"
      ],
      "execution_count": 12,
      "outputs": [
        {
          "output_type": "stream",
          "text": [
            "Previous dataframe size : 4214\n",
            "New dataframe size : 4173\n"
          ],
          "name": "stdout"
        }
      ]
    },
    {
      "cell_type": "code",
      "metadata": {
        "id": "w7nhCjTXWo8u",
        "colab": {
          "base_uri": "https://localhost:8080/",
          "height": 288
        },
        "outputId": "a192cf2f-2943-45d0-883b-3959b1e50604"
      },
      "source": [
        "nairobi_df2.describe()"
      ],
      "execution_count": 13,
      "outputs": [
        {
          "output_type": "execute_result",
          "data": {
            "text/html": [
              "<div>\n",
              "<style scoped>\n",
              "    .dataframe tbody tr th:only-of-type {\n",
              "        vertical-align: middle;\n",
              "    }\n",
              "\n",
              "    .dataframe tbody tr th {\n",
              "        vertical-align: top;\n",
              "    }\n",
              "\n",
              "    .dataframe thead th {\n",
              "        text-align: right;\n",
              "    }\n",
              "</style>\n",
              "<table border=\"1\" class=\"dataframe\">\n",
              "  <thead>\n",
              "    <tr style=\"text-align: right;\">\n",
              "      <th></th>\n",
              "      <th>Unnamed: 0</th>\n",
              "      <th>Unnamed: 0.1</th>\n",
              "      <th>retweets</th>\n",
              "      <th>likes</th>\n",
              "    </tr>\n",
              "  </thead>\n",
              "  <tbody>\n",
              "    <tr>\n",
              "      <th>count</th>\n",
              "      <td>4173.000000</td>\n",
              "      <td>4173.000000</td>\n",
              "      <td>4173.000000</td>\n",
              "      <td>4173.000000</td>\n",
              "    </tr>\n",
              "    <tr>\n",
              "      <th>mean</th>\n",
              "      <td>1358.447160</td>\n",
              "      <td>1358.447160</td>\n",
              "      <td>0.938414</td>\n",
              "      <td>3.865564</td>\n",
              "    </tr>\n",
              "    <tr>\n",
              "      <th>std</th>\n",
              "      <td>1011.783419</td>\n",
              "      <td>1011.783419</td>\n",
              "      <td>2.363796</td>\n",
              "      <td>11.781585</td>\n",
              "    </tr>\n",
              "    <tr>\n",
              "      <th>min</th>\n",
              "      <td>0.000000</td>\n",
              "      <td>0.000000</td>\n",
              "      <td>0.000000</td>\n",
              "      <td>0.000000</td>\n",
              "    </tr>\n",
              "    <tr>\n",
              "      <th>25%</th>\n",
              "      <td>444.000000</td>\n",
              "      <td>444.000000</td>\n",
              "      <td>0.000000</td>\n",
              "      <td>0.000000</td>\n",
              "    </tr>\n",
              "    <tr>\n",
              "      <th>50%</th>\n",
              "      <td>1195.000000</td>\n",
              "      <td>1195.000000</td>\n",
              "      <td>0.000000</td>\n",
              "      <td>1.000000</td>\n",
              "    </tr>\n",
              "    <tr>\n",
              "      <th>75%</th>\n",
              "      <td>2241.000000</td>\n",
              "      <td>2241.000000</td>\n",
              "      <td>1.000000</td>\n",
              "      <td>3.000000</td>\n",
              "    </tr>\n",
              "    <tr>\n",
              "      <th>max</th>\n",
              "      <td>3298.000000</td>\n",
              "      <td>3298.000000</td>\n",
              "      <td>25.000000</td>\n",
              "      <td>202.000000</td>\n",
              "    </tr>\n",
              "  </tbody>\n",
              "</table>\n",
              "</div>"
            ],
            "text/plain": [
              "        Unnamed: 0  Unnamed: 0.1     retweets        likes\n",
              "count  4173.000000   4173.000000  4173.000000  4173.000000\n",
              "mean   1358.447160   1358.447160     0.938414     3.865564\n",
              "std    1011.783419   1011.783419     2.363796    11.781585\n",
              "min       0.000000      0.000000     0.000000     0.000000\n",
              "25%     444.000000    444.000000     0.000000     0.000000\n",
              "50%    1195.000000   1195.000000     0.000000     1.000000\n",
              "75%    2241.000000   2241.000000     1.000000     3.000000\n",
              "max    3298.000000   3298.000000    25.000000   202.000000"
            ]
          },
          "metadata": {
            "tags": []
          },
          "execution_count": 13
        }
      ]
    },
    {
      "cell_type": "markdown",
      "metadata": {
        "id": "cbFgvvZDXB-C"
      },
      "source": [
        "**Cleaning the Text**"
      ]
    },
    {
      "cell_type": "code",
      "metadata": {
        "id": "pOMT4Vw8W2kQ",
        "colab": {
          "base_uri": "https://localhost:8080/"
        },
        "outputId": "6030d225-0822-41c3-e982-ab7fd1cce9e4"
      },
      "source": [
        "#Map the lowering function to all column names\n",
        "\n",
        "nairobi_df2.columns = map(str.lower, nairobi_df2.columns)\n",
        "\n",
        "#Print the column names\n",
        "\n",
        "for col in nairobi_df2:\n",
        "    print(col)"
      ],
      "execution_count": 14,
      "outputs": [
        {
          "output_type": "stream",
          "text": [
            "unnamed: 0\n",
            "unnamed: 0.1\n",
            "datetime\n",
            "text\n",
            "retweets\n",
            "likes\n"
          ],
          "name": "stdout"
        }
      ]
    },
    {
      "cell_type": "code",
      "metadata": {
        "id": "8amW5B8MXIbP"
      },
      "source": [
        "#Removing Whitespace from both columns and rows and converting case to lower case\n",
        "#\n",
        "#Converting the text column to string dtype after getting an attribute error\n",
        "\"\"\"nairobi_df2['text'] = nairobi_df2['text'].astype(str)\n",
        "\n",
        "nairobi_df2.columns = nairobi_df2.str.strip().str.replace(\",\").str.lower()\n",
        "\n",
        "cat = nairobi_df2['text']\n",
        "\n",
        "for i, c in enumerate(cat):\n",
        "    nairobi_df2[cat] = nairobi_df2[c].str.strip().str.replace(\",\").str.lower()\"\"\"\n",
        "\n",
        "#Make text lowercase, remove text in square brackets, remove links, remove punctuation and remove words containing numbers\n",
        "import re\n",
        "import string\n",
        "\n",
        "def clean_text(text):\n",
        "    text = str(text).lower()\n",
        "    text = re.sub(\"\\[.*?\\]\", '', text)\n",
        "    text = re.sub(\"https?://\\S+|www\\.S+\", '', text)\n",
        "    text = re.sub(\"<.*?>+\", '', text)\n",
        "    text = re.sub(\"[%s]\" % re.escape(string.punctuation) , '', text)\n",
        "    text = re.sub(\"\\n\", '', text)\n",
        "    text = re.sub(\"\\w*\\d\\w*\", '', text)\n",
        "    return text"
      ],
      "execution_count": 15,
      "outputs": []
    },
    {
      "cell_type": "code",
      "metadata": {
        "id": "DMSTKFYNXlDq",
        "colab": {
          "base_uri": "https://localhost:8080/"
        },
        "outputId": "13dbe420-d2a3-4e02-d194-f6833bc36259"
      },
      "source": [
        "#Using a lambda function to clean the text column\n",
        "\n",
        "nairobi_df2['text'] = nairobi_df2['text'].apply(lambda x:clean_text(x))"
      ],
      "execution_count": 16,
      "outputs": [
        {
          "output_type": "stream",
          "text": [
            "/usr/local/lib/python3.7/dist-packages/ipykernel_launcher.py:3: SettingWithCopyWarning:\n",
            "\n",
            "\n",
            "A value is trying to be set on a copy of a slice from a DataFrame.\n",
            "Try using .loc[row_indexer,col_indexer] = value instead\n",
            "\n",
            "See the caveats in the documentation: https://pandas.pydata.org/pandas-docs/stable/user_guide/indexing.html#returning-a-view-versus-a-copy\n",
            "\n"
          ],
          "name": "stderr"
        }
      ]
    },
    {
      "cell_type": "code",
      "metadata": {
        "id": "3hESbDDQXnla",
        "colab": {
          "base_uri": "https://localhost:8080/",
          "height": 198
        },
        "outputId": "d9b38f77-ffc1-43fb-8325-fe80ebbcd810"
      },
      "source": [
        "#Preview the dataset to see changes\n",
        "\n",
        "nairobi_df2.tail()"
      ],
      "execution_count": 17,
      "outputs": [
        {
          "output_type": "execute_result",
          "data": {
            "text/html": [
              "<div>\n",
              "<style scoped>\n",
              "    .dataframe tbody tr th:only-of-type {\n",
              "        vertical-align: middle;\n",
              "    }\n",
              "\n",
              "    .dataframe tbody tr th {\n",
              "        vertical-align: top;\n",
              "    }\n",
              "\n",
              "    .dataframe thead th {\n",
              "        text-align: right;\n",
              "    }\n",
              "</style>\n",
              "<table border=\"1\" class=\"dataframe\">\n",
              "  <thead>\n",
              "    <tr style=\"text-align: right;\">\n",
              "      <th></th>\n",
              "      <th>unnamed: 0</th>\n",
              "      <th>unnamed: 0.1</th>\n",
              "      <th>datetime</th>\n",
              "      <th>text</th>\n",
              "      <th>retweets</th>\n",
              "      <th>likes</th>\n",
              "    </tr>\n",
              "  </thead>\n",
              "  <tbody>\n",
              "    <tr>\n",
              "      <th>8178</th>\n",
              "      <td>36</td>\n",
              "      <td>36</td>\n",
              "      <td>2020-05-29 06:34:32+00:00</td>\n",
              "      <td>theres nothing like making a tough choice when...</td>\n",
              "      <td>0</td>\n",
              "      <td>0</td>\n",
              "    </tr>\n",
              "    <tr>\n",
              "      <th>8179</th>\n",
              "      <td>37</td>\n",
              "      <td>37</td>\n",
              "      <td>2020-05-29 06:20:25+00:00</td>\n",
              "      <td>president uhuru kenyatta made it clear thats t...</td>\n",
              "      <td>0</td>\n",
              "      <td>2</td>\n",
              "    </tr>\n",
              "    <tr>\n",
              "      <th>8180</th>\n",
              "      <td>38</td>\n",
              "      <td>38</td>\n",
              "      <td>2020-05-29 06:03:22+00:00</td>\n",
              "      <td>uhurustoughchoices mlisema huyu ni mtoto wa na...</td>\n",
              "      <td>0</td>\n",
              "      <td>0</td>\n",
              "    </tr>\n",
              "    <tr>\n",
              "      <th>8181</th>\n",
              "      <td>39</td>\n",
              "      <td>39</td>\n",
              "      <td>2020-05-29 05:19:20+00:00</td>\n",
              "      <td>among other tough choices uhuru must make is g...</td>\n",
              "      <td>3</td>\n",
              "      <td>4</td>\n",
              "    </tr>\n",
              "    <tr>\n",
              "      <th>8182</th>\n",
              "      <td>40</td>\n",
              "      <td>40</td>\n",
              "      <td>2020-05-27 18:59:53+00:00</td>\n",
              "      <td>pandemic perforated pockets plunging economy p...</td>\n",
              "      <td>1</td>\n",
              "      <td>6</td>\n",
              "    </tr>\n",
              "  </tbody>\n",
              "</table>\n",
              "</div>"
            ],
            "text/plain": [
              "      unnamed: 0  unnamed: 0.1  ... retweets likes\n",
              "8178          36            36  ...        0     0\n",
              "8179          37            37  ...        0     2\n",
              "8180          38            38  ...        0     0\n",
              "8181          39            39  ...        3     4\n",
              "8182          40            40  ...        1     6\n",
              "\n",
              "[5 rows x 6 columns]"
            ]
          },
          "metadata": {
            "tags": []
          },
          "execution_count": 17
        }
      ]
    },
    {
      "cell_type": "code",
      "metadata": {
        "id": "HgXr-UnuXwka",
        "colab": {
          "base_uri": "https://localhost:8080/",
          "height": 504
        },
        "outputId": "5258e815-ce78-4191-d8d7-37d63479c7c7"
      },
      "source": [
        "#Removing Stopwords\n",
        "\n",
        "import nltk\n",
        "nltk.download('stopwords')\n",
        "\n",
        "from nltk.corpus import stopwords\n",
        "stop = stopwords.words('english')\n",
        "\n",
        "nairobi_df2['text_without_stopwords'] = nairobi_df2['text'].apply(lambda x: ' '.join(word for word in str(x).split() if word not in stop))#this method gives back a list of words\n",
        "\n",
        "nairobi_df2.head()"
      ],
      "execution_count": 18,
      "outputs": [
        {
          "output_type": "stream",
          "text": [
            "[nltk_data] Downloading package stopwords to /root/nltk_data...\n",
            "[nltk_data]   Unzipping corpora/stopwords.zip.\n"
          ],
          "name": "stdout"
        },
        {
          "output_type": "stream",
          "text": [
            "/usr/local/lib/python3.7/dist-packages/ipykernel_launcher.py:9: SettingWithCopyWarning:\n",
            "\n",
            "\n",
            "A value is trying to be set on a copy of a slice from a DataFrame.\n",
            "Try using .loc[row_indexer,col_indexer] = value instead\n",
            "\n",
            "See the caveats in the documentation: https://pandas.pydata.org/pandas-docs/stable/user_guide/indexing.html#returning-a-view-versus-a-copy\n",
            "\n"
          ],
          "name": "stderr"
        },
        {
          "output_type": "execute_result",
          "data": {
            "text/html": [
              "<div>\n",
              "<style scoped>\n",
              "    .dataframe tbody tr th:only-of-type {\n",
              "        vertical-align: middle;\n",
              "    }\n",
              "\n",
              "    .dataframe tbody tr th {\n",
              "        vertical-align: top;\n",
              "    }\n",
              "\n",
              "    .dataframe thead th {\n",
              "        text-align: right;\n",
              "    }\n",
              "</style>\n",
              "<table border=\"1\" class=\"dataframe\">\n",
              "  <thead>\n",
              "    <tr style=\"text-align: right;\">\n",
              "      <th></th>\n",
              "      <th>unnamed: 0</th>\n",
              "      <th>unnamed: 0.1</th>\n",
              "      <th>datetime</th>\n",
              "      <th>text</th>\n",
              "      <th>retweets</th>\n",
              "      <th>likes</th>\n",
              "      <th>text_without_stopwords</th>\n",
              "    </tr>\n",
              "  </thead>\n",
              "  <tbody>\n",
              "    <tr>\n",
              "      <th>0</th>\n",
              "      <td>0</td>\n",
              "      <td>0</td>\n",
              "      <td>2020-06-06 19:28:03+00:00</td>\n",
              "      <td>mmetukosea sana sasa ningeenda hadi pahali gar...</td>\n",
              "      <td>0</td>\n",
              "      <td>2</td>\n",
              "      <td>mmetukosea sana sasa ningeenda hadi pahali gar...</td>\n",
              "    </tr>\n",
              "    <tr>\n",
              "      <th>1</th>\n",
              "      <td>1</td>\n",
              "      <td>1</td>\n",
              "      <td>2020-06-06 13:25:27+00:00</td>\n",
              "      <td>cant wait 🥰🥰  blacklivesmatter curfewinkenya w...</td>\n",
              "      <td>1</td>\n",
              "      <td>10</td>\n",
              "      <td>cant wait 🥰🥰 blacklivesmatter curfewinkenya wa...</td>\n",
              "    </tr>\n",
              "    <tr>\n",
              "      <th>2</th>\n",
              "      <td>2</td>\n",
              "      <td>2</td>\n",
              "      <td>2020-06-06 13:24:27+00:00</td>\n",
              "      <td>wakenya hawachoki na meme za uhuru😂😂 uhurukeny...</td>\n",
              "      <td>1</td>\n",
              "      <td>4</td>\n",
              "      <td>wakenya hawachoki na meme za uhuru😂😂 uhurukeny...</td>\n",
              "    </tr>\n",
              "    <tr>\n",
              "      <th>3</th>\n",
              "      <td>3</td>\n",
              "      <td>3</td>\n",
              "      <td>2020-06-06 13:03:01+00:00</td>\n",
              "      <td>fellow kenyans uhuruspeaks uhuruaddress</td>\n",
              "      <td>0</td>\n",
              "      <td>1</td>\n",
              "      <td>fellow kenyans uhuruspeaks uhuruaddress</td>\n",
              "    </tr>\n",
              "    <tr>\n",
              "      <th>4</th>\n",
              "      <td>4</td>\n",
              "      <td>4</td>\n",
              "      <td>2020-06-06 13:02:49+00:00</td>\n",
              "      <td>uhurukenyatta cessation of movement in nairobi...</td>\n",
              "      <td>0</td>\n",
              "      <td>2</td>\n",
              "      <td>uhurukenyatta cessation movement nairobi momba...</td>\n",
              "    </tr>\n",
              "  </tbody>\n",
              "</table>\n",
              "</div>"
            ],
            "text/plain": [
              "   unnamed: 0  ...                             text_without_stopwords\n",
              "0           0  ...  mmetukosea sana sasa ningeenda hadi pahali gar...\n",
              "1           1  ...  cant wait 🥰🥰 blacklivesmatter curfewinkenya wa...\n",
              "2           2  ...  wakenya hawachoki na meme za uhuru😂😂 uhurukeny...\n",
              "3           3  ...            fellow kenyans uhuruspeaks uhuruaddress\n",
              "4           4  ...  uhurukenyatta cessation movement nairobi momba...\n",
              "\n",
              "[5 rows x 7 columns]"
            ]
          },
          "metadata": {
            "tags": []
          },
          "execution_count": 18
        }
      ]
    },
    {
      "cell_type": "code",
      "metadata": {
        "id": "C3P7cYKbe5Q_",
        "colab": {
          "base_uri": "https://localhost:8080/"
        },
        "outputId": "72647e45-94a1-4027-bd3c-5d5b8ee96a43"
      },
      "source": [
        "#Check for the maximum and minimum dates in the data\n",
        "\n",
        "print(f\" Data Available since {nairobi_df2.datetime.min()}\")\n",
        "print(f\" Data Available upto {nairobi_df2.datetime.max()}\")"
      ],
      "execution_count": 19,
      "outputs": [
        {
          "output_type": "stream",
          "text": [
            " Data Available since 2020-02-16 11:30:23+00:00\n",
            " Data Available upto 2020-07-22 03:35:10+00:00\n"
          ],
          "name": "stdout"
        }
      ]
    },
    {
      "cell_type": "markdown",
      "metadata": {
        "id": "7qK7_kT2fKl9"
      },
      "source": [
        "**Visualizations**"
      ]
    },
    {
      "cell_type": "markdown",
      "metadata": {
        "id": "EsPE3D98fW6t"
      },
      "source": [
        "### Common Words"
      ]
    },
    {
      "cell_type": "code",
      "metadata": {
        "id": "WGtGyf32fGQv",
        "colab": {
          "base_uri": "https://localhost:8080/",
          "height": 1000
        },
        "outputId": "1b6fe8bd-7947-4bff-ba46-875fa42d5a46"
      },
      "source": [
        "#Checking for the most common words\n",
        "\n",
        "from collections import Counter\n",
        "nairobi_df2['text_without_stopwords'] = nairobi_df2['text_without_stopwords'].apply(lambda x:str(x).split())\n",
        "top = Counter([item for sublist in nairobi_df2['text_without_stopwords'] for item in sublist])\n",
        "tweets = pd.DataFrame(top.most_common(51))\n",
        "tweets.columns = ['common words', 'count']\n",
        "tweets.style.background_gradient(cmap = 'Blues')"
      ],
      "execution_count": 20,
      "outputs": [
        {
          "output_type": "stream",
          "text": [
            "/usr/local/lib/python3.7/dist-packages/ipykernel_launcher.py:4: SettingWithCopyWarning:\n",
            "\n",
            "\n",
            "A value is trying to be set on a copy of a slice from a DataFrame.\n",
            "Try using .loc[row_indexer,col_indexer] = value instead\n",
            "\n",
            "See the caveats in the documentation: https://pandas.pydata.org/pandas-docs/stable/user_guide/indexing.html#returning-a-view-versus-a-copy\n",
            "\n"
          ],
          "name": "stderr"
        },
        {
          "output_type": "execute_result",
          "data": {
            "text/html": [
              "<style  type=\"text/css\" >\n",
              "#T_eb13a6de_9738_11eb_97b0_0242ac1c0002row0_col1{\n",
              "            background-color:  #08306b;\n",
              "            color:  #f1f1f1;\n",
              "        }#T_eb13a6de_9738_11eb_97b0_0242ac1c0002row1_col1{\n",
              "            background-color:  #08509b;\n",
              "            color:  #f1f1f1;\n",
              "        }#T_eb13a6de_9738_11eb_97b0_0242ac1c0002row2_col1{\n",
              "            background-color:  #0a549e;\n",
              "            color:  #f1f1f1;\n",
              "        }#T_eb13a6de_9738_11eb_97b0_0242ac1c0002row3_col1{\n",
              "            background-color:  #aacfe5;\n",
              "            color:  #000000;\n",
              "        }#T_eb13a6de_9738_11eb_97b0_0242ac1c0002row4_col1{\n",
              "            background-color:  #c4daee;\n",
              "            color:  #000000;\n",
              "        }#T_eb13a6de_9738_11eb_97b0_0242ac1c0002row5_col1{\n",
              "            background-color:  #d3e3f3;\n",
              "            color:  #000000;\n",
              "        }#T_eb13a6de_9738_11eb_97b0_0242ac1c0002row6_col1{\n",
              "            background-color:  #d8e7f5;\n",
              "            color:  #000000;\n",
              "        }#T_eb13a6de_9738_11eb_97b0_0242ac1c0002row7_col1{\n",
              "            background-color:  #dae8f6;\n",
              "            color:  #000000;\n",
              "        }#T_eb13a6de_9738_11eb_97b0_0242ac1c0002row8_col1{\n",
              "            background-color:  #e0ecf8;\n",
              "            color:  #000000;\n",
              "        }#T_eb13a6de_9738_11eb_97b0_0242ac1c0002row9_col1,#T_eb13a6de_9738_11eb_97b0_0242ac1c0002row10_col1{\n",
              "            background-color:  #e1edf8;\n",
              "            color:  #000000;\n",
              "        }#T_eb13a6de_9738_11eb_97b0_0242ac1c0002row11_col1{\n",
              "            background-color:  #e6f0f9;\n",
              "            color:  #000000;\n",
              "        }#T_eb13a6de_9738_11eb_97b0_0242ac1c0002row12_col1{\n",
              "            background-color:  #e8f1fa;\n",
              "            color:  #000000;\n",
              "        }#T_eb13a6de_9738_11eb_97b0_0242ac1c0002row13_col1,#T_eb13a6de_9738_11eb_97b0_0242ac1c0002row14_col1{\n",
              "            background-color:  #ebf3fb;\n",
              "            color:  #000000;\n",
              "        }#T_eb13a6de_9738_11eb_97b0_0242ac1c0002row15_col1{\n",
              "            background-color:  #ecf4fb;\n",
              "            color:  #000000;\n",
              "        }#T_eb13a6de_9738_11eb_97b0_0242ac1c0002row16_col1,#T_eb13a6de_9738_11eb_97b0_0242ac1c0002row17_col1,#T_eb13a6de_9738_11eb_97b0_0242ac1c0002row18_col1,#T_eb13a6de_9738_11eb_97b0_0242ac1c0002row19_col1,#T_eb13a6de_9738_11eb_97b0_0242ac1c0002row20_col1{\n",
              "            background-color:  #eef5fc;\n",
              "            color:  #000000;\n",
              "        }#T_eb13a6de_9738_11eb_97b0_0242ac1c0002row21_col1{\n",
              "            background-color:  #eff6fc;\n",
              "            color:  #000000;\n",
              "        }#T_eb13a6de_9738_11eb_97b0_0242ac1c0002row22_col1,#T_eb13a6de_9738_11eb_97b0_0242ac1c0002row23_col1,#T_eb13a6de_9738_11eb_97b0_0242ac1c0002row24_col1{\n",
              "            background-color:  #f1f7fd;\n",
              "            color:  #000000;\n",
              "        }#T_eb13a6de_9738_11eb_97b0_0242ac1c0002row25_col1,#T_eb13a6de_9738_11eb_97b0_0242ac1c0002row26_col1,#T_eb13a6de_9738_11eb_97b0_0242ac1c0002row27_col1{\n",
              "            background-color:  #f2f7fd;\n",
              "            color:  #000000;\n",
              "        }#T_eb13a6de_9738_11eb_97b0_0242ac1c0002row28_col1,#T_eb13a6de_9738_11eb_97b0_0242ac1c0002row29_col1,#T_eb13a6de_9738_11eb_97b0_0242ac1c0002row30_col1{\n",
              "            background-color:  #f2f8fd;\n",
              "            color:  #000000;\n",
              "        }#T_eb13a6de_9738_11eb_97b0_0242ac1c0002row31_col1,#T_eb13a6de_9738_11eb_97b0_0242ac1c0002row32_col1{\n",
              "            background-color:  #f3f8fe;\n",
              "            color:  #000000;\n",
              "        }#T_eb13a6de_9738_11eb_97b0_0242ac1c0002row33_col1,#T_eb13a6de_9738_11eb_97b0_0242ac1c0002row34_col1,#T_eb13a6de_9738_11eb_97b0_0242ac1c0002row35_col1,#T_eb13a6de_9738_11eb_97b0_0242ac1c0002row36_col1{\n",
              "            background-color:  #f4f9fe;\n",
              "            color:  #000000;\n",
              "        }#T_eb13a6de_9738_11eb_97b0_0242ac1c0002row37_col1,#T_eb13a6de_9738_11eb_97b0_0242ac1c0002row38_col1,#T_eb13a6de_9738_11eb_97b0_0242ac1c0002row39_col1{\n",
              "            background-color:  #f5f9fe;\n",
              "            color:  #000000;\n",
              "        }#T_eb13a6de_9738_11eb_97b0_0242ac1c0002row40_col1,#T_eb13a6de_9738_11eb_97b0_0242ac1c0002row41_col1,#T_eb13a6de_9738_11eb_97b0_0242ac1c0002row42_col1,#T_eb13a6de_9738_11eb_97b0_0242ac1c0002row43_col1{\n",
              "            background-color:  #f5fafe;\n",
              "            color:  #000000;\n",
              "        }#T_eb13a6de_9738_11eb_97b0_0242ac1c0002row44_col1,#T_eb13a6de_9738_11eb_97b0_0242ac1c0002row45_col1,#T_eb13a6de_9738_11eb_97b0_0242ac1c0002row46_col1{\n",
              "            background-color:  #f6faff;\n",
              "            color:  #000000;\n",
              "        }#T_eb13a6de_9738_11eb_97b0_0242ac1c0002row47_col1,#T_eb13a6de_9738_11eb_97b0_0242ac1c0002row48_col1,#T_eb13a6de_9738_11eb_97b0_0242ac1c0002row49_col1,#T_eb13a6de_9738_11eb_97b0_0242ac1c0002row50_col1{\n",
              "            background-color:  #f7fbff;\n",
              "            color:  #000000;\n",
              "        }</style><table id=\"T_eb13a6de_9738_11eb_97b0_0242ac1c0002\" ><thead>    <tr>        <th class=\"blank level0\" ></th>        <th class=\"col_heading level0 col0\" >common words</th>        <th class=\"col_heading level0 col1\" >count</th>    </tr></thead><tbody>\n",
              "                <tr>\n",
              "                        <th id=\"T_eb13a6de_9738_11eb_97b0_0242ac1c0002level0_row0\" class=\"row_heading level0 row0\" >0</th>\n",
              "                        <td id=\"T_eb13a6de_9738_11eb_97b0_0242ac1c0002row0_col0\" class=\"data row0 col0\" >stay</td>\n",
              "                        <td id=\"T_eb13a6de_9738_11eb_97b0_0242ac1c0002row0_col1\" class=\"data row0 col1\" >1602</td>\n",
              "            </tr>\n",
              "            <tr>\n",
              "                        <th id=\"T_eb13a6de_9738_11eb_97b0_0242ac1c0002level0_row1\" class=\"row_heading level0 row1\" >1</th>\n",
              "                        <td id=\"T_eb13a6de_9738_11eb_97b0_0242ac1c0002row1_col0\" class=\"data row1 col0\" >safe</td>\n",
              "                        <td id=\"T_eb13a6de_9738_11eb_97b0_0242ac1c0002row1_col1\" class=\"data row1 col1\" >1413</td>\n",
              "            </tr>\n",
              "            <tr>\n",
              "                        <th id=\"T_eb13a6de_9738_11eb_97b0_0242ac1c0002level0_row2\" class=\"row_heading level0 row2\" >2</th>\n",
              "                        <td id=\"T_eb13a6de_9738_11eb_97b0_0242ac1c0002row2_col0\" class=\"data row2 col0\" >staysafe</td>\n",
              "                        <td id=\"T_eb13a6de_9738_11eb_97b0_0242ac1c0002row2_col1\" class=\"data row2 col1\" >1394</td>\n",
              "            </tr>\n",
              "            <tr>\n",
              "                        <th id=\"T_eb13a6de_9738_11eb_97b0_0242ac1c0002level0_row3\" class=\"row_heading level0 row3\" >3</th>\n",
              "                        <td id=\"T_eb13a6de_9738_11eb_97b0_0242ac1c0002row3_col0\" class=\"data row3 col0\" >curfewinkenya</td>\n",
              "                        <td id=\"T_eb13a6de_9738_11eb_97b0_0242ac1c0002row3_col1\" class=\"data row3 col1\" >593</td>\n",
              "            </tr>\n",
              "            <tr>\n",
              "                        <th id=\"T_eb13a6de_9738_11eb_97b0_0242ac1c0002level0_row4\" class=\"row_heading level0 row4\" >4</th>\n",
              "                        <td id=\"T_eb13a6de_9738_11eb_97b0_0242ac1c0002row4_col0\" class=\"data row4 col0\" >stayhome</td>\n",
              "                        <td id=\"T_eb13a6de_9738_11eb_97b0_0242ac1c0002row4_col1\" class=\"data row4 col1\" >472</td>\n",
              "            </tr>\n",
              "            <tr>\n",
              "                        <th id=\"T_eb13a6de_9738_11eb_97b0_0242ac1c0002level0_row5\" class=\"row_heading level0 row5\" >5</th>\n",
              "                        <td id=\"T_eb13a6de_9738_11eb_97b0_0242ac1c0002row5_col0\" class=\"data row5 col0\" >home</td>\n",
              "                        <td id=\"T_eb13a6de_9738_11eb_97b0_0242ac1c0002row5_col1\" class=\"data row5 col1\" >365</td>\n",
              "            </tr>\n",
              "            <tr>\n",
              "                        <th id=\"T_eb13a6de_9738_11eb_97b0_0242ac1c0002level0_row6\" class=\"row_heading level0 row6\" >6</th>\n",
              "                        <td id=\"T_eb13a6de_9738_11eb_97b0_0242ac1c0002row6_col0\" class=\"data row6 col0\" >us</td>\n",
              "                        <td id=\"T_eb13a6de_9738_11eb_97b0_0242ac1c0002row6_col1\" class=\"data row6 col1\" >319</td>\n",
              "            </tr>\n",
              "            <tr>\n",
              "                        <th id=\"T_eb13a6de_9738_11eb_97b0_0242ac1c0002level0_row7\" class=\"row_heading level0 row7\" >7</th>\n",
              "                        <td id=\"T_eb13a6de_9738_11eb_97b0_0242ac1c0002row7_col0\" class=\"data row7 col0\" >nairobi</td>\n",
              "                        <td id=\"T_eb13a6de_9738_11eb_97b0_0242ac1c0002row7_col1\" class=\"data row7 col1\" >306</td>\n",
              "            </tr>\n",
              "            <tr>\n",
              "                        <th id=\"T_eb13a6de_9738_11eb_97b0_0242ac1c0002level0_row8\" class=\"row_heading level0 row8\" >8</th>\n",
              "                        <td id=\"T_eb13a6de_9738_11eb_97b0_0242ac1c0002row8_col0\" class=\"data row8 col0\" >amp</td>\n",
              "                        <td id=\"T_eb13a6de_9738_11eb_97b0_0242ac1c0002row8_col1\" class=\"data row8 col1\" >255</td>\n",
              "            </tr>\n",
              "            <tr>\n",
              "                        <th id=\"T_eb13a6de_9738_11eb_97b0_0242ac1c0002level0_row9\" class=\"row_heading level0 row9\" >9</th>\n",
              "                        <td id=\"T_eb13a6de_9738_11eb_97b0_0242ac1c0002row9_col0\" class=\"data row9 col0\" >kenya</td>\n",
              "                        <td id=\"T_eb13a6de_9738_11eb_97b0_0242ac1c0002row9_col1\" class=\"data row9 col1\" >253</td>\n",
              "            </tr>\n",
              "            <tr>\n",
              "                        <th id=\"T_eb13a6de_9738_11eb_97b0_0242ac1c0002level0_row10\" class=\"row_heading level0 row10\" >10</th>\n",
              "                        <td id=\"T_eb13a6de_9738_11eb_97b0_0242ac1c0002row10_col0\" class=\"data row10 col0\" >happy</td>\n",
              "                        <td id=\"T_eb13a6de_9738_11eb_97b0_0242ac1c0002row10_col1\" class=\"data row10 col1\" >248</td>\n",
              "            </tr>\n",
              "            <tr>\n",
              "                        <th id=\"T_eb13a6de_9738_11eb_97b0_0242ac1c0002level0_row11\" class=\"row_heading level0 row11\" >11</th>\n",
              "                        <td id=\"T_eb13a6de_9738_11eb_97b0_0242ac1c0002row11_col0\" class=\"data row11 col0\" >good</td>\n",
              "                        <td id=\"T_eb13a6de_9738_11eb_97b0_0242ac1c0002row11_col1\" class=\"data row11 col1\" >213</td>\n",
              "            </tr>\n",
              "            <tr>\n",
              "                        <th id=\"T_eb13a6de_9738_11eb_97b0_0242ac1c0002level0_row12\" class=\"row_heading level0 row12\" >12</th>\n",
              "                        <td id=\"T_eb13a6de_9738_11eb_97b0_0242ac1c0002row12_col0\" class=\"data row12 col0\" >people</td>\n",
              "                        <td id=\"T_eb13a6de_9738_11eb_97b0_0242ac1c0002row12_col1\" class=\"data row12 col1\" >196</td>\n",
              "            </tr>\n",
              "            <tr>\n",
              "                        <th id=\"T_eb13a6de_9738_11eb_97b0_0242ac1c0002level0_row13\" class=\"row_heading level0 row13\" >13</th>\n",
              "                        <td id=\"T_eb13a6de_9738_11eb_97b0_0242ac1c0002row13_col0\" class=\"data row13 col0\" >corona</td>\n",
              "                        <td id=\"T_eb13a6de_9738_11eb_97b0_0242ac1c0002row13_col1\" class=\"data row13 col1\" >172</td>\n",
              "            </tr>\n",
              "            <tr>\n",
              "                        <th id=\"T_eb13a6de_9738_11eb_97b0_0242ac1c0002level0_row14\" class=\"row_heading level0 row14\" >14</th>\n",
              "                        <td id=\"T_eb13a6de_9738_11eb_97b0_0242ac1c0002row14_col0\" class=\"data row14 col0\" >day</td>\n",
              "                        <td id=\"T_eb13a6de_9738_11eb_97b0_0242ac1c0002row14_col1\" class=\"data row14 col1\" >171</td>\n",
              "            </tr>\n",
              "            <tr>\n",
              "                        <th id=\"T_eb13a6de_9738_11eb_97b0_0242ac1c0002level0_row15\" class=\"row_heading level0 row15\" >15</th>\n",
              "                        <td id=\"T_eb13a6de_9738_11eb_97b0_0242ac1c0002row15_col0\" class=\"data row15 col0\" >keep</td>\n",
              "                        <td id=\"T_eb13a6de_9738_11eb_97b0_0242ac1c0002row15_col1\" class=\"data row15 col1\" >166</td>\n",
              "            </tr>\n",
              "            <tr>\n",
              "                        <th id=\"T_eb13a6de_9738_11eb_97b0_0242ac1c0002level0_row16\" class=\"row_heading level0 row16\" >16</th>\n",
              "                        <td id=\"T_eb13a6de_9738_11eb_97b0_0242ac1c0002row16_col0\" class=\"data row16 col0\" >time</td>\n",
              "                        <td id=\"T_eb13a6de_9738_11eb_97b0_0242ac1c0002row16_col1\" class=\"data row16 col1\" >158</td>\n",
              "            </tr>\n",
              "            <tr>\n",
              "                        <th id=\"T_eb13a6de_9738_11eb_97b0_0242ac1c0002level0_row17\" class=\"row_heading level0 row17\" >17</th>\n",
              "                        <td id=\"T_eb13a6de_9738_11eb_97b0_0242ac1c0002row17_col0\" class=\"data row17 col0\" >new</td>\n",
              "                        <td id=\"T_eb13a6de_9738_11eb_97b0_0242ac1c0002row17_col1\" class=\"data row17 col1\" >157</td>\n",
              "            </tr>\n",
              "            <tr>\n",
              "                        <th id=\"T_eb13a6de_9738_11eb_97b0_0242ac1c0002level0_row18\" class=\"row_heading level0 row18\" >18</th>\n",
              "                        <td id=\"T_eb13a6de_9738_11eb_97b0_0242ac1c0002row18_col0\" class=\"data row18 col0\" >sanitize</td>\n",
              "                        <td id=\"T_eb13a6de_9738_11eb_97b0_0242ac1c0002row18_col1\" class=\"data row18 col1\" >153</td>\n",
              "            </tr>\n",
              "            <tr>\n",
              "                        <th id=\"T_eb13a6de_9738_11eb_97b0_0242ac1c0002level0_row19\" class=\"row_heading level0 row19\" >19</th>\n",
              "                        <td id=\"T_eb13a6de_9738_11eb_97b0_0242ac1c0002row19_col0\" class=\"data row19 col0\" >stayathome</td>\n",
              "                        <td id=\"T_eb13a6de_9738_11eb_97b0_0242ac1c0002row19_col1\" class=\"data row19 col1\" >152</td>\n",
              "            </tr>\n",
              "            <tr>\n",
              "                        <th id=\"T_eb13a6de_9738_11eb_97b0_0242ac1c0002level0_row20\" class=\"row_heading level0 row20\" >20</th>\n",
              "                        <td id=\"T_eb13a6de_9738_11eb_97b0_0242ac1c0002row20_col0\" class=\"data row20 col0\" >curfew</td>\n",
              "                        <td id=\"T_eb13a6de_9738_11eb_97b0_0242ac1c0002row20_col1\" class=\"data row20 col1\" >147</td>\n",
              "            </tr>\n",
              "            <tr>\n",
              "                        <th id=\"T_eb13a6de_9738_11eb_97b0_0242ac1c0002level0_row21\" class=\"row_heading level0 row21\" >21</th>\n",
              "                        <td id=\"T_eb13a6de_9738_11eb_97b0_0242ac1c0002row21_col0\" class=\"data row21 col0\" >get</td>\n",
              "                        <td id=\"T_eb13a6de_9738_11eb_97b0_0242ac1c0002row21_col1\" class=\"data row21 col1\" >141</td>\n",
              "            </tr>\n",
              "            <tr>\n",
              "                        <th id=\"T_eb13a6de_9738_11eb_97b0_0242ac1c0002level0_row22\" class=\"row_heading level0 row22\" >22</th>\n",
              "                        <td id=\"T_eb13a6de_9738_11eb_97b0_0242ac1c0002row22_col0\" class=\"data row22 col0\" >kenyans</td>\n",
              "                        <td id=\"T_eb13a6de_9738_11eb_97b0_0242ac1c0002row22_col1\" class=\"data row22 col1\" >132</td>\n",
              "            </tr>\n",
              "            <tr>\n",
              "                        <th id=\"T_eb13a6de_9738_11eb_97b0_0242ac1c0002level0_row23\" class=\"row_heading level0 row23\" >23</th>\n",
              "                        <td id=\"T_eb13a6de_9738_11eb_97b0_0242ac1c0002row23_col0\" class=\"data row23 col0\" >please</td>\n",
              "                        <td id=\"T_eb13a6de_9738_11eb_97b0_0242ac1c0002row23_col1\" class=\"data row23 col1\" >131</td>\n",
              "            </tr>\n",
              "            <tr>\n",
              "                        <th id=\"T_eb13a6de_9738_11eb_97b0_0242ac1c0002level0_row24\" class=\"row_heading level0 row24\" >24</th>\n",
              "                        <td id=\"T_eb13a6de_9738_11eb_97b0_0242ac1c0002row24_col0\" class=\"data row24 col0\" >lockdown</td>\n",
              "                        <td id=\"T_eb13a6de_9738_11eb_97b0_0242ac1c0002row24_col1\" class=\"data row24 col1\" >130</td>\n",
              "            </tr>\n",
              "            <tr>\n",
              "                        <th id=\"T_eb13a6de_9738_11eb_97b0_0242ac1c0002level0_row25\" class=\"row_heading level0 row25\" >25</th>\n",
              "                        <td id=\"T_eb13a6de_9738_11eb_97b0_0242ac1c0002row25_col0\" class=\"data row25 col0\" >call</td>\n",
              "                        <td id=\"T_eb13a6de_9738_11eb_97b0_0242ac1c0002row25_col1\" class=\"data row25 col1\" >126</td>\n",
              "            </tr>\n",
              "            <tr>\n",
              "                        <th id=\"T_eb13a6de_9738_11eb_97b0_0242ac1c0002level0_row26\" class=\"row_heading level0 row26\" >26</th>\n",
              "                        <td id=\"T_eb13a6de_9738_11eb_97b0_0242ac1c0002row26_col0\" class=\"data row26 col0\" >lets</td>\n",
              "                        <td id=\"T_eb13a6de_9738_11eb_97b0_0242ac1c0002row26_col1\" class=\"data row26 col1\" >125</td>\n",
              "            </tr>\n",
              "            <tr>\n",
              "                        <th id=\"T_eb13a6de_9738_11eb_97b0_0242ac1c0002level0_row27\" class=\"row_heading level0 row27\" >27</th>\n",
              "                        <td id=\"T_eb13a6de_9738_11eb_97b0_0242ac1c0002row27_col0\" class=\"data row27 col0\" >virus</td>\n",
              "                        <td id=\"T_eb13a6de_9738_11eb_97b0_0242ac1c0002row27_col1\" class=\"data row27 col1\" >125</td>\n",
              "            </tr>\n",
              "            <tr>\n",
              "                        <th id=\"T_eb13a6de_9738_11eb_97b0_0242ac1c0002level0_row28\" class=\"row_heading level0 row28\" >28</th>\n",
              "                        <td id=\"T_eb13a6de_9738_11eb_97b0_0242ac1c0002row28_col0\" class=\"data row28 col0\" >today</td>\n",
              "                        <td id=\"T_eb13a6de_9738_11eb_97b0_0242ac1c0002row28_col1\" class=\"data row28 col1\" >121</td>\n",
              "            </tr>\n",
              "            <tr>\n",
              "                        <th id=\"T_eb13a6de_9738_11eb_97b0_0242ac1c0002level0_row29\" class=\"row_heading level0 row29\" >29</th>\n",
              "                        <td id=\"T_eb13a6de_9738_11eb_97b0_0242ac1c0002row29_col0\" class=\"data row29 col0\" >one</td>\n",
              "                        <td id=\"T_eb13a6de_9738_11eb_97b0_0242ac1c0002row29_col1\" class=\"data row29 col1\" >120</td>\n",
              "            </tr>\n",
              "            <tr>\n",
              "                        <th id=\"T_eb13a6de_9738_11eb_97b0_0242ac1c0002level0_row30\" class=\"row_heading level0 row30\" >30</th>\n",
              "                        <td id=\"T_eb13a6de_9738_11eb_97b0_0242ac1c0002row30_col0\" class=\"data row30 col0\" >social</td>\n",
              "                        <td id=\"T_eb13a6de_9738_11eb_97b0_0242ac1c0002row30_col1\" class=\"data row30 col1\" >117</td>\n",
              "            </tr>\n",
              "            <tr>\n",
              "                        <th id=\"T_eb13a6de_9738_11eb_97b0_0242ac1c0002level0_row31\" class=\"row_heading level0 row31\" >31</th>\n",
              "                        <td id=\"T_eb13a6de_9738_11eb_97b0_0242ac1c0002row31_col0\" class=\"data row31 col0\" >morning</td>\n",
              "                        <td id=\"T_eb13a6de_9738_11eb_97b0_0242ac1c0002row31_col1\" class=\"data row31 col1\" >113</td>\n",
              "            </tr>\n",
              "            <tr>\n",
              "                        <th id=\"T_eb13a6de_9738_11eb_97b0_0242ac1c0002level0_row32\" class=\"row_heading level0 row32\" >32</th>\n",
              "                        <td id=\"T_eb13a6de_9738_11eb_97b0_0242ac1c0002row32_col0\" class=\"data row32 col0\" >take</td>\n",
              "                        <td id=\"T_eb13a6de_9738_11eb_97b0_0242ac1c0002row32_col1\" class=\"data row32 col1\" >112</td>\n",
              "            </tr>\n",
              "            <tr>\n",
              "                        <th id=\"T_eb13a6de_9738_11eb_97b0_0242ac1c0002level0_row33\" class=\"row_heading level0 row33\" >33</th>\n",
              "                        <td id=\"T_eb13a6de_9738_11eb_97b0_0242ac1c0002row33_col0\" class=\"data row33 col0\" >police</td>\n",
              "                        <td id=\"T_eb13a6de_9738_11eb_97b0_0242ac1c0002row33_col1\" class=\"data row33 col1\" >110</td>\n",
              "            </tr>\n",
              "            <tr>\n",
              "                        <th id=\"T_eb13a6de_9738_11eb_97b0_0242ac1c0002level0_row34\" class=\"row_heading level0 row34\" >34</th>\n",
              "                        <td id=\"T_eb13a6de_9738_11eb_97b0_0242ac1c0002row34_col0\" class=\"data row34 col0\" >like</td>\n",
              "                        <td id=\"T_eb13a6de_9738_11eb_97b0_0242ac1c0002row34_col1\" class=\"data row34 col1\" >107</td>\n",
              "            </tr>\n",
              "            <tr>\n",
              "                        <th id=\"T_eb13a6de_9738_11eb_97b0_0242ac1c0002level0_row35\" class=\"row_heading level0 row35\" >35</th>\n",
              "                        <td id=\"T_eb13a6de_9738_11eb_97b0_0242ac1c0002row35_col0\" class=\"data row35 col0\" >na</td>\n",
              "                        <td id=\"T_eb13a6de_9738_11eb_97b0_0242ac1c0002row35_col1\" class=\"data row35 col1\" >106</td>\n",
              "            </tr>\n",
              "            <tr>\n",
              "                        <th id=\"T_eb13a6de_9738_11eb_97b0_0242ac1c0002level0_row36\" class=\"row_heading level0 row36\" >36</th>\n",
              "                        <td id=\"T_eb13a6de_9738_11eb_97b0_0242ac1c0002row36_col0\" class=\"data row36 col0\" >coronavirus</td>\n",
              "                        <td id=\"T_eb13a6de_9738_11eb_97b0_0242ac1c0002row36_col1\" class=\"data row36 col1\" >106</td>\n",
              "            </tr>\n",
              "            <tr>\n",
              "                        <th id=\"T_eb13a6de_9738_11eb_97b0_0242ac1c0002level0_row37\" class=\"row_heading level0 row37\" >37</th>\n",
              "                        <td id=\"T_eb13a6de_9738_11eb_97b0_0242ac1c0002row37_col0\" class=\"data row37 col0\" >dont</td>\n",
              "                        <td id=\"T_eb13a6de_9738_11eb_97b0_0242ac1c0002row37_col1\" class=\"data row37 col1\" >101</td>\n",
              "            </tr>\n",
              "            <tr>\n",
              "                        <th id=\"T_eb13a6de_9738_11eb_97b0_0242ac1c0002level0_row38\" class=\"row_heading level0 row38\" >38</th>\n",
              "                        <td id=\"T_eb13a6de_9738_11eb_97b0_0242ac1c0002row38_col0\" class=\"data row38 col0\" >need</td>\n",
              "                        <td id=\"T_eb13a6de_9738_11eb_97b0_0242ac1c0002row38_col1\" class=\"data row38 col1\" >99</td>\n",
              "            </tr>\n",
              "            <tr>\n",
              "                        <th id=\"T_eb13a6de_9738_11eb_97b0_0242ac1c0002level0_row39\" class=\"row_heading level0 row39\" >39</th>\n",
              "                        <td id=\"T_eb13a6de_9738_11eb_97b0_0242ac1c0002row39_col0\" class=\"data row39 col0\" >know</td>\n",
              "                        <td id=\"T_eb13a6de_9738_11eb_97b0_0242ac1c0002row39_col1\" class=\"data row39 col1\" >99</td>\n",
              "            </tr>\n",
              "            <tr>\n",
              "                        <th id=\"T_eb13a6de_9738_11eb_97b0_0242ac1c0002level0_row40\" class=\"row_heading level0 row40\" >40</th>\n",
              "                        <td id=\"T_eb13a6de_9738_11eb_97b0_0242ac1c0002row40_col0\" class=\"data row40 col0\" >well</td>\n",
              "                        <td id=\"T_eb13a6de_9738_11eb_97b0_0242ac1c0002row40_col1\" class=\"data row40 col1\" >97</td>\n",
              "            </tr>\n",
              "            <tr>\n",
              "                        <th id=\"T_eb13a6de_9738_11eb_97b0_0242ac1c0002level0_row41\" class=\"row_heading level0 row41\" >41</th>\n",
              "                        <td id=\"T_eb13a6de_9738_11eb_97b0_0242ac1c0002row41_col0\" class=\"data row41 col0\" >hands</td>\n",
              "                        <td id=\"T_eb13a6de_9738_11eb_97b0_0242ac1c0002row41_col1\" class=\"data row41 col1\" >94</td>\n",
              "            </tr>\n",
              "            <tr>\n",
              "                        <th id=\"T_eb13a6de_9738_11eb_97b0_0242ac1c0002level0_row42\" class=\"row_heading level0 row42\" >42</th>\n",
              "                        <td id=\"T_eb13a6de_9738_11eb_97b0_0242ac1c0002row42_col0\" class=\"data row42 col0\" >quarantine</td>\n",
              "                        <td id=\"T_eb13a6de_9738_11eb_97b0_0242ac1c0002row42_col1\" class=\"data row42 col1\" >94</td>\n",
              "            </tr>\n",
              "            <tr>\n",
              "                        <th id=\"T_eb13a6de_9738_11eb_97b0_0242ac1c0002level0_row43\" class=\"row_heading level0 row43\" >43</th>\n",
              "                        <td id=\"T_eb13a6de_9738_11eb_97b0_0242ac1c0002row43_col0\" class=\"data row43 col0\" >coronaviruske</td>\n",
              "                        <td id=\"T_eb13a6de_9738_11eb_97b0_0242ac1c0002row43_col1\" class=\"data row43 col1\" >93</td>\n",
              "            </tr>\n",
              "            <tr>\n",
              "                        <th id=\"T_eb13a6de_9738_11eb_97b0_0242ac1c0002level0_row44\" class=\"row_heading level0 row44\" >44</th>\n",
              "                        <td id=\"T_eb13a6de_9738_11eb_97b0_0242ac1c0002row44_col0\" class=\"data row44 col0\" >love</td>\n",
              "                        <td id=\"T_eb13a6de_9738_11eb_97b0_0242ac1c0002row44_col1\" class=\"data row44 col1\" >92</td>\n",
              "            </tr>\n",
              "            <tr>\n",
              "                        <th id=\"T_eb13a6de_9738_11eb_97b0_0242ac1c0002level0_row45\" class=\"row_heading level0 row45\" >45</th>\n",
              "                        <td id=\"T_eb13a6de_9738_11eb_97b0_0242ac1c0002row45_col0\" class=\"data row45 col0\" >washyourhands</td>\n",
              "                        <td id=\"T_eb13a6de_9738_11eb_97b0_0242ac1c0002row45_col1\" class=\"data row45 col1\" >88</td>\n",
              "            </tr>\n",
              "            <tr>\n",
              "                        <th id=\"T_eb13a6de_9738_11eb_97b0_0242ac1c0002level0_row46\" class=\"row_heading level0 row46\" >46</th>\n",
              "                        <td id=\"T_eb13a6de_9738_11eb_97b0_0242ac1c0002row46_col0\" class=\"data row46 col0\" >best</td>\n",
              "                        <td id=\"T_eb13a6de_9738_11eb_97b0_0242ac1c0002row46_col1\" class=\"data row46 col1\" >87</td>\n",
              "            </tr>\n",
              "            <tr>\n",
              "                        <th id=\"T_eb13a6de_9738_11eb_97b0_0242ac1c0002level0_row47\" class=\"row_heading level0 row47\" >47</th>\n",
              "                        <td id=\"T_eb13a6de_9738_11eb_97b0_0242ac1c0002row47_col0\" class=\"data row47 col0\" >shall</td>\n",
              "                        <td id=\"T_eb13a6de_9738_11eb_97b0_0242ac1c0002row47_col1\" class=\"data row47 col1\" >84</td>\n",
              "            </tr>\n",
              "            <tr>\n",
              "                        <th id=\"T_eb13a6de_9738_11eb_97b0_0242ac1c0002level0_row48\" class=\"row_heading level0 row48\" >48</th>\n",
              "                        <td id=\"T_eb13a6de_9738_11eb_97b0_0242ac1c0002row48_col0\" class=\"data row48 col0\" >health</td>\n",
              "                        <td id=\"T_eb13a6de_9738_11eb_97b0_0242ac1c0002row48_col1\" class=\"data row48 col1\" >82</td>\n",
              "            </tr>\n",
              "            <tr>\n",
              "                        <th id=\"T_eb13a6de_9738_11eb_97b0_0242ac1c0002level0_row49\" class=\"row_heading level0 row49\" >49</th>\n",
              "                        <td id=\"T_eb13a6de_9738_11eb_97b0_0242ac1c0002row49_col0\" class=\"data row49 col0\" >family</td>\n",
              "                        <td id=\"T_eb13a6de_9738_11eb_97b0_0242ac1c0002row49_col1\" class=\"data row49 col1\" >81</td>\n",
              "            </tr>\n",
              "            <tr>\n",
              "                        <th id=\"T_eb13a6de_9738_11eb_97b0_0242ac1c0002level0_row50\" class=\"row_heading level0 row50\" >50</th>\n",
              "                        <td id=\"T_eb13a6de_9738_11eb_97b0_0242ac1c0002row50_col0\" class=\"data row50 col0\" >life</td>\n",
              "                        <td id=\"T_eb13a6de_9738_11eb_97b0_0242ac1c0002row50_col1\" class=\"data row50 col1\" >81</td>\n",
              "            </tr>\n",
              "    </tbody></table>"
            ],
            "text/plain": [
              "<pandas.io.formats.style.Styler at 0x7fc70d113fd0>"
            ]
          },
          "metadata": {
            "tags": []
          },
          "execution_count": 20
        }
      ]
    },
    {
      "cell_type": "markdown",
      "metadata": {
        "id": "Bk2Va7QcggOf"
      },
      "source": [
        "### Wordcloud"
      ]
    },
    {
      "cell_type": "code",
      "metadata": {
        "id": "WKv6z8LdiSlN"
      },
      "source": [
        "def plot_wordcloud(text, mask=None, max_words=500, max_font_size=100, figure_size=(14.0,6.0), color = 'white',\n",
        "                   title = None, title_size=40, image_color=False):\n",
        "    stopwords = set(STOPWORDS)\n",
        "    more_stopwords = {'sasa', \"wa\", 'wa', 'sana', 'hadi', 'na', 'huyu', 'ni',\n",
        "                      'za', 'enga', 'mtoto'}\n",
        "    stopwords = stopwords.union(more_stopwords)\n",
        "\n",
        "    wordcloud = WordCloud(background_color=color,\n",
        "                    stopwords = stopwords,\n",
        "                    max_words = max_words,\n",
        "                    max_font_size = max_font_size, \n",
        "                    random_state = 42,\n",
        "                    width=400, \n",
        "                    height=200,\n",
        "                    mask = mask)\n",
        "    wordcloud.generate(str(text))\n",
        "    \n",
        "    plt.figure(figsize=figure_size)\n",
        "    if image_color:\n",
        "        image_colors = ImageColorGenerator(mask);\n",
        "        plt.imshow(wordcloud.recolor(color_func=image_colors), interpolation=\"bilinear\");\n",
        "        plt.title(title, fontdict={'size': title_size,  \n",
        "                                  'verticalalignment': 'bottom'})\n",
        "    else:\n",
        "        plt.imshow(wordcloud);\n",
        "        plt.title(title, fontdict={'size': title_size, 'color': 'black', \n",
        "                                  'verticalalignment': 'bottom'})\n",
        "    plt.axis('off');\n",
        "    plt.tight_layout()  \n",
        "d = '/content/gdrive/My Drive/Coronavirus_Tweets/'"
      ],
      "execution_count": 21,
      "outputs": []
    },
    {
      "cell_type": "code",
      "metadata": {
        "colab": {
          "base_uri": "https://localhost:8080/",
          "height": 441
        },
        "id": "CteKBTfJklcA",
        "outputId": "bb255176-8532-4fc8-a730-3bb44732c3d3"
      },
      "source": [
        "pos_mask = np.array(Image.open(d+ 'upvote.png'))\n",
        "plot_wordcloud(nairobi_df2.text_without_stopwords,mask=pos_mask,color='white',max_font_size=300,title_size=30,title=\"Most Common Tweets\")"
      ],
      "execution_count": 22,
      "outputs": [
        {
          "output_type": "display_data",
          "data": {
            "image/png": "[encoded data removed]",
            "text/plain": [
              "<Figure size 1008x432 with 1 Axes>"
            ]
          },
          "metadata": {
            "tags": [],
            "needs_background": "light"
          }
        }
      ]
    },
    {
      "cell_type": "code",
      "metadata": {
        "id": "8005N5GK2A8L",
        "colab": {
          "base_uri": "https://localhost:8080/",
          "height": 853
        },
        "outputId": "89882a2c-95fe-49f0-cbf7-a8a1385603f0"
      },
      "source": [
        "#The number of tweets according to dates\n",
        "\n",
        "nairobi_df2['datetime'] =  pd.to_datetime(nairobi_df2['datetime'])\n",
        "cnt_srs =nairobi_df2['datetime'].dt.date.value_counts()\n",
        "cnt_srs = cnt_srs.sort_index()\n",
        "plt.figure(figsize=(28,15))\n",
        "sns.barplot(cnt_srs.index, cnt_srs.values, alpha=0.8, color='green')\n",
        "plt.xticks(rotation='vertical')\n",
        "plt.xlabel('Date', fontsize=15)\n",
        "plt.ylabel('Number of tweets', fontsize=15)\n",
        "plt.title(\"Number of tweets according to dates\")\n",
        "plt.show()"
      ],
      "execution_count": 23,
      "outputs": [
        {
          "output_type": "stream",
          "text": [
            "/usr/local/lib/python3.7/dist-packages/ipykernel_launcher.py:3: SettingWithCopyWarning:\n",
            "\n",
            "\n",
            "A value is trying to be set on a copy of a slice from a DataFrame.\n",
            "Try using .loc[row_indexer,col_indexer] = value instead\n",
            "\n",
            "See the caveats in the documentation: https://pandas.pydata.org/pandas-docs/stable/user_guide/indexing.html#returning-a-view-versus-a-copy\n",
            "\n",
            "/usr/local/lib/python3.7/dist-packages/seaborn/_decorators.py:43: FutureWarning:\n",
            "\n",
            "Pass the following variables as keyword args: x, y. From version 0.12, the only valid positional argument will be `data`, and passing other arguments without an explicit keyword will result in an error or misinterpretation.\n",
            "\n"
          ],
          "name": "stderr"
        },
        {
          "output_type": "display_data",
          "data": {
            "image/png": "[encoded data removed]",
            "text/plain": [
              "<Figure size 2016x1080 with 1 Axes>"
            ]
          },
          "metadata": {
            "tags": [],
            "needs_background": "light"
          }
        }
      ]
    },
    {
      "cell_type": "markdown",
      "metadata": {
        "id": "GfKknr1d9nJk"
      },
      "source": [
        "# <center>**Sentiment Analysis**</center>\n",
        "\n",
        "#### Sentiment analysis models focus on polarity *(positive, negative, neutral)* but also on feelings and emotions *(angry, happy, sad, etc)*, urgency *(urgent, not urgent)* and even intentions *(interested v. not interested)*.\n",
        "\n",
        "#### Considering that the goal of the project in the *project_scope.ipynb* file was to analyze the perception of Kenyan's on Coronavirus, we shall go ahead and adopt a sentiment analysis method that allows us to capture emotions and polarity of the sentiments.\n",
        "\n",
        "#### Sentiment analysis algorithms fall into one of three buckets:\n",
        "\n",
        "\n",
        "*   Rule-based: these systems automatically perform sentiment analysis based on a set of manually crafted rules.\n",
        "\n",
        "*   Automatic: systems rely on machine learning techniques to learn from data.\n",
        "\n",
        "*   Hybrid systems combine both rule-based and automatic approaches.\n",
        "\n",
        "#### Given the scope of the project, I shall adopt rulr-based approach to the problem and attempt to use the automatic/Machine Learning techniques.\n",
        "\n",
        "\n",
        "\n",
        "\n"
      ]
    },
    {
      "cell_type": "markdown",
      "metadata": {
        "id": "npt9UNflfAB5"
      },
      "source": [
        "# <center>**Bag of Words**</center>\n",
        "\n",
        "### Procedure\n",
        "\n",
        "\n",
        "*   Tokenize\n",
        "*   Remove Stopwords\n",
        "*   Lemmatization\n",
        "*   Modeling with BOW\n",
        "*   Split test and train data\n",
        "\n",
        "\n",
        "\n"
      ]
    },
    {
      "cell_type": "code",
      "metadata": {
        "colab": {
          "base_uri": "https://localhost:8080/"
        },
        "id": "8Nly5tKifPGc",
        "outputId": "f92d444e-229b-4feb-eef0-e1917ae4f29e"
      },
      "source": [
        "#Tokenizing\n",
        "\n",
        "nltk.download('punkt')\n",
        "nltk.download('wordnet')"
      ],
      "execution_count": 24,
      "outputs": [
        {
          "output_type": "stream",
          "text": [
            "[nltk_data] Downloading package punkt to /root/nltk_data...\n",
            "[nltk_data]   Unzipping tokenizers/punkt.zip.\n",
            "[nltk_data] Downloading package wordnet to /root/nltk_data...\n",
            "[nltk_data]   Unzipping corpora/wordnet.zip.\n"
          ],
          "name": "stdout"
        },
        {
          "output_type": "execute_result",
          "data": {
            "text/plain": [
              "True"
            ]
          },
          "metadata": {
            "tags": []
          },
          "execution_count": 24
        }
      ]
    },
    {
      "cell_type": "code",
      "metadata": {
        "colab": {
          "base_uri": "https://localhost:8080/",
          "height": 302
        },
        "id": "W4lsJPGs3miP",
        "outputId": "fb6aee3f-f1cd-4627-9762-e42cefadceb8"
      },
      "source": [
        "#Save the dataframe to a csv file for Bag of Words\n",
        "\n",
        "nairobi_df3 = nairobi_df2.to_csv('/content/gdrive/My Drive/Coronavirus_Tweets/bow.csv')\n",
        "\n",
        "#Load the dataset\n",
        "nairobi_df3 = pd.read_csv('/content/gdrive/My Drive/Coronavirus_Tweets/bow.csv')\n",
        "\n",
        "#Preview the first few rows\n",
        "nairobi_df3.head()"
      ],
      "execution_count": 25,
      "outputs": [
        {
          "output_type": "execute_result",
          "data": {
            "text/html": [
              "<div>\n",
              "<style scoped>\n",
              "    .dataframe tbody tr th:only-of-type {\n",
              "        vertical-align: middle;\n",
              "    }\n",
              "\n",
              "    .dataframe tbody tr th {\n",
              "        vertical-align: top;\n",
              "    }\n",
              "\n",
              "    .dataframe thead th {\n",
              "        text-align: right;\n",
              "    }\n",
              "</style>\n",
              "<table border=\"1\" class=\"dataframe\">\n",
              "  <thead>\n",
              "    <tr style=\"text-align: right;\">\n",
              "      <th></th>\n",
              "      <th>Unnamed: 0</th>\n",
              "      <th>unnamed: 0</th>\n",
              "      <th>unnamed: 0.1</th>\n",
              "      <th>datetime</th>\n",
              "      <th>text</th>\n",
              "      <th>retweets</th>\n",
              "      <th>likes</th>\n",
              "      <th>text_without_stopwords</th>\n",
              "    </tr>\n",
              "  </thead>\n",
              "  <tbody>\n",
              "    <tr>\n",
              "      <th>0</th>\n",
              "      <td>0</td>\n",
              "      <td>0</td>\n",
              "      <td>0</td>\n",
              "      <td>2020-06-06 19:28:03+00:00</td>\n",
              "      <td>mmetukosea sana sasa ningeenda hadi pahali gar...</td>\n",
              "      <td>0</td>\n",
              "      <td>2</td>\n",
              "      <td>['mmetukosea', 'sana', 'sasa', 'ningeenda', 'h...</td>\n",
              "    </tr>\n",
              "    <tr>\n",
              "      <th>1</th>\n",
              "      <td>1</td>\n",
              "      <td>1</td>\n",
              "      <td>1</td>\n",
              "      <td>2020-06-06 13:25:27+00:00</td>\n",
              "      <td>cant wait 🥰🥰  blacklivesmatter curfewinkenya w...</td>\n",
              "      <td>1</td>\n",
              "      <td>10</td>\n",
              "      <td>['cant', 'wait', '🥰🥰', 'blacklivesmatter', 'cu...</td>\n",
              "    </tr>\n",
              "    <tr>\n",
              "      <th>2</th>\n",
              "      <td>2</td>\n",
              "      <td>2</td>\n",
              "      <td>2</td>\n",
              "      <td>2020-06-06 13:24:27+00:00</td>\n",
              "      <td>wakenya hawachoki na meme za uhuru😂😂 uhurukeny...</td>\n",
              "      <td>1</td>\n",
              "      <td>4</td>\n",
              "      <td>['wakenya', 'hawachoki', 'na', 'meme', 'za', '...</td>\n",
              "    </tr>\n",
              "    <tr>\n",
              "      <th>3</th>\n",
              "      <td>3</td>\n",
              "      <td>3</td>\n",
              "      <td>3</td>\n",
              "      <td>2020-06-06 13:03:01+00:00</td>\n",
              "      <td>fellow kenyans uhuruspeaks uhuruaddress</td>\n",
              "      <td>0</td>\n",
              "      <td>1</td>\n",
              "      <td>['fellow', 'kenyans', 'uhuruspeaks', 'uhuruadd...</td>\n",
              "    </tr>\n",
              "    <tr>\n",
              "      <th>4</th>\n",
              "      <td>4</td>\n",
              "      <td>4</td>\n",
              "      <td>4</td>\n",
              "      <td>2020-06-06 13:02:49+00:00</td>\n",
              "      <td>uhurukenyatta cessation of movement in nairobi...</td>\n",
              "      <td>0</td>\n",
              "      <td>2</td>\n",
              "      <td>['uhurukenyatta', 'cessation', 'movement', 'na...</td>\n",
              "    </tr>\n",
              "  </tbody>\n",
              "</table>\n",
              "</div>"
            ],
            "text/plain": [
              "   Unnamed: 0  ...                             text_without_stopwords\n",
              "0           0  ...  ['mmetukosea', 'sana', 'sasa', 'ningeenda', 'h...\n",
              "1           1  ...  ['cant', 'wait', '🥰🥰', 'blacklivesmatter', 'cu...\n",
              "2           2  ...  ['wakenya', 'hawachoki', 'na', 'meme', 'za', '...\n",
              "3           3  ...  ['fellow', 'kenyans', 'uhuruspeaks', 'uhuruadd...\n",
              "4           4  ...  ['uhurukenyatta', 'cessation', 'movement', 'na...\n",
              "\n",
              "[5 rows x 8 columns]"
            ]
          },
          "metadata": {
            "tags": []
          },
          "execution_count": 25
        }
      ]
    },
    {
      "cell_type": "code",
      "metadata": {
        "colab": {
          "base_uri": "https://localhost:8080/",
          "height": 407
        },
        "id": "Hys7VetDAE7i",
        "outputId": "cb0d8a4b-4d23-4f32-ddd0-70c0ea114099"
      },
      "source": [
        "#Dropping the unnamed columns\n",
        "\n",
        "nairobi_df3.drop(['Unnamed: 0', 'unnamed: 0', 'unnamed: 0.1'], axis=1)"
      ],
      "execution_count": 26,
      "outputs": [
        {
          "output_type": "execute_result",
          "data": {
            "text/html": [
              "<div>\n",
              "<style scoped>\n",
              "    .dataframe tbody tr th:only-of-type {\n",
              "        vertical-align: middle;\n",
              "    }\n",
              "\n",
              "    .dataframe tbody tr th {\n",
              "        vertical-align: top;\n",
              "    }\n",
              "\n",
              "    .dataframe thead th {\n",
              "        text-align: right;\n",
              "    }\n",
              "</style>\n",
              "<table border=\"1\" class=\"dataframe\">\n",
              "  <thead>\n",
              "    <tr style=\"text-align: right;\">\n",
              "      <th></th>\n",
              "      <th>datetime</th>\n",
              "      <th>text</th>\n",
              "      <th>retweets</th>\n",
              "      <th>likes</th>\n",
              "      <th>text_without_stopwords</th>\n",
              "    </tr>\n",
              "  </thead>\n",
              "  <tbody>\n",
              "    <tr>\n",
              "      <th>0</th>\n",
              "      <td>2020-06-06 19:28:03+00:00</td>\n",
              "      <td>mmetukosea sana sasa ningeenda hadi pahali gar...</td>\n",
              "      <td>0</td>\n",
              "      <td>2</td>\n",
              "      <td>['mmetukosea', 'sana', 'sasa', 'ningeenda', 'h...</td>\n",
              "    </tr>\n",
              "    <tr>\n",
              "      <th>1</th>\n",
              "      <td>2020-06-06 13:25:27+00:00</td>\n",
              "      <td>cant wait 🥰🥰  blacklivesmatter curfewinkenya w...</td>\n",
              "      <td>1</td>\n",
              "      <td>10</td>\n",
              "      <td>['cant', 'wait', '🥰🥰', 'blacklivesmatter', 'cu...</td>\n",
              "    </tr>\n",
              "    <tr>\n",
              "      <th>2</th>\n",
              "      <td>2020-06-06 13:24:27+00:00</td>\n",
              "      <td>wakenya hawachoki na meme za uhuru😂😂 uhurukeny...</td>\n",
              "      <td>1</td>\n",
              "      <td>4</td>\n",
              "      <td>['wakenya', 'hawachoki', 'na', 'meme', 'za', '...</td>\n",
              "    </tr>\n",
              "    <tr>\n",
              "      <th>3</th>\n",
              "      <td>2020-06-06 13:03:01+00:00</td>\n",
              "      <td>fellow kenyans uhuruspeaks uhuruaddress</td>\n",
              "      <td>0</td>\n",
              "      <td>1</td>\n",
              "      <td>['fellow', 'kenyans', 'uhuruspeaks', 'uhuruadd...</td>\n",
              "    </tr>\n",
              "    <tr>\n",
              "      <th>4</th>\n",
              "      <td>2020-06-06 13:02:49+00:00</td>\n",
              "      <td>uhurukenyatta cessation of movement in nairobi...</td>\n",
              "      <td>0</td>\n",
              "      <td>2</td>\n",
              "      <td>['uhurukenyatta', 'cessation', 'movement', 'na...</td>\n",
              "    </tr>\n",
              "    <tr>\n",
              "      <th>...</th>\n",
              "      <td>...</td>\n",
              "      <td>...</td>\n",
              "      <td>...</td>\n",
              "      <td>...</td>\n",
              "      <td>...</td>\n",
              "    </tr>\n",
              "    <tr>\n",
              "      <th>4168</th>\n",
              "      <td>2020-05-29 06:34:32+00:00</td>\n",
              "      <td>theres nothing like making a tough choice when...</td>\n",
              "      <td>0</td>\n",
              "      <td>0</td>\n",
              "      <td>['theres', 'nothing', 'like', 'making', 'tough...</td>\n",
              "    </tr>\n",
              "    <tr>\n",
              "      <th>4169</th>\n",
              "      <td>2020-05-29 06:20:25+00:00</td>\n",
              "      <td>president uhuru kenyatta made it clear thats t...</td>\n",
              "      <td>0</td>\n",
              "      <td>2</td>\n",
              "      <td>['president', 'uhuru', 'kenyatta', 'made', 'cl...</td>\n",
              "    </tr>\n",
              "    <tr>\n",
              "      <th>4170</th>\n",
              "      <td>2020-05-29 06:03:22+00:00</td>\n",
              "      <td>uhurustoughchoices mlisema huyu ni mtoto wa na...</td>\n",
              "      <td>0</td>\n",
              "      <td>0</td>\n",
              "      <td>['uhurustoughchoices', 'mlisema', 'huyu', 'ni'...</td>\n",
              "    </tr>\n",
              "    <tr>\n",
              "      <th>4171</th>\n",
              "      <td>2020-05-29 05:19:20+00:00</td>\n",
              "      <td>among other tough choices uhuru must make is g...</td>\n",
              "      <td>3</td>\n",
              "      <td>4</td>\n",
              "      <td>['among', 'tough', 'choices', 'uhuru', 'must',...</td>\n",
              "    </tr>\n",
              "    <tr>\n",
              "      <th>4172</th>\n",
              "      <td>2020-05-27 18:59:53+00:00</td>\n",
              "      <td>pandemic perforated pockets plunging economy p...</td>\n",
              "      <td>1</td>\n",
              "      <td>6</td>\n",
              "      <td>['pandemic', 'perforated', 'pockets', 'plungin...</td>\n",
              "    </tr>\n",
              "  </tbody>\n",
              "</table>\n",
              "<p>4173 rows × 5 columns</p>\n",
              "</div>"
            ],
            "text/plain": [
              "                       datetime  ...                             text_without_stopwords\n",
              "0     2020-06-06 19:28:03+00:00  ...  ['mmetukosea', 'sana', 'sasa', 'ningeenda', 'h...\n",
              "1     2020-06-06 13:25:27+00:00  ...  ['cant', 'wait', '🥰🥰', 'blacklivesmatter', 'cu...\n",
              "2     2020-06-06 13:24:27+00:00  ...  ['wakenya', 'hawachoki', 'na', 'meme', 'za', '...\n",
              "3     2020-06-06 13:03:01+00:00  ...  ['fellow', 'kenyans', 'uhuruspeaks', 'uhuruadd...\n",
              "4     2020-06-06 13:02:49+00:00  ...  ['uhurukenyatta', 'cessation', 'movement', 'na...\n",
              "...                         ...  ...                                                ...\n",
              "4168  2020-05-29 06:34:32+00:00  ...  ['theres', 'nothing', 'like', 'making', 'tough...\n",
              "4169  2020-05-29 06:20:25+00:00  ...  ['president', 'uhuru', 'kenyatta', 'made', 'cl...\n",
              "4170  2020-05-29 06:03:22+00:00  ...  ['uhurustoughchoices', 'mlisema', 'huyu', 'ni'...\n",
              "4171  2020-05-29 05:19:20+00:00  ...  ['among', 'tough', 'choices', 'uhuru', 'must',...\n",
              "4172  2020-05-27 18:59:53+00:00  ...  ['pandemic', 'perforated', 'pockets', 'plungin...\n",
              "\n",
              "[4173 rows x 5 columns]"
            ]
          },
          "metadata": {
            "tags": []
          },
          "execution_count": 26
        }
      ]
    },
    {
      "cell_type": "code",
      "metadata": {
        "colab": {
          "base_uri": "https://localhost:8080/",
          "height": 165
        },
        "id": "l0z-8U9UBo95",
        "outputId": "b5b834c5-7dc2-49d1-b12f-5d19a71076e9"
      },
      "source": [
        "#Split the text column to create a new column, \"text_list\" then create a dataframe of two columns; \"most_common_words\" and \"count\"\n",
        "\n",
        "nairobi_df3['text_list'] = nairobi_df3['text'].apply(lambda x:str(x).split()) #Use tokenize or split, smae results\n",
        "top = Counter([item for sublist in nairobi_df3['text_list'] for item in sublist]) #Counts the frequency of words\n",
        "temp = pd.DataFrame(top.most_common(6)) #top five words\n",
        "temp.columns = ['common_words', 'count']\n",
        "temp.style.background_gradient(cmap = 'Blues')"
      ],
      "execution_count": 27,
      "outputs": [
        {
          "output_type": "execute_result",
          "data": {
            "text/html": [
              "<style  type=\"text/css\" >\n",
              "#T_f422c7f0_9738_11eb_97b0_0242ac1c0002row0_col1{\n",
              "            background-color:  #08306b;\n",
              "            color:  #f1f1f1;\n",
              "        }#T_f422c7f0_9738_11eb_97b0_0242ac1c0002row1_col1{\n",
              "            background-color:  #2272b6;\n",
              "            color:  #f1f1f1;\n",
              "        }#T_f422c7f0_9738_11eb_97b0_0242ac1c0002row2_col1{\n",
              "            background-color:  #87bddc;\n",
              "            color:  #000000;\n",
              "        }#T_f422c7f0_9738_11eb_97b0_0242ac1c0002row3_col1{\n",
              "            background-color:  #bfd8ed;\n",
              "            color:  #000000;\n",
              "        }#T_f422c7f0_9738_11eb_97b0_0242ac1c0002row4_col1{\n",
              "            background-color:  #f2f8fd;\n",
              "            color:  #000000;\n",
              "        }#T_f422c7f0_9738_11eb_97b0_0242ac1c0002row5_col1{\n",
              "            background-color:  #f7fbff;\n",
              "            color:  #000000;\n",
              "        }</style><table id=\"T_f422c7f0_9738_11eb_97b0_0242ac1c0002\" ><thead>    <tr>        <th class=\"blank level0\" ></th>        <th class=\"col_heading level0 col0\" >common_words</th>        <th class=\"col_heading level0 col1\" >count</th>    </tr></thead><tbody>\n",
              "                <tr>\n",
              "                        <th id=\"T_f422c7f0_9738_11eb_97b0_0242ac1c0002level0_row0\" class=\"row_heading level0 row0\" >0</th>\n",
              "                        <td id=\"T_f422c7f0_9738_11eb_97b0_0242ac1c0002row0_col0\" class=\"data row0 col0\" >the</td>\n",
              "                        <td id=\"T_f422c7f0_9738_11eb_97b0_0242ac1c0002row0_col1\" class=\"data row0 col1\" >2159</td>\n",
              "            </tr>\n",
              "            <tr>\n",
              "                        <th id=\"T_f422c7f0_9738_11eb_97b0_0242ac1c0002level0_row1\" class=\"row_heading level0 row1\" >1</th>\n",
              "                        <td id=\"T_f422c7f0_9738_11eb_97b0_0242ac1c0002row1_col0\" class=\"data row1 col0\" >to</td>\n",
              "                        <td id=\"T_f422c7f0_9738_11eb_97b0_0242ac1c0002row1_col1\" class=\"data row1 col1\" >1962</td>\n",
              "            </tr>\n",
              "            <tr>\n",
              "                        <th id=\"T_f422c7f0_9738_11eb_97b0_0242ac1c0002level0_row2\" class=\"row_heading level0 row2\" >2</th>\n",
              "                        <td id=\"T_f422c7f0_9738_11eb_97b0_0242ac1c0002row2_col0\" class=\"data row2 col0\" >and</td>\n",
              "                        <td id=\"T_f422c7f0_9738_11eb_97b0_0242ac1c0002row2_col1\" class=\"data row2 col1\" >1725</td>\n",
              "            </tr>\n",
              "            <tr>\n",
              "                        <th id=\"T_f422c7f0_9738_11eb_97b0_0242ac1c0002level0_row3\" class=\"row_heading level0 row3\" >3</th>\n",
              "                        <td id=\"T_f422c7f0_9738_11eb_97b0_0242ac1c0002row3_col0\" class=\"data row3 col0\" >stay</td>\n",
              "                        <td id=\"T_f422c7f0_9738_11eb_97b0_0242ac1c0002row3_col1\" class=\"data row3 col1\" >1602</td>\n",
              "            </tr>\n",
              "            <tr>\n",
              "                        <th id=\"T_f422c7f0_9738_11eb_97b0_0242ac1c0002level0_row4\" class=\"row_heading level0 row4\" >4</th>\n",
              "                        <td id=\"T_f422c7f0_9738_11eb_97b0_0242ac1c0002row4_col0\" class=\"data row4 col0\" >safe</td>\n",
              "                        <td id=\"T_f422c7f0_9738_11eb_97b0_0242ac1c0002row4_col1\" class=\"data row4 col1\" >1413</td>\n",
              "            </tr>\n",
              "            <tr>\n",
              "                        <th id=\"T_f422c7f0_9738_11eb_97b0_0242ac1c0002level0_row5\" class=\"row_heading level0 row5\" >5</th>\n",
              "                        <td id=\"T_f422c7f0_9738_11eb_97b0_0242ac1c0002row5_col0\" class=\"data row5 col0\" >staysafe</td>\n",
              "                        <td id=\"T_f422c7f0_9738_11eb_97b0_0242ac1c0002row5_col1\" class=\"data row5 col1\" >1394</td>\n",
              "            </tr>\n",
              "    </tbody></table>"
            ],
            "text/plain": [
              "<pandas.io.formats.style.Styler at 0x7fc701da7210>"
            ]
          },
          "metadata": {
            "tags": []
          },
          "execution_count": 27
        }
      ]
    },
    {
      "cell_type": "code",
      "metadata": {
        "colab": {
          "base_uri": "https://localhost:8080/"
        },
        "id": "K7_FO8pAE4FG",
        "outputId": "c69ae77b-9fc6-46c8-eb92-490fd2d0a1cf"
      },
      "source": [
        "#Check a summary of the data\n",
        "\n",
        "nairobi_df3.info()"
      ],
      "execution_count": 28,
      "outputs": [
        {
          "output_type": "stream",
          "text": [
            "<class 'pandas.core.frame.DataFrame'>\n",
            "RangeIndex: 4173 entries, 0 to 4172\n",
            "Data columns (total 9 columns):\n",
            " #   Column                  Non-Null Count  Dtype \n",
            "---  ------                  --------------  ----- \n",
            " 0   Unnamed: 0              4173 non-null   int64 \n",
            " 1   unnamed: 0              4173 non-null   int64 \n",
            " 2   unnamed: 0.1            4173 non-null   int64 \n",
            " 3   datetime                4173 non-null   object\n",
            " 4   text                    4173 non-null   object\n",
            " 5   retweets                4173 non-null   int64 \n",
            " 6   likes                   4173 non-null   int64 \n",
            " 7   text_without_stopwords  4173 non-null   object\n",
            " 8   text_list               4173 non-null   object\n",
            "dtypes: int64(5), object(4)\n",
            "memory usage: 293.5+ KB\n"
          ],
          "name": "stdout"
        }
      ]
    },
    {
      "cell_type": "code",
      "metadata": {
        "colab": {
          "base_uri": "https://localhost:8080/"
        },
        "id": "G7CtFaWNFeRb",
        "outputId": "dd1a130b-5bcd-4a5f-a14a-2b256ae4b123"
      },
      "source": [
        "#Check the Text_List column contents of first 20\n",
        "\n",
        "nairobi_df3['text_list'][0:21]"
      ],
      "execution_count": 29,
      "outputs": [
        {
          "output_type": "execute_result",
          "data": {
            "text/plain": [
              "0     [mmetukosea, sana, sasa, ningeenda, hadi, paha...\n",
              "1     [cant, wait, 🥰🥰, blacklivesmatter, curfewinken...\n",
              "2     [wakenya, hawachoki, na, meme, za, uhuru😂😂, uh...\n",
              "3          [fellow, kenyans, uhuruspeaks, uhuruaddress]\n",
              "4     [uhurukenyatta, cessation, of, movement, in, n...\n",
              "5     [tumeni, pombe, ni, sahau, hiyo, kizungu, ming...\n",
              "6     [maryannwanguike, forget, uhuruaddressam, a, f...\n",
              "7     [nationwide, dusk, to, dawn, curfew, extended,...\n",
              "8                                        [uhuruaddress]\n",
              "9     [uhuru, cessation, of, movement, of, eastleigh...\n",
              "10    [free, delivery, in, ongata, rongai, karen, an...\n",
              "11                         [here, we, go, uhuruaddress]\n",
              "12                              [lol😅, 😂, uhuruaddress]\n",
              "13    [kenya, will, be, green, againissues, affectin...\n",
              "14    [that, to, purchase, locally, manufactured, ve...\n",
              "15    [“money, in, the, hands, of, a, family, restor...\n",
              "16    [president, uhuru, kenyatta, my, administratio...\n",
              "17    [the, government, need, to, add, mind, your, b...\n",
              "18    [my, question, would, be, what, was, really, a...\n",
              "19    [the, difference, is, like, day, and, night, i...\n",
              "20    [uhuruaddress, announces, ksh, stimulus, plan,...\n",
              "Name: text_list, dtype: object"
            ]
          },
          "metadata": {
            "tags": []
          },
          "execution_count": 29
        }
      ]
    },
    {
      "cell_type": "code",
      "metadata": {
        "colab": {
          "base_uri": "https://localhost:8080/"
        },
        "id": "0ER5mSTxGSLP",
        "outputId": "a6916d6a-146f-4105-d678-73134c654843"
      },
      "source": [
        "#Check the length of the text_list column\n",
        "\n",
        "len(nairobi_df3['text_list'])"
      ],
      "execution_count": 30,
      "outputs": [
        {
          "output_type": "execute_result",
          "data": {
            "text/plain": [
              "4173"
            ]
          },
          "metadata": {
            "tags": []
          },
          "execution_count": 30
        }
      ]
    },
    {
      "cell_type": "markdown",
      "metadata": {
        "id": "UyGOq1WJHJck"
      },
      "source": [
        "**Lemmatization & Stemming**\n",
        "\n",
        "#### English Language stemmers: only identify with English language text\n",
        "\n",
        "\n",
        "1.   Porter Stemmer; uses sufix stripping. does not keep a look-up table/dictionary for words\n",
        "2.   Snowball Stemmer; more agressive than porter stemmer. **NB:** *You must specify that you want the english language texts coz it also has a dictionary of other words*\n",
        "\n",
        "#### Other Language stemmers\n",
        "\n",
        "\n",
        "1.   ISRI Stemmer; Arabic Language\n",
        "2.   RSLP Stemmer; Portuguese Language\n",
        "1.   Lancaster Stemmer - is heavy. requires good memory of computer resources.\n",
        "2.   List item\n",
        "\n",
        "\n",
        "\n",
        "\n"
      ]
    },
    {
      "cell_type": "code",
      "metadata": {
        "id": "QMveSPymG_V5"
      },
      "source": [
        "#Preparing text for BOW: Remove stopwords & stem/Lemmatize\n",
        "\n",
        "def prep_text(text):\n",
        "  import nltk\n",
        "\n",
        "  #Remove HTML tags\n",
        "  my_text = BeautifulSoup(text, 'html.parser').get_text()\n",
        "\n",
        "  #Tokenize words\n",
        "  tokens = nltk.word_tokenize(my_text)\n",
        "\n",
        "  #Define Stopwords\n",
        "  stops = set(stopwords.words('english'))\n",
        "\n",
        "  #Remove the stopwords\n",
        "  words = [x for x in tokens if not x in stops]\n",
        "\n",
        "  #Stemming\n",
        "  stemmer = PorterStemmer()\n",
        "  stemmed_words = []\n",
        "  for i in range(0, len(words)):\n",
        "    l2 = ' '.join([stemmer.stem(word) for word in words])\n",
        "    stemmed_words.append(l2)\n",
        "\n",
        "  #words = [nltk.SnowballStemmer('english').stem(w) for w in words]\n",
        "\n",
        "  #Join the words back into one string separated by a space and return results\n",
        "  return stemmed_words"
      ],
      "execution_count": 31,
      "outputs": []
    },
    {
      "cell_type": "code",
      "metadata": {
        "id": "Ni2KMpLtMM9J"
      },
      "source": [
        "#Performing iterative preps on each of the statements\n",
        "nairobi_df3['text_stem'] = nairobi_df3['text'].apply(prep_text)"
      ],
      "execution_count": 32,
      "outputs": []
    },
    {
      "cell_type": "code",
      "metadata": {
        "colab": {
          "base_uri": "https://localhost:8080/",
          "height": 0
        },
        "id": "FsDSwHVSMqaq",
        "outputId": "1fc04c1a-7e0f-4aef-ac41-4fdbbad7849a"
      },
      "source": [
        "#View the stemmed words\n",
        "nairobi_df3.sample(6)"
      ],
      "execution_count": 33,
      "outputs": [
        {
          "output_type": "execute_result",
          "data": {
            "text/html": [
              "<div>\n",
              "<style scoped>\n",
              "    .dataframe tbody tr th:only-of-type {\n",
              "        vertical-align: middle;\n",
              "    }\n",
              "\n",
              "    .dataframe tbody tr th {\n",
              "        vertical-align: top;\n",
              "    }\n",
              "\n",
              "    .dataframe thead th {\n",
              "        text-align: right;\n",
              "    }\n",
              "</style>\n",
              "<table border=\"1\" class=\"dataframe\">\n",
              "  <thead>\n",
              "    <tr style=\"text-align: right;\">\n",
              "      <th></th>\n",
              "      <th>Unnamed: 0</th>\n",
              "      <th>unnamed: 0</th>\n",
              "      <th>unnamed: 0.1</th>\n",
              "      <th>datetime</th>\n",
              "      <th>text</th>\n",
              "      <th>retweets</th>\n",
              "      <th>likes</th>\n",
              "      <th>text_without_stopwords</th>\n",
              "      <th>text_list</th>\n",
              "      <th>text_stem</th>\n",
              "    </tr>\n",
              "  </thead>\n",
              "  <tbody>\n",
              "    <tr>\n",
              "      <th>2395</th>\n",
              "      <td>6388</td>\n",
              "      <td>1545</td>\n",
              "      <td>1545</td>\n",
              "      <td>2020-04-21 12:24:28+00:00</td>\n",
              "      <td>player profilefaina jacobsposition defenderstr...</td>\n",
              "      <td>1</td>\n",
              "      <td>13</td>\n",
              "      <td>['player', 'profilefaina', 'jacobsposition', '...</td>\n",
              "      <td>[player, profilefaina, jacobsposition, defende...</td>\n",
              "      <td>[player profilefaina jacobsposit defenderstren...</td>\n",
              "    </tr>\n",
              "    <tr>\n",
              "      <th>3310</th>\n",
              "      <td>7308</td>\n",
              "      <td>2465</td>\n",
              "      <td>2465</td>\n",
              "      <td>2020-04-01 18:15:06+00:00</td>\n",
              "      <td>tough times dont last forever we shall overcom...</td>\n",
              "      <td>0</td>\n",
              "      <td>0</td>\n",
              "      <td>['tough', 'times', 'dont', 'last', 'forever', ...</td>\n",
              "      <td>[tough, times, dont, last, forever, we, shall,...</td>\n",
              "      <td>[tough time dont last forev shall overcom 🙏🙏 s...</td>\n",
              "    </tr>\n",
              "    <tr>\n",
              "      <th>862</th>\n",
              "      <td>4848</td>\n",
              "      <td>5</td>\n",
              "      <td>5</td>\n",
              "      <td>2020-07-21 12:38:28+00:00</td>\n",
              "      <td>just because we are staying at home doesn’t me...</td>\n",
              "      <td>0</td>\n",
              "      <td>0</td>\n",
              "      <td>['staying', 'home', 'doesn’t', 'mean', 'can’t'...</td>\n",
              "      <td>[just, because, we, are, staying, at, home, do...</td>\n",
              "      <td>[stay home ’ mean ’ look feel good shop new cl...</td>\n",
              "    </tr>\n",
              "    <tr>\n",
              "      <th>2336</th>\n",
              "      <td>6329</td>\n",
              "      <td>1486</td>\n",
              "      <td>1486</td>\n",
              "      <td>2020-04-23 08:17:02+00:00</td>\n",
              "      <td>🔸content marketing is important to any busines...</td>\n",
              "      <td>1</td>\n",
              "      <td>1</td>\n",
              "      <td>['🔸content', 'marketing', 'important', 'busine...</td>\n",
              "      <td>[🔸content, marketing, is, important, to, any, ...</td>\n",
              "      <td>[🔸content market import busi want grow learn t...</td>\n",
              "    </tr>\n",
              "    <tr>\n",
              "      <th>3227</th>\n",
              "      <td>7223</td>\n",
              "      <td>2380</td>\n",
              "      <td>2380</td>\n",
              "      <td>2020-04-03 13:10:28+00:00</td>\n",
              "      <td>stay safe guys  nairobi in nairobi</td>\n",
              "      <td>0</td>\n",
              "      <td>0</td>\n",
              "      <td>['stay', 'safe', 'guys', 'nairobi', 'nairobi']</td>\n",
              "      <td>[stay, safe, guys, nairobi, in, nairobi]</td>\n",
              "      <td>[stay safe guy nairobi nairobi, stay safe guy ...</td>\n",
              "    </tr>\n",
              "    <tr>\n",
              "      <th>3402</th>\n",
              "      <td>7402</td>\n",
              "      <td>2559</td>\n",
              "      <td>2559</td>\n",
              "      <td>2020-03-31 03:03:30+00:00</td>\n",
              "      <td>majimajikenya   suewakuria njengaracheal masha...</td>\n",
              "      <td>0</td>\n",
              "      <td>1</td>\n",
              "      <td>['majimajikenya', 'suewakuria', 'njengaracheal...</td>\n",
              "      <td>[majimajikenya, suewakuria, njengaracheal, mas...</td>\n",
              "      <td>[majimajikenya suewakuria njengarach mashaadx ...</td>\n",
              "    </tr>\n",
              "  </tbody>\n",
              "</table>\n",
              "</div>"
            ],
            "text/plain": [
              "      Unnamed: 0  ...                                          text_stem\n",
              "2395        6388  ...  [player profilefaina jacobsposit defenderstren...\n",
              "3310        7308  ...  [tough time dont last forev shall overcom 🙏🙏 s...\n",
              "862         4848  ...  [stay home ’ mean ’ look feel good shop new cl...\n",
              "2336        6329  ...  [🔸content market import busi want grow learn t...\n",
              "3227        7223  ...  [stay safe guy nairobi nairobi, stay safe guy ...\n",
              "3402        7402  ...  [majimajikenya suewakuria njengarach mashaadx ...\n",
              "\n",
              "[6 rows x 10 columns]"
            ]
          },
          "metadata": {
            "tags": []
          },
          "execution_count": 33
        }
      ]
    },
    {
      "cell_type": "code",
      "metadata": {
        "colab": {
          "base_uri": "https://localhost:8080/",
          "height": 0
        },
        "id": "gttKWpn_WE-d",
        "outputId": "69b03408-11ca-4250-e0ca-4ee85955ab5b"
      },
      "source": [
        "#Dropping the unnamed columns\n",
        "\n",
        "nairobi_df3.drop(['Unnamed: 0', 'unnamed: 0', 'unnamed: 0.1'], axis=1)\n"
      ],
      "execution_count": 34,
      "outputs": [
        {
          "output_type": "execute_result",
          "data": {
            "text/html": [
              "<div>\n",
              "<style scoped>\n",
              "    .dataframe tbody tr th:only-of-type {\n",
              "        vertical-align: middle;\n",
              "    }\n",
              "\n",
              "    .dataframe tbody tr th {\n",
              "        vertical-align: top;\n",
              "    }\n",
              "\n",
              "    .dataframe thead th {\n",
              "        text-align: right;\n",
              "    }\n",
              "</style>\n",
              "<table border=\"1\" class=\"dataframe\">\n",
              "  <thead>\n",
              "    <tr style=\"text-align: right;\">\n",
              "      <th></th>\n",
              "      <th>datetime</th>\n",
              "      <th>text</th>\n",
              "      <th>retweets</th>\n",
              "      <th>likes</th>\n",
              "      <th>text_without_stopwords</th>\n",
              "      <th>text_list</th>\n",
              "      <th>text_stem</th>\n",
              "    </tr>\n",
              "  </thead>\n",
              "  <tbody>\n",
              "    <tr>\n",
              "      <th>0</th>\n",
              "      <td>2020-06-06 19:28:03+00:00</td>\n",
              "      <td>mmetukosea sana sasa ningeenda hadi pahali gar...</td>\n",
              "      <td>0</td>\n",
              "      <td>2</td>\n",
              "      <td>['mmetukosea', 'sana', 'sasa', 'ningeenda', 'h...</td>\n",
              "      <td>[mmetukosea, sana, sasa, ningeenda, hadi, paha...</td>\n",
              "      <td>[mmetukosea sana sasa ningeenda hadi pahali ga...</td>\n",
              "    </tr>\n",
              "    <tr>\n",
              "      <th>1</th>\n",
              "      <td>2020-06-06 13:25:27+00:00</td>\n",
              "      <td>cant wait 🥰🥰  blacklivesmatter curfewinkenya w...</td>\n",
              "      <td>1</td>\n",
              "      <td>10</td>\n",
              "      <td>['cant', 'wait', '🥰🥰', 'blacklivesmatter', 'cu...</td>\n",
              "      <td>[cant, wait, 🥰🥰, blacklivesmatter, curfewinken...</td>\n",
              "      <td>[cant wait 🥰🥰 blacklivesmatt curfewinkenya wan...</td>\n",
              "    </tr>\n",
              "    <tr>\n",
              "      <th>2</th>\n",
              "      <td>2020-06-06 13:24:27+00:00</td>\n",
              "      <td>wakenya hawachoki na meme za uhuru😂😂 uhurukeny...</td>\n",
              "      <td>1</td>\n",
              "      <td>4</td>\n",
              "      <td>['wakenya', 'hawachoki', 'na', 'meme', 'za', '...</td>\n",
              "      <td>[wakenya, hawachoki, na, meme, za, uhuru😂😂, uh...</td>\n",
              "      <td>[wakenya hawachoki na meme za uhuru😂😂 uhuruken...</td>\n",
              "    </tr>\n",
              "    <tr>\n",
              "      <th>3</th>\n",
              "      <td>2020-06-06 13:03:01+00:00</td>\n",
              "      <td>fellow kenyans uhuruspeaks uhuruaddress</td>\n",
              "      <td>0</td>\n",
              "      <td>1</td>\n",
              "      <td>['fellow', 'kenyans', 'uhuruspeaks', 'uhuruadd...</td>\n",
              "      <td>[fellow, kenyans, uhuruspeaks, uhuruaddress]</td>\n",
              "      <td>[fellow kenyan uhuruspeak uhuruaddress, fellow...</td>\n",
              "    </tr>\n",
              "    <tr>\n",
              "      <th>4</th>\n",
              "      <td>2020-06-06 13:02:49+00:00</td>\n",
              "      <td>uhurukenyatta cessation of movement in nairobi...</td>\n",
              "      <td>0</td>\n",
              "      <td>2</td>\n",
              "      <td>['uhurukenyatta', 'cessation', 'movement', 'na...</td>\n",
              "      <td>[uhurukenyatta, cessation, of, movement, in, n...</td>\n",
              "      <td>[uhurukenyatta cessat movement nairobi mombasa...</td>\n",
              "    </tr>\n",
              "    <tr>\n",
              "      <th>...</th>\n",
              "      <td>...</td>\n",
              "      <td>...</td>\n",
              "      <td>...</td>\n",
              "      <td>...</td>\n",
              "      <td>...</td>\n",
              "      <td>...</td>\n",
              "      <td>...</td>\n",
              "    </tr>\n",
              "    <tr>\n",
              "      <th>4168</th>\n",
              "      <td>2020-05-29 06:34:32+00:00</td>\n",
              "      <td>theres nothing like making a tough choice when...</td>\n",
              "      <td>0</td>\n",
              "      <td>0</td>\n",
              "      <td>['theres', 'nothing', 'like', 'making', 'tough...</td>\n",
              "      <td>[theres, nothing, like, making, a, tough, choi...</td>\n",
              "      <td>[there noth like make tough choic come open ec...</td>\n",
              "    </tr>\n",
              "    <tr>\n",
              "      <th>4169</th>\n",
              "      <td>2020-05-29 06:20:25+00:00</td>\n",
              "      <td>president uhuru kenyatta made it clear thats t...</td>\n",
              "      <td>0</td>\n",
              "      <td>2</td>\n",
              "      <td>['president', 'uhuru', 'kenyatta', 'made', 'cl...</td>\n",
              "      <td>[president, uhuru, kenyatta, made, it, clear, ...</td>\n",
              "      <td>[presid uhuru kenyatta made clear that engag c...</td>\n",
              "    </tr>\n",
              "    <tr>\n",
              "      <th>4170</th>\n",
              "      <td>2020-05-29 06:03:22+00:00</td>\n",
              "      <td>uhurustoughchoices mlisema huyu ni mtoto wa na...</td>\n",
              "      <td>0</td>\n",
              "      <td>0</td>\n",
              "      <td>['uhurustoughchoices', 'mlisema', 'huyu', 'ni'...</td>\n",
              "      <td>[uhurustoughchoices, mlisema, huyu, ni, mtoto,...</td>\n",
              "      <td>[uhurustoughchoic mlisema huyu ni mtoto wa nan...</td>\n",
              "    </tr>\n",
              "    <tr>\n",
              "      <th>4171</th>\n",
              "      <td>2020-05-29 05:19:20+00:00</td>\n",
              "      <td>among other tough choices uhuru must make is g...</td>\n",
              "      <td>3</td>\n",
              "      <td>4</td>\n",
              "      <td>['among', 'tough', 'choices', 'uhuru', 'must',...</td>\n",
              "      <td>[among, other, tough, choices, uhuru, must, ma...</td>\n",
              "      <td>[among tough choic uhuru must make get compet ...</td>\n",
              "    </tr>\n",
              "    <tr>\n",
              "      <th>4172</th>\n",
              "      <td>2020-05-27 18:59:53+00:00</td>\n",
              "      <td>pandemic perforated pockets plunging economy p...</td>\n",
              "      <td>1</td>\n",
              "      <td>6</td>\n",
              "      <td>['pandemic', 'perforated', 'pockets', 'plungin...</td>\n",
              "      <td>[pandemic, perforated, pockets, plunging, econ...</td>\n",
              "      <td>[pandem perfor pocket plung economi presid pie...</td>\n",
              "    </tr>\n",
              "  </tbody>\n",
              "</table>\n",
              "<p>4173 rows × 7 columns</p>\n",
              "</div>"
            ],
            "text/plain": [
              "                       datetime  ...                                          text_stem\n",
              "0     2020-06-06 19:28:03+00:00  ...  [mmetukosea sana sasa ningeenda hadi pahali ga...\n",
              "1     2020-06-06 13:25:27+00:00  ...  [cant wait 🥰🥰 blacklivesmatt curfewinkenya wan...\n",
              "2     2020-06-06 13:24:27+00:00  ...  [wakenya hawachoki na meme za uhuru😂😂 uhuruken...\n",
              "3     2020-06-06 13:03:01+00:00  ...  [fellow kenyan uhuruspeak uhuruaddress, fellow...\n",
              "4     2020-06-06 13:02:49+00:00  ...  [uhurukenyatta cessat movement nairobi mombasa...\n",
              "...                         ...  ...                                                ...\n",
              "4168  2020-05-29 06:34:32+00:00  ...  [there noth like make tough choic come open ec...\n",
              "4169  2020-05-29 06:20:25+00:00  ...  [presid uhuru kenyatta made clear that engag c...\n",
              "4170  2020-05-29 06:03:22+00:00  ...  [uhurustoughchoic mlisema huyu ni mtoto wa nan...\n",
              "4171  2020-05-29 05:19:20+00:00  ...  [among tough choic uhuru must make get compet ...\n",
              "4172  2020-05-27 18:59:53+00:00  ...  [pandem perfor pocket plung economi presid pie...\n",
              "\n",
              "[4173 rows x 7 columns]"
            ]
          },
          "metadata": {
            "tags": []
          },
          "execution_count": 34
        }
      ]
    },
    {
      "cell_type": "code",
      "metadata": {
        "colab": {
          "base_uri": "https://localhost:8080/",
          "height": 0
        },
        "id": "dZ9hFRFDY2lZ",
        "outputId": "51432536-e36c-4f53-8095-06c699f577e5"
      },
      "source": [
        "#Display the most common words after stemming\n",
        "\n",
        "nairobi_df3['text_stem'] = nairobi_df3['text_stem'].apply(lambda x:str(x).split()) #Use tokenize or split, smae results\n",
        "top = Counter([item for sublist in nairobi_df3['text_stem'] for item in sublist]) #Counts the frequency of words\n",
        "temp = pd.DataFrame(top.most_common(21)) #top twenty words\n",
        "temp.columns = ['common_words', 'count']\n",
        "temp.style.background_gradient(cmap = 'Blues')"
      ],
      "execution_count": 35,
      "outputs": [
        {
          "output_type": "execute_result",
          "data": {
            "text/html": [
              "<style  type=\"text/css\" >\n",
              "#T_0448d124_9739_11eb_97b0_0242ac1c0002row0_col1{\n",
              "            background-color:  #08306b;\n",
              "            color:  #f1f1f1;\n",
              "        }#T_0448d124_9739_11eb_97b0_0242ac1c0002row1_col1{\n",
              "            background-color:  #2272b6;\n",
              "            color:  #f1f1f1;\n",
              "        }#T_0448d124_9739_11eb_97b0_0242ac1c0002row2_col1{\n",
              "            background-color:  #3787c0;\n",
              "            color:  #000000;\n",
              "        }#T_0448d124_9739_11eb_97b0_0242ac1c0002row3_col1{\n",
              "            background-color:  #d0e2f2;\n",
              "            color:  #000000;\n",
              "        }#T_0448d124_9739_11eb_97b0_0242ac1c0002row4_col1{\n",
              "            background-color:  #d5e5f4;\n",
              "            color:  #000000;\n",
              "        }#T_0448d124_9739_11eb_97b0_0242ac1c0002row5_col1{\n",
              "            background-color:  #d7e6f5;\n",
              "            color:  #000000;\n",
              "        }#T_0448d124_9739_11eb_97b0_0242ac1c0002row6_col1{\n",
              "            background-color:  #d8e7f5;\n",
              "            color:  #000000;\n",
              "        }#T_0448d124_9739_11eb_97b0_0242ac1c0002row7_col1{\n",
              "            background-color:  #dceaf6;\n",
              "            color:  #000000;\n",
              "        }#T_0448d124_9739_11eb_97b0_0242ac1c0002row8_col1{\n",
              "            background-color:  #dfebf7;\n",
              "            color:  #000000;\n",
              "        }#T_0448d124_9739_11eb_97b0_0242ac1c0002row9_col1{\n",
              "            background-color:  #e6f0f9;\n",
              "            color:  #000000;\n",
              "        }#T_0448d124_9739_11eb_97b0_0242ac1c0002row10_col1{\n",
              "            background-color:  #edf4fc;\n",
              "            color:  #000000;\n",
              "        }#T_0448d124_9739_11eb_97b0_0242ac1c0002row11_col1{\n",
              "            background-color:  #eef5fc;\n",
              "            color:  #000000;\n",
              "        }#T_0448d124_9739_11eb_97b0_0242ac1c0002row12_col1,#T_0448d124_9739_11eb_97b0_0242ac1c0002row13_col1{\n",
              "            background-color:  #f1f7fd;\n",
              "            color:  #000000;\n",
              "        }#T_0448d124_9739_11eb_97b0_0242ac1c0002row14_col1,#T_0448d124_9739_11eb_97b0_0242ac1c0002row15_col1{\n",
              "            background-color:  #f2f8fd;\n",
              "            color:  #000000;\n",
              "        }#T_0448d124_9739_11eb_97b0_0242ac1c0002row16_col1,#T_0448d124_9739_11eb_97b0_0242ac1c0002row17_col1{\n",
              "            background-color:  #f3f8fe;\n",
              "            color:  #000000;\n",
              "        }#T_0448d124_9739_11eb_97b0_0242ac1c0002row18_col1{\n",
              "            background-color:  #f4f9fe;\n",
              "            color:  #000000;\n",
              "        }#T_0448d124_9739_11eb_97b0_0242ac1c0002row19_col1,#T_0448d124_9739_11eb_97b0_0242ac1c0002row20_col1{\n",
              "            background-color:  #f7fbff;\n",
              "            color:  #000000;\n",
              "        }</style><table id=\"T_0448d124_9739_11eb_97b0_0242ac1c0002\" ><thead>    <tr>        <th class=\"blank level0\" ></th>        <th class=\"col_heading level0 col0\" >common_words</th>        <th class=\"col_heading level0 col1\" >count</th>    </tr></thead><tbody>\n",
              "                <tr>\n",
              "                        <th id=\"T_0448d124_9739_11eb_97b0_0242ac1c0002level0_row0\" class=\"row_heading level0 row0\" >0</th>\n",
              "                        <td id=\"T_0448d124_9739_11eb_97b0_0242ac1c0002row0_col0\" class=\"data row0 col0\" >stay</td>\n",
              "                        <td id=\"T_0448d124_9739_11eb_97b0_0242ac1c0002row0_col1\" class=\"data row0 col1\" >20410</td>\n",
              "            </tr>\n",
              "            <tr>\n",
              "                        <th id=\"T_0448d124_9739_11eb_97b0_0242ac1c0002level0_row1\" class=\"row_heading level0 row1\" >1</th>\n",
              "                        <td id=\"T_0448d124_9739_11eb_97b0_0242ac1c0002row1_col0\" class=\"data row1 col0\" >safe</td>\n",
              "                        <td id=\"T_0448d124_9739_11eb_97b0_0242ac1c0002row1_col1\" class=\"data row1 col1\" >15923</td>\n",
              "            </tr>\n",
              "            <tr>\n",
              "                        <th id=\"T_0448d124_9739_11eb_97b0_0242ac1c0002level0_row2\" class=\"row_heading level0 row2\" >2</th>\n",
              "                        <td id=\"T_0448d124_9739_11eb_97b0_0242ac1c0002row2_col0\" class=\"data row2 col0\" >staysaf</td>\n",
              "                        <td id=\"T_0448d124_9739_11eb_97b0_0242ac1c0002row2_col1\" class=\"data row2 col1\" >14571</td>\n",
              "            </tr>\n",
              "            <tr>\n",
              "                        <th id=\"T_0448d124_9739_11eb_97b0_0242ac1c0002level0_row3\" class=\"row_heading level0 row3\" >3</th>\n",
              "                        <td id=\"T_0448d124_9739_11eb_97b0_0242ac1c0002row3_col0\" class=\"data row3 col0\" >stayhom</td>\n",
              "                        <td id=\"T_0448d124_9739_11eb_97b0_0242ac1c0002row3_col1\" class=\"data row3 col1\" >6393</td>\n",
              "            </tr>\n",
              "            <tr>\n",
              "                        <th id=\"T_0448d124_9739_11eb_97b0_0242ac1c0002level0_row4\" class=\"row_heading level0 row4\" >4</th>\n",
              "                        <td id=\"T_0448d124_9739_11eb_97b0_0242ac1c0002row4_col0\" class=\"data row4 col0\" >us</td>\n",
              "                        <td id=\"T_0448d124_9739_11eb_97b0_0242ac1c0002row4_col1\" class=\"data row4 col1\" >5988</td>\n",
              "            </tr>\n",
              "            <tr>\n",
              "                        <th id=\"T_0448d124_9739_11eb_97b0_0242ac1c0002level0_row5\" class=\"row_heading level0 row5\" >5</th>\n",
              "                        <td id=\"T_0448d124_9739_11eb_97b0_0242ac1c0002row5_col0\" class=\"data row5 col0\" >’</td>\n",
              "                        <td id=\"T_0448d124_9739_11eb_97b0_0242ac1c0002row5_col1\" class=\"data row5 col1\" >5824</td>\n",
              "            </tr>\n",
              "            <tr>\n",
              "                        <th id=\"T_0448d124_9739_11eb_97b0_0242ac1c0002level0_row6\" class=\"row_heading level0 row6\" >6</th>\n",
              "                        <td id=\"T_0448d124_9739_11eb_97b0_0242ac1c0002row6_col0\" class=\"data row6 col0\" >home</td>\n",
              "                        <td id=\"T_0448d124_9739_11eb_97b0_0242ac1c0002row6_col1\" class=\"data row6 col1\" >5739</td>\n",
              "            </tr>\n",
              "            <tr>\n",
              "                        <th id=\"T_0448d124_9739_11eb_97b0_0242ac1c0002level0_row7\" class=\"row_heading level0 row7\" >7</th>\n",
              "                        <td id=\"T_0448d124_9739_11eb_97b0_0242ac1c0002row7_col0\" class=\"data row7 col0\" >amp</td>\n",
              "                        <td id=\"T_0448d124_9739_11eb_97b0_0242ac1c0002row7_col1\" class=\"data row7 col1\" >5348</td>\n",
              "            </tr>\n",
              "            <tr>\n",
              "                        <th id=\"T_0448d124_9739_11eb_97b0_0242ac1c0002level0_row8\" class=\"row_heading level0 row8\" >8</th>\n",
              "                        <td id=\"T_0448d124_9739_11eb_97b0_0242ac1c0002row8_col0\" class=\"data row8 col0\" >staysaf',</td>\n",
              "                        <td id=\"T_0448d124_9739_11eb_97b0_0242ac1c0002row8_col1\" class=\"data row8 col1\" >5111</td>\n",
              "            </tr>\n",
              "            <tr>\n",
              "                        <th id=\"T_0448d124_9739_11eb_97b0_0242ac1c0002level0_row9\" class=\"row_heading level0 row9\" >9</th>\n",
              "                        <td id=\"T_0448d124_9739_11eb_97b0_0242ac1c0002row9_col0\" class=\"data row9 col0\" >curfewinkenya</td>\n",
              "                        <td id=\"T_0448d124_9739_11eb_97b0_0242ac1c0002row9_col1\" class=\"data row9 col1\" >4516</td>\n",
              "            </tr>\n",
              "            <tr>\n",
              "                        <th id=\"T_0448d124_9739_11eb_97b0_0242ac1c0002level0_row10\" class=\"row_heading level0 row10\" >10</th>\n",
              "                        <td id=\"T_0448d124_9739_11eb_97b0_0242ac1c0002row10_col0\" class=\"data row10 col0\" >time</td>\n",
              "                        <td id=\"T_0448d124_9739_11eb_97b0_0242ac1c0002row10_col1\" class=\"data row10 col1\" >3922</td>\n",
              "            </tr>\n",
              "            <tr>\n",
              "                        <th id=\"T_0448d124_9739_11eb_97b0_0242ac1c0002level0_row11\" class=\"row_heading level0 row11\" >11</th>\n",
              "                        <td id=\"T_0448d124_9739_11eb_97b0_0242ac1c0002row11_col0\" class=\"data row11 col0\" >keep</td>\n",
              "                        <td id=\"T_0448d124_9739_11eb_97b0_0242ac1c0002row11_col1\" class=\"data row11 col1\" >3833</td>\n",
              "            </tr>\n",
              "            <tr>\n",
              "                        <th id=\"T_0448d124_9739_11eb_97b0_0242ac1c0002level0_row12\" class=\"row_heading level0 row12\" >12</th>\n",
              "                        <td id=\"T_0448d124_9739_11eb_97b0_0242ac1c0002row12_col0\" class=\"data row12 col0\" >happi</td>\n",
              "                        <td id=\"T_0448d124_9739_11eb_97b0_0242ac1c0002row12_col1\" class=\"data row12 col1\" >3542</td>\n",
              "            </tr>\n",
              "            <tr>\n",
              "                        <th id=\"T_0448d124_9739_11eb_97b0_0242ac1c0002level0_row13\" class=\"row_heading level0 row13\" >13</th>\n",
              "                        <td id=\"T_0448d124_9739_11eb_97b0_0242ac1c0002row13_col0\" class=\"data row13 col0\" >peopl</td>\n",
              "                        <td id=\"T_0448d124_9739_11eb_97b0_0242ac1c0002row13_col1\" class=\"data row13 col1\" >3529</td>\n",
              "            </tr>\n",
              "            <tr>\n",
              "                        <th id=\"T_0448d124_9739_11eb_97b0_0242ac1c0002level0_row14\" class=\"row_heading level0 row14\" >14</th>\n",
              "                        <td id=\"T_0448d124_9739_11eb_97b0_0242ac1c0002row14_col0\" class=\"data row14 col0\" >day</td>\n",
              "                        <td id=\"T_0448d124_9739_11eb_97b0_0242ac1c0002row14_col1\" class=\"data row14 col1\" >3445</td>\n",
              "            </tr>\n",
              "            <tr>\n",
              "                        <th id=\"T_0448d124_9739_11eb_97b0_0242ac1c0002level0_row15\" class=\"row_heading level0 row15\" >15</th>\n",
              "                        <td id=\"T_0448d124_9739_11eb_97b0_0242ac1c0002row15_col0\" class=\"data row15 col0\" >let</td>\n",
              "                        <td id=\"T_0448d124_9739_11eb_97b0_0242ac1c0002row15_col1\" class=\"data row15 col1\" >3437</td>\n",
              "            </tr>\n",
              "            <tr>\n",
              "                        <th id=\"T_0448d124_9739_11eb_97b0_0242ac1c0002level0_row16\" class=\"row_heading level0 row16\" >16</th>\n",
              "                        <td id=\"T_0448d124_9739_11eb_97b0_0242ac1c0002row16_col0\" class=\"data row16 col0\" >kenya</td>\n",
              "                        <td id=\"T_0448d124_9739_11eb_97b0_0242ac1c0002row16_col1\" class=\"data row16 col1\" >3376</td>\n",
              "            </tr>\n",
              "            <tr>\n",
              "                        <th id=\"T_0448d124_9739_11eb_97b0_0242ac1c0002level0_row17\" class=\"row_heading level0 row17\" >17</th>\n",
              "                        <td id=\"T_0448d124_9739_11eb_97b0_0242ac1c0002row17_col0\" class=\"data row17 col0\" >safe',</td>\n",
              "                        <td id=\"T_0448d124_9739_11eb_97b0_0242ac1c0002row17_col1\" class=\"data row17 col1\" >3367</td>\n",
              "            </tr>\n",
              "            <tr>\n",
              "                        <th id=\"T_0448d124_9739_11eb_97b0_0242ac1c0002level0_row18\" class=\"row_heading level0 row18\" >18</th>\n",
              "                        <td id=\"T_0448d124_9739_11eb_97b0_0242ac1c0002row18_col0\" class=\"data row18 col0\" >curfewinkenya',</td>\n",
              "                        <td id=\"T_0448d124_9739_11eb_97b0_0242ac1c0002row18_col1\" class=\"data row18 col1\" >3297</td>\n",
              "            </tr>\n",
              "            <tr>\n",
              "                        <th id=\"T_0448d124_9739_11eb_97b0_0242ac1c0002level0_row19\" class=\"row_heading level0 row19\" >19</th>\n",
              "                        <td id=\"T_0448d124_9739_11eb_97b0_0242ac1c0002row19_col0\" class=\"data row19 col0\" >love</td>\n",
              "                        <td id=\"T_0448d124_9739_11eb_97b0_0242ac1c0002row19_col1\" class=\"data row19 col1\" >3026</td>\n",
              "            </tr>\n",
              "            <tr>\n",
              "                        <th id=\"T_0448d124_9739_11eb_97b0_0242ac1c0002level0_row20\" class=\"row_heading level0 row20\" >20</th>\n",
              "                        <td id=\"T_0448d124_9739_11eb_97b0_0242ac1c0002row20_col0\" class=\"data row20 col0\" >new</td>\n",
              "                        <td id=\"T_0448d124_9739_11eb_97b0_0242ac1c0002row20_col1\" class=\"data row20 col1\" >2975</td>\n",
              "            </tr>\n",
              "    </tbody></table>"
            ],
            "text/plain": [
              "<pandas.io.formats.style.Styler at 0x7fc701bab9d0>"
            ]
          },
          "metadata": {
            "tags": []
          },
          "execution_count": 35
        }
      ]
    },
    {
      "cell_type": "markdown",
      "metadata": {
        "id": "pQy-lr0P3oCV"
      },
      "source": [
        "**Analysis of the Emotions**\n",
        "\n",
        "#### In the cells below, I carried out sentiment analysis of the tweeted content using NRCLexicons.\n",
        "\n",
        "#### **NB:** *The context in which the analysis is taking place is during the first year of the Coronavirus pandemic in Kenya.* This is important in interpreting the results and explaining the outcome/findings."
      ]
    },
    {
      "cell_type": "code",
      "metadata": {
        "id": "pax-ANgx1YEC",
        "colab": {
          "base_uri": "https://localhost:8080/"
        },
        "outputId": "ea511a36-fc12-44dc-d945-f1fa0f6745e0"
      },
      "source": [
        "#Convert the text_stem column to string type. nrclext only takes input of type str\n",
        "\n",
        "nairobi_df3['text_stem'] = nairobi_df3['text_stem'].astype(str)\n",
        "\n",
        "#Create a text object\n",
        "text_object = NRCLex(' '.join(nairobi_df3['text_stem']))\n",
        "\n",
        "#List emotional affect frequencies\n",
        "\n",
        "text_object.affect_frequencies"
      ],
      "execution_count": 36,
      "outputs": [
        {
          "output_type": "execute_result",
          "data": {
            "text/plain": [
              "{'anger': 0.005542186246627288,\n",
              " 'anticip': 0.0,\n",
              " 'anticipation': 0.028658936775322687,\n",
              " 'disgust': 0.002916940129803836,\n",
              " 'fear': 0.012324072048421206,\n",
              " 'joy': 0.2923503245095894,\n",
              " 'negative': 0.011376066506234959,\n",
              " 'positive': 0.3291766936483629,\n",
              " 'sadness': 0.002187705097352877,\n",
              " 'surprise': 0.003646175162254795,\n",
              " 'trust': 0.31182089987603007}"
            ]
          },
          "metadata": {
            "tags": []
          },
          "execution_count": 36
        }
      ]
    },
    {
      "cell_type": "code",
      "metadata": {
        "id": "RDl6u2lT3Tu3",
        "colab": {
          "base_uri": "https://localhost:8080/"
        },
        "outputId": "5ead6450-afa7-47bd-e6de-1db33661e442"
      },
      "source": [
        "#Display the top emotions\n",
        "\n",
        "text_object.top_emotions"
      ],
      "execution_count": 37,
      "outputs": [
        {
          "output_type": "execute_result",
          "data": {
            "text/plain": [
              "[('positive', 0.3291766936483629)]"
            ]
          },
          "metadata": {
            "tags": []
          },
          "execution_count": 37
        }
      ]
    },
    {
      "cell_type": "code",
      "metadata": {
        "id": "ctHSynnA4I90",
        "colab": {
          "base_uri": "https://localhost:8080/",
          "height": 348
        },
        "outputId": "f8279035-6ee5-49e5-ed05-ced833d8c7eb"
      },
      "source": [
        "#Create a list from the  text object\n",
        "\n",
        "sentiment_scores = pd.DataFrame(list(text_object.raw_emotion_scores.items())) \n",
        "\n",
        "#Create a dataframe of two columns\n",
        "\n",
        "sentiment_scores = sentiment_scores.rename(columns={0: \"Sentiment\", 1: \"Count\"})\n",
        "sentiment_scores"
      ],
      "execution_count": 38,
      "outputs": [
        {
          "output_type": "execute_result",
          "data": {
            "text/html": [
              "<div>\n",
              "<style scoped>\n",
              "    .dataframe tbody tr th:only-of-type {\n",
              "        vertical-align: middle;\n",
              "    }\n",
              "\n",
              "    .dataframe tbody tr th {\n",
              "        vertical-align: top;\n",
              "    }\n",
              "\n",
              "    .dataframe thead th {\n",
              "        text-align: right;\n",
              "    }\n",
              "</style>\n",
              "<table border=\"1\" class=\"dataframe\">\n",
              "  <thead>\n",
              "    <tr style=\"text-align: right;\">\n",
              "      <th></th>\n",
              "      <th>Sentiment</th>\n",
              "      <th>Count</th>\n",
              "    </tr>\n",
              "  </thead>\n",
              "  <tbody>\n",
              "    <tr>\n",
              "      <th>0</th>\n",
              "      <td>positive</td>\n",
              "      <td>4514</td>\n",
              "    </tr>\n",
              "    <tr>\n",
              "      <th>1</th>\n",
              "      <td>anticipation</td>\n",
              "      <td>393</td>\n",
              "    </tr>\n",
              "    <tr>\n",
              "      <th>2</th>\n",
              "      <td>joy</td>\n",
              "      <td>4009</td>\n",
              "    </tr>\n",
              "    <tr>\n",
              "      <th>3</th>\n",
              "      <td>trust</td>\n",
              "      <td>4276</td>\n",
              "    </tr>\n",
              "    <tr>\n",
              "      <th>4</th>\n",
              "      <td>anger</td>\n",
              "      <td>76</td>\n",
              "    </tr>\n",
              "    <tr>\n",
              "      <th>5</th>\n",
              "      <td>fear</td>\n",
              "      <td>169</td>\n",
              "    </tr>\n",
              "    <tr>\n",
              "      <th>6</th>\n",
              "      <td>negative</td>\n",
              "      <td>156</td>\n",
              "    </tr>\n",
              "    <tr>\n",
              "      <th>7</th>\n",
              "      <td>sadness</td>\n",
              "      <td>30</td>\n",
              "    </tr>\n",
              "    <tr>\n",
              "      <th>8</th>\n",
              "      <td>surprise</td>\n",
              "      <td>50</td>\n",
              "    </tr>\n",
              "    <tr>\n",
              "      <th>9</th>\n",
              "      <td>disgust</td>\n",
              "      <td>40</td>\n",
              "    </tr>\n",
              "  </tbody>\n",
              "</table>\n",
              "</div>"
            ],
            "text/plain": [
              "      Sentiment  Count\n",
              "0      positive   4514\n",
              "1  anticipation    393\n",
              "2           joy   4009\n",
              "3         trust   4276\n",
              "4         anger     76\n",
              "5          fear    169\n",
              "6      negative    156\n",
              "7       sadness     30\n",
              "8      surprise     50\n",
              "9       disgust     40"
            ]
          },
          "metadata": {
            "tags": []
          },
          "execution_count": 38
        }
      ]
    },
    {
      "cell_type": "code",
      "metadata": {
        "id": "ea4LMfsv8Hxn",
        "colab": {
          "base_uri": "https://localhost:8080/"
        },
        "outputId": "662cbe0b-e61c-4c4e-9f2f-ed18799bacdb"
      },
      "source": [
        "sentiment = sentiment_scores['Sentiment'].to_list()\n",
        "sentiment"
      ],
      "execution_count": 39,
      "outputs": [
        {
          "output_type": "execute_result",
          "data": {
            "text/plain": [
              "['positive',\n",
              " 'anticipation',\n",
              " 'joy',\n",
              " 'trust',\n",
              " 'anger',\n",
              " 'fear',\n",
              " 'negative',\n",
              " 'sadness',\n",
              " 'surprise',\n",
              " 'disgust']"
            ]
          },
          "metadata": {
            "tags": []
          },
          "execution_count": 39
        }
      ]
    },
    {
      "cell_type": "code",
      "metadata": {
        "id": "JekGRQKd46tA",
        "colab": {
          "base_uri": "https://localhost:8080/",
          "height": 542
        },
        "outputId": "e42b5e51-2766-41b8-8390-7cf796d241be"
      },
      "source": [
        "#A Pie Chart of the sentiment sentiment_scores\n",
        "\n",
        "fig = px.pie(sentiment_scores, values='Count', names='Sentiment',\n",
        "             title='Sentiment Scores',\n",
        "             hover_data=['Sentiment'])\n",
        "fig.update_traces(textposition='inside', textinfo='percent+label')\n",
        "fig.show()"
      ],
      "execution_count": 40,
      "outputs": [
        {
          "output_type": "display_data",
          "data": {
            "text/html": [
              "<html>\n",
              "<head><meta charset=\"utf-8\" /></head>\n",
              "<body>\n",
              "    <div>\n",
              "            <script src=\"https://cdnjs.cloudflare.com/ajax/libs/mathjax/2.7.5/MathJax.js?config=TeX-AMS-MML_SVG\"></script><script type=\"text/javascript\">if (window.MathJax) {MathJax.Hub.Config({SVG: {font: \"STIX-Web\"}});}</script>\n",
              "                <script type=\"text/javascript\">window.PlotlyConfig = {MathJaxConfig: 'local'};</script>\n",
              "        <script src=\"https://cdn.plot.ly/plotly-latest.min.js\"></script>    \n",
              "            <div id=\"86334001-dd5a-43ba-ab96-bdd988f088be\" class=\"plotly-graph-div\" style=\"height:525px; width:100%;\"></div>\n",
              "            <script type=\"text/javascript\">\n",
              "                \n",
              "                    window.PLOTLYENV=window.PLOTLYENV || {};\n",
              "                    \n",
              "                if (document.getElementById(\"86334001-dd5a-43ba-ab96-bdd988f088be\")) {\n",
              "                    Plotly.newPlot(\n",
              "                        '86334001-dd5a-43ba-ab96-bdd988f088be',\n",
              "                        [{\"customdata\": [[\"positive\"], [\"anticipation\"], [\"joy\"], [\"trust\"], [\"anger\"], [\"fear\"], [\"negative\"], [\"sadness\"], [\"surprise\"], [\"disgust\"]], \"domain\": {\"x\": [0.0, 1.0], \"y\": [0.0, 1.0]}, \"hoverlabel\": {\"namelength\": 0}, \"hovertemplate\": \"Sentiment=%{label}<br>Count=%{value}\", \"labels\": [\"positive\", \"anticipation\", \"joy\", \"trust\", \"anger\", \"fear\", \"negative\", \"sadness\", \"surprise\", \"disgust\"], \"legendgroup\": \"\", \"name\": \"\", \"showlegend\": true, \"textinfo\": \"percent+label\", \"textposition\": \"inside\", \"type\": \"pie\", \"values\": [4514, 393, 4009, 4276, 76, 169, 156, 30, 50, 40]}],\n",
              "                        {\"legend\": {\"tracegroupgap\": 0}, \"template\": {\"data\": {\"bar\": [{\"error_x\": {\"color\": \"#2a3f5f\"}, \"error_y\": {\"color\": \"#2a3f5f\"}, \"marker\": {\"line\": {\"color\": \"#E5ECF6\", \"width\": 0.5}}, \"type\": \"bar\"}], \"barpolar\": [{\"marker\": {\"line\": {\"color\": \"#E5ECF6\", \"width\": 0.5}}, \"type\": \"barpolar\"}], \"carpet\": [{\"aaxis\": {\"endlinecolor\": \"#2a3f5f\", \"gridcolor\": \"white\", \"linecolor\": \"white\", \"minorgridcolor\": \"white\", \"startlinecolor\": \"#2a3f5f\"}, \"baxis\": {\"endlinecolor\": \"#2a3f5f\", \"gridcolor\": \"white\", \"linecolor\": \"white\", \"minorgridcolor\": \"white\", \"startlinecolor\": \"#2a3f5f\"}, \"type\": \"carpet\"}], \"choropleth\": [{\"colorbar\": {\"outlinewidth\": 0, \"ticks\": \"\"}, \"type\": \"choropleth\"}], \"contour\": [{\"colorbar\": {\"outlinewidth\": 0, \"ticks\": \"\"}, \"colorscale\": [[0.0, \"#0d0887\"], [0.1111111111111111, \"#46039f\"], [0.2222222222222222, \"#7201a8\"], [0.3333333333333333, \"#9c179e\"], [0.4444444444444444, \"#bd3786\"], [0.5555555555555556, \"#d8576b\"], [0.6666666666666666, \"#ed7953\"], [0.7777777777777778, \"#fb9f3a\"], [0.8888888888888888, \"#fdca26\"], [1.0, \"#f0f921\"]], \"type\": \"contour\"}], \"contourcarpet\": [{\"colorbar\": {\"outlinewidth\": 0, \"ticks\": \"\"}, \"type\": \"contourcarpet\"}], \"heatmap\": [{\"colorbar\": {\"outlinewidth\": 0, \"ticks\": \"\"}, \"colorscale\": [[0.0, \"#0d0887\"], [0.1111111111111111, \"#46039f\"], [0.2222222222222222, \"#7201a8\"], [0.3333333333333333, \"#9c179e\"], [0.4444444444444444, \"#bd3786\"], [0.5555555555555556, \"#d8576b\"], [0.6666666666666666, \"#ed7953\"], [0.7777777777777778, \"#fb9f3a\"], [0.8888888888888888, \"#fdca26\"], [1.0, \"#f0f921\"]], \"type\": \"heatmap\"}], \"heatmapgl\": [{\"colorbar\": {\"outlinewidth\": 0, \"ticks\": \"\"}, \"colorscale\": [[0.0, \"#0d0887\"], [0.1111111111111111, \"#46039f\"], [0.2222222222222222, \"#7201a8\"], [0.3333333333333333, \"#9c179e\"], [0.4444444444444444, \"#bd3786\"], [0.5555555555555556, \"#d8576b\"], [0.6666666666666666, \"#ed7953\"], [0.7777777777777778, \"#fb9f3a\"], [0.8888888888888888, \"#fdca26\"], [1.0, \"#f0f921\"]], \"type\": \"heatmapgl\"}], \"histogram\": [{\"marker\": {\"colorbar\": {\"outlinewidth\": 0, \"ticks\": \"\"}}, \"type\": \"histogram\"}], \"histogram2d\": [{\"colorbar\": {\"outlinewidth\": 0, \"ticks\": \"\"}, \"colorscale\": [[0.0, \"#0d0887\"], [0.1111111111111111, \"#46039f\"], [0.2222222222222222, \"#7201a8\"], [0.3333333333333333, \"#9c179e\"], [0.4444444444444444, \"#bd3786\"], [0.5555555555555556, \"#d8576b\"], [0.6666666666666666, \"#ed7953\"], [0.7777777777777778, \"#fb9f3a\"], [0.8888888888888888, \"#fdca26\"], [1.0, \"#f0f921\"]], \"type\": \"histogram2d\"}], \"histogram2dcontour\": [{\"colorbar\": {\"outlinewidth\": 0, \"ticks\": \"\"}, \"colorscale\": [[0.0, \"#0d0887\"], [0.1111111111111111, \"#46039f\"], [0.2222222222222222, \"#7201a8\"], [0.3333333333333333, \"#9c179e\"], [0.4444444444444444, \"#bd3786\"], [0.5555555555555556, \"#d8576b\"], [0.6666666666666666, \"#ed7953\"], [0.7777777777777778, \"#fb9f3a\"], [0.8888888888888888, \"#fdca26\"], [1.0, \"#f0f921\"]], \"type\": \"histogram2dcontour\"}], \"mesh3d\": [{\"colorbar\": {\"outlinewidth\": 0, \"ticks\": \"\"}, \"type\": \"mesh3d\"}], \"parcoords\": [{\"line\": {\"colorbar\": {\"outlinewidth\": 0, \"ticks\": \"\"}}, \"type\": \"parcoords\"}], \"pie\": [{\"automargin\": true, \"type\": \"pie\"}], \"scatter\": [{\"marker\": {\"colorbar\": {\"outlinewidth\": 0, \"ticks\": \"\"}}, \"type\": \"scatter\"}], \"scatter3d\": [{\"line\": {\"colorbar\": {\"outlinewidth\": 0, \"ticks\": \"\"}}, \"marker\": {\"colorbar\": {\"outlinewidth\": 0, \"ticks\": \"\"}}, \"type\": \"scatter3d\"}], \"scattercarpet\": [{\"marker\": {\"colorbar\": {\"outlinewidth\": 0, \"ticks\": \"\"}}, \"type\": \"scattercarpet\"}], \"scattergeo\": [{\"marker\": {\"colorbar\": {\"outlinewidth\": 0, \"ticks\": \"\"}}, \"type\": \"scattergeo\"}], \"scattergl\": [{\"marker\": {\"colorbar\": {\"outlinewidth\": 0, \"ticks\": \"\"}}, \"type\": \"scattergl\"}], \"scattermapbox\": [{\"marker\": {\"colorbar\": {\"outlinewidth\": 0, \"ticks\": \"\"}}, \"type\": \"scattermapbox\"}], \"scatterpolar\": [{\"marker\": {\"colorbar\": {\"outlinewidth\": 0, \"ticks\": \"\"}}, \"type\": \"scatterpolar\"}], \"scatterpolargl\": [{\"marker\": {\"colorbar\": {\"outlinewidth\": 0, \"ticks\": \"\"}}, \"type\": \"scatterpolargl\"}], \"scatterternary\": [{\"marker\": {\"colorbar\": {\"outlinewidth\": 0, \"ticks\": \"\"}}, \"type\": \"scatterternary\"}], \"surface\": [{\"colorbar\": {\"outlinewidth\": 0, \"ticks\": \"\"}, \"colorscale\": [[0.0, \"#0d0887\"], [0.1111111111111111, \"#46039f\"], [0.2222222222222222, \"#7201a8\"], [0.3333333333333333, \"#9c179e\"], [0.4444444444444444, \"#bd3786\"], [0.5555555555555556, \"#d8576b\"], [0.6666666666666666, \"#ed7953\"], [0.7777777777777778, \"#fb9f3a\"], [0.8888888888888888, \"#fdca26\"], [1.0, \"#f0f921\"]], \"type\": \"surface\"}], \"table\": [{\"cells\": {\"fill\": {\"color\": \"#EBF0F8\"}, \"line\": {\"color\": \"white\"}}, \"header\": {\"fill\": {\"color\": \"#C8D4E3\"}, \"line\": {\"color\": \"white\"}}, \"type\": \"table\"}]}, \"layout\": {\"annotationdefaults\": {\"arrowcolor\": \"#2a3f5f\", \"arrowhead\": 0, \"arrowwidth\": 1}, \"coloraxis\": {\"colorbar\": {\"outlinewidth\": 0, \"ticks\": \"\"}}, \"colorscale\": {\"diverging\": [[0, \"#8e0152\"], [0.1, \"#c51b7d\"], [0.2, \"#de77ae\"], [0.3, \"#f1b6da\"], [0.4, \"#fde0ef\"], [0.5, \"#f7f7f7\"], [0.6, \"#e6f5d0\"], [0.7, \"#b8e186\"], [0.8, \"#7fbc41\"], [0.9, \"#4d9221\"], [1, \"#276419\"]], \"sequential\": [[0.0, \"#0d0887\"], [0.1111111111111111, \"#46039f\"], [0.2222222222222222, \"#7201a8\"], [0.3333333333333333, \"#9c179e\"], [0.4444444444444444, \"#bd3786\"], [0.5555555555555556, \"#d8576b\"], [0.6666666666666666, \"#ed7953\"], [0.7777777777777778, \"#fb9f3a\"], [0.8888888888888888, \"#fdca26\"], [1.0, \"#f0f921\"]], \"sequentialminus\": [[0.0, \"#0d0887\"], [0.1111111111111111, \"#46039f\"], [0.2222222222222222, \"#7201a8\"], [0.3333333333333333, \"#9c179e\"], [0.4444444444444444, \"#bd3786\"], [0.5555555555555556, \"#d8576b\"], [0.6666666666666666, \"#ed7953\"], [0.7777777777777778, \"#fb9f3a\"], [0.8888888888888888, \"#fdca26\"], [1.0, \"#f0f921\"]]}, \"colorway\": [\"#636efa\", \"#EF553B\", \"#00cc96\", \"#ab63fa\", \"#FFA15A\", \"#19d3f3\", \"#FF6692\", \"#B6E880\", \"#FF97FF\", \"#FECB52\"], \"font\": {\"color\": \"#2a3f5f\"}, \"geo\": {\"bgcolor\": \"white\", \"lakecolor\": \"white\", \"landcolor\": \"#E5ECF6\", \"showlakes\": true, \"showland\": true, \"subunitcolor\": \"white\"}, \"hoverlabel\": {\"align\": \"left\"}, \"hovermode\": \"closest\", \"mapbox\": {\"style\": \"light\"}, \"paper_bgcolor\": \"white\", \"plot_bgcolor\": \"#E5ECF6\", \"polar\": {\"angularaxis\": {\"gridcolor\": \"white\", \"linecolor\": \"white\", \"ticks\": \"\"}, \"bgcolor\": \"#E5ECF6\", \"radialaxis\": {\"gridcolor\": \"white\", \"linecolor\": \"white\", \"ticks\": \"\"}}, \"scene\": {\"xaxis\": {\"backgroundcolor\": \"#E5ECF6\", \"gridcolor\": \"white\", \"gridwidth\": 2, \"linecolor\": \"white\", \"showbackground\": true, \"ticks\": \"\", \"zerolinecolor\": \"white\"}, \"yaxis\": {\"backgroundcolor\": \"#E5ECF6\", \"gridcolor\": \"white\", \"gridwidth\": 2, \"linecolor\": \"white\", \"showbackground\": true, \"ticks\": \"\", \"zerolinecolor\": \"white\"}, \"zaxis\": {\"backgroundcolor\": \"#E5ECF6\", \"gridcolor\": \"white\", \"gridwidth\": 2, \"linecolor\": \"white\", \"showbackground\": true, \"ticks\": \"\", \"zerolinecolor\": \"white\"}}, \"shapedefaults\": {\"line\": {\"color\": \"#2a3f5f\"}}, \"ternary\": {\"aaxis\": {\"gridcolor\": \"white\", \"linecolor\": \"white\", \"ticks\": \"\"}, \"baxis\": {\"gridcolor\": \"white\", \"linecolor\": \"white\", \"ticks\": \"\"}, \"bgcolor\": \"#E5ECF6\", \"caxis\": {\"gridcolor\": \"white\", \"linecolor\": \"white\", \"ticks\": \"\"}}, \"title\": {\"x\": 0.05}, \"xaxis\": {\"automargin\": true, \"gridcolor\": \"white\", \"linecolor\": \"white\", \"ticks\": \"\", \"title\": {\"standoff\": 15}, \"zerolinecolor\": \"white\", \"zerolinewidth\": 2}, \"yaxis\": {\"automargin\": true, \"gridcolor\": \"white\", \"linecolor\": \"white\", \"ticks\": \"\", \"title\": {\"standoff\": 15}, \"zerolinecolor\": \"white\", \"zerolinewidth\": 2}}}, \"title\": {\"text\": \"Sentiment Scores\"}},\n",
              "                        {\"responsive\": true}\n",
              "                    ).then(function(){\n",
              "                            \n",
              "var gd = document.getElementById('86334001-dd5a-43ba-ab96-bdd988f088be');\n",
              "var x = new MutationObserver(function (mutations, observer) {{\n",
              "        var display = window.getComputedStyle(gd).display;\n",
              "        if (!display || display === 'none') {{\n",
              "            console.log([gd, 'removed!']);\n",
              "            Plotly.purge(gd);\n",
              "            observer.disconnect();\n",
              "        }}\n",
              "}});\n",
              "\n",
              "// Listen for the removal of the full notebook cells\n",
              "var notebookContainer = gd.closest('#notebook-container');\n",
              "if (notebookContainer) {{\n",
              "    x.observe(notebookContainer, {childList: true});\n",
              "}}\n",
              "\n",
              "// Listen for the clearing of the current output cell\n",
              "var outputEl = gd.closest('.output');\n",
              "if (outputEl) {{\n",
              "    x.observe(outputEl, {childList: true});\n",
              "}}\n",
              "\n",
              "                        })\n",
              "                };\n",
              "                \n",
              "            </script>\n",
              "        </div>\n",
              "</body>\n",
              "</html>"
            ]
          },
          "metadata": {
            "tags": []
          }
        }
      ]
    },
    {
      "cell_type": "markdown",
      "metadata": {
        "id": "Y8HPRgQPENLg"
      },
      "source": [
        "**Findings-Discussion**\n",
        "\n",
        "##### Most of the words used suggests that Kenyan's are positive about the virus outbreak and circumstances surrounding it. However, this is also a downsie of using Lexicons. For instance:\n",
        "\n",
        "\n",
        "*   \"Govern\" is classified as positive and trust when in reality, majority of the Kenyan's were not pleased by government directives at the time and did not have faith in how the government was managing the whole process.\n",
        "\n",
        "*   \"Church\" is classified as positive, anticipation and joy. In reality, at the time, people felt their religious rights were being curtailed when any forms of religious gatherings were banned.\n",
        "\n",
        "*   'Extend' classified as positive though we know it refers to the extension of curfew hours/days which majority of Kenyans are opposed to.\n",
        "\n",
        "These few examples explain why it is important to understand the context in which the words were used when conducting an analysis using Lexicons.\n",
        "\n",
        "##### More advanced processing techniques can be used, and new rules added to support new expressions and vocabulary. However, adding new rules may affect previous results, and the whole system can get very complex. \n",
        "\n",
        "\n",
        "\n"
      ]
    },
    {
      "cell_type": "code",
      "metadata": {
        "id": "lmD6fooc6ZPH",
        "colab": {
          "base_uri": "https://localhost:8080/",
          "height": 407
        },
        "outputId": "2fed7218-3acf-4ab7-e942-63d2e0b5ae9d"
      },
      "source": [
        "#Create a dataframe with a dictionary of the sentiments\n",
        "\n",
        "sentiment_words = pd.DataFrame(list(text_object.affect_dict.items()),columns = ['words','sentiments'])\n",
        "sentiment_words"
      ],
      "execution_count": 41,
      "outputs": [
        {
          "output_type": "execute_result",
          "data": {
            "text/html": [
              "<div>\n",
              "<style scoped>\n",
              "    .dataframe tbody tr th:only-of-type {\n",
              "        vertical-align: middle;\n",
              "    }\n",
              "\n",
              "    .dataframe tbody tr th {\n",
              "        vertical-align: top;\n",
              "    }\n",
              "\n",
              "    .dataframe thead th {\n",
              "        text-align: right;\n",
              "    }\n",
              "</style>\n",
              "<table border=\"1\" class=\"dataframe\">\n",
              "  <thead>\n",
              "    <tr style=\"text-align: right;\">\n",
              "      <th></th>\n",
              "      <th>words</th>\n",
              "      <th>sentiments</th>\n",
              "    </tr>\n",
              "  </thead>\n",
              "  <tbody>\n",
              "    <tr>\n",
              "      <th>0</th>\n",
              "      <td>extend</td>\n",
              "      <td>[positive]</td>\n",
              "    </tr>\n",
              "    <tr>\n",
              "      <th>1</th>\n",
              "      <td>gradual</td>\n",
              "      <td>[anticipation]</td>\n",
              "    </tr>\n",
              "    <tr>\n",
              "      <th>2</th>\n",
              "      <td>freedom</td>\n",
              "      <td>[joy, positive, trust]</td>\n",
              "    </tr>\n",
              "    <tr>\n",
              "      <th>3</th>\n",
              "      <td>top</td>\n",
              "      <td>[anticipation, positive, trust]</td>\n",
              "    </tr>\n",
              "    <tr>\n",
              "      <th>4</th>\n",
              "      <td>protect</td>\n",
              "      <td>[positive]</td>\n",
              "    </tr>\n",
              "    <tr>\n",
              "      <th>...</th>\n",
              "      <td>...</td>\n",
              "      <td>...</td>\n",
              "    </tr>\n",
              "    <tr>\n",
              "      <th>56</th>\n",
              "      <td>employ</td>\n",
              "      <td>[trust]</td>\n",
              "    </tr>\n",
              "    <tr>\n",
              "      <th>57</th>\n",
              "      <td>shame</td>\n",
              "      <td>[disgust, fear, negative, sadness]</td>\n",
              "    </tr>\n",
              "    <tr>\n",
              "      <th>58</th>\n",
              "      <td>idiot</td>\n",
              "      <td>[disgust, negative]</td>\n",
              "    </tr>\n",
              "    <tr>\n",
              "      <th>59</th>\n",
              "      <td>impress</td>\n",
              "      <td>[positive]</td>\n",
              "    </tr>\n",
              "    <tr>\n",
              "      <th>60</th>\n",
              "      <td>fever</td>\n",
              "      <td>[fear]</td>\n",
              "    </tr>\n",
              "  </tbody>\n",
              "</table>\n",
              "<p>61 rows × 2 columns</p>\n",
              "</div>"
            ],
            "text/plain": [
              "      words                          sentiments\n",
              "0    extend                          [positive]\n",
              "1   gradual                      [anticipation]\n",
              "2   freedom              [joy, positive, trust]\n",
              "3       top     [anticipation, positive, trust]\n",
              "4   protect                          [positive]\n",
              "..      ...                                 ...\n",
              "56   employ                             [trust]\n",
              "57    shame  [disgust, fear, negative, sadness]\n",
              "58    idiot                 [disgust, negative]\n",
              "59  impress                          [positive]\n",
              "60    fever                              [fear]\n",
              "\n",
              "[61 rows x 2 columns]"
            ]
          },
          "metadata": {
            "tags": []
          },
          "execution_count": 41
        }
      ]
    },
    {
      "cell_type": "code",
      "metadata": {
        "id": "6lQSZbRP-LJK",
        "colab": {
          "base_uri": "https://localhost:8080/",
          "height": 407
        },
        "outputId": "ec564421-5e71-4115-af24-3a46431ba6f5"
      },
      "source": [
        "for y in sentiment:\n",
        "    sentiment_words[y] = 9\n",
        "sentiment_words"
      ],
      "execution_count": 42,
      "outputs": [
        {
          "output_type": "execute_result",
          "data": {
            "text/html": [
              "<div>\n",
              "<style scoped>\n",
              "    .dataframe tbody tr th:only-of-type {\n",
              "        vertical-align: middle;\n",
              "    }\n",
              "\n",
              "    .dataframe tbody tr th {\n",
              "        vertical-align: top;\n",
              "    }\n",
              "\n",
              "    .dataframe thead th {\n",
              "        text-align: right;\n",
              "    }\n",
              "</style>\n",
              "<table border=\"1\" class=\"dataframe\">\n",
              "  <thead>\n",
              "    <tr style=\"text-align: right;\">\n",
              "      <th></th>\n",
              "      <th>words</th>\n",
              "      <th>sentiments</th>\n",
              "      <th>positive</th>\n",
              "      <th>anticipation</th>\n",
              "      <th>joy</th>\n",
              "      <th>trust</th>\n",
              "      <th>anger</th>\n",
              "      <th>fear</th>\n",
              "      <th>negative</th>\n",
              "      <th>sadness</th>\n",
              "      <th>surprise</th>\n",
              "      <th>disgust</th>\n",
              "    </tr>\n",
              "  </thead>\n",
              "  <tbody>\n",
              "    <tr>\n",
              "      <th>0</th>\n",
              "      <td>extend</td>\n",
              "      <td>[positive]</td>\n",
              "      <td>9</td>\n",
              "      <td>9</td>\n",
              "      <td>9</td>\n",
              "      <td>9</td>\n",
              "      <td>9</td>\n",
              "      <td>9</td>\n",
              "      <td>9</td>\n",
              "      <td>9</td>\n",
              "      <td>9</td>\n",
              "      <td>9</td>\n",
              "    </tr>\n",
              "    <tr>\n",
              "      <th>1</th>\n",
              "      <td>gradual</td>\n",
              "      <td>[anticipation]</td>\n",
              "      <td>9</td>\n",
              "      <td>9</td>\n",
              "      <td>9</td>\n",
              "      <td>9</td>\n",
              "      <td>9</td>\n",
              "      <td>9</td>\n",
              "      <td>9</td>\n",
              "      <td>9</td>\n",
              "      <td>9</td>\n",
              "      <td>9</td>\n",
              "    </tr>\n",
              "    <tr>\n",
              "      <th>2</th>\n",
              "      <td>freedom</td>\n",
              "      <td>[joy, positive, trust]</td>\n",
              "      <td>9</td>\n",
              "      <td>9</td>\n",
              "      <td>9</td>\n",
              "      <td>9</td>\n",
              "      <td>9</td>\n",
              "      <td>9</td>\n",
              "      <td>9</td>\n",
              "      <td>9</td>\n",
              "      <td>9</td>\n",
              "      <td>9</td>\n",
              "    </tr>\n",
              "    <tr>\n",
              "      <th>3</th>\n",
              "      <td>top</td>\n",
              "      <td>[anticipation, positive, trust]</td>\n",
              "      <td>9</td>\n",
              "      <td>9</td>\n",
              "      <td>9</td>\n",
              "      <td>9</td>\n",
              "      <td>9</td>\n",
              "      <td>9</td>\n",
              "      <td>9</td>\n",
              "      <td>9</td>\n",
              "      <td>9</td>\n",
              "      <td>9</td>\n",
              "    </tr>\n",
              "    <tr>\n",
              "      <th>4</th>\n",
              "      <td>protect</td>\n",
              "      <td>[positive]</td>\n",
              "      <td>9</td>\n",
              "      <td>9</td>\n",
              "      <td>9</td>\n",
              "      <td>9</td>\n",
              "      <td>9</td>\n",
              "      <td>9</td>\n",
              "      <td>9</td>\n",
              "      <td>9</td>\n",
              "      <td>9</td>\n",
              "      <td>9</td>\n",
              "    </tr>\n",
              "    <tr>\n",
              "      <th>...</th>\n",
              "      <td>...</td>\n",
              "      <td>...</td>\n",
              "      <td>...</td>\n",
              "      <td>...</td>\n",
              "      <td>...</td>\n",
              "      <td>...</td>\n",
              "      <td>...</td>\n",
              "      <td>...</td>\n",
              "      <td>...</td>\n",
              "      <td>...</td>\n",
              "      <td>...</td>\n",
              "      <td>...</td>\n",
              "    </tr>\n",
              "    <tr>\n",
              "      <th>56</th>\n",
              "      <td>employ</td>\n",
              "      <td>[trust]</td>\n",
              "      <td>9</td>\n",
              "      <td>9</td>\n",
              "      <td>9</td>\n",
              "      <td>9</td>\n",
              "      <td>9</td>\n",
              "      <td>9</td>\n",
              "      <td>9</td>\n",
              "      <td>9</td>\n",
              "      <td>9</td>\n",
              "      <td>9</td>\n",
              "    </tr>\n",
              "    <tr>\n",
              "      <th>57</th>\n",
              "      <td>shame</td>\n",
              "      <td>[disgust, fear, negative, sadness]</td>\n",
              "      <td>9</td>\n",
              "      <td>9</td>\n",
              "      <td>9</td>\n",
              "      <td>9</td>\n",
              "      <td>9</td>\n",
              "      <td>9</td>\n",
              "      <td>9</td>\n",
              "      <td>9</td>\n",
              "      <td>9</td>\n",
              "      <td>9</td>\n",
              "    </tr>\n",
              "    <tr>\n",
              "      <th>58</th>\n",
              "      <td>idiot</td>\n",
              "      <td>[disgust, negative]</td>\n",
              "      <td>9</td>\n",
              "      <td>9</td>\n",
              "      <td>9</td>\n",
              "      <td>9</td>\n",
              "      <td>9</td>\n",
              "      <td>9</td>\n",
              "      <td>9</td>\n",
              "      <td>9</td>\n",
              "      <td>9</td>\n",
              "      <td>9</td>\n",
              "    </tr>\n",
              "    <tr>\n",
              "      <th>59</th>\n",
              "      <td>impress</td>\n",
              "      <td>[positive]</td>\n",
              "      <td>9</td>\n",
              "      <td>9</td>\n",
              "      <td>9</td>\n",
              "      <td>9</td>\n",
              "      <td>9</td>\n",
              "      <td>9</td>\n",
              "      <td>9</td>\n",
              "      <td>9</td>\n",
              "      <td>9</td>\n",
              "      <td>9</td>\n",
              "    </tr>\n",
              "    <tr>\n",
              "      <th>60</th>\n",
              "      <td>fever</td>\n",
              "      <td>[fear]</td>\n",
              "      <td>9</td>\n",
              "      <td>9</td>\n",
              "      <td>9</td>\n",
              "      <td>9</td>\n",
              "      <td>9</td>\n",
              "      <td>9</td>\n",
              "      <td>9</td>\n",
              "      <td>9</td>\n",
              "      <td>9</td>\n",
              "      <td>9</td>\n",
              "    </tr>\n",
              "  </tbody>\n",
              "</table>\n",
              "<p>61 rows × 12 columns</p>\n",
              "</div>"
            ],
            "text/plain": [
              "      words                          sentiments  ...  surprise  disgust\n",
              "0    extend                          [positive]  ...         9        9\n",
              "1   gradual                      [anticipation]  ...         9        9\n",
              "2   freedom              [joy, positive, trust]  ...         9        9\n",
              "3       top     [anticipation, positive, trust]  ...         9        9\n",
              "4   protect                          [positive]  ...         9        9\n",
              "..      ...                                 ...  ...       ...      ...\n",
              "56   employ                             [trust]  ...         9        9\n",
              "57    shame  [disgust, fear, negative, sadness]  ...         9        9\n",
              "58    idiot                 [disgust, negative]  ...         9        9\n",
              "59  impress                          [positive]  ...         9        9\n",
              "60    fever                              [fear]  ...         9        9\n",
              "\n",
              "[61 rows x 12 columns]"
            ]
          },
          "metadata": {
            "tags": []
          },
          "execution_count": 42
        }
      ]
    },
    {
      "cell_type": "code",
      "metadata": {
        "id": "ZkIKlts_7Vxs",
        "colab": {
          "base_uri": "https://localhost:8080/",
          "height": 525
        },
        "outputId": "e0368654-c1f1-4ecd-9b05-7b027d09e3f5"
      },
      "source": [
        "a=0\n",
        "for i in sentiment_words['sentiments']: \n",
        "    for y in sentiment:\n",
        "        sentiment_words[y][a] = int(y in i)\n",
        "    a=a+1\n",
        "\n",
        "sentiment_words.tail(11)"
      ],
      "execution_count": 43,
      "outputs": [
        {
          "output_type": "stream",
          "text": [
            "/usr/local/lib/python3.7/dist-packages/ipykernel_launcher.py:4: SettingWithCopyWarning:\n",
            "\n",
            "\n",
            "A value is trying to be set on a copy of a slice from a DataFrame\n",
            "\n",
            "See the caveats in the documentation: https://pandas.pydata.org/pandas-docs/stable/user_guide/indexing.html#returning-a-view-versus-a-copy\n",
            "\n"
          ],
          "name": "stderr"
        },
        {
          "output_type": "execute_result",
          "data": {
            "text/html": [
              "<div>\n",
              "<style scoped>\n",
              "    .dataframe tbody tr th:only-of-type {\n",
              "        vertical-align: middle;\n",
              "    }\n",
              "\n",
              "    .dataframe tbody tr th {\n",
              "        vertical-align: top;\n",
              "    }\n",
              "\n",
              "    .dataframe thead th {\n",
              "        text-align: right;\n",
              "    }\n",
              "</style>\n",
              "<table border=\"1\" class=\"dataframe\">\n",
              "  <thead>\n",
              "    <tr style=\"text-align: right;\">\n",
              "      <th></th>\n",
              "      <th>words</th>\n",
              "      <th>sentiments</th>\n",
              "      <th>positive</th>\n",
              "      <th>anticipation</th>\n",
              "      <th>joy</th>\n",
              "      <th>trust</th>\n",
              "      <th>anger</th>\n",
              "      <th>fear</th>\n",
              "      <th>negative</th>\n",
              "      <th>sadness</th>\n",
              "      <th>surprise</th>\n",
              "      <th>disgust</th>\n",
              "    </tr>\n",
              "  </thead>\n",
              "  <tbody>\n",
              "    <tr>\n",
              "      <th>50</th>\n",
              "      <td>friend</td>\n",
              "      <td>[joy, positive, trust]</td>\n",
              "      <td>1</td>\n",
              "      <td>0</td>\n",
              "      <td>1</td>\n",
              "      <td>1</td>\n",
              "      <td>0</td>\n",
              "      <td>0</td>\n",
              "      <td>0</td>\n",
              "      <td>0</td>\n",
              "      <td>0</td>\n",
              "      <td>0</td>\n",
              "    </tr>\n",
              "    <tr>\n",
              "      <th>51</th>\n",
              "      <td>hero</td>\n",
              "      <td>[anticipation, joy, positive, surprise, trust]</td>\n",
              "      <td>1</td>\n",
              "      <td>1</td>\n",
              "      <td>1</td>\n",
              "      <td>1</td>\n",
              "      <td>0</td>\n",
              "      <td>0</td>\n",
              "      <td>0</td>\n",
              "      <td>0</td>\n",
              "      <td>1</td>\n",
              "      <td>0</td>\n",
              "    </tr>\n",
              "    <tr>\n",
              "      <th>52</th>\n",
              "      <td>cheer</td>\n",
              "      <td>[anticipation, joy, positive, surprise, trust]</td>\n",
              "      <td>1</td>\n",
              "      <td>1</td>\n",
              "      <td>1</td>\n",
              "      <td>1</td>\n",
              "      <td>0</td>\n",
              "      <td>0</td>\n",
              "      <td>0</td>\n",
              "      <td>0</td>\n",
              "      <td>1</td>\n",
              "      <td>0</td>\n",
              "    </tr>\n",
              "    <tr>\n",
              "      <th>53</th>\n",
              "      <td>contact</td>\n",
              "      <td>[positive]</td>\n",
              "      <td>1</td>\n",
              "      <td>0</td>\n",
              "      <td>0</td>\n",
              "      <td>0</td>\n",
              "      <td>0</td>\n",
              "      <td>0</td>\n",
              "      <td>0</td>\n",
              "      <td>0</td>\n",
              "      <td>0</td>\n",
              "      <td>0</td>\n",
              "    </tr>\n",
              "    <tr>\n",
              "      <th>54</th>\n",
              "      <td>guard</td>\n",
              "      <td>[fear, positive, trust]</td>\n",
              "      <td>1</td>\n",
              "      <td>0</td>\n",
              "      <td>0</td>\n",
              "      <td>1</td>\n",
              "      <td>0</td>\n",
              "      <td>1</td>\n",
              "      <td>0</td>\n",
              "      <td>0</td>\n",
              "      <td>0</td>\n",
              "      <td>0</td>\n",
              "    </tr>\n",
              "    <tr>\n",
              "      <th>55</th>\n",
              "      <td>comfort</td>\n",
              "      <td>[anticipation, joy, positive, trust]</td>\n",
              "      <td>1</td>\n",
              "      <td>1</td>\n",
              "      <td>1</td>\n",
              "      <td>1</td>\n",
              "      <td>0</td>\n",
              "      <td>0</td>\n",
              "      <td>0</td>\n",
              "      <td>0</td>\n",
              "      <td>0</td>\n",
              "      <td>0</td>\n",
              "    </tr>\n",
              "    <tr>\n",
              "      <th>56</th>\n",
              "      <td>employ</td>\n",
              "      <td>[trust]</td>\n",
              "      <td>0</td>\n",
              "      <td>0</td>\n",
              "      <td>0</td>\n",
              "      <td>1</td>\n",
              "      <td>0</td>\n",
              "      <td>0</td>\n",
              "      <td>0</td>\n",
              "      <td>0</td>\n",
              "      <td>0</td>\n",
              "      <td>0</td>\n",
              "    </tr>\n",
              "    <tr>\n",
              "      <th>57</th>\n",
              "      <td>shame</td>\n",
              "      <td>[disgust, fear, negative, sadness]</td>\n",
              "      <td>0</td>\n",
              "      <td>0</td>\n",
              "      <td>0</td>\n",
              "      <td>0</td>\n",
              "      <td>0</td>\n",
              "      <td>1</td>\n",
              "      <td>1</td>\n",
              "      <td>1</td>\n",
              "      <td>0</td>\n",
              "      <td>1</td>\n",
              "    </tr>\n",
              "    <tr>\n",
              "      <th>58</th>\n",
              "      <td>idiot</td>\n",
              "      <td>[disgust, negative]</td>\n",
              "      <td>0</td>\n",
              "      <td>0</td>\n",
              "      <td>0</td>\n",
              "      <td>0</td>\n",
              "      <td>0</td>\n",
              "      <td>0</td>\n",
              "      <td>1</td>\n",
              "      <td>0</td>\n",
              "      <td>0</td>\n",
              "      <td>1</td>\n",
              "    </tr>\n",
              "    <tr>\n",
              "      <th>59</th>\n",
              "      <td>impress</td>\n",
              "      <td>[positive]</td>\n",
              "      <td>1</td>\n",
              "      <td>0</td>\n",
              "      <td>0</td>\n",
              "      <td>0</td>\n",
              "      <td>0</td>\n",
              "      <td>0</td>\n",
              "      <td>0</td>\n",
              "      <td>0</td>\n",
              "      <td>0</td>\n",
              "      <td>0</td>\n",
              "    </tr>\n",
              "    <tr>\n",
              "      <th>60</th>\n",
              "      <td>fever</td>\n",
              "      <td>[fear]</td>\n",
              "      <td>0</td>\n",
              "      <td>0</td>\n",
              "      <td>0</td>\n",
              "      <td>0</td>\n",
              "      <td>0</td>\n",
              "      <td>1</td>\n",
              "      <td>0</td>\n",
              "      <td>0</td>\n",
              "      <td>0</td>\n",
              "      <td>0</td>\n",
              "    </tr>\n",
              "  </tbody>\n",
              "</table>\n",
              "</div>"
            ],
            "text/plain": [
              "      words                                      sentiments  ...  surprise  disgust\n",
              "50   friend                          [joy, positive, trust]  ...         0        0\n",
              "51     hero  [anticipation, joy, positive, surprise, trust]  ...         1        0\n",
              "52    cheer  [anticipation, joy, positive, surprise, trust]  ...         1        0\n",
              "53  contact                                      [positive]  ...         0        0\n",
              "54    guard                         [fear, positive, trust]  ...         0        0\n",
              "55  comfort            [anticipation, joy, positive, trust]  ...         0        0\n",
              "56   employ                                         [trust]  ...         0        0\n",
              "57    shame              [disgust, fear, negative, sadness]  ...         0        1\n",
              "58    idiot                             [disgust, negative]  ...         0        1\n",
              "59  impress                                      [positive]  ...         0        0\n",
              "60    fever                                          [fear]  ...         0        0\n",
              "\n",
              "[11 rows x 12 columns]"
            ]
          },
          "metadata": {
            "tags": []
          },
          "execution_count": 43
        }
      ]
    },
    {
      "cell_type": "markdown",
      "metadata": {
        "id": "Pe57nLPtUEJ6"
      },
      "source": [
        "**Entity Recognition**"
      ]
    },
    {
      "cell_type": "code",
      "metadata": {
        "id": "pll3aEt7UDiK",
        "colab": {
          "base_uri": "https://localhost:8080/",
          "height": 509
        },
        "outputId": "2fdc8e6d-a352-4eed-e855-4421b46c0847"
      },
      "source": [
        "nairobi_df3.head()"
      ],
      "execution_count": 44,
      "outputs": [
        {
          "output_type": "execute_result",
          "data": {
            "text/html": [
              "<div>\n",
              "<style scoped>\n",
              "    .dataframe tbody tr th:only-of-type {\n",
              "        vertical-align: middle;\n",
              "    }\n",
              "\n",
              "    .dataframe tbody tr th {\n",
              "        vertical-align: top;\n",
              "    }\n",
              "\n",
              "    .dataframe thead th {\n",
              "        text-align: right;\n",
              "    }\n",
              "</style>\n",
              "<table border=\"1\" class=\"dataframe\">\n",
              "  <thead>\n",
              "    <tr style=\"text-align: right;\">\n",
              "      <th></th>\n",
              "      <th>Unnamed: 0</th>\n",
              "      <th>unnamed: 0</th>\n",
              "      <th>unnamed: 0.1</th>\n",
              "      <th>datetime</th>\n",
              "      <th>text</th>\n",
              "      <th>retweets</th>\n",
              "      <th>likes</th>\n",
              "      <th>text_without_stopwords</th>\n",
              "      <th>text_list</th>\n",
              "      <th>text_stem</th>\n",
              "    </tr>\n",
              "  </thead>\n",
              "  <tbody>\n",
              "    <tr>\n",
              "      <th>0</th>\n",
              "      <td>0</td>\n",
              "      <td>0</td>\n",
              "      <td>0</td>\n",
              "      <td>2020-06-06 19:28:03+00:00</td>\n",
              "      <td>mmetukosea sana sasa ningeenda hadi pahali gar...</td>\n",
              "      <td>0</td>\n",
              "      <td>2</td>\n",
              "      <td>['mmetukosea', 'sana', 'sasa', 'ningeenda', 'h...</td>\n",
              "      <td>[mmetukosea, sana, sasa, ningeenda, hadi, paha...</td>\n",
              "      <td>[\"['mmetukosea\", 'sana', 'sasa', 'ningeenda', ...</td>\n",
              "    </tr>\n",
              "    <tr>\n",
              "      <th>1</th>\n",
              "      <td>1</td>\n",
              "      <td>1</td>\n",
              "      <td>1</td>\n",
              "      <td>2020-06-06 13:25:27+00:00</td>\n",
              "      <td>cant wait 🥰🥰  blacklivesmatter curfewinkenya w...</td>\n",
              "      <td>1</td>\n",
              "      <td>10</td>\n",
              "      <td>['cant', 'wait', '🥰🥰', 'blacklivesmatter', 'cu...</td>\n",
              "      <td>[cant, wait, 🥰🥰, blacklivesmatter, curfewinken...</td>\n",
              "      <td>[\"['cant\", 'wait', '🥰🥰', 'blacklivesmatt', 'cu...</td>\n",
              "    </tr>\n",
              "    <tr>\n",
              "      <th>2</th>\n",
              "      <td>2</td>\n",
              "      <td>2</td>\n",
              "      <td>2</td>\n",
              "      <td>2020-06-06 13:24:27+00:00</td>\n",
              "      <td>wakenya hawachoki na meme za uhuru😂😂 uhurukeny...</td>\n",
              "      <td>1</td>\n",
              "      <td>4</td>\n",
              "      <td>['wakenya', 'hawachoki', 'na', 'meme', 'za', '...</td>\n",
              "      <td>[wakenya, hawachoki, na, meme, za, uhuru😂😂, uh...</td>\n",
              "      <td>[\"['wakenya\", 'hawachoki', 'na', 'meme', 'za',...</td>\n",
              "    </tr>\n",
              "    <tr>\n",
              "      <th>3</th>\n",
              "      <td>3</td>\n",
              "      <td>3</td>\n",
              "      <td>3</td>\n",
              "      <td>2020-06-06 13:03:01+00:00</td>\n",
              "      <td>fellow kenyans uhuruspeaks uhuruaddress</td>\n",
              "      <td>0</td>\n",
              "      <td>1</td>\n",
              "      <td>['fellow', 'kenyans', 'uhuruspeaks', 'uhuruadd...</td>\n",
              "      <td>[fellow, kenyans, uhuruspeaks, uhuruaddress]</td>\n",
              "      <td>[\"['fellow\", 'kenyan', 'uhuruspeak', \"uhuruadd...</td>\n",
              "    </tr>\n",
              "    <tr>\n",
              "      <th>4</th>\n",
              "      <td>4</td>\n",
              "      <td>4</td>\n",
              "      <td>4</td>\n",
              "      <td>2020-06-06 13:02:49+00:00</td>\n",
              "      <td>uhurukenyatta cessation of movement in nairobi...</td>\n",
              "      <td>0</td>\n",
              "      <td>2</td>\n",
              "      <td>['uhurukenyatta', 'cessation', 'movement', 'na...</td>\n",
              "      <td>[uhurukenyatta, cessation, of, movement, in, n...</td>\n",
              "      <td>[\"['uhurukenyatta\", 'cessat', 'movement', 'nai...</td>\n",
              "    </tr>\n",
              "  </tbody>\n",
              "</table>\n",
              "</div>"
            ],
            "text/plain": [
              "   Unnamed: 0  ...                                          text_stem\n",
              "0           0  ...  [\"['mmetukosea\", 'sana', 'sasa', 'ningeenda', ...\n",
              "1           1  ...  [\"['cant\", 'wait', '🥰🥰', 'blacklivesmatt', 'cu...\n",
              "2           2  ...  [\"['wakenya\", 'hawachoki', 'na', 'meme', 'za',...\n",
              "3           3  ...  [\"['fellow\", 'kenyan', 'uhuruspeak', \"uhuruadd...\n",
              "4           4  ...  [\"['uhurukenyatta\", 'cessat', 'movement', 'nai...\n",
              "\n",
              "[5 rows x 10 columns]"
            ]
          },
          "metadata": {
            "tags": []
          },
          "execution_count": 44
        }
      ]
    },
    {
      "cell_type": "code",
      "metadata": {
        "id": "EWgzzNbrU97k",
        "colab": {
          "base_uri": "https://localhost:8080/",
          "height": 805
        },
        "outputId": "b1e9c7ad-2f3f-41dd-d8e3-07d7fa097143"
      },
      "source": [
        "#Dropping the unnamed columns\n",
        "\n",
        "nairobi_df3.drop(['Unnamed: 0', 'Unnamed: 0', 'unnamed: 0.1'], axis=1)\n"
      ],
      "execution_count": 45,
      "outputs": [
        {
          "output_type": "execute_result",
          "data": {
            "text/html": [
              "<div>\n",
              "<style scoped>\n",
              "    .dataframe tbody tr th:only-of-type {\n",
              "        vertical-align: middle;\n",
              "    }\n",
              "\n",
              "    .dataframe tbody tr th {\n",
              "        vertical-align: top;\n",
              "    }\n",
              "\n",
              "    .dataframe thead th {\n",
              "        text-align: right;\n",
              "    }\n",
              "</style>\n",
              "<table border=\"1\" class=\"dataframe\">\n",
              "  <thead>\n",
              "    <tr style=\"text-align: right;\">\n",
              "      <th></th>\n",
              "      <th>unnamed: 0</th>\n",
              "      <th>datetime</th>\n",
              "      <th>text</th>\n",
              "      <th>retweets</th>\n",
              "      <th>likes</th>\n",
              "      <th>text_without_stopwords</th>\n",
              "      <th>text_list</th>\n",
              "      <th>text_stem</th>\n",
              "    </tr>\n",
              "  </thead>\n",
              "  <tbody>\n",
              "    <tr>\n",
              "      <th>0</th>\n",
              "      <td>0</td>\n",
              "      <td>2020-06-06 19:28:03+00:00</td>\n",
              "      <td>mmetukosea sana sasa ningeenda hadi pahali gar...</td>\n",
              "      <td>0</td>\n",
              "      <td>2</td>\n",
              "      <td>['mmetukosea', 'sana', 'sasa', 'ningeenda', 'h...</td>\n",
              "      <td>[mmetukosea, sana, sasa, ningeenda, hadi, paha...</td>\n",
              "      <td>[\"['mmetukosea\", 'sana', 'sasa', 'ningeenda', ...</td>\n",
              "    </tr>\n",
              "    <tr>\n",
              "      <th>1</th>\n",
              "      <td>1</td>\n",
              "      <td>2020-06-06 13:25:27+00:00</td>\n",
              "      <td>cant wait 🥰🥰  blacklivesmatter curfewinkenya w...</td>\n",
              "      <td>1</td>\n",
              "      <td>10</td>\n",
              "      <td>['cant', 'wait', '🥰🥰', 'blacklivesmatter', 'cu...</td>\n",
              "      <td>[cant, wait, 🥰🥰, blacklivesmatter, curfewinken...</td>\n",
              "      <td>[\"['cant\", 'wait', '🥰🥰', 'blacklivesmatt', 'cu...</td>\n",
              "    </tr>\n",
              "    <tr>\n",
              "      <th>2</th>\n",
              "      <td>2</td>\n",
              "      <td>2020-06-06 13:24:27+00:00</td>\n",
              "      <td>wakenya hawachoki na meme za uhuru😂😂 uhurukeny...</td>\n",
              "      <td>1</td>\n",
              "      <td>4</td>\n",
              "      <td>['wakenya', 'hawachoki', 'na', 'meme', 'za', '...</td>\n",
              "      <td>[wakenya, hawachoki, na, meme, za, uhuru😂😂, uh...</td>\n",
              "      <td>[\"['wakenya\", 'hawachoki', 'na', 'meme', 'za',...</td>\n",
              "    </tr>\n",
              "    <tr>\n",
              "      <th>3</th>\n",
              "      <td>3</td>\n",
              "      <td>2020-06-06 13:03:01+00:00</td>\n",
              "      <td>fellow kenyans uhuruspeaks uhuruaddress</td>\n",
              "      <td>0</td>\n",
              "      <td>1</td>\n",
              "      <td>['fellow', 'kenyans', 'uhuruspeaks', 'uhuruadd...</td>\n",
              "      <td>[fellow, kenyans, uhuruspeaks, uhuruaddress]</td>\n",
              "      <td>[\"['fellow\", 'kenyan', 'uhuruspeak', \"uhuruadd...</td>\n",
              "    </tr>\n",
              "    <tr>\n",
              "      <th>4</th>\n",
              "      <td>4</td>\n",
              "      <td>2020-06-06 13:02:49+00:00</td>\n",
              "      <td>uhurukenyatta cessation of movement in nairobi...</td>\n",
              "      <td>0</td>\n",
              "      <td>2</td>\n",
              "      <td>['uhurukenyatta', 'cessation', 'movement', 'na...</td>\n",
              "      <td>[uhurukenyatta, cessation, of, movement, in, n...</td>\n",
              "      <td>[\"['uhurukenyatta\", 'cessat', 'movement', 'nai...</td>\n",
              "    </tr>\n",
              "    <tr>\n",
              "      <th>...</th>\n",
              "      <td>...</td>\n",
              "      <td>...</td>\n",
              "      <td>...</td>\n",
              "      <td>...</td>\n",
              "      <td>...</td>\n",
              "      <td>...</td>\n",
              "      <td>...</td>\n",
              "      <td>...</td>\n",
              "    </tr>\n",
              "    <tr>\n",
              "      <th>4168</th>\n",
              "      <td>36</td>\n",
              "      <td>2020-05-29 06:34:32+00:00</td>\n",
              "      <td>theres nothing like making a tough choice when...</td>\n",
              "      <td>0</td>\n",
              "      <td>0</td>\n",
              "      <td>['theres', 'nothing', 'like', 'making', 'tough...</td>\n",
              "      <td>[theres, nothing, like, making, a, tough, choi...</td>\n",
              "      <td>[\"['there\", 'noth', 'like', 'make', 'tough', '...</td>\n",
              "    </tr>\n",
              "    <tr>\n",
              "      <th>4169</th>\n",
              "      <td>37</td>\n",
              "      <td>2020-05-29 06:20:25+00:00</td>\n",
              "      <td>president uhuru kenyatta made it clear thats t...</td>\n",
              "      <td>0</td>\n",
              "      <td>2</td>\n",
              "      <td>['president', 'uhuru', 'kenyatta', 'made', 'cl...</td>\n",
              "      <td>[president, uhuru, kenyatta, made, it, clear, ...</td>\n",
              "      <td>[\"['presid\", 'uhuru', 'kenyatta', 'made', 'cle...</td>\n",
              "    </tr>\n",
              "    <tr>\n",
              "      <th>4170</th>\n",
              "      <td>38</td>\n",
              "      <td>2020-05-29 06:03:22+00:00</td>\n",
              "      <td>uhurustoughchoices mlisema huyu ni mtoto wa na...</td>\n",
              "      <td>0</td>\n",
              "      <td>0</td>\n",
              "      <td>['uhurustoughchoices', 'mlisema', 'huyu', 'ni'...</td>\n",
              "      <td>[uhurustoughchoices, mlisema, huyu, ni, mtoto,...</td>\n",
              "      <td>[\"['uhurustoughchoic\", 'mlisema', 'huyu', 'ni'...</td>\n",
              "    </tr>\n",
              "    <tr>\n",
              "      <th>4171</th>\n",
              "      <td>39</td>\n",
              "      <td>2020-05-29 05:19:20+00:00</td>\n",
              "      <td>among other tough choices uhuru must make is g...</td>\n",
              "      <td>3</td>\n",
              "      <td>4</td>\n",
              "      <td>['among', 'tough', 'choices', 'uhuru', 'must',...</td>\n",
              "      <td>[among, other, tough, choices, uhuru, must, ma...</td>\n",
              "      <td>[\"['among\", 'tough', 'choic', 'uhuru', 'must',...</td>\n",
              "    </tr>\n",
              "    <tr>\n",
              "      <th>4172</th>\n",
              "      <td>40</td>\n",
              "      <td>2020-05-27 18:59:53+00:00</td>\n",
              "      <td>pandemic perforated pockets plunging economy p...</td>\n",
              "      <td>1</td>\n",
              "      <td>6</td>\n",
              "      <td>['pandemic', 'perforated', 'pockets', 'plungin...</td>\n",
              "      <td>[pandemic, perforated, pockets, plunging, econ...</td>\n",
              "      <td>[\"['pandem\", 'perfor', 'pocket', 'plung', 'eco...</td>\n",
              "    </tr>\n",
              "  </tbody>\n",
              "</table>\n",
              "<p>4173 rows × 8 columns</p>\n",
              "</div>"
            ],
            "text/plain": [
              "      unnamed: 0  ...                                          text_stem\n",
              "0              0  ...  [\"['mmetukosea\", 'sana', 'sasa', 'ningeenda', ...\n",
              "1              1  ...  [\"['cant\", 'wait', '🥰🥰', 'blacklivesmatt', 'cu...\n",
              "2              2  ...  [\"['wakenya\", 'hawachoki', 'na', 'meme', 'za',...\n",
              "3              3  ...  [\"['fellow\", 'kenyan', 'uhuruspeak', \"uhuruadd...\n",
              "4              4  ...  [\"['uhurukenyatta\", 'cessat', 'movement', 'nai...\n",
              "...          ...  ...                                                ...\n",
              "4168          36  ...  [\"['there\", 'noth', 'like', 'make', 'tough', '...\n",
              "4169          37  ...  [\"['presid\", 'uhuru', 'kenyatta', 'made', 'cle...\n",
              "4170          38  ...  [\"['uhurustoughchoic\", 'mlisema', 'huyu', 'ni'...\n",
              "4171          39  ...  [\"['among\", 'tough', 'choic', 'uhuru', 'must',...\n",
              "4172          40  ...  [\"['pandem\", 'perfor', 'pocket', 'plung', 'eco...\n",
              "\n",
              "[4173 rows x 8 columns]"
            ]
          },
          "metadata": {
            "tags": []
          },
          "execution_count": 45
        }
      ]
    },
    {
      "cell_type": "code",
      "metadata": {
        "id": "OV10JSs2Vakq",
        "colab": {
          "base_uri": "https://localhost:8080/"
        },
        "outputId": "cbf51813-f01b-4758-f10f-55b152a8c915"
      },
      "source": [
        "# remove duplicate claims (Not really needed since dropped already)\n",
        "words = nairobi_df3.text_stem.unique()\n",
        "\n",
        "# NER list we'll use - Perhaps could be expanded?\n",
        "nlp = spacy.load('en_core_web_sm')\n",
        "\n",
        "# intialize claim counter & lists for our entities\n",
        "coocur_edges = {}\n",
        "\n",
        "print('Number of stemmed words: ', len(words))"
      ],
      "execution_count": 46,
      "outputs": [
        {
          "output_type": "stream",
          "text": [
            "Number of stemmed words:  4010\n"
          ],
          "name": "stdout"
        }
      ]
    },
    {
      "cell_type": "code",
      "metadata": {
        "id": "mB44Jj2BWjE2",
        "colab": {
          "base_uri": "https://localhost:8080/"
        },
        "outputId": "27822074-f489-44d1-e794-7befe058620d"
      },
      "source": [
        "# Lets look at the first few lines of stemmed texts, along with the ents identified\n",
        "\n",
        "for doc in nlp.pipe(words[:5]):\n",
        "    print(doc)\n",
        "    print(list(doc.ents))\n",
        "    print('\\n')"
      ],
      "execution_count": 47,
      "outputs": [
        {
          "output_type": "stream",
          "text": [
            "[\"['mmetukosea\", 'sana', 'sasa', 'ningeenda', 'hadi', 'pahali', 'gari', 'itaishia', 'mafuta', 'stuck', 'anoth', 'mkikutana', 'tafadhali', 'mkuje', 'na', 'kila', 'mtu', 'kitanda', 'yake', '’', 'treat', 'nomare', '’', 'treat', 'us', 'abunomare', \"uhuruaddress',\", \"'mmetukosea\", 'sana', 'sasa', 'ningeenda', 'hadi', 'pahali', 'gari', 'itaishia', 'mafuta', 'stuck', 'anoth', 'mkikutana', 'tafadhali', 'mkuje', 'na', 'kila', 'mtu', 'kitanda', 'yake', '’', 'treat', 'nomare', '’', 'treat', 'us', 'abunomare', \"uhuruaddress',\", \"'mmetukosea\", 'sana', 'sasa', 'ningeenda', 'hadi', 'pahali', 'gari', 'itaishia', 'mafuta', 'stuck', 'anoth', 'mkikutana', 'tafadhali', 'mkuje', 'na', 'kila', 'mtu', 'kitanda', 'yake', '’', 'treat', 'nomare', '’', 'treat', 'us', 'abunomare', \"uhuruaddress',\", \"'mmetukosea\", 'sana', 'sasa', 'ningeenda', 'hadi', 'pahali', 'gari', 'itaishia', 'mafuta', 'stuck', 'anoth', 'mkikutana', 'tafadhali', 'mkuje', 'na', 'kila', 'mtu', 'kitanda', 'yake', '’', 'treat', 'nomare', '’', 'treat', 'us', 'abunomare', \"uhuruaddress',\", \"'mmetukosea\", 'sana', 'sasa', 'ningeenda', 'hadi', 'pahali', 'gari', 'itaishia', 'mafuta', 'stuck', 'anoth', 'mkikutana', 'tafadhali', 'mkuje', 'na', 'kila', 'mtu', 'kitanda', 'yake', '’', 'treat', 'nomare', '’', 'treat', 'us', 'abunomare', \"uhuruaddress',\", \"'mmetukosea\", 'sana', 'sasa', 'ningeenda', 'hadi', 'pahali', 'gari', 'itaishia', 'mafuta', 'stuck', 'anoth', 'mkikutana', 'tafadhali', 'mkuje', 'na', 'kila', 'mtu', 'kitanda', 'yake', '’', 'treat', 'nomare', '’', 'treat', 'us', 'abunomare', \"uhuruaddress',\", \"'mmetukosea\", 'sana', 'sasa', 'ningeenda', 'hadi', 'pahali', 'gari', 'itaishia', 'mafuta', 'stuck', 'anoth', 'mkikutana', 'tafadhali', 'mkuje', 'na', 'kila', 'mtu', 'kitanda', 'yake', '’', 'treat', 'nomare', '’', 'treat', 'us', 'abunomare', \"uhuruaddress',\", \"'mmetukosea\", 'sana', 'sasa', 'ningeenda', 'hadi', 'pahali', 'gari', 'itaishia', 'mafuta', 'stuck', 'anoth', 'mkikutana', 'tafadhali', 'mkuje', 'na', 'kila', 'mtu', 'kitanda', 'yake', '’', 'treat', 'nomare', '’', 'treat', 'us', 'abunomare', \"uhuruaddress',\", \"'mmetukosea\", 'sana', 'sasa', 'ningeenda', 'hadi', 'pahali', 'gari', 'itaishia', 'mafuta', 'stuck', 'anoth', 'mkikutana', 'tafadhali', 'mkuje', 'na', 'kila', 'mtu', 'kitanda', 'yake', '’', 'treat', 'nomare', '’', 'treat', 'us', 'abunomare', \"uhuruaddress',\", \"'mmetukosea\", 'sana', 'sasa', 'ningeenda', 'hadi', 'pahali', 'gari', 'itaishia', 'mafuta', 'stuck', 'anoth', 'mkikutana', 'tafadhali', 'mkuje', 'na', 'kila', 'mtu', 'kitanda', 'yake', '’', 'treat', 'nomare', '’', 'treat', 'us', 'abunomare', \"uhuruaddress',\", \"'mmetukosea\", 'sana', 'sasa', 'ningeenda', 'hadi', 'pahali', 'gari', 'itaishia', 'mafuta', 'stuck', 'anoth', 'mkikutana', 'tafadhali', 'mkuje', 'na', 'kila', 'mtu', 'kitanda', 'yake', '’', 'treat', 'nomare', '’', 'treat', 'us', 'abunomare', \"uhuruaddress',\", \"'mmetukosea\", 'sana', 'sasa', 'ningeenda', 'hadi', 'pahali', 'gari', 'itaishia', 'mafuta', 'stuck', 'anoth', 'mkikutana', 'tafadhali', 'mkuje', 'na', 'kila', 'mtu', 'kitanda', 'yake', '’', 'treat', 'nomare', '’', 'treat', 'us', 'abunomare', \"uhuruaddress',\", \"'mmetukosea\", 'sana', 'sasa', 'ningeenda', 'hadi', 'pahali', 'gari', 'itaishia', 'mafuta', 'stuck', 'anoth', 'mkikutana', 'tafadhali', 'mkuje', 'na', 'kila', 'mtu', 'kitanda', 'yake', '’', 'treat', 'nomare', '’', 'treat', 'us', 'abunomare', \"uhuruaddress',\", \"'mmetukosea\", 'sana', 'sasa', 'ningeenda', 'hadi', 'pahali', 'gari', 'itaishia', 'mafuta', 'stuck', 'anoth', 'mkikutana', 'tafadhali', 'mkuje', 'na', 'kila', 'mtu', 'kitanda', 'yake', '’', 'treat', 'nomare', '’', 'treat', 'us', 'abunomare', \"uhuruaddress',\", \"'mmetukosea\", 'sana', 'sasa', 'ningeenda', 'hadi', 'pahali', 'gari', 'itaishia', 'mafuta', 'stuck', 'anoth', 'mkikutana', 'tafadhali', 'mkuje', 'na', 'kila', 'mtu', 'kitanda', 'yake', '’', 'treat', 'nomare', '’', 'treat', 'us', 'abunomare', \"uhuruaddress',\", \"'mmetukosea\", 'sana', 'sasa', 'ningeenda', 'hadi', 'pahali', 'gari', 'itaishia', 'mafuta', 'stuck', 'anoth', 'mkikutana', 'tafadhali', 'mkuje', 'na', 'kila', 'mtu', 'kitanda', 'yake', '’', 'treat', 'nomare', '’', 'treat', 'us', 'abunomare', \"uhuruaddress',\", \"'mmetukosea\", 'sana', 'sasa', 'ningeenda', 'hadi', 'pahali', 'gari', 'itaishia', 'mafuta', 'stuck', 'anoth', 'mkikutana', 'tafadhali', 'mkuje', 'na', 'kila', 'mtu', 'kitanda', 'yake', '’', 'treat', 'nomare', '’', 'treat', 'us', 'abunomare', \"uhuruaddress',\", \"'mmetukosea\", 'sana', 'sasa', 'ningeenda', 'hadi', 'pahali', 'gari', 'itaishia', 'mafuta', 'stuck', 'anoth', 'mkikutana', 'tafadhali', 'mkuje', 'na', 'kila', 'mtu', 'kitanda', 'yake', '’', 'treat', 'nomare', '’', 'treat', 'us', 'abunomare', \"uhuruaddress',\", \"'mmetukosea\", 'sana', 'sasa', 'ningeenda', 'hadi', 'pahali', 'gari', 'itaishia', 'mafuta', 'stuck', 'anoth', 'mkikutana', 'tafadhali', 'mkuje', 'na', 'kila', 'mtu', 'kitanda', 'yake', '’', 'treat', 'nomare', '’', 'treat', 'us', 'abunomare', \"uhuruaddress',\", \"'mmetukosea\", 'sana', 'sasa', 'ningeenda', 'hadi', 'pahali', 'gari', 'itaishia', 'mafuta', 'stuck', 'anoth', 'mkikutana', 'tafadhali', 'mkuje', 'na', 'kila', 'mtu', 'kitanda', 'yake', '’', 'treat', 'nomare', '’', 'treat', 'us', 'abunomare', \"uhuruaddress',\", \"'mmetukosea\", 'sana', 'sasa', 'ningeenda', 'hadi', 'pahali', 'gari', 'itaishia', 'mafuta', 'stuck', 'anoth', 'mkikutana', 'tafadhali', 'mkuje', 'na', 'kila', 'mtu', 'kitanda', 'yake', '’', 'treat', 'nomare', '’', 'treat', 'us', 'abunomare', \"uhuruaddress',\", \"'mmetukosea\", 'sana', 'sasa', 'ningeenda', 'hadi', 'pahali', 'gari', 'itaishia', 'mafuta', 'stuck', 'anoth', 'mkikutana', 'tafadhali', 'mkuje', 'na', 'kila', 'mtu', 'kitanda', 'yake', '’', 'treat', 'nomare', '’', 'treat', 'us', 'abunomare', \"uhuruaddress',\", \"'mmetukosea\", 'sana', 'sasa', 'ningeenda', 'hadi', 'pahali', 'gari', 'itaishia', 'mafuta', 'stuck', 'anoth', 'mkikutana', 'tafadhali', 'mkuje', 'na', 'kila', 'mtu', 'kitanda', 'yake', '’', 'treat', 'nomare', '’', 'treat', 'us', 'abunomare', \"uhuruaddress',\", \"'mmetukosea\", 'sana', 'sasa', 'ningeenda', 'hadi', 'pahali', 'gari', 'itaishia', 'mafuta', 'stuck', 'anoth', 'mkikutana', 'tafadhali', 'mkuje', 'na', 'kila', 'mtu', 'kitanda', 'yake', '’', 'treat', 'nomare', '’', 'treat', 'us', 'abunomare', \"uhuruaddress',\", \"'mmetukosea\", 'sana', 'sasa', 'ningeenda', 'hadi', 'pahali', 'gari', 'itaishia', 'mafuta', 'stuck', 'anoth', 'mkikutana', 'tafadhali', 'mkuje', 'na', 'kila', 'mtu', 'kitanda', 'yake', '’', 'treat', 'nomare', '’', 'treat', 'us', 'abunomare', \"uhuruaddress',\", \"'mmetukosea\", 'sana', 'sasa', 'ningeenda', 'hadi', 'pahali', 'gari', 'itaishia', 'mafuta', 'stuck', 'anoth', 'mkikutana', 'tafadhali', 'mkuje', 'na', 'kila', 'mtu', 'kitanda', 'yake', '’', 'treat', 'nomare', '’', 'treat', 'us', 'abunomare', \"uhuruaddress',\", \"'mmetukosea\", 'sana', 'sasa', 'ningeenda', 'hadi', 'pahali', 'gari', 'itaishia', 'mafuta', 'stuck', 'anoth', 'mkikutana', 'tafadhali', 'mkuje', 'na', 'kila', 'mtu', 'kitanda', 'yake', '’', 'treat', 'nomare', '’', 'treat', 'us', 'abunomare', \"uhuruaddress']\"]\n",
            "[kitanda, kitanda, kitanda, kitanda, kitanda, kitanda, kitanda, kitanda, kitanda, kitanda, kitanda, kitanda, kitanda, kitanda, kitanda, kitanda, kitanda, kitanda, kitanda, kitanda, kitanda, kitanda, kitanda, kitanda, kitanda, kitanda, kitanda]\n",
            "\n",
            "\n",
            "[\"['cant\", 'wait', '🥰🥰', 'blacklivesmatt', 'curfewinkenya', 'wanjohi', 'babyg', 'lockdownextens', 'carryminati', 'uhurukenyatta', 'meme', 'gaddafi', 'jayden', 'gangsoflondon', 'disappoint', 'uhurudontliftlockdown', 'uhuruaddress', 'libya', 'nandi', 'trump', 'happi', 'saturday', 'yall', \"❤',\", \"'cant\", 'wait', '🥰🥰', 'blacklivesmatt', 'curfewinkenya', 'wanjohi', 'babyg', 'lockdownextens', 'carryminati', 'uhurukenyatta', 'meme', 'gaddafi', 'jayden', 'gangsoflondon', 'disappoint', 'uhurudontliftlockdown', 'uhuruaddress', 'libya', 'nandi', 'trump', 'happi', 'saturday', 'yall', \"❤',\", \"'cant\", 'wait', '🥰🥰', 'blacklivesmatt', 'curfewinkenya', 'wanjohi', 'babyg', 'lockdownextens', 'carryminati', 'uhurukenyatta', 'meme', 'gaddafi', 'jayden', 'gangsoflondon', 'disappoint', 'uhurudontliftlockdown', 'uhuruaddress', 'libya', 'nandi', 'trump', 'happi', 'saturday', 'yall', \"❤',\", \"'cant\", 'wait', '🥰🥰', 'blacklivesmatt', 'curfewinkenya', 'wanjohi', 'babyg', 'lockdownextens', 'carryminati', 'uhurukenyatta', 'meme', 'gaddafi', 'jayden', 'gangsoflondon', 'disappoint', 'uhurudontliftlockdown', 'uhuruaddress', 'libya', 'nandi', 'trump', 'happi', 'saturday', 'yall', \"❤',\", \"'cant\", 'wait', '🥰🥰', 'blacklivesmatt', 'curfewinkenya', 'wanjohi', 'babyg', 'lockdownextens', 'carryminati', 'uhurukenyatta', 'meme', 'gaddafi', 'jayden', 'gangsoflondon', 'disappoint', 'uhurudontliftlockdown', 'uhuruaddress', 'libya', 'nandi', 'trump', 'happi', 'saturday', 'yall', \"❤',\", \"'cant\", 'wait', '🥰🥰', 'blacklivesmatt', 'curfewinkenya', 'wanjohi', 'babyg', 'lockdownextens', 'carryminati', 'uhurukenyatta', 'meme', 'gaddafi', 'jayden', 'gangsoflondon', 'disappoint', 'uhurudontliftlockdown', 'uhuruaddress', 'libya', 'nandi', 'trump', 'happi', 'saturday', 'yall', \"❤',\", \"'cant\", 'wait', '🥰🥰', 'blacklivesmatt', 'curfewinkenya', 'wanjohi', 'babyg', 'lockdownextens', 'carryminati', 'uhurukenyatta', 'meme', 'gaddafi', 'jayden', 'gangsoflondon', 'disappoint', 'uhurudontliftlockdown', 'uhuruaddress', 'libya', 'nandi', 'trump', 'happi', 'saturday', 'yall', \"❤',\", \"'cant\", 'wait', '🥰🥰', 'blacklivesmatt', 'curfewinkenya', 'wanjohi', 'babyg', 'lockdownextens', 'carryminati', 'uhurukenyatta', 'meme', 'gaddafi', 'jayden', 'gangsoflondon', 'disappoint', 'uhurudontliftlockdown', 'uhuruaddress', 'libya', 'nandi', 'trump', 'happi', 'saturday', 'yall', \"❤',\", \"'cant\", 'wait', '🥰🥰', 'blacklivesmatt', 'curfewinkenya', 'wanjohi', 'babyg', 'lockdownextens', 'carryminati', 'uhurukenyatta', 'meme', 'gaddafi', 'jayden', 'gangsoflondon', 'disappoint', 'uhurudontliftlockdown', 'uhuruaddress', 'libya', 'nandi', 'trump', 'happi', 'saturday', 'yall', \"❤',\", \"'cant\", 'wait', '🥰🥰', 'blacklivesmatt', 'curfewinkenya', 'wanjohi', 'babyg', 'lockdownextens', 'carryminati', 'uhurukenyatta', 'meme', 'gaddafi', 'jayden', 'gangsoflondon', 'disappoint', 'uhurudontliftlockdown', 'uhuruaddress', 'libya', 'nandi', 'trump', 'happi', 'saturday', 'yall', \"❤',\", \"'cant\", 'wait', '🥰🥰', 'blacklivesmatt', 'curfewinkenya', 'wanjohi', 'babyg', 'lockdownextens', 'carryminati', 'uhurukenyatta', 'meme', 'gaddafi', 'jayden', 'gangsoflondon', 'disappoint', 'uhurudontliftlockdown', 'uhuruaddress', 'libya', 'nandi', 'trump', 'happi', 'saturday', 'yall', \"❤',\", \"'cant\", 'wait', '🥰🥰', 'blacklivesmatt', 'curfewinkenya', 'wanjohi', 'babyg', 'lockdownextens', 'carryminati', 'uhurukenyatta', 'meme', 'gaddafi', 'jayden', 'gangsoflondon', 'disappoint', 'uhurudontliftlockdown', 'uhuruaddress', 'libya', 'nandi', 'trump', 'happi', 'saturday', 'yall', \"❤',\", \"'cant\", 'wait', '🥰🥰', 'blacklivesmatt', 'curfewinkenya', 'wanjohi', 'babyg', 'lockdownextens', 'carryminati', 'uhurukenyatta', 'meme', 'gaddafi', 'jayden', 'gangsoflondon', 'disappoint', 'uhurudontliftlockdown', 'uhuruaddress', 'libya', 'nandi', 'trump', 'happi', 'saturday', 'yall', \"❤',\", \"'cant\", 'wait', '🥰🥰', 'blacklivesmatt', 'curfewinkenya', 'wanjohi', 'babyg', 'lockdownextens', 'carryminati', 'uhurukenyatta', 'meme', 'gaddafi', 'jayden', 'gangsoflondon', 'disappoint', 'uhurudontliftlockdown', 'uhuruaddress', 'libya', 'nandi', 'trump', 'happi', 'saturday', 'yall', \"❤',\", \"'cant\", 'wait', '🥰🥰', 'blacklivesmatt', 'curfewinkenya', 'wanjohi', 'babyg', 'lockdownextens', 'carryminati', 'uhurukenyatta', 'meme', 'gaddafi', 'jayden', 'gangsoflondon', 'disappoint', 'uhurudontliftlockdown', 'uhuruaddress', 'libya', 'nandi', 'trump', 'happi', 'saturday', 'yall', \"❤',\", \"'cant\", 'wait', '🥰🥰', 'blacklivesmatt', 'curfewinkenya', 'wanjohi', 'babyg', 'lockdownextens', 'carryminati', 'uhurukenyatta', 'meme', 'gaddafi', 'jayden', 'gangsoflondon', 'disappoint', 'uhurudontliftlockdown', 'uhuruaddress', 'libya', 'nandi', 'trump', 'happi', 'saturday', 'yall', \"❤',\", \"'cant\", 'wait', '🥰🥰', 'blacklivesmatt', 'curfewinkenya', 'wanjohi', 'babyg', 'lockdownextens', 'carryminati', 'uhurukenyatta', 'meme', 'gaddafi', 'jayden', 'gangsoflondon', 'disappoint', 'uhurudontliftlockdown', 'uhuruaddress', 'libya', 'nandi', 'trump', 'happi', 'saturday', 'yall', \"❤',\", \"'cant\", 'wait', '🥰🥰', 'blacklivesmatt', 'curfewinkenya', 'wanjohi', 'babyg', 'lockdownextens', 'carryminati', 'uhurukenyatta', 'meme', 'gaddafi', 'jayden', 'gangsoflondon', 'disappoint', 'uhurudontliftlockdown', 'uhuruaddress', 'libya', 'nandi', 'trump', 'happi', 'saturday', 'yall', \"❤',\", \"'cant\", 'wait', '🥰🥰', 'blacklivesmatt', 'curfewinkenya', 'wanjohi', 'babyg', 'lockdownextens', 'carryminati', 'uhurukenyatta', 'meme', 'gaddafi', 'jayden', 'gangsoflondon', 'disappoint', 'uhurudontliftlockdown', 'uhuruaddress', 'libya', 'nandi', 'trump', 'happi', 'saturday', 'yall', \"❤',\", \"'cant\", 'wait', '🥰🥰', 'blacklivesmatt', 'curfewinkenya', 'wanjohi', 'babyg', 'lockdownextens', 'carryminati', 'uhurukenyatta', 'meme', 'gaddafi', 'jayden', 'gangsoflondon', 'disappoint', 'uhurudontliftlockdown', 'uhuruaddress', 'libya', 'nandi', 'trump', 'happi', 'saturday', 'yall', \"❤',\", \"'cant\", 'wait', '🥰🥰', 'blacklivesmatt', 'curfewinkenya', 'wanjohi', 'babyg', 'lockdownextens', 'carryminati', 'uhurukenyatta', 'meme', 'gaddafi', 'jayden', 'gangsoflondon', 'disappoint', 'uhurudontliftlockdown', 'uhuruaddress', 'libya', 'nandi', 'trump', 'happi', 'saturday', 'yall', \"❤',\", \"'cant\", 'wait', '🥰🥰', 'blacklivesmatt', 'curfewinkenya', 'wanjohi', 'babyg', 'lockdownextens', 'carryminati', 'uhurukenyatta', 'meme', 'gaddafi', 'jayden', 'gangsoflondon', 'disappoint', 'uhurudontliftlockdown', 'uhuruaddress', 'libya', 'nandi', 'trump', 'happi', 'saturday', 'yall', \"❤',\", \"'cant\", 'wait', '🥰🥰', 'blacklivesmatt', 'curfewinkenya', 'wanjohi', 'babyg', 'lockdownextens', 'carryminati', 'uhurukenyatta', 'meme', 'gaddafi', 'jayden', 'gangsoflondon', 'disappoint', 'uhurudontliftlockdown', 'uhuruaddress', 'libya', 'nandi', 'trump', 'happi', 'saturday', 'yall', \"❤',\", \"'cant\", 'wait', '🥰🥰', 'blacklivesmatt', 'curfewinkenya', 'wanjohi', 'babyg', 'lockdownextens', 'carryminati', 'uhurukenyatta', 'meme', 'gaddafi', 'jayden', 'gangsoflondon', 'disappoint', 'uhurudontliftlockdown', 'uhuruaddress', 'libya', 'nandi', 'trump', 'happi', 'saturday', 'yall', \"❤']\"]\n",
            "[gaddafi, libya, saturday, ❤, saturday, ❤, saturday, ❤, saturday, ❤, saturday, ❤, saturday, ❤, saturday, ❤, saturday, ❤, saturday, ❤, saturday, ❤, saturday, ❤, saturday, ❤, saturday, ❤, saturday, ❤, saturday, ❤, saturday, ❤, saturday, ❤, saturday, ❤, saturday, ❤, saturday, ❤, saturday, ❤, saturday, ❤, saturday, ❤, saturday, ❤]\n",
            "\n",
            "\n",
            "[\"['wakenya\", 'hawachoki', 'na', 'meme', 'za', 'uhuru😂😂', 'uhurukenyatta', \"uhuruaddress',\", \"'wakenya\", 'hawachoki', 'na', 'meme', 'za', 'uhuru😂😂', 'uhurukenyatta', \"uhuruaddress',\", \"'wakenya\", 'hawachoki', 'na', 'meme', 'za', 'uhuru😂😂', 'uhurukenyatta', \"uhuruaddress',\", \"'wakenya\", 'hawachoki', 'na', 'meme', 'za', 'uhuru😂😂', 'uhurukenyatta', \"uhuruaddress',\", \"'wakenya\", 'hawachoki', 'na', 'meme', 'za', 'uhuru😂😂', 'uhurukenyatta', \"uhuruaddress',\", \"'wakenya\", 'hawachoki', 'na', 'meme', 'za', 'uhuru😂😂', 'uhurukenyatta', \"uhuruaddress',\", \"'wakenya\", 'hawachoki', 'na', 'meme', 'za', 'uhuru😂😂', 'uhurukenyatta', \"uhuruaddress',\", \"'wakenya\", 'hawachoki', 'na', 'meme', 'za', 'uhuru😂😂', 'uhurukenyatta', \"uhuruaddress']\"]\n",
            "[]\n",
            "\n",
            "\n",
            "[\"['fellow\", 'kenyan', 'uhuruspeak', \"uhuruaddress',\", \"'fellow\", 'kenyan', 'uhuruspeak', \"uhuruaddress',\", \"'fellow\", 'kenyan', 'uhuruspeak', \"uhuruaddress',\", \"'fellow\", 'kenyan', 'uhuruspeak', \"uhuruaddress']\"]\n",
            "[]\n",
            "\n",
            "\n",
            "[\"['uhurukenyatta\", 'cessat', 'movement', 'nairobi', 'mombasa', 'extend', 'anoth', 'dayscurfew', 'hour', \"extend',\", \"'uhurukenyatta\", 'cessat', 'movement', 'nairobi', 'mombasa', 'extend', 'anoth', 'dayscurfew', 'hour', \"extend',\", \"'uhurukenyatta\", 'cessat', 'movement', 'nairobi', 'mombasa', 'extend', 'anoth', 'dayscurfew', 'hour', \"extend',\", \"'uhurukenyatta\", 'cessat', 'movement', 'nairobi', 'mombasa', 'extend', 'anoth', 'dayscurfew', 'hour', \"extend',\", \"'uhurukenyatta\", 'cessat', 'movement', 'nairobi', 'mombasa', 'extend', 'anoth', 'dayscurfew', 'hour', \"extend',\", \"'uhurukenyatta\", 'cessat', 'movement', 'nairobi', 'mombasa', 'extend', 'anoth', 'dayscurfew', 'hour', \"extend',\", \"'uhurukenyatta\", 'cessat', 'movement', 'nairobi', 'mombasa', 'extend', 'anoth', 'dayscurfew', 'hour', \"extend',\", \"'uhurukenyatta\", 'cessat', 'movement', 'nairobi', 'mombasa', 'extend', 'anoth', 'dayscurfew', 'hour', \"extend',\", \"'uhurukenyatta\", 'cessat', 'movement', 'nairobi', 'mombasa', 'extend', 'anoth', 'dayscurfew', 'hour', \"extend',\", \"'uhurukenyatta\", 'cessat', 'movement', 'nairobi', 'mombasa', 'extend', 'anoth', 'dayscurfew', 'hour', \"extend']\"]\n",
            "[nairobi, 'hour, nairobi, 'hour, nairobi, 'hour, nairobi, 'hour, nairobi, 'hour, nairobi, 'hour, nairobi, 'hour, nairobi, 'hour, nairobi, 'hour, nairobi, 'hour]\n",
            "\n",
            "\n"
          ],
          "name": "stdout"
        }
      ]
    },
    {
      "cell_type": "code",
      "metadata": {
        "id": "LGzLXQj1ZYfT"
      },
      "source": [
        "\"\"\"# Separating this lengthy step, and saving result as a list rather than generator\n",
        "# (Size isnt too big, and saves a lot of time when reused later)\n",
        "\n",
        "# Spacy seems to have error at 3k doc mark? \n",
        "# Related to this maybe? https://github.com/explosion/spaCy/issues/1927\n",
        "# Continuing on with the first 3000 of 4010 for now ; this was attempted on my local runtime but did not work\n",
        "\n",
        "I ran 500 records only for test purposes on entity recognition since colab\n",
        "crushes when the record is too large\"\"\"\n",
        "\n",
        "corpus = list(nlp.pipe(words[:700]))"
      ],
      "execution_count": 48,
      "outputs": []
    },
    {
      "cell_type": "code",
      "metadata": {
        "colab": {
          "base_uri": "https://localhost:8080/"
        },
        "id": "xNqZ26ZmvpVx",
        "outputId": "97674757-d225-4968-8055-64bcb8202315"
      },
      "source": [
        "# Looking at number of times each entity appears in the total corpus\n",
        "# nb. ents all appear as Spacy tokens, hence needing to cast as str\n",
        "\n",
        "all_ents = defaultdict(int)\n",
        "\n",
        "for i, doc in enumerate(corpus):\n",
        "    #print(i,doc)\n",
        "    for ent in doc.ents:\n",
        "        all_ents[str(ent)] += 1\n",
        "        \n",
        "print('Number of distinct entities: ', len(all_ents))"
      ],
      "execution_count": 49,
      "outputs": [
        {
          "output_type": "stream",
          "text": [
            "Number of distinct entities:  273\n"
          ],
          "name": "stdout"
        }
      ]
    },
    {
      "cell_type": "code",
      "metadata": {
        "colab": {
          "base_uri": "https://localhost:8080/"
        },
        "id": "-__PFaWJwraX",
        "outputId": "564d2dce-0854-405f-ca06-3481711abf51"
      },
      "source": [
        "# Most popular entities\n",
        "\n",
        "sorted_ents = sorted(all_ents.items(), key=operator.itemgetter(1), reverse=True)\n",
        "sorted_ents[:20]"
      ],
      "execution_count": 50,
      "outputs": [
        {
          "output_type": "execute_result",
          "data": {
            "text/plain": [
              "[(\"'✍🏾'\", 390),\n",
              " ('nairobi', 325),\n",
              " ('yesterday', 287),\n",
              " (\"'kenyan'\", 267),\n",
              " (\"'night'\", 241),\n",
              " ('curfewinkenya', 239),\n",
              " ('kindli', 192),\n",
              " ('kenya', 143),\n",
              " (\"'day'\", 141),\n",
              " ('kenyan', 128),\n",
              " ('first', 127),\n",
              " ('friday', 120),\n",
              " ('komeshacorona', 119),\n",
              " (\"'hour\", 113),\n",
              " ('today', 111),\n",
              " ('hmanyora', 105),\n",
              " ('likoniferri', 104),\n",
              " ('mimi', 104),\n",
              " ('hygien', 100),\n",
              " ('china', 96)]"
            ]
          },
          "metadata": {
            "tags": []
          },
          "execution_count": 50
        }
      ]
    },
    {
      "cell_type": "code",
      "metadata": {
        "colab": {
          "base_uri": "https://localhost:8080/"
        },
        "id": "7w5tuKp1w8s9",
        "outputId": "a286234a-c432-46fb-ed56-ced7d9a00b5d"
      },
      "source": [
        "# Number of entities that appear at least twice\n",
        "\n",
        "multi_ents = [x for x in sorted_ents if x[1] > 1]\n",
        "\n",
        "print('Number of ents that appear at least twice: ', len(multi_ents))"
      ],
      "execution_count": 51,
      "outputs": [
        {
          "output_type": "stream",
          "text": [
            "Number of ents that appear at least twice:  259\n"
          ],
          "name": "stdout"
        }
      ]
    },
    {
      "cell_type": "code",
      "metadata": {
        "colab": {
          "base_uri": "https://localhost:8080/",
          "height": 281
        },
        "id": "AIQvgubtxArL",
        "outputId": "fa9d462e-2acf-4775-fe3c-4bd9e5b4aa37"
      },
      "source": [
        "# How many ents appear per tweet?\n",
        "\n",
        "ents_in_claim = [len(doc.ents) for doc in corpus]\n",
        "\n",
        "plt.hist(ents_in_claim, \n",
        "         rwidth=0.9, \n",
        "         bins=np.arange(max(ents_in_claim)+2)-0.5)  \n",
        "        # Futzing with bins just to fix column alignment - not really necessary\n",
        "plt.title('Entities per Tweet')\n",
        "plt.show()"
      ],
      "execution_count": 52,
      "outputs": [
        {
          "output_type": "display_data",
          "data": {
            "image/png": "[encoded data removed]",
            "text/plain": [
              "<Figure size 432x288 with 1 Axes>"
            ]
          },
          "metadata": {
            "tags": [],
            "needs_background": "light"
          }
        }
      ]
    },
    {
      "cell_type": "code",
      "metadata": {
        "id": "285wqnud0Dhp"
      },
      "source": [
        "def coocurrence(*inputs):\n",
        "    com = defaultdict(int)\n",
        "    \n",
        "    for named_entities in inputs:\n",
        "        # Build co-occurrence matrix\n",
        "        for w1, w2 in combinations(sorted(named_entities), 2):\n",
        "            com[w1, w2] += 1\n",
        "            com[w2, w1] += 1  #Including both directions\n",
        "\n",
        "    result = defaultdict(dict)\n",
        "    for (w1, w2), count in com.items():\n",
        "        if w1 != w2:\n",
        "            result[w1][w2] = {'weight': count}\n",
        "    return result"
      ],
      "execution_count": 60,
      "outputs": []
    },
    {
      "cell_type": "code",
      "metadata": {
        "id": "6jLIRxaRvQXl"
      },
      "source": [
        "# Making the list of tweets\n",
        "tweet_ents = []\n",
        "for doc in corpus:\n",
        "    string_ents = list(map(str, doc.ents))\n",
        "    tweet_ents.append(string_ents)\n",
        "    \n",
        "    \n",
        "# Keeping only claims with multiple entities\n",
        "multi_ent_tweets = [c for c in tweet_ents if len(c)>1]\n",
        "# single_ent_tweets = [c for c in tweet_ents if len(c)==1]\n",
        "# no_ent_tweets = [c for c in tweet_ents if len(c)==0]\n",
        "\n",
        "\n",
        "# Creating the coocurrance dict\n",
        "coocur_edges = coocurrence(*multi_ent_tweets)"
      ],
      "execution_count": 62,
      "outputs": []
    },
    {
      "cell_type": "code",
      "metadata": {
        "id": "xg-1JAeby_CZ"
      },
      "source": [
        "# Filter out ents with < min_weight - useful for graph clarity?\n",
        "\n",
        "def filter_ents_by_min_weight(edges, min_weight):\n",
        "    coocur_edges_filtered = defaultdict()\n",
        "    for k1, e in edges.items():\n",
        "        ents_over_x_weight = {k2: v for k2, v in e.items() if v['weight'] > min_weight}\n",
        "        if ents_over_x_weight:  # ie. Not empty\n",
        "            coocur_edges_filtered[k1] = ents_over_x_weight\n",
        "    return coocur_edges_filtered"
      ],
      "execution_count": 63,
      "outputs": []
    },
    {
      "cell_type": "code",
      "metadata": {
        "id": "HBxWQXq_0PD8",
        "outputId": "a57d258d-6572-4c22-dc22-6a57178683d9",
        "colab": {
          "base_uri": "https://localhost:8080/"
        }
      },
      "source": [
        "# Looking at the most coocurring edges\n",
        "\n",
        "filtered_edges = filter_ents_by_min_weight(coocur_edges, 2)\n",
        "\n",
        "coocur_sum = defaultdict(int)\n",
        "for k1, e in filtered_edges.items():\n",
        "    for k2, v in e.items():\n",
        "        coocur_sum[k1] += v['weight']\n",
        "\n",
        "sorted_coocur = sorted(coocur_sum.items(), key=operator.itemgetter(1), reverse=True)\n",
        "print('Most frequent CO-ocurring entity:')\n",
        "sorted_coocur[:20]"
      ],
      "execution_count": 64,
      "outputs": [
        {
          "output_type": "stream",
          "text": [
            "Most frequent CO-ocurring entity:\n"
          ],
          "name": "stdout"
        },
        {
          "output_type": "execute_result",
          "data": {
            "text/plain": [
              "[(\"'kenyan'\", 11878),\n",
              " ('nairobi', 11814),\n",
              " ('yesterday', 11350),\n",
              " ('kgachima', 10000),\n",
              " ('khamatibenard', 10000),\n",
              " ('kingethuk', 10000),\n",
              " ('koriredward', 10000),\n",
              " ('mainahaniel', 10000),\n",
              " ('moja', 8130),\n",
              " ('curfewinkenya', 7375),\n",
              " ('mimi', 6725),\n",
              " ('hmanyora', 6346),\n",
              " (\"'night'\", 5602),\n",
              " ('kenya', 5107),\n",
              " ('kiboko', 4898),\n",
              " (\"'day'\", 4736),\n",
              " ('cielewi', 4563),\n",
              " ('umeenda', 4563),\n",
              " ('wamama', 4563),\n",
              " ('kenyatta', 3981)]"
            ]
          },
          "metadata": {
            "tags": []
          },
          "execution_count": 64
        }
      ]
    },
    {
      "cell_type": "code",
      "metadata": {
        "id": "9A5OCzPP0sKb",
        "outputId": "66e47b58-22d2-45bc-bff6-2f9cb8a7c4ae",
        "colab": {
          "base_uri": "https://localhost:8080/",
          "height": 1000
        }
      },
      "source": [
        "# Getting the data - eg top 30, including only ents with min weight 2\n",
        "top_n = 30\n",
        "min_weight = 2\n",
        "figsize = (20, 15)\n",
        "scale_nodes = lambda x: (x * 10) + 1\n",
        "scale_edges = lambda x: 15 * x\n",
        "\n",
        "filtered_edges = filter_ents_by_min_weight(coocur_edges, min_weight)\n",
        "\n",
        "top_cooccur = [x[0] for x in sorted_coocur[:top_n]]  \n",
        "graph_edges = {k:filtered_edges[k] for k in top_cooccur}\n",
        "\n",
        "# Attempting to graph these top coocurrances\n",
        "G = nx.from_dict_of_dicts(graph_edges)\n",
        "pos = nx.kamada_kawai_layout(G)\n",
        "# pos = nx.circular_layout(G)\n",
        "# pos = nx.spring_layout(G)\n",
        "# pos = nx.fruchterman_reingold_layout(G)\n",
        "# pos = nx.spectral_layout(G)\n",
        "# pos = nx.shell_layout(G)\n",
        "\n",
        "# Normalise, then scale the line weights\n",
        "weights = [G[u][v]['weight'] for u, v in G.edges() if u != v]\n",
        "weights = list(map(lambda x: (x - min(weights)) / (max(weights) - min(weights)), weights))\n",
        "weights = list(map(scale_edges, weights))\n",
        "\n",
        "# Scale node weights \n",
        "sum_weights = [coocur_sum[n] if coocur_sum[n]>0 else 1 for n in G.nodes]\n",
        "sum_weights = list(map(scale_nodes, sum_weights))\n",
        "# sum_weights = list(map(lambda x: 100*log(x), sum_weights))\n",
        "\n",
        "\n",
        "plt.figure(figsize=figsize)\n",
        "\n",
        "# nx.draw(G, pos)\n",
        "nx.draw_networkx_edges(G, pos, alpha=0.2, width=weights)\n",
        "nx.draw_networkx_nodes(G, pos, alpha=0.2, node_size=sum_weights)\n",
        "nx.draw_networkx_labels(G, pos)\n",
        "\n",
        "plt.xticks([])\n",
        "plt.yticks([])\n",
        "\n",
        "plt.title('Top coocurrances of named entities in Coronavirus Sentiments')\n",
        "plt.show()"
      ],
      "execution_count": 68,
      "outputs": [
        {
          "output_type": "stream",
          "text": [
            "/usr/local/lib/python3.7/dist-packages/matplotlib/backends/backend_agg.py:214: RuntimeWarning:\n",
            "\n",
            "Glyph 128345 missing from current font.\n",
            "\n",
            "/usr/local/lib/python3.7/dist-packages/matplotlib/backends/backend_agg.py:214: RuntimeWarning:\n",
            "\n",
            "Glyph 127997 missing from current font.\n",
            "\n",
            "/usr/local/lib/python3.7/dist-packages/matplotlib/backends/backend_agg.py:214: RuntimeWarning:\n",
            "\n",
            "Glyph 129315 missing from current font.\n",
            "\n",
            "/usr/local/lib/python3.7/dist-packages/matplotlib/backends/backend_agg.py:214: RuntimeWarning:\n",
            "\n",
            "Glyph 128582 missing from current font.\n",
            "\n",
            "/usr/local/lib/python3.7/dist-packages/matplotlib/backends/backend_agg.py:214: RuntimeWarning:\n",
            "\n",
            "Glyph 128071 missing from current font.\n",
            "\n",
            "/usr/local/lib/python3.7/dist-packages/matplotlib/backends/backend_agg.py:214: RuntimeWarning:\n",
            "\n",
            "Glyph 127873 missing from current font.\n",
            "\n",
            "/usr/local/lib/python3.7/dist-packages/matplotlib/backends/backend_agg.py:183: RuntimeWarning:\n",
            "\n",
            "Glyph 128345 missing from current font.\n",
            "\n",
            "/usr/local/lib/python3.7/dist-packages/matplotlib/backends/backend_agg.py:183: RuntimeWarning:\n",
            "\n",
            "Glyph 127997 missing from current font.\n",
            "\n",
            "/usr/local/lib/python3.7/dist-packages/matplotlib/backends/backend_agg.py:183: RuntimeWarning:\n",
            "\n",
            "Glyph 129315 missing from current font.\n",
            "\n",
            "/usr/local/lib/python3.7/dist-packages/matplotlib/backends/backend_agg.py:183: RuntimeWarning:\n",
            "\n",
            "Glyph 128582 missing from current font.\n",
            "\n",
            "/usr/local/lib/python3.7/dist-packages/matplotlib/backends/backend_agg.py:183: RuntimeWarning:\n",
            "\n",
            "Glyph 128071 missing from current font.\n",
            "\n",
            "/usr/local/lib/python3.7/dist-packages/matplotlib/backends/backend_agg.py:183: RuntimeWarning:\n",
            "\n",
            "Glyph 127873 missing from current font.\n",
            "\n"
          ],
          "name": "stderr"
        },
        {
          "output_type": "display_data",
          "data": {
            "image/png": "[encoded data removed]",
            "text/plain": [
              "<Figure size 1440x1080 with 1 Axes>"
            ]
          },
          "metadata": {
            "tags": []
          }
        }
      ]
    },
    {
      "cell_type": "code",
      "metadata": {
        "id": "O2IIlHOe2Ye4",
        "outputId": "c87f1496-df5c-4eb1-936e-8ae3150ac3cd",
        "colab": {
          "base_uri": "https://localhost:8080/",
          "height": 310
        }
      },
      "source": [
        "from wordcloud import WordCloud\n",
        "from collections import Counter\n",
        "from PIL import Image\n",
        "\n",
        "# Join all the tweet entities into one list\n",
        "word_list = [j for i in tweet_ents for j in i]\n",
        "\n",
        "# Count occurences of each entity \n",
        "word_count_dict=Counter(word_list)\n",
        "\n",
        "# Make the wordcloud - can use a black/white image for shape mask\n",
        "#mask = np.array(Image.open(\"twitter_logo_bw.png\"))\n",
        "wordcloud = WordCloud(background_color=\"white\", max_words=100, \n",
        "                      width = 600, height = 300,\n",
        "                      #mask=mask, contour_width=5, contour_color=\"skyblue\"\n",
        "                     )\n",
        "                      \n",
        "wordcloud.generate_from_frequencies(word_count_dict)\n",
        "\n",
        "# Show the wordcloud\n",
        "plt.figure(figsize=(10,10))\n",
        "plt.imshow(wordcloud)\n",
        "plt.axis(\"off\")\n",
        "plt.show()\n",
        "\n",
        "# Or save the file\n",
        "# plt.savefig('yourfile.png', bbox_inches='tight')\n",
        "# plt.close()"
      ],
      "execution_count": 66,
      "outputs": [
        {
          "output_type": "display_data",
          "data": {
            "image/png": "[encoded data removed]",
            "text/plain": [
              "<Figure size 720x720 with 1 Axes>"
            ]
          },
          "metadata": {
            "tags": [],
            "needs_background": "light"
          }
        }
      ]
    },
    {
      "cell_type": "code",
      "metadata": {
        "id": "mpNBm8B1xUVK"
      },
      "source": [
        "#I intend to do analyse concurrence of the entities and plot a wordcloud after this.\n",
        "#Solve the problem on the size of corpus first."
      ],
      "execution_count": 53,
      "outputs": []
    },
    {
      "cell_type": "markdown",
      "metadata": {
        "id": "fa3DWpwdisj5"
      },
      "source": [
        "**Bag of words**"
      ]
    },
    {
      "cell_type": "code",
      "metadata": {
        "id": "CLLKa96Wiwg_",
        "outputId": "caef14b1-a837-4b62-c661-f1cd1ec9d0bc",
        "colab": {
          "base_uri": "https://localhost:8080/",
          "height": 72
        }
      },
      "source": [
        "#Vectorize the texts\n",
        "\n",
        "\"\"\"cv = CountVectorizer\n",
        "\n",
        "corpus = nairobi_df3['text_stem']\n",
        "\n",
        "cv = CountVectorizer(stop_words = 'english', analyzer = 'word') #ngram_range=(2,3) groupings can be specified using ngram\n",
        "bow = cv.fit_transorm(corpus)\n",
        "\n",
        "#view the vocabulary and frequency\n",
        "\n",
        "cv.vocabulary_\"\"\""
      ],
      "execution_count": 54,
      "outputs": [
        {
          "output_type": "execute_result",
          "data": {
            "application/vnd.google.colaboratory.intrinsic+json": {
              "type": "string"
            },
            "text/plain": [
              "\"cv = CountVectorizer\\n\\ncorpus = nairobi_df3['text_stem']\\n\\ncv = CountVectorizer(stop_words = 'english', analyzer = 'word') #ngram_range=(2,3) groupings can be specified using ngram\\nbow = cv.fit_transorm(corpus)\\n\\n#view the vocabulary and frequency\\n\\ncv.vocabulary_\""
            ]
          },
          "metadata": {
            "tags": []
          },
          "execution_count": 54
        }
      ]
    },
    {
      "cell_type": "code",
      "metadata": {
        "id": "Qm61iSIqlf0W"
      },
      "source": [
        "#get the feature names\n",
        "\n",
        "#cv.get_feature_names()"
      ],
      "execution_count": 55,
      "outputs": []
    },
    {
      "cell_type": "code",
      "metadata": {
        "id": "FiUDTjzcmAlB",
        "outputId": "ae89f957-b28f-4665-85c0-82bf3fc9055b",
        "colab": {
          "base_uri": "https://localhost:8080/",
          "height": 54
        }
      },
      "source": [
        "#\n",
        "\n",
        "\"\"\"cv_sparse = cv.fit_transform(nairobi_df3['text_stem'])\n",
        "col = [i for i in cv.get_feature_names()]\n",
        "temp = pd.DataFrame(cv_sparse.todense(), columns = col)\n",
        "temp\"\"\""
      ],
      "execution_count": 56,
      "outputs": [
        {
          "output_type": "execute_result",
          "data": {
            "application/vnd.google.colaboratory.intrinsic+json": {
              "type": "string"
            },
            "text/plain": [
              "\"cv_sparse = cv.fit_transform(nairobi_df3['text_stem'])\\ncol = [i for i in cv.get_feature_names()]\\ntemp = pd.DataFrame(cv_sparse.todense(), columns = col)\\ntemp\""
            ]
          },
          "metadata": {
            "tags": []
          },
          "execution_count": 56
        }
      ]
    },
    {
      "cell_type": "code",
      "metadata": {
        "id": "Vl1rlGAAnPbu"
      },
      "source": [
        "#Transform to an array\n",
        "\n",
        "#bow.toarray()"
      ],
      "execution_count": 57,
      "outputs": []
    },
    {
      "cell_type": "markdown",
      "metadata": {
        "id": "xVZo_us7JbaN"
      },
      "source": [
        "**Resources:**\n",
        "\n",
        "\n",
        "*  ##### [Text Analysis Operations using NLTK](https://www.kaggle.com/stieranka/text-analysis-operations-using-nltk)\n",
        "\n",
        "*  ##### [Sentiment Analysis: The Simpsons](https://www.kaggle.com/ruchi798/sentiment-analysis-the-simpsons)\n",
        "\n",
        "* #####  [Interactive Dashboards with Streamlit](https://www.analyticsvidhya.com/blog/2020/10/create-interactive-dashboards-with-streamlit-and-python/)\n",
        "\n",
        "* #####  [Named Entity Recognition](https://www.kaggle.com/razza99/named-entity-recognition)\n",
        "\n",
        "\n",
        "\n"
      ]
    }
  ]
}