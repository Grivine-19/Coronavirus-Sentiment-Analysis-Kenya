{
  "nbformat": 4,
  "nbformat_minor": 0,
  "metadata": {
    "language_info": {
      "codemirror_mode": {
        "name": "ipython",
        "version": 3
      },
      "file_extension": ".py",
      "mimetype": "text/x-python",
      "name": "python",
      "nbconvert_exporter": "python",
      "pygments_lexer": "ipython3",
      "version": "3.8.5-final"
    },
    "orig_nbformat": 2,
    "kernelspec": {
      "name": "python38564bitbaseconda378a717c3d1e409e93df1db8692daf27",
      "display_name": "Python 3.8.5 64-bit ('base': conda)",
      "language": "python"
    },
    "colab": {
      "name": "nairobi_county.ipynb",
      "provenance": []
    }
  },
  "cells": [
    {
      "cell_type": "markdown",
      "metadata": {
        "id": "AsLUVfp4Serq"
      },
      "source": [
        "**Overview**\n",
        "\n",
        "\n",
        "*   The data used here is what we scraped from the \"snscrape.ipynb\" file\n",
        "*   Scraping was done on local machine as Google Colab uses Python Version 3.6 as of the time this was published; snscrape only works with Pyhon 3.8 and above.\n",
        "\n"
      ]
    },
    {
      "cell_type": "markdown",
      "metadata": {
        "id": "wkL6LozWOaaq"
      },
      "source": [
        "**Importing Libraries & Modules**"
      ]
    },
    {
      "cell_type": "code",
      "metadata": {
        "id": "LcvdZHuSOO8M"
      },
      "source": [
        "import pandas as pd \n",
        "import matplotlib.pyplot as plt \n",
        "import seaborn as sns\n",
        "%matplotlib inline\n",
        "import numpy as np\n",
        "import re\n",
        "import nltk\n",
        "import warnings \n",
        "warnings.filterwarnings(\"ignore\", category=DeprecationWarning)\n",
        "from plotly import graph_objs as go\n",
        "from google.colab import drive\n",
        "from PIL import Image\n",
        "from wordcloud import WordCloud, STOPWORDS, ImageColorGenerator\n",
        "from collections import Counter\n",
        "from nltk.corpus import stopwords \n",
        "from nltk.tokenize import word_tokenize\n",
        "from nltk.stem.porter import  PorterStemmer\n",
        "from nltk.stem import WordNetLemmatizer\n",
        "from bs4 import BeautifulSoup"
      ],
      "execution_count": 64,
      "outputs": []
    },
    {
      "cell_type": "code",
      "metadata": {
        "id": "bH1An5VTOO8Q",
        "colab": {
          "base_uri": "https://localhost:8080/"
        },
        "outputId": "a10bd7d3-fe78-4ed1-e56d-bea24c21cdb9"
      },
      "source": [
        "#Mount the google drive folder\n",
        "\n",
        "drive.mount('/content/gdrive')"
      ],
      "execution_count": 2,
      "outputs": [
        {
          "output_type": "stream",
          "text": [
            "Mounted at /content/gdrive\n"
          ],
          "name": "stdout"
        }
      ]
    },
    {
      "cell_type": "code",
      "metadata": {
        "id": "xky7JEDzP0LL",
        "colab": {
          "base_uri": "https://localhost:8080/",
          "height": 204
        },
        "outputId": "ddd446fd-e276-4830-ec39-c6396137ed3e"
      },
      "source": [
        "#Load the dataset\n",
        "\n",
        "nairobi_df = pd.read_csv('/content/gdrive/My Drive/Coronavirus_Tweets/nairobi_county.csv')\n",
        "\n",
        "#Preview the first four rows of the dataset\n",
        "\n",
        "nairobi_df.head()"
      ],
      "execution_count": 3,
      "outputs": [
        {
          "output_type": "execute_result",
          "data": {
            "text/html": [
              "<div>\n",
              "<style scoped>\n",
              "    .dataframe tbody tr th:only-of-type {\n",
              "        vertical-align: middle;\n",
              "    }\n",
              "\n",
              "    .dataframe tbody tr th {\n",
              "        vertical-align: top;\n",
              "    }\n",
              "\n",
              "    .dataframe thead th {\n",
              "        text-align: right;\n",
              "    }\n",
              "</style>\n",
              "<table border=\"1\" class=\"dataframe\">\n",
              "  <thead>\n",
              "    <tr style=\"text-align: right;\">\n",
              "      <th></th>\n",
              "      <th>Unnamed: 0</th>\n",
              "      <th>Unnamed: 0.1</th>\n",
              "      <th>Datetime</th>\n",
              "      <th>Text</th>\n",
              "      <th>retweets</th>\n",
              "      <th>likes</th>\n",
              "    </tr>\n",
              "  </thead>\n",
              "  <tbody>\n",
              "    <tr>\n",
              "      <th>0</th>\n",
              "      <td>0</td>\n",
              "      <td>0</td>\n",
              "      <td>2020-06-06 19:28:03+00:00</td>\n",
              "      <td>Mmetukosea sana! \\n\\nSasa ningeenda hadi pahal...</td>\n",
              "      <td>0</td>\n",
              "      <td>2</td>\n",
              "    </tr>\n",
              "    <tr>\n",
              "      <th>1</th>\n",
              "      <td>1</td>\n",
              "      <td>1</td>\n",
              "      <td>2020-06-06 13:25:27+00:00</td>\n",
              "      <td>CAN'T WAIT 🥰🥰 #6thjune #BlackLivesMatter #Curf...</td>\n",
              "      <td>1</td>\n",
              "      <td>10</td>\n",
              "    </tr>\n",
              "    <tr>\n",
              "      <th>2</th>\n",
              "      <td>2</td>\n",
              "      <td>2</td>\n",
              "      <td>2020-06-06 13:24:27+00:00</td>\n",
              "      <td>Wakenya hawachoki na meme za Uhuru😂😂 #UhuruKen...</td>\n",
              "      <td>1</td>\n",
              "      <td>4</td>\n",
              "    </tr>\n",
              "    <tr>\n",
              "      <th>3</th>\n",
              "      <td>3</td>\n",
              "      <td>3</td>\n",
              "      <td>2020-06-06 13:03:01+00:00</td>\n",
              "      <td>Fellow Kenyans #uhuruspeaks #UhuruAddress http...</td>\n",
              "      <td>0</td>\n",
              "      <td>1</td>\n",
              "    </tr>\n",
              "    <tr>\n",
              "      <th>4</th>\n",
              "      <td>4</td>\n",
              "      <td>4</td>\n",
              "      <td>2020-06-06 13:02:49+00:00</td>\n",
              "      <td>#UhuruKenyatta Cessation of movement in Nairob...</td>\n",
              "      <td>0</td>\n",
              "      <td>2</td>\n",
              "    </tr>\n",
              "  </tbody>\n",
              "</table>\n",
              "</div>"
            ],
            "text/plain": [
              "   Unnamed: 0  Unnamed: 0.1  ... retweets likes\n",
              "0           0             0  ...        0     2\n",
              "1           1             1  ...        1    10\n",
              "2           2             2  ...        1     4\n",
              "3           3             3  ...        0     1\n",
              "4           4             4  ...        0     2\n",
              "\n",
              "[5 rows x 6 columns]"
            ]
          },
          "metadata": {
            "tags": []
          },
          "execution_count": 3
        }
      ]
    },
    {
      "cell_type": "code",
      "metadata": {
        "id": "PpSAayBBT3bF",
        "colab": {
          "base_uri": "https://localhost:8080/",
          "height": 204
        },
        "outputId": "8d7fcdec-4488-4aa6-9304-8ea525d6ef10"
      },
      "source": [
        "#Preview the last four rows of the dataset\n",
        "\n",
        "nairobi_df.tail()"
      ],
      "execution_count": 4,
      "outputs": [
        {
          "output_type": "execute_result",
          "data": {
            "text/html": [
              "<div>\n",
              "<style scoped>\n",
              "    .dataframe tbody tr th:only-of-type {\n",
              "        vertical-align: middle;\n",
              "    }\n",
              "\n",
              "    .dataframe tbody tr th {\n",
              "        vertical-align: top;\n",
              "    }\n",
              "\n",
              "    .dataframe thead th {\n",
              "        text-align: right;\n",
              "    }\n",
              "</style>\n",
              "<table border=\"1\" class=\"dataframe\">\n",
              "  <thead>\n",
              "    <tr style=\"text-align: right;\">\n",
              "      <th></th>\n",
              "      <th>Unnamed: 0</th>\n",
              "      <th>Unnamed: 0.1</th>\n",
              "      <th>Datetime</th>\n",
              "      <th>Text</th>\n",
              "      <th>retweets</th>\n",
              "      <th>likes</th>\n",
              "    </tr>\n",
              "  </thead>\n",
              "  <tbody>\n",
              "    <tr>\n",
              "      <th>8179</th>\n",
              "      <td>37</td>\n",
              "      <td>37</td>\n",
              "      <td>2020-05-29 06:20:25+00:00</td>\n",
              "      <td>President Uhuru Kenyatta made it clear that's ...</td>\n",
              "      <td>0</td>\n",
              "      <td>2</td>\n",
              "    </tr>\n",
              "    <tr>\n",
              "      <th>8180</th>\n",
              "      <td>38</td>\n",
              "      <td>38</td>\n",
              "      <td>2020-05-29 06:03:22+00:00</td>\n",
              "      <td>#Uhurustoughchoices Mlisema huyu Ni mtoto wa N...</td>\n",
              "      <td>0</td>\n",
              "      <td>0</td>\n",
              "    </tr>\n",
              "    <tr>\n",
              "      <th>8181</th>\n",
              "      <td>39</td>\n",
              "      <td>39</td>\n",
              "      <td>2020-05-29 05:19:20+00:00</td>\n",
              "      <td>Among other tough choices Uhuru must make is g...</td>\n",
              "      <td>3</td>\n",
              "      <td>4</td>\n",
              "    </tr>\n",
              "    <tr>\n",
              "      <th>8182</th>\n",
              "      <td>40</td>\n",
              "      <td>40</td>\n",
              "      <td>2020-05-27 18:59:53+00:00</td>\n",
              "      <td>Pandemic. Perforated pockets. Plunging economy...</td>\n",
              "      <td>1</td>\n",
              "      <td>6</td>\n",
              "    </tr>\n",
              "    <tr>\n",
              "      <th>8183</th>\n",
              "      <td>41</td>\n",
              "      <td>41</td>\n",
              "      <td>2020-05-27 18:54:16+00:00</td>\n",
              "      <td>Pandemic. Perforated pockets. Plunging economy...</td>\n",
              "      <td>26</td>\n",
              "      <td>35</td>\n",
              "    </tr>\n",
              "  </tbody>\n",
              "</table>\n",
              "</div>"
            ],
            "text/plain": [
              "      Unnamed: 0  Unnamed: 0.1  ... retweets likes\n",
              "8179          37            37  ...        0     2\n",
              "8180          38            38  ...        0     0\n",
              "8181          39            39  ...        3     4\n",
              "8182          40            40  ...        1     6\n",
              "8183          41            41  ...       26    35\n",
              "\n",
              "[5 rows x 6 columns]"
            ]
          },
          "metadata": {
            "tags": []
          },
          "execution_count": 4
        }
      ]
    },
    {
      "cell_type": "markdown",
      "metadata": {
        "id": "V6Yg1rtZUvAe"
      },
      "source": [
        "### Shape of the data"
      ]
    },
    {
      "cell_type": "code",
      "metadata": {
        "id": "6ncE1FR8UmRK",
        "colab": {
          "base_uri": "https://localhost:8080/"
        },
        "outputId": "94eb39e8-0882-4c9c-d824-db62032df150"
      },
      "source": [
        "#number of rows and columns of the data\n",
        "\n",
        "nairobi_df.shape"
      ],
      "execution_count": 5,
      "outputs": [
        {
          "output_type": "execute_result",
          "data": {
            "text/plain": [
              "(8184, 6)"
            ]
          },
          "metadata": {
            "tags": []
          },
          "execution_count": 5
        }
      ]
    },
    {
      "cell_type": "code",
      "metadata": {
        "id": "p9lx3NUbVJnD",
        "colab": {
          "base_uri": "https://localhost:8080/"
        },
        "outputId": "c2f65d01-c8b3-43a1-dea0-50d99d633660"
      },
      "source": [
        "#Checking the data types of our data\n",
        "\n",
        "\"\"\" This is crucial for modeling tasks. e.g when solving a regression problem, we only deal with numerical data types and not categorical. \"\"\"\n",
        "\n",
        "nairobi_df.dtypes"
      ],
      "execution_count": 6,
      "outputs": [
        {
          "output_type": "execute_result",
          "data": {
            "text/plain": [
              "Unnamed: 0       int64\n",
              "Unnamed: 0.1     int64\n",
              "Datetime        object\n",
              "Text            object\n",
              "retweets         int64\n",
              "likes            int64\n",
              "dtype: object"
            ]
          },
          "metadata": {
            "tags": []
          },
          "execution_count": 6
        }
      ]
    },
    {
      "cell_type": "markdown",
      "metadata": {
        "id": "PJC6MB0cVY94"
      },
      "source": [
        "**Cleaning the Data**"
      ]
    },
    {
      "cell_type": "markdown",
      "metadata": {
        "id": "Pu8AfS4gVfwo"
      },
      "source": [
        "### Dealing with missing values"
      ]
    },
    {
      "cell_type": "code",
      "metadata": {
        "id": "_XOm4gHUVSem",
        "colab": {
          "base_uri": "https://localhost:8080/"
        },
        "outputId": "57a558b5-7076-4a47-d1da-46a08e5fccae"
      },
      "source": [
        "#Checking for missing values\n",
        "\n",
        "\"\"\" If there are missing values in the columns, we either fill or drop them from the respective columns with too many missing values that are not of significance to the modeling task.\n",
        "\n",
        "For this case, there are no missing values to handle.\"\"\"\n",
        "\n",
        "nairobi_df.isnull().sum()"
      ],
      "execution_count": 7,
      "outputs": [
        {
          "output_type": "execute_result",
          "data": {
            "text/plain": [
              "Unnamed: 0      0\n",
              "Unnamed: 0.1    0\n",
              "Datetime        0\n",
              "Text            0\n",
              "retweets        0\n",
              "likes           0\n",
              "dtype: int64"
            ]
          },
          "metadata": {
            "tags": []
          },
          "execution_count": 7
        }
      ]
    },
    {
      "cell_type": "code",
      "metadata": {
        "id": "40ymaK9CVvfb",
        "colab": {
          "base_uri": "https://localhost:8080/"
        },
        "outputId": "edc551f3-4c84-4c7c-bd42-1e33ef9bfb91"
      },
      "source": [
        "#Checking for duplicates\n",
        "print(nairobi_df.duplicated().any())"
      ],
      "execution_count": 8,
      "outputs": [
        {
          "output_type": "stream",
          "text": [
            "True\n"
          ],
          "name": "stdout"
        }
      ]
    },
    {
      "cell_type": "code",
      "metadata": {
        "id": "h70AV97CV37q",
        "colab": {
          "base_uri": "https://localhost:8080/"
        },
        "outputId": "b73a680e-d195-49c6-c3ee-5a1e74e92215"
      },
      "source": [
        "#Dropping Duplicates\n",
        "\n",
        "nairobi_df.drop_duplicates(keep=False, inplace=True)\n",
        "\n",
        "#Confirming there are no duplicates\n",
        "\n",
        "print(nairobi_df.duplicated().any())\n",
        "print(nairobi_df.shape)"
      ],
      "execution_count": 9,
      "outputs": [
        {
          "output_type": "stream",
          "text": [
            "False\n",
            "(4214, 6)\n"
          ],
          "name": "stdout"
        }
      ]
    },
    {
      "cell_type": "markdown",
      "metadata": {
        "id": "nCwTKBpyWTVq"
      },
      "source": [
        "### Dealing with Outliers\n",
        "\n",
        "##### We check for outliers because often times, they result into an impbalanced data for modeling. i.e too many outliers bring about a high variance to our data. High variance causes overfitting to our model.\n",
        "\n",
        "##### A Z score is used since our dataset consists of more than 30 rows."
      ]
    },
    {
      "cell_type": "code",
      "metadata": {
        "id": "2TrskM1IWDNu",
        "colab": {
          "base_uri": "https://localhost:8080/"
        },
        "outputId": "2d37c993-312d-4862-b760-b72a82987168"
      },
      "source": [
        "#Dealing with outliers\n",
        "#\n",
        "#Import stats from scipy library\n",
        "\n",
        "from scipy import stats\n",
        "num = ['retweets']\n",
        "for i, col in enumerate(num):\n",
        "    z = np.abs(stats.zscore(nairobi_df[col]))\n",
        "print(z)"
      ],
      "execution_count": 10,
      "outputs": [
        {
          "output_type": "stream",
          "text": [
            "[0.14138055 0.0583916  0.0583916  ... 0.10758628 0.0583916  2.016332  ]\n"
          ],
          "name": "stdout"
        }
      ]
    },
    {
      "cell_type": "code",
      "metadata": {
        "id": "ivXPuJocWhrJ",
        "colab": {
          "base_uri": "https://localhost:8080/"
        },
        "outputId": "8a342b1b-c980-425d-f0d7-faa40ec29455"
      },
      "source": [
        "#Confirming that our outliers have been dropped from the data set\n",
        "\n",
        "nairobi_df2 = nairobi_df[( z < 2 )]\n",
        "\n",
        "print(f\"Previous dataframe size : {nairobi_df.shape[0]}\" )\n",
        "print(f\"New dataframe size : {nairobi_df2.shape[0]}\" )"
      ],
      "execution_count": 11,
      "outputs": [
        {
          "output_type": "stream",
          "text": [
            "Previous dataframe size : 4214\n",
            "New dataframe size : 4173\n"
          ],
          "name": "stdout"
        }
      ]
    },
    {
      "cell_type": "code",
      "metadata": {
        "id": "w7nhCjTXWo8u",
        "colab": {
          "base_uri": "https://localhost:8080/",
          "height": 297
        },
        "outputId": "d7b9dcfd-7ded-4d44-fa97-39a1cfd1be99"
      },
      "source": [
        "nairobi_df2.describe()"
      ],
      "execution_count": 12,
      "outputs": [
        {
          "output_type": "execute_result",
          "data": {
            "text/html": [
              "<div>\n",
              "<style scoped>\n",
              "    .dataframe tbody tr th:only-of-type {\n",
              "        vertical-align: middle;\n",
              "    }\n",
              "\n",
              "    .dataframe tbody tr th {\n",
              "        vertical-align: top;\n",
              "    }\n",
              "\n",
              "    .dataframe thead th {\n",
              "        text-align: right;\n",
              "    }\n",
              "</style>\n",
              "<table border=\"1\" class=\"dataframe\">\n",
              "  <thead>\n",
              "    <tr style=\"text-align: right;\">\n",
              "      <th></th>\n",
              "      <th>Unnamed: 0</th>\n",
              "      <th>Unnamed: 0.1</th>\n",
              "      <th>retweets</th>\n",
              "      <th>likes</th>\n",
              "    </tr>\n",
              "  </thead>\n",
              "  <tbody>\n",
              "    <tr>\n",
              "      <th>count</th>\n",
              "      <td>4173.000000</td>\n",
              "      <td>4173.000000</td>\n",
              "      <td>4173.000000</td>\n",
              "      <td>4173.000000</td>\n",
              "    </tr>\n",
              "    <tr>\n",
              "      <th>mean</th>\n",
              "      <td>1358.447160</td>\n",
              "      <td>1358.447160</td>\n",
              "      <td>0.938414</td>\n",
              "      <td>3.865564</td>\n",
              "    </tr>\n",
              "    <tr>\n",
              "      <th>std</th>\n",
              "      <td>1011.783419</td>\n",
              "      <td>1011.783419</td>\n",
              "      <td>2.363796</td>\n",
              "      <td>11.781585</td>\n",
              "    </tr>\n",
              "    <tr>\n",
              "      <th>min</th>\n",
              "      <td>0.000000</td>\n",
              "      <td>0.000000</td>\n",
              "      <td>0.000000</td>\n",
              "      <td>0.000000</td>\n",
              "    </tr>\n",
              "    <tr>\n",
              "      <th>25%</th>\n",
              "      <td>444.000000</td>\n",
              "      <td>444.000000</td>\n",
              "      <td>0.000000</td>\n",
              "      <td>0.000000</td>\n",
              "    </tr>\n",
              "    <tr>\n",
              "      <th>50%</th>\n",
              "      <td>1195.000000</td>\n",
              "      <td>1195.000000</td>\n",
              "      <td>0.000000</td>\n",
              "      <td>1.000000</td>\n",
              "    </tr>\n",
              "    <tr>\n",
              "      <th>75%</th>\n",
              "      <td>2241.000000</td>\n",
              "      <td>2241.000000</td>\n",
              "      <td>1.000000</td>\n",
              "      <td>3.000000</td>\n",
              "    </tr>\n",
              "    <tr>\n",
              "      <th>max</th>\n",
              "      <td>3298.000000</td>\n",
              "      <td>3298.000000</td>\n",
              "      <td>25.000000</td>\n",
              "      <td>202.000000</td>\n",
              "    </tr>\n",
              "  </tbody>\n",
              "</table>\n",
              "</div>"
            ],
            "text/plain": [
              "        Unnamed: 0  Unnamed: 0.1     retweets        likes\n",
              "count  4173.000000   4173.000000  4173.000000  4173.000000\n",
              "mean   1358.447160   1358.447160     0.938414     3.865564\n",
              "std    1011.783419   1011.783419     2.363796    11.781585\n",
              "min       0.000000      0.000000     0.000000     0.000000\n",
              "25%     444.000000    444.000000     0.000000     0.000000\n",
              "50%    1195.000000   1195.000000     0.000000     1.000000\n",
              "75%    2241.000000   2241.000000     1.000000     3.000000\n",
              "max    3298.000000   3298.000000    25.000000   202.000000"
            ]
          },
          "metadata": {
            "tags": []
          },
          "execution_count": 12
        }
      ]
    },
    {
      "cell_type": "markdown",
      "metadata": {
        "id": "cbFgvvZDXB-C"
      },
      "source": [
        "**Cleaning the Text**"
      ]
    },
    {
      "cell_type": "code",
      "metadata": {
        "id": "pOMT4Vw8W2kQ",
        "colab": {
          "base_uri": "https://localhost:8080/"
        },
        "outputId": "f841ca1d-9900-491a-8c12-96aa9d9ca026"
      },
      "source": [
        "#Map the lowering function to all column names\n",
        "\n",
        "nairobi_df2.columns = map(str.lower, nairobi_df2.columns)\n",
        "\n",
        "#Print the column names\n",
        "\n",
        "for col in nairobi_df2:\n",
        "    print(col)"
      ],
      "execution_count": 13,
      "outputs": [
        {
          "output_type": "stream",
          "text": [
            "unnamed: 0\n",
            "unnamed: 0.1\n",
            "datetime\n",
            "text\n",
            "retweets\n",
            "likes\n"
          ],
          "name": "stdout"
        }
      ]
    },
    {
      "cell_type": "code",
      "metadata": {
        "id": "8amW5B8MXIbP"
      },
      "source": [
        "#Removing Whitespace from both columns and rows and converting case to lower case\n",
        "#\n",
        "#Converting the text column to string dtype after getting an attribute error\n",
        "\"\"\"nairobi_df2['text'] = nairobi_df2['text'].astype(str)\n",
        "\n",
        "nairobi_df2.columns = nairobi_df2.str.strip().str.replace(\",\").str.lower()\n",
        "\n",
        "cat = nairobi_df2['text']\n",
        "\n",
        "for i, c in enumerate(cat):\n",
        "    nairobi_df2[cat] = nairobi_df2[c].str.strip().str.replace(\",\").str.lower()\"\"\"\n",
        "\n",
        "#Make text lowercase, remove text in square brackets, remove links, remove punctuation and remove words containing numbers\n",
        "import re\n",
        "import string\n",
        "\n",
        "def clean_text(text):\n",
        "    text = str(text).lower()\n",
        "    text = re.sub(\"\\[.*?\\]\", '', text)\n",
        "    text = re.sub(\"https?://\\S+|www\\.S+\", '', text)\n",
        "    text = re.sub(\"<.*?>+\", '', text)\n",
        "    text = re.sub(\"[%s]\" % re.escape(string.punctuation) , '', text)\n",
        "    text = re.sub(\"\\n\", '', text)\n",
        "    text = re.sub(\"\\w*\\d\\w*\", '', text)\n",
        "    return text"
      ],
      "execution_count": 14,
      "outputs": []
    },
    {
      "cell_type": "code",
      "metadata": {
        "id": "DMSTKFYNXlDq",
        "colab": {
          "base_uri": "https://localhost:8080/"
        },
        "outputId": "cd4ca478-79e3-40c3-f710-32e2604eb81e"
      },
      "source": [
        "#Using a lambda function to clean the text column\n",
        "\n",
        "nairobi_df2['text'] = nairobi_df2['text'].apply(lambda x:clean_text(x))"
      ],
      "execution_count": 15,
      "outputs": [
        {
          "output_type": "stream",
          "text": [
            "/usr/local/lib/python3.7/dist-packages/ipykernel_launcher.py:3: SettingWithCopyWarning:\n",
            "\n",
            "\n",
            "A value is trying to be set on a copy of a slice from a DataFrame.\n",
            "Try using .loc[row_indexer,col_indexer] = value instead\n",
            "\n",
            "See the caveats in the documentation: https://pandas.pydata.org/pandas-docs/stable/user_guide/indexing.html#returning-a-view-versus-a-copy\n",
            "\n"
          ],
          "name": "stderr"
        }
      ]
    },
    {
      "cell_type": "code",
      "metadata": {
        "id": "3hESbDDQXnla",
        "colab": {
          "base_uri": "https://localhost:8080/",
          "height": 204
        },
        "outputId": "022aac8a-4efc-4991-8998-a35aaa83697b"
      },
      "source": [
        "#Preview the dataset to see changes\n",
        "\n",
        "nairobi_df2.tail()"
      ],
      "execution_count": 16,
      "outputs": [
        {
          "output_type": "execute_result",
          "data": {
            "text/html": [
              "<div>\n",
              "<style scoped>\n",
              "    .dataframe tbody tr th:only-of-type {\n",
              "        vertical-align: middle;\n",
              "    }\n",
              "\n",
              "    .dataframe tbody tr th {\n",
              "        vertical-align: top;\n",
              "    }\n",
              "\n",
              "    .dataframe thead th {\n",
              "        text-align: right;\n",
              "    }\n",
              "</style>\n",
              "<table border=\"1\" class=\"dataframe\">\n",
              "  <thead>\n",
              "    <tr style=\"text-align: right;\">\n",
              "      <th></th>\n",
              "      <th>unnamed: 0</th>\n",
              "      <th>unnamed: 0.1</th>\n",
              "      <th>datetime</th>\n",
              "      <th>text</th>\n",
              "      <th>retweets</th>\n",
              "      <th>likes</th>\n",
              "    </tr>\n",
              "  </thead>\n",
              "  <tbody>\n",
              "    <tr>\n",
              "      <th>8178</th>\n",
              "      <td>36</td>\n",
              "      <td>36</td>\n",
              "      <td>2020-05-29 06:34:32+00:00</td>\n",
              "      <td>theres nothing like making a tough choice when...</td>\n",
              "      <td>0</td>\n",
              "      <td>0</td>\n",
              "    </tr>\n",
              "    <tr>\n",
              "      <th>8179</th>\n",
              "      <td>37</td>\n",
              "      <td>37</td>\n",
              "      <td>2020-05-29 06:20:25+00:00</td>\n",
              "      <td>president uhuru kenyatta made it clear thats t...</td>\n",
              "      <td>0</td>\n",
              "      <td>2</td>\n",
              "    </tr>\n",
              "    <tr>\n",
              "      <th>8180</th>\n",
              "      <td>38</td>\n",
              "      <td>38</td>\n",
              "      <td>2020-05-29 06:03:22+00:00</td>\n",
              "      <td>uhurustoughchoices mlisema huyu ni mtoto wa na...</td>\n",
              "      <td>0</td>\n",
              "      <td>0</td>\n",
              "    </tr>\n",
              "    <tr>\n",
              "      <th>8181</th>\n",
              "      <td>39</td>\n",
              "      <td>39</td>\n",
              "      <td>2020-05-29 05:19:20+00:00</td>\n",
              "      <td>among other tough choices uhuru must make is g...</td>\n",
              "      <td>3</td>\n",
              "      <td>4</td>\n",
              "    </tr>\n",
              "    <tr>\n",
              "      <th>8182</th>\n",
              "      <td>40</td>\n",
              "      <td>40</td>\n",
              "      <td>2020-05-27 18:59:53+00:00</td>\n",
              "      <td>pandemic perforated pockets plunging economy p...</td>\n",
              "      <td>1</td>\n",
              "      <td>6</td>\n",
              "    </tr>\n",
              "  </tbody>\n",
              "</table>\n",
              "</div>"
            ],
            "text/plain": [
              "      unnamed: 0  unnamed: 0.1  ... retweets likes\n",
              "8178          36            36  ...        0     0\n",
              "8179          37            37  ...        0     2\n",
              "8180          38            38  ...        0     0\n",
              "8181          39            39  ...        3     4\n",
              "8182          40            40  ...        1     6\n",
              "\n",
              "[5 rows x 6 columns]"
            ]
          },
          "metadata": {
            "tags": []
          },
          "execution_count": 16
        }
      ]
    },
    {
      "cell_type": "code",
      "metadata": {
        "id": "HgXr-UnuXwka",
        "colab": {
          "base_uri": "https://localhost:8080/",
          "height": 496
        },
        "outputId": "9797e58e-a124-468f-a65b-69914cd32e83"
      },
      "source": [
        "#Removing Stopwords\n",
        "\n",
        "import nltk\n",
        "nltk.download('stopwords')\n",
        "\n",
        "from nltk.corpus import stopwords\n",
        "stop = stopwords.words('english')\n",
        "\n",
        "nairobi_df2['text_without_stopwords'] = nairobi_df2['text'].apply(lambda x: ' '.join(word for word in str(x).split() if word not in stop))#this method gives back a list of words\n",
        "\n",
        "nairobi_df2.head()"
      ],
      "execution_count": 18,
      "outputs": [
        {
          "output_type": "stream",
          "text": [
            "[nltk_data] Downloading package stopwords to /root/nltk_data...\n",
            "[nltk_data]   Unzipping corpora/stopwords.zip.\n"
          ],
          "name": "stdout"
        },
        {
          "output_type": "stream",
          "text": [
            "/usr/local/lib/python3.7/dist-packages/ipykernel_launcher.py:9: SettingWithCopyWarning:\n",
            "\n",
            "\n",
            "A value is trying to be set on a copy of a slice from a DataFrame.\n",
            "Try using .loc[row_indexer,col_indexer] = value instead\n",
            "\n",
            "See the caveats in the documentation: https://pandas.pydata.org/pandas-docs/stable/user_guide/indexing.html#returning-a-view-versus-a-copy\n",
            "\n"
          ],
          "name": "stderr"
        },
        {
          "output_type": "execute_result",
          "data": {
            "text/html": [
              "<div>\n",
              "<style scoped>\n",
              "    .dataframe tbody tr th:only-of-type {\n",
              "        vertical-align: middle;\n",
              "    }\n",
              "\n",
              "    .dataframe tbody tr th {\n",
              "        vertical-align: top;\n",
              "    }\n",
              "\n",
              "    .dataframe thead th {\n",
              "        text-align: right;\n",
              "    }\n",
              "</style>\n",
              "<table border=\"1\" class=\"dataframe\">\n",
              "  <thead>\n",
              "    <tr style=\"text-align: right;\">\n",
              "      <th></th>\n",
              "      <th>unnamed: 0</th>\n",
              "      <th>unnamed: 0.1</th>\n",
              "      <th>datetime</th>\n",
              "      <th>text</th>\n",
              "      <th>retweets</th>\n",
              "      <th>likes</th>\n",
              "      <th>text_without_stopwords</th>\n",
              "    </tr>\n",
              "  </thead>\n",
              "  <tbody>\n",
              "    <tr>\n",
              "      <th>0</th>\n",
              "      <td>0</td>\n",
              "      <td>0</td>\n",
              "      <td>2020-06-06 19:28:03+00:00</td>\n",
              "      <td>mmetukosea sana sasa ningeenda hadi pahali gar...</td>\n",
              "      <td>0</td>\n",
              "      <td>2</td>\n",
              "      <td>mmetukosea sana sasa ningeenda hadi pahali gar...</td>\n",
              "    </tr>\n",
              "    <tr>\n",
              "      <th>1</th>\n",
              "      <td>1</td>\n",
              "      <td>1</td>\n",
              "      <td>2020-06-06 13:25:27+00:00</td>\n",
              "      <td>cant wait 🥰🥰  blacklivesmatter curfewinkenya w...</td>\n",
              "      <td>1</td>\n",
              "      <td>10</td>\n",
              "      <td>cant wait 🥰🥰 blacklivesmatter curfewinkenya wa...</td>\n",
              "    </tr>\n",
              "    <tr>\n",
              "      <th>2</th>\n",
              "      <td>2</td>\n",
              "      <td>2</td>\n",
              "      <td>2020-06-06 13:24:27+00:00</td>\n",
              "      <td>wakenya hawachoki na meme za uhuru😂😂 uhurukeny...</td>\n",
              "      <td>1</td>\n",
              "      <td>4</td>\n",
              "      <td>wakenya hawachoki na meme za uhuru😂😂 uhurukeny...</td>\n",
              "    </tr>\n",
              "    <tr>\n",
              "      <th>3</th>\n",
              "      <td>3</td>\n",
              "      <td>3</td>\n",
              "      <td>2020-06-06 13:03:01+00:00</td>\n",
              "      <td>fellow kenyans uhuruspeaks uhuruaddress</td>\n",
              "      <td>0</td>\n",
              "      <td>1</td>\n",
              "      <td>fellow kenyans uhuruspeaks uhuruaddress</td>\n",
              "    </tr>\n",
              "    <tr>\n",
              "      <th>4</th>\n",
              "      <td>4</td>\n",
              "      <td>4</td>\n",
              "      <td>2020-06-06 13:02:49+00:00</td>\n",
              "      <td>uhurukenyatta cessation of movement in nairobi...</td>\n",
              "      <td>0</td>\n",
              "      <td>2</td>\n",
              "      <td>uhurukenyatta cessation movement nairobi momba...</td>\n",
              "    </tr>\n",
              "  </tbody>\n",
              "</table>\n",
              "</div>"
            ],
            "text/plain": [
              "   unnamed: 0  ...                             text_without_stopwords\n",
              "0           0  ...  mmetukosea sana sasa ningeenda hadi pahali gar...\n",
              "1           1  ...  cant wait 🥰🥰 blacklivesmatter curfewinkenya wa...\n",
              "2           2  ...  wakenya hawachoki na meme za uhuru😂😂 uhurukeny...\n",
              "3           3  ...            fellow kenyans uhuruspeaks uhuruaddress\n",
              "4           4  ...  uhurukenyatta cessation movement nairobi momba...\n",
              "\n",
              "[5 rows x 7 columns]"
            ]
          },
          "metadata": {
            "tags": []
          },
          "execution_count": 18
        }
      ]
    },
    {
      "cell_type": "code",
      "metadata": {
        "id": "C3P7cYKbe5Q_"
      },
      "source": [
        "#Check for the maximum and minimum dates in the data\n",
        "\n",
        "print(f\" Data Available since {nairobi_df2.datetime.min()}\")\n",
        "print(f\" Data Available upto {nairobi_df2.datetime.max()}\")"
      ],
      "execution_count": null,
      "outputs": []
    },
    {
      "cell_type": "markdown",
      "metadata": {
        "id": "7qK7_kT2fKl9"
      },
      "source": [
        "**Visualizations**"
      ]
    },
    {
      "cell_type": "markdown",
      "metadata": {
        "id": "EsPE3D98fW6t"
      },
      "source": [
        "### Common Words"
      ]
    },
    {
      "cell_type": "code",
      "metadata": {
        "id": "WGtGyf32fGQv"
      },
      "source": [
        "#Checking for the most common words\n",
        "\n",
        "from collections import Counter\n",
        "nairobi_df2['text_without_stopwords'] = nairobi_df2['text_without_stopwords'].apply(lambda x:str(x).split())\n",
        "top = Counter([item for sublist in nairobi_df2['text_without_stopwords'] for item in sublist])\n",
        "tweets = pd.DataFrame(top.most_common(51))\n",
        "tweets.columns = ['common words', 'count']\n",
        "tweets.style.background_gradient(cmap = 'Blues')"
      ],
      "execution_count": null,
      "outputs": []
    },
    {
      "cell_type": "markdown",
      "metadata": {
        "id": "Bk2Va7QcggOf"
      },
      "source": [
        "### Wordcloud"
      ]
    },
    {
      "cell_type": "code",
      "metadata": {
        "id": "WKv6z8LdiSlN"
      },
      "source": [
        "def plot_wordcloud(text, mask=None, max_words=500, max_font_size=100, figure_size=(14.0,6.0), color = 'white',\n",
        "                   title = None, title_size=40, image_color=False):\n",
        "    stopwords = set(STOPWORDS)\n",
        "    more_stopwords = {'sasa', \"wa\", 'wa', 'sana', 'hadi', 'na', 'huyu', 'ni',\n",
        "                      'za', 'enga', 'mtoto'}\n",
        "    stopwords = stopwords.union(more_stopwords)\n",
        "\n",
        "    wordcloud = WordCloud(background_color=color,\n",
        "                    stopwords = stopwords,\n",
        "                    max_words = max_words,\n",
        "                    max_font_size = max_font_size, \n",
        "                    random_state = 42,\n",
        "                    width=400, \n",
        "                    height=200,\n",
        "                    mask = mask)\n",
        "    wordcloud.generate(str(text))\n",
        "    \n",
        "    plt.figure(figsize=figure_size)\n",
        "    if image_color:\n",
        "        image_colors = ImageColorGenerator(mask);\n",
        "        plt.imshow(wordcloud.recolor(color_func=image_colors), interpolation=\"bilinear\");\n",
        "        plt.title(title, fontdict={'size': title_size,  \n",
        "                                  'verticalalignment': 'bottom'})\n",
        "    else:\n",
        "        plt.imshow(wordcloud);\n",
        "        plt.title(title, fontdict={'size': title_size, 'color': 'black', \n",
        "                                  'verticalalignment': 'bottom'})\n",
        "    plt.axis('off');\n",
        "    plt.tight_layout()  \n",
        "d = '/content/gdrive/My Drive/Coronavirus_Tweets/'"
      ],
      "execution_count": 37,
      "outputs": []
    },
    {
      "cell_type": "code",
      "metadata": {
        "colab": {
          "base_uri": "https://localhost:8080/",
          "height": 441
        },
        "id": "CteKBTfJklcA",
        "outputId": "bebd27e6-c191-400e-aaeb-84613f48da20"
      },
      "source": [
        "pos_mask = np.array(Image.open(d+ 'upvote.png'))\n",
        "plot_wordcloud(nairobi_df2.text_without_stopwords,mask=pos_mask,color='white',max_font_size=300,title_size=30,title=\"Most Common Tweets\")"
      ],
      "execution_count": 38,
      "outputs": [
        {
          "output_type": "display_data",
          "data": {
            "image/png": "[encoded data removed]",
            "text/plain": [
              "<Figure size 1008x432 with 1 Axes>"
            ]
          },
          "metadata": {
            "tags": [],
            "needs_background": "light"
          }
        }
      ]
    },
    {
      "cell_type": "code",
      "metadata": {
        "id": "8005N5GK2A8L",
        "colab": {
          "base_uri": "https://localhost:8080/",
          "height": 905
        },
        "outputId": "a81be157-98fa-4aa6-eb7d-92a44ac6e500"
      },
      "source": [
        "#The number of tweets according to dates\n",
        "\n",
        "nairobi_df2['datetime'] =  pd.to_datetime(nairobi_df2['datetime'])\n",
        "cnt_srs =nairobi_df2['datetime'].dt.date.value_counts()\n",
        "cnt_srs = cnt_srs.sort_index()\n",
        "plt.figure(figsize=(28,15))\n",
        "sns.barplot(cnt_srs.index, cnt_srs.values, alpha=0.8, color='green')\n",
        "plt.xticks(rotation='vertical')\n",
        "plt.xlabel('Date', fontsize=15)\n",
        "plt.ylabel('Number of tweets', fontsize=15)\n",
        "plt.title(\"Number of tweets according to dates\")\n",
        "plt.show()"
      ],
      "execution_count": 33,
      "outputs": [
        {
          "output_type": "stream",
          "text": [
            "/usr/local/lib/python3.7/dist-packages/ipykernel_launcher.py:3: SettingWithCopyWarning:\n",
            "\n",
            "\n",
            "A value is trying to be set on a copy of a slice from a DataFrame.\n",
            "Try using .loc[row_indexer,col_indexer] = value instead\n",
            "\n",
            "See the caveats in the documentation: https://pandas.pydata.org/pandas-docs/stable/user_guide/indexing.html#returning-a-view-versus-a-copy\n",
            "\n",
            "/usr/local/lib/python3.7/dist-packages/seaborn/_decorators.py:43: FutureWarning:\n",
            "\n",
            "Pass the following variables as keyword args: x, y. From version 0.12, the only valid positional argument will be `data`, and passing other arguments without an explicit keyword will result in an error or misinterpretation.\n",
            "\n"
          ],
          "name": "stderr"
        },
        {
          "output_type": "display_data",
          "data": {
            "image/png": "[encoded data removed]",
            "text/plain": [
              "<Figure size 2016x1080 with 1 Axes>"
            ]
          },
          "metadata": {
            "tags": [],
            "needs_background": "light"
          }
        }
      ]
    },
    {
      "cell_type": "markdown",
      "metadata": {
        "id": "npt9UNflfAB5"
      },
      "source": [
        "# <center>**Bag of Words**</center>\n",
        "\n",
        "### Procedure\n",
        "\n",
        "\n",
        "*   Tokenize\n",
        "*   Remove Stopwords\n",
        "*   Lemmatization\n",
        "*   Modeling with BOW\n",
        "*   Split test and train data\n",
        "\n",
        "\n",
        "\n"
      ]
    },
    {
      "cell_type": "code",
      "metadata": {
        "colab": {
          "base_uri": "https://localhost:8080/"
        },
        "id": "8Nly5tKifPGc",
        "outputId": "651e36f6-7501-40f0-a62c-235e5e35521e"
      },
      "source": [
        "#Tokenizing\n",
        "\n",
        "nltk.download('punkt')\n",
        "nltk.download('wordnet')"
      ],
      "execution_count": 36,
      "outputs": [
        {
          "output_type": "stream",
          "text": [
            "[nltk_data] Downloading package punkt to /root/nltk_data...\n",
            "[nltk_data]   Unzipping tokenizers/punkt.zip.\n",
            "[nltk_data] Downloading package wordnet to /root/nltk_data...\n",
            "[nltk_data]   Unzipping corpora/wordnet.zip.\n"
          ],
          "name": "stdout"
        },
        {
          "output_type": "execute_result",
          "data": {
            "text/plain": [
              "True"
            ]
          },
          "metadata": {
            "tags": []
          },
          "execution_count": 36
        }
      ]
    },
    {
      "cell_type": "code",
      "metadata": {
        "id": "W4lsJPGs3miP",
        "outputId": "a8fc2a18-4c20-47a1-831a-a88903a250d5",
        "colab": {
          "base_uri": "https://localhost:8080/",
          "height": 306
        }
      },
      "source": [
        "#Save the dataframe to a csv file for Bag of Words\n",
        "\n",
        "nairobi_df3 = nairobi_df2.to_csv('/content/gdrive/My Drive/Coronavirus_Tweets/bow.csv')\n",
        "\n",
        "#Load the dataset\n",
        "nairobi_df3 = pd.read_csv('/content/gdrive/My Drive/Coronavirus_Tweets/bow.csv')\n",
        "\n",
        "#Preview the first few rows\n",
        "nairobi_df3.head()"
      ],
      "execution_count": 47,
      "outputs": [
        {
          "output_type": "execute_result",
          "data": {
            "text/html": [
              "<div>\n",
              "<style scoped>\n",
              "    .dataframe tbody tr th:only-of-type {\n",
              "        vertical-align: middle;\n",
              "    }\n",
              "\n",
              "    .dataframe tbody tr th {\n",
              "        vertical-align: top;\n",
              "    }\n",
              "\n",
              "    .dataframe thead th {\n",
              "        text-align: right;\n",
              "    }\n",
              "</style>\n",
              "<table border=\"1\" class=\"dataframe\">\n",
              "  <thead>\n",
              "    <tr style=\"text-align: right;\">\n",
              "      <th></th>\n",
              "      <th>Unnamed: 0</th>\n",
              "      <th>unnamed: 0</th>\n",
              "      <th>unnamed: 0.1</th>\n",
              "      <th>datetime</th>\n",
              "      <th>text</th>\n",
              "      <th>retweets</th>\n",
              "      <th>likes</th>\n",
              "      <th>text_without_stopwords</th>\n",
              "    </tr>\n",
              "  </thead>\n",
              "  <tbody>\n",
              "    <tr>\n",
              "      <th>0</th>\n",
              "      <td>0</td>\n",
              "      <td>0</td>\n",
              "      <td>0</td>\n",
              "      <td>2020-06-06 19:28:03+00:00</td>\n",
              "      <td>mmetukosea sana sasa ningeenda hadi pahali gar...</td>\n",
              "      <td>0</td>\n",
              "      <td>2</td>\n",
              "      <td>mmetukosea sana sasa ningeenda hadi pahali gar...</td>\n",
              "    </tr>\n",
              "    <tr>\n",
              "      <th>1</th>\n",
              "      <td>1</td>\n",
              "      <td>1</td>\n",
              "      <td>1</td>\n",
              "      <td>2020-06-06 13:25:27+00:00</td>\n",
              "      <td>cant wait 🥰🥰  blacklivesmatter curfewinkenya w...</td>\n",
              "      <td>1</td>\n",
              "      <td>10</td>\n",
              "      <td>cant wait 🥰🥰 blacklivesmatter curfewinkenya wa...</td>\n",
              "    </tr>\n",
              "    <tr>\n",
              "      <th>2</th>\n",
              "      <td>2</td>\n",
              "      <td>2</td>\n",
              "      <td>2</td>\n",
              "      <td>2020-06-06 13:24:27+00:00</td>\n",
              "      <td>wakenya hawachoki na meme za uhuru😂😂 uhurukeny...</td>\n",
              "      <td>1</td>\n",
              "      <td>4</td>\n",
              "      <td>wakenya hawachoki na meme za uhuru😂😂 uhurukeny...</td>\n",
              "    </tr>\n",
              "    <tr>\n",
              "      <th>3</th>\n",
              "      <td>3</td>\n",
              "      <td>3</td>\n",
              "      <td>3</td>\n",
              "      <td>2020-06-06 13:03:01+00:00</td>\n",
              "      <td>fellow kenyans uhuruspeaks uhuruaddress</td>\n",
              "      <td>0</td>\n",
              "      <td>1</td>\n",
              "      <td>fellow kenyans uhuruspeaks uhuruaddress</td>\n",
              "    </tr>\n",
              "    <tr>\n",
              "      <th>4</th>\n",
              "      <td>4</td>\n",
              "      <td>4</td>\n",
              "      <td>4</td>\n",
              "      <td>2020-06-06 13:02:49+00:00</td>\n",
              "      <td>uhurukenyatta cessation of movement in nairobi...</td>\n",
              "      <td>0</td>\n",
              "      <td>2</td>\n",
              "      <td>uhurukenyatta cessation movement nairobi momba...</td>\n",
              "    </tr>\n",
              "  </tbody>\n",
              "</table>\n",
              "</div>"
            ],
            "text/plain": [
              "   Unnamed: 0  ...                             text_without_stopwords\n",
              "0           0  ...  mmetukosea sana sasa ningeenda hadi pahali gar...\n",
              "1           1  ...  cant wait 🥰🥰 blacklivesmatter curfewinkenya wa...\n",
              "2           2  ...  wakenya hawachoki na meme za uhuru😂😂 uhurukeny...\n",
              "3           3  ...            fellow kenyans uhuruspeaks uhuruaddress\n",
              "4           4  ...  uhurukenyatta cessation movement nairobi momba...\n",
              "\n",
              "[5 rows x 8 columns]"
            ]
          },
          "metadata": {
            "tags": []
          },
          "execution_count": 47
        }
      ]
    },
    {
      "cell_type": "code",
      "metadata": {
        "id": "Hys7VetDAE7i",
        "outputId": "1246bce0-acec-48cd-cfe4-1416ad2e1e61",
        "colab": {
          "base_uri": "https://localhost:8080/",
          "height": 419
        }
      },
      "source": [
        "#Dropping the unnamed columns\n",
        "\n",
        "nairobi_df3.drop(['Unnamed: 0', 'unnamed: 0', 'unnamed: 0.1'], axis=1)"
      ],
      "execution_count": 52,
      "outputs": [
        {
          "output_type": "execute_result",
          "data": {
            "text/html": [
              "<div>\n",
              "<style scoped>\n",
              "    .dataframe tbody tr th:only-of-type {\n",
              "        vertical-align: middle;\n",
              "    }\n",
              "\n",
              "    .dataframe tbody tr th {\n",
              "        vertical-align: top;\n",
              "    }\n",
              "\n",
              "    .dataframe thead th {\n",
              "        text-align: right;\n",
              "    }\n",
              "</style>\n",
              "<table border=\"1\" class=\"dataframe\">\n",
              "  <thead>\n",
              "    <tr style=\"text-align: right;\">\n",
              "      <th></th>\n",
              "      <th>datetime</th>\n",
              "      <th>text</th>\n",
              "      <th>retweets</th>\n",
              "      <th>likes</th>\n",
              "      <th>text_without_stopwords</th>\n",
              "    </tr>\n",
              "  </thead>\n",
              "  <tbody>\n",
              "    <tr>\n",
              "      <th>0</th>\n",
              "      <td>2020-06-06 19:28:03+00:00</td>\n",
              "      <td>mmetukosea sana sasa ningeenda hadi pahali gar...</td>\n",
              "      <td>0</td>\n",
              "      <td>2</td>\n",
              "      <td>mmetukosea sana sasa ningeenda hadi pahali gar...</td>\n",
              "    </tr>\n",
              "    <tr>\n",
              "      <th>1</th>\n",
              "      <td>2020-06-06 13:25:27+00:00</td>\n",
              "      <td>cant wait 🥰🥰  blacklivesmatter curfewinkenya w...</td>\n",
              "      <td>1</td>\n",
              "      <td>10</td>\n",
              "      <td>cant wait 🥰🥰 blacklivesmatter curfewinkenya wa...</td>\n",
              "    </tr>\n",
              "    <tr>\n",
              "      <th>2</th>\n",
              "      <td>2020-06-06 13:24:27+00:00</td>\n",
              "      <td>wakenya hawachoki na meme za uhuru😂😂 uhurukeny...</td>\n",
              "      <td>1</td>\n",
              "      <td>4</td>\n",
              "      <td>wakenya hawachoki na meme za uhuru😂😂 uhurukeny...</td>\n",
              "    </tr>\n",
              "    <tr>\n",
              "      <th>3</th>\n",
              "      <td>2020-06-06 13:03:01+00:00</td>\n",
              "      <td>fellow kenyans uhuruspeaks uhuruaddress</td>\n",
              "      <td>0</td>\n",
              "      <td>1</td>\n",
              "      <td>fellow kenyans uhuruspeaks uhuruaddress</td>\n",
              "    </tr>\n",
              "    <tr>\n",
              "      <th>4</th>\n",
              "      <td>2020-06-06 13:02:49+00:00</td>\n",
              "      <td>uhurukenyatta cessation of movement in nairobi...</td>\n",
              "      <td>0</td>\n",
              "      <td>2</td>\n",
              "      <td>uhurukenyatta cessation movement nairobi momba...</td>\n",
              "    </tr>\n",
              "    <tr>\n",
              "      <th>...</th>\n",
              "      <td>...</td>\n",
              "      <td>...</td>\n",
              "      <td>...</td>\n",
              "      <td>...</td>\n",
              "      <td>...</td>\n",
              "    </tr>\n",
              "    <tr>\n",
              "      <th>4168</th>\n",
              "      <td>2020-05-29 06:34:32+00:00</td>\n",
              "      <td>theres nothing like making a tough choice when...</td>\n",
              "      <td>0</td>\n",
              "      <td>0</td>\n",
              "      <td>theres nothing like making tough choice comes ...</td>\n",
              "    </tr>\n",
              "    <tr>\n",
              "      <th>4169</th>\n",
              "      <td>2020-05-29 06:20:25+00:00</td>\n",
              "      <td>president uhuru kenyatta made it clear thats t...</td>\n",
              "      <td>0</td>\n",
              "      <td>2</td>\n",
              "      <td>president uhuru kenyatta made clear thats enga...</td>\n",
              "    </tr>\n",
              "    <tr>\n",
              "      <th>4170</th>\n",
              "      <td>2020-05-29 06:03:22+00:00</td>\n",
              "      <td>uhurustoughchoices mlisema huyu ni mtoto wa na...</td>\n",
              "      <td>0</td>\n",
              "      <td>0</td>\n",
              "      <td>uhurustoughchoices mlisema huyu ni mtoto wa na...</td>\n",
              "    </tr>\n",
              "    <tr>\n",
              "      <th>4171</th>\n",
              "      <td>2020-05-29 05:19:20+00:00</td>\n",
              "      <td>among other tough choices uhuru must make is g...</td>\n",
              "      <td>3</td>\n",
              "      <td>4</td>\n",
              "      <td>among tough choices uhuru must make getting co...</td>\n",
              "    </tr>\n",
              "    <tr>\n",
              "      <th>4172</th>\n",
              "      <td>2020-05-27 18:59:53+00:00</td>\n",
              "      <td>pandemic perforated pockets plunging economy p...</td>\n",
              "      <td>1</td>\n",
              "      <td>6</td>\n",
              "      <td>pandemic perforated pockets plunging economy p...</td>\n",
              "    </tr>\n",
              "  </tbody>\n",
              "</table>\n",
              "<p>4173 rows × 5 columns</p>\n",
              "</div>"
            ],
            "text/plain": [
              "                       datetime  ...                             text_without_stopwords\n",
              "0     2020-06-06 19:28:03+00:00  ...  mmetukosea sana sasa ningeenda hadi pahali gar...\n",
              "1     2020-06-06 13:25:27+00:00  ...  cant wait 🥰🥰 blacklivesmatter curfewinkenya wa...\n",
              "2     2020-06-06 13:24:27+00:00  ...  wakenya hawachoki na meme za uhuru😂😂 uhurukeny...\n",
              "3     2020-06-06 13:03:01+00:00  ...            fellow kenyans uhuruspeaks uhuruaddress\n",
              "4     2020-06-06 13:02:49+00:00  ...  uhurukenyatta cessation movement nairobi momba...\n",
              "...                         ...  ...                                                ...\n",
              "4168  2020-05-29 06:34:32+00:00  ...  theres nothing like making tough choice comes ...\n",
              "4169  2020-05-29 06:20:25+00:00  ...  president uhuru kenyatta made clear thats enga...\n",
              "4170  2020-05-29 06:03:22+00:00  ...  uhurustoughchoices mlisema huyu ni mtoto wa na...\n",
              "4171  2020-05-29 05:19:20+00:00  ...  among tough choices uhuru must make getting co...\n",
              "4172  2020-05-27 18:59:53+00:00  ...  pandemic perforated pockets plunging economy p...\n",
              "\n",
              "[4173 rows x 5 columns]"
            ]
          },
          "metadata": {
            "tags": []
          },
          "execution_count": 52
        }
      ]
    },
    {
      "cell_type": "code",
      "metadata": {
        "id": "l0z-8U9UBo95",
        "outputId": "a268df16-f047-40b6-86db-f302e7cdf7d4",
        "colab": {
          "base_uri": "https://localhost:8080/",
          "height": 166
        }
      },
      "source": [
        "#Split the text column to create a new column, \"text_list\" then create a dataframe of two columns; \"most_common_words\" and \"count\"\n",
        "\n",
        "nairobi_df3['text_list'] = nairobi_df3['text'].apply(lambda x:str(x).split()) #Use tokenize or split, smae results\n",
        "top = Counter([item for sublist in nairobi_df3['text_list'] for item in sublist]) #Counts the frequency of words\n",
        "temp = pd.DataFrame(top.most_common(6)) #top five words\n",
        "temp.columns = ['common_words', 'count']\n",
        "temp.style.background_gradient(cmap = 'Blues')"
      ],
      "execution_count": 56,
      "outputs": [
        {
          "output_type": "execute_result",
          "data": {
            "text/html": [
              "<style  type=\"text/css\" >\n",
              "#T_3b4449fc_82ac_11eb_be71_0242ac1c0002row0_col1{\n",
              "            background-color:  #08306b;\n",
              "            color:  #f1f1f1;\n",
              "        }#T_3b4449fc_82ac_11eb_be71_0242ac1c0002row1_col1{\n",
              "            background-color:  #2272b6;\n",
              "            color:  #f1f1f1;\n",
              "        }#T_3b4449fc_82ac_11eb_be71_0242ac1c0002row2_col1{\n",
              "            background-color:  #87bddc;\n",
              "            color:  #000000;\n",
              "        }#T_3b4449fc_82ac_11eb_be71_0242ac1c0002row3_col1{\n",
              "            background-color:  #bfd8ed;\n",
              "            color:  #000000;\n",
              "        }#T_3b4449fc_82ac_11eb_be71_0242ac1c0002row4_col1{\n",
              "            background-color:  #f2f8fd;\n",
              "            color:  #000000;\n",
              "        }#T_3b4449fc_82ac_11eb_be71_0242ac1c0002row5_col1{\n",
              "            background-color:  #f7fbff;\n",
              "            color:  #000000;\n",
              "        }</style><table id=\"T_3b4449fc_82ac_11eb_be71_0242ac1c0002\" ><thead>    <tr>        <th class=\"blank level0\" ></th>        <th class=\"col_heading level0 col0\" >common_words</th>        <th class=\"col_heading level0 col1\" >count</th>    </tr></thead><tbody>\n",
              "                <tr>\n",
              "                        <th id=\"T_3b4449fc_82ac_11eb_be71_0242ac1c0002level0_row0\" class=\"row_heading level0 row0\" >0</th>\n",
              "                        <td id=\"T_3b4449fc_82ac_11eb_be71_0242ac1c0002row0_col0\" class=\"data row0 col0\" >the</td>\n",
              "                        <td id=\"T_3b4449fc_82ac_11eb_be71_0242ac1c0002row0_col1\" class=\"data row0 col1\" >2159</td>\n",
              "            </tr>\n",
              "            <tr>\n",
              "                        <th id=\"T_3b4449fc_82ac_11eb_be71_0242ac1c0002level0_row1\" class=\"row_heading level0 row1\" >1</th>\n",
              "                        <td id=\"T_3b4449fc_82ac_11eb_be71_0242ac1c0002row1_col0\" class=\"data row1 col0\" >to</td>\n",
              "                        <td id=\"T_3b4449fc_82ac_11eb_be71_0242ac1c0002row1_col1\" class=\"data row1 col1\" >1962</td>\n",
              "            </tr>\n",
              "            <tr>\n",
              "                        <th id=\"T_3b4449fc_82ac_11eb_be71_0242ac1c0002level0_row2\" class=\"row_heading level0 row2\" >2</th>\n",
              "                        <td id=\"T_3b4449fc_82ac_11eb_be71_0242ac1c0002row2_col0\" class=\"data row2 col0\" >and</td>\n",
              "                        <td id=\"T_3b4449fc_82ac_11eb_be71_0242ac1c0002row2_col1\" class=\"data row2 col1\" >1725</td>\n",
              "            </tr>\n",
              "            <tr>\n",
              "                        <th id=\"T_3b4449fc_82ac_11eb_be71_0242ac1c0002level0_row3\" class=\"row_heading level0 row3\" >3</th>\n",
              "                        <td id=\"T_3b4449fc_82ac_11eb_be71_0242ac1c0002row3_col0\" class=\"data row3 col0\" >stay</td>\n",
              "                        <td id=\"T_3b4449fc_82ac_11eb_be71_0242ac1c0002row3_col1\" class=\"data row3 col1\" >1602</td>\n",
              "            </tr>\n",
              "            <tr>\n",
              "                        <th id=\"T_3b4449fc_82ac_11eb_be71_0242ac1c0002level0_row4\" class=\"row_heading level0 row4\" >4</th>\n",
              "                        <td id=\"T_3b4449fc_82ac_11eb_be71_0242ac1c0002row4_col0\" class=\"data row4 col0\" >safe</td>\n",
              "                        <td id=\"T_3b4449fc_82ac_11eb_be71_0242ac1c0002row4_col1\" class=\"data row4 col1\" >1413</td>\n",
              "            </tr>\n",
              "            <tr>\n",
              "                        <th id=\"T_3b4449fc_82ac_11eb_be71_0242ac1c0002level0_row5\" class=\"row_heading level0 row5\" >5</th>\n",
              "                        <td id=\"T_3b4449fc_82ac_11eb_be71_0242ac1c0002row5_col0\" class=\"data row5 col0\" >staysafe</td>\n",
              "                        <td id=\"T_3b4449fc_82ac_11eb_be71_0242ac1c0002row5_col1\" class=\"data row5 col1\" >1394</td>\n",
              "            </tr>\n",
              "    </tbody></table>"
            ],
            "text/plain": [
              "<pandas.io.formats.style.Styler at 0x7f3cc31d1450>"
            ]
          },
          "metadata": {
            "tags": []
          },
          "execution_count": 56
        }
      ]
    },
    {
      "cell_type": "code",
      "metadata": {
        "id": "K7_FO8pAE4FG",
        "outputId": "ae389615-b90c-461a-aa37-91f1d97c29f8",
        "colab": {
          "base_uri": "https://localhost:8080/"
        }
      },
      "source": [
        "#Check a summary of the data\n",
        "\n",
        "nairobi_df3.info()"
      ],
      "execution_count": 57,
      "outputs": [
        {
          "output_type": "stream",
          "text": [
            "<class 'pandas.core.frame.DataFrame'>\n",
            "RangeIndex: 4173 entries, 0 to 4172\n",
            "Data columns (total 9 columns):\n",
            " #   Column                  Non-Null Count  Dtype \n",
            "---  ------                  --------------  ----- \n",
            " 0   Unnamed: 0              4173 non-null   int64 \n",
            " 1   unnamed: 0              4173 non-null   int64 \n",
            " 2   unnamed: 0.1            4173 non-null   int64 \n",
            " 3   datetime                4173 non-null   object\n",
            " 4   text                    4173 non-null   object\n",
            " 5   retweets                4173 non-null   int64 \n",
            " 6   likes                   4173 non-null   int64 \n",
            " 7   text_without_stopwords  4172 non-null   object\n",
            " 8   text_list               4173 non-null   object\n",
            "dtypes: int64(5), object(4)\n",
            "memory usage: 293.5+ KB\n"
          ],
          "name": "stdout"
        }
      ]
    },
    {
      "cell_type": "code",
      "metadata": {
        "id": "G7CtFaWNFeRb",
        "outputId": "172eae4d-ccfb-4f4d-cf5f-5d68be91da8f",
        "colab": {
          "base_uri": "https://localhost:8080/"
        }
      },
      "source": [
        "#Check the Text_List column contents of first 20\n",
        "\n",
        "nairobi_df3['text_list'][0:21]"
      ],
      "execution_count": 58,
      "outputs": [
        {
          "output_type": "execute_result",
          "data": {
            "text/plain": [
              "0     [mmetukosea, sana, sasa, ningeenda, hadi, paha...\n",
              "1     [cant, wait, 🥰🥰, blacklivesmatter, curfewinken...\n",
              "2     [wakenya, hawachoki, na, meme, za, uhuru😂😂, uh...\n",
              "3          [fellow, kenyans, uhuruspeaks, uhuruaddress]\n",
              "4     [uhurukenyatta, cessation, of, movement, in, n...\n",
              "5     [tumeni, pombe, ni, sahau, hiyo, kizungu, ming...\n",
              "6     [maryannwanguike, forget, uhuruaddressam, a, f...\n",
              "7     [nationwide, dusk, to, dawn, curfew, extended,...\n",
              "8                                        [uhuruaddress]\n",
              "9     [uhuru, cessation, of, movement, of, eastleigh...\n",
              "10    [free, delivery, in, ongata, rongai, karen, an...\n",
              "11                         [here, we, go, uhuruaddress]\n",
              "12                              [lol😅, 😂, uhuruaddress]\n",
              "13    [kenya, will, be, green, againissues, affectin...\n",
              "14    [that, to, purchase, locally, manufactured, ve...\n",
              "15    [“money, in, the, hands, of, a, family, restor...\n",
              "16    [president, uhuru, kenyatta, my, administratio...\n",
              "17    [the, government, need, to, add, mind, your, b...\n",
              "18    [my, question, would, be, what, was, really, a...\n",
              "19    [the, difference, is, like, day, and, night, i...\n",
              "20    [uhuruaddress, announces, ksh, stimulus, plan,...\n",
              "Name: text_list, dtype: object"
            ]
          },
          "metadata": {
            "tags": []
          },
          "execution_count": 58
        }
      ]
    },
    {
      "cell_type": "code",
      "metadata": {
        "id": "0ER5mSTxGSLP",
        "outputId": "48ff43cc-92a0-48cd-d08c-96f3a683f0fd",
        "colab": {
          "base_uri": "https://localhost:8080/"
        }
      },
      "source": [
        "#Check the length of the text_list column\n",
        "\n",
        "len(nairobi_df3['text_list'])"
      ],
      "execution_count": 59,
      "outputs": [
        {
          "output_type": "execute_result",
          "data": {
            "text/plain": [
              "4173"
            ]
          },
          "metadata": {
            "tags": []
          },
          "execution_count": 59
        }
      ]
    },
    {
      "cell_type": "markdown",
      "metadata": {
        "id": "UyGOq1WJHJck"
      },
      "source": [
        "**Lemmatization & Stemming**\n",
        "\n",
        "#### English Language stemmers: only identify with English language text\n",
        "\n",
        "\n",
        "1.   Porter Stemmer; uses sufix stripping. does not keep a look-up table/dictionary for words\n",
        "2.   Snowball Stemmer; more agressive than porter stemmer. **NB:** *You must specify that you want the english language texts coz it also has a dictionary of other words*\n",
        "\n",
        "#### Other Language stemmers\n",
        "\n",
        "\n",
        "1.   ISRI Stemmer; Arabic Language\n",
        "2.   RSLP Stemmer; Portuguese Language\n",
        "1.   Lancaster Stemmer - is heavy. requires good memory of computer resources.\n",
        "2.   List item\n",
        "\n",
        "\n",
        "\n",
        "\n"
      ]
    },
    {
      "cell_type": "code",
      "metadata": {
        "id": "QMveSPymG_V5"
      },
      "source": [
        "#Preparing text for BOW: Remove stopwords & stem/Lemmatize\n",
        "\n",
        "def prep_text(text):\n",
        "  import nltk\n",
        "\n",
        "  #Remove HTML tags\n",
        "  my_text = BeautifulSoup(text, 'html.parser').get_text()\n",
        "\n",
        "  #Tokenize words\n",
        "  tokens = nltk.word_tokenize(my_text)\n",
        "\n",
        "  #Define Stopwords\n",
        "  stops = set(stopwords.words('english'))\n",
        "\n",
        "  #Remove the stopwords\n",
        "  words = [x for x in tokens if not x in stops]\n",
        "\n",
        "  #Stemming\n",
        "  stemmer = PorterStemmer()\n",
        "  stemmed_words = []\n",
        "  for i in range(0, len(words)):\n",
        "    l2 = ' '.join([stemmer.stem(word) for word in words])\n",
        "    stemmed_words.append(l2)\n",
        "\n",
        "  #words = [nltk.SnowballStemmer('english').stem(w) for w in words]\n",
        "\n",
        "  #Join the words back into one string separated by a space and return results\n",
        "  return stemmed_words"
      ],
      "execution_count": 66,
      "outputs": []
    },
    {
      "cell_type": "code",
      "metadata": {
        "id": "Ni2KMpLtMM9J"
      },
      "source": [
        "#Performing iterative preps on each of the statements\n",
        "nairobi_df3['text_stem'] = nairobi_df3['text'].apply(prep_text)"
      ],
      "execution_count": 67,
      "outputs": []
    },
    {
      "cell_type": "code",
      "metadata": {
        "id": "FsDSwHVSMqaq",
        "outputId": "a9c33c83-128a-4fb4-ed9c-88b1f3fdaf0c",
        "colab": {
          "base_uri": "https://localhost:8080/",
          "height": 507
        }
      },
      "source": [
        "#View the stemmed words\n",
        "nairobi_df3.sample(6)"
      ],
      "execution_count": 69,
      "outputs": [
        {
          "output_type": "execute_result",
          "data": {
            "text/html": [
              "<div>\n",
              "<style scoped>\n",
              "    .dataframe tbody tr th:only-of-type {\n",
              "        vertical-align: middle;\n",
              "    }\n",
              "\n",
              "    .dataframe tbody tr th {\n",
              "        vertical-align: top;\n",
              "    }\n",
              "\n",
              "    .dataframe thead th {\n",
              "        text-align: right;\n",
              "    }\n",
              "</style>\n",
              "<table border=\"1\" class=\"dataframe\">\n",
              "  <thead>\n",
              "    <tr style=\"text-align: right;\">\n",
              "      <th></th>\n",
              "      <th>Unnamed: 0</th>\n",
              "      <th>unnamed: 0</th>\n",
              "      <th>unnamed: 0.1</th>\n",
              "      <th>datetime</th>\n",
              "      <th>text</th>\n",
              "      <th>retweets</th>\n",
              "      <th>likes</th>\n",
              "      <th>text_without_stopwords</th>\n",
              "      <th>text_list</th>\n",
              "      <th>text_stem</th>\n",
              "    </tr>\n",
              "  </thead>\n",
              "  <tbody>\n",
              "    <tr>\n",
              "      <th>3552</th>\n",
              "      <td>7556</td>\n",
              "      <td>2713</td>\n",
              "      <td>2713</td>\n",
              "      <td>2020-03-27 16:35:10+00:00</td>\n",
              "      <td>day  ya curfew na nishanona phillodrip 😂😂😂anyw...</td>\n",
              "      <td>0</td>\n",
              "      <td>0</td>\n",
              "      <td>day ya curfew na nishanona phillodrip 😂😂😂anywa...</td>\n",
              "      <td>[day, ya, curfew, na, nishanona, phillodrip, 😂...</td>\n",
              "      <td>[day ya curfew na nishanona phillodrip 😂😂😂anyw...</td>\n",
              "    </tr>\n",
              "    <tr>\n",
              "      <th>1864</th>\n",
              "      <td>5857</td>\n",
              "      <td>1014</td>\n",
              "      <td>1014</td>\n",
              "      <td>2020-05-06 20:23:18+00:00</td>\n",
              "      <td>this too shall passmay god heal kenya and the ...</td>\n",
              "      <td>0</td>\n",
              "      <td>1</td>\n",
              "      <td>shall passmay god heal kenya worldsanitizewear...</td>\n",
              "      <td>[this, too, shall, passmay, god, heal, kenya, ...</td>\n",
              "      <td>[shall passmay god heal kenya worldsanitizewea...</td>\n",
              "    </tr>\n",
              "    <tr>\n",
              "      <th>2243</th>\n",
              "      <td>6236</td>\n",
              "      <td>1393</td>\n",
              "      <td>1393</td>\n",
              "      <td>2020-04-25 16:01:30+00:00</td>\n",
              "      <td>stay home stay safe</td>\n",
              "      <td>0</td>\n",
              "      <td>0</td>\n",
              "      <td>stay home stay safe</td>\n",
              "      <td>[stay, home, stay, safe]</td>\n",
              "      <td>[stay home stay safe, stay home stay safe, sta...</td>\n",
              "    </tr>\n",
              "    <tr>\n",
              "      <th>1004</th>\n",
              "      <td>4991</td>\n",
              "      <td>148</td>\n",
              "      <td>148</td>\n",
              "      <td>2020-07-10 03:59:03+00:00</td>\n",
              "      <td>new corona cases hiyo najua imepita marks yak...</td>\n",
              "      <td>0</td>\n",
              "      <td>0</td>\n",
              "      <td>new corona cases hiyo najua imepita marks yako...</td>\n",
              "      <td>[new, corona, cases, hiyo, najua, imepita, mar...</td>\n",
              "      <td>[new corona case hiyo najua imepita mark yako ...</td>\n",
              "    </tr>\n",
              "    <tr>\n",
              "      <th>4164</th>\n",
              "      <td>8174</td>\n",
              "      <td>32</td>\n",
              "      <td>32</td>\n",
              "      <td>2020-05-29 10:27:06+00:00</td>\n",
              "      <td>scheduled for  for more info visit flintdeejay...</td>\n",
              "      <td>0</td>\n",
              "      <td>2</td>\n",
              "      <td>scheduled info visit flintdeejay finetuned hip...</td>\n",
              "      <td>[scheduled, for, for, more, info, visit, flint...</td>\n",
              "      <td>[schedul info visit flintdeejay finetun hiphop...</td>\n",
              "    </tr>\n",
              "    <tr>\n",
              "      <th>433</th>\n",
              "      <td>441</td>\n",
              "      <td>404</td>\n",
              "      <td>404</td>\n",
              "      <td>2020-03-27 18:44:37+00:00</td>\n",
              "      <td>mombasa governor hassanalijoho has successfull...</td>\n",
              "      <td>2</td>\n",
              "      <td>7</td>\n",
              "      <td>mombasa governor hassanalijoho successfully se...</td>\n",
              "      <td>[mombasa, governor, hassanalijoho, has, succes...</td>\n",
              "      <td>[mombasa governor hassanalijoho success secur ...</td>\n",
              "    </tr>\n",
              "  </tbody>\n",
              "</table>\n",
              "</div>"
            ],
            "text/plain": [
              "      Unnamed: 0  ...                                          text_stem\n",
              "3552        7556  ...  [day ya curfew na nishanona phillodrip 😂😂😂anyw...\n",
              "1864        5857  ...  [shall passmay god heal kenya worldsanitizewea...\n",
              "2243        6236  ...  [stay home stay safe, stay home stay safe, sta...\n",
              "1004        4991  ...  [new corona case hiyo najua imepita mark yako ...\n",
              "4164        8174  ...  [schedul info visit flintdeejay finetun hiphop...\n",
              "433          441  ...  [mombasa governor hassanalijoho success secur ...\n",
              "\n",
              "[6 rows x 10 columns]"
            ]
          },
          "metadata": {
            "tags": []
          },
          "execution_count": 69
        }
      ]
    },
    {
      "cell_type": "code",
      "metadata": {
        "id": "gttKWpn_WE-d",
        "outputId": "e45ebf23-39d2-49d6-c9d0-45aed1293a90",
        "colab": {
          "base_uri": "https://localhost:8080/",
          "height": 606
        }
      },
      "source": [
        "#Dropping the unnamed columns\n",
        "\n",
        "nairobi_df3.drop(['Unnamed: 0', 'unnamed: 0', 'unnamed: 0.1'], axis=1)\n"
      ],
      "execution_count": 70,
      "outputs": [
        {
          "output_type": "execute_result",
          "data": {
            "text/html": [
              "<div>\n",
              "<style scoped>\n",
              "    .dataframe tbody tr th:only-of-type {\n",
              "        vertical-align: middle;\n",
              "    }\n",
              "\n",
              "    .dataframe tbody tr th {\n",
              "        vertical-align: top;\n",
              "    }\n",
              "\n",
              "    .dataframe thead th {\n",
              "        text-align: right;\n",
              "    }\n",
              "</style>\n",
              "<table border=\"1\" class=\"dataframe\">\n",
              "  <thead>\n",
              "    <tr style=\"text-align: right;\">\n",
              "      <th></th>\n",
              "      <th>datetime</th>\n",
              "      <th>text</th>\n",
              "      <th>retweets</th>\n",
              "      <th>likes</th>\n",
              "      <th>text_without_stopwords</th>\n",
              "      <th>text_list</th>\n",
              "      <th>text_stem</th>\n",
              "    </tr>\n",
              "  </thead>\n",
              "  <tbody>\n",
              "    <tr>\n",
              "      <th>0</th>\n",
              "      <td>2020-06-06 19:28:03+00:00</td>\n",
              "      <td>mmetukosea sana sasa ningeenda hadi pahali gar...</td>\n",
              "      <td>0</td>\n",
              "      <td>2</td>\n",
              "      <td>mmetukosea sana sasa ningeenda hadi pahali gar...</td>\n",
              "      <td>[mmetukosea, sana, sasa, ningeenda, hadi, paha...</td>\n",
              "      <td>[mmetukosea sana sasa ningeenda hadi pahali ga...</td>\n",
              "    </tr>\n",
              "    <tr>\n",
              "      <th>1</th>\n",
              "      <td>2020-06-06 13:25:27+00:00</td>\n",
              "      <td>cant wait 🥰🥰  blacklivesmatter curfewinkenya w...</td>\n",
              "      <td>1</td>\n",
              "      <td>10</td>\n",
              "      <td>cant wait 🥰🥰 blacklivesmatter curfewinkenya wa...</td>\n",
              "      <td>[cant, wait, 🥰🥰, blacklivesmatter, curfewinken...</td>\n",
              "      <td>[cant wait 🥰🥰 blacklivesmatt curfewinkenya wan...</td>\n",
              "    </tr>\n",
              "    <tr>\n",
              "      <th>2</th>\n",
              "      <td>2020-06-06 13:24:27+00:00</td>\n",
              "      <td>wakenya hawachoki na meme za uhuru😂😂 uhurukeny...</td>\n",
              "      <td>1</td>\n",
              "      <td>4</td>\n",
              "      <td>wakenya hawachoki na meme za uhuru😂😂 uhurukeny...</td>\n",
              "      <td>[wakenya, hawachoki, na, meme, za, uhuru😂😂, uh...</td>\n",
              "      <td>[wakenya hawachoki na meme za uhuru😂😂 uhuruken...</td>\n",
              "    </tr>\n",
              "    <tr>\n",
              "      <th>3</th>\n",
              "      <td>2020-06-06 13:03:01+00:00</td>\n",
              "      <td>fellow kenyans uhuruspeaks uhuruaddress</td>\n",
              "      <td>0</td>\n",
              "      <td>1</td>\n",
              "      <td>fellow kenyans uhuruspeaks uhuruaddress</td>\n",
              "      <td>[fellow, kenyans, uhuruspeaks, uhuruaddress]</td>\n",
              "      <td>[fellow kenyan uhuruspeak uhuruaddress, fellow...</td>\n",
              "    </tr>\n",
              "    <tr>\n",
              "      <th>4</th>\n",
              "      <td>2020-06-06 13:02:49+00:00</td>\n",
              "      <td>uhurukenyatta cessation of movement in nairobi...</td>\n",
              "      <td>0</td>\n",
              "      <td>2</td>\n",
              "      <td>uhurukenyatta cessation movement nairobi momba...</td>\n",
              "      <td>[uhurukenyatta, cessation, of, movement, in, n...</td>\n",
              "      <td>[uhurukenyatta cessat movement nairobi mombasa...</td>\n",
              "    </tr>\n",
              "    <tr>\n",
              "      <th>...</th>\n",
              "      <td>...</td>\n",
              "      <td>...</td>\n",
              "      <td>...</td>\n",
              "      <td>...</td>\n",
              "      <td>...</td>\n",
              "      <td>...</td>\n",
              "      <td>...</td>\n",
              "    </tr>\n",
              "    <tr>\n",
              "      <th>4168</th>\n",
              "      <td>2020-05-29 06:34:32+00:00</td>\n",
              "      <td>theres nothing like making a tough choice when...</td>\n",
              "      <td>0</td>\n",
              "      <td>0</td>\n",
              "      <td>theres nothing like making tough choice comes ...</td>\n",
              "      <td>[theres, nothing, like, making, a, tough, choi...</td>\n",
              "      <td>[there noth like make tough choic come open ec...</td>\n",
              "    </tr>\n",
              "    <tr>\n",
              "      <th>4169</th>\n",
              "      <td>2020-05-29 06:20:25+00:00</td>\n",
              "      <td>president uhuru kenyatta made it clear thats t...</td>\n",
              "      <td>0</td>\n",
              "      <td>2</td>\n",
              "      <td>president uhuru kenyatta made clear thats enga...</td>\n",
              "      <td>[president, uhuru, kenyatta, made, it, clear, ...</td>\n",
              "      <td>[presid uhuru kenyatta made clear that engag c...</td>\n",
              "    </tr>\n",
              "    <tr>\n",
              "      <th>4170</th>\n",
              "      <td>2020-05-29 06:03:22+00:00</td>\n",
              "      <td>uhurustoughchoices mlisema huyu ni mtoto wa na...</td>\n",
              "      <td>0</td>\n",
              "      <td>0</td>\n",
              "      <td>uhurustoughchoices mlisema huyu ni mtoto wa na...</td>\n",
              "      <td>[uhurustoughchoices, mlisema, huyu, ni, mtoto,...</td>\n",
              "      <td>[uhurustoughchoic mlisema huyu ni mtoto wa nan...</td>\n",
              "    </tr>\n",
              "    <tr>\n",
              "      <th>4171</th>\n",
              "      <td>2020-05-29 05:19:20+00:00</td>\n",
              "      <td>among other tough choices uhuru must make is g...</td>\n",
              "      <td>3</td>\n",
              "      <td>4</td>\n",
              "      <td>among tough choices uhuru must make getting co...</td>\n",
              "      <td>[among, other, tough, choices, uhuru, must, ma...</td>\n",
              "      <td>[among tough choic uhuru must make get compet ...</td>\n",
              "    </tr>\n",
              "    <tr>\n",
              "      <th>4172</th>\n",
              "      <td>2020-05-27 18:59:53+00:00</td>\n",
              "      <td>pandemic perforated pockets plunging economy p...</td>\n",
              "      <td>1</td>\n",
              "      <td>6</td>\n",
              "      <td>pandemic perforated pockets plunging economy p...</td>\n",
              "      <td>[pandemic, perforated, pockets, plunging, econ...</td>\n",
              "      <td>[pandem perfor pocket plung economi presid pie...</td>\n",
              "    </tr>\n",
              "  </tbody>\n",
              "</table>\n",
              "<p>4173 rows × 7 columns</p>\n",
              "</div>"
            ],
            "text/plain": [
              "                       datetime  ...                                          text_stem\n",
              "0     2020-06-06 19:28:03+00:00  ...  [mmetukosea sana sasa ningeenda hadi pahali ga...\n",
              "1     2020-06-06 13:25:27+00:00  ...  [cant wait 🥰🥰 blacklivesmatt curfewinkenya wan...\n",
              "2     2020-06-06 13:24:27+00:00  ...  [wakenya hawachoki na meme za uhuru😂😂 uhuruken...\n",
              "3     2020-06-06 13:03:01+00:00  ...  [fellow kenyan uhuruspeak uhuruaddress, fellow...\n",
              "4     2020-06-06 13:02:49+00:00  ...  [uhurukenyatta cessat movement nairobi mombasa...\n",
              "...                         ...  ...                                                ...\n",
              "4168  2020-05-29 06:34:32+00:00  ...  [there noth like make tough choic come open ec...\n",
              "4169  2020-05-29 06:20:25+00:00  ...  [presid uhuru kenyatta made clear that engag c...\n",
              "4170  2020-05-29 06:03:22+00:00  ...  [uhurustoughchoic mlisema huyu ni mtoto wa nan...\n",
              "4171  2020-05-29 05:19:20+00:00  ...  [among tough choic uhuru must make get compet ...\n",
              "4172  2020-05-27 18:59:53+00:00  ...  [pandem perfor pocket plung economi presid pie...\n",
              "\n",
              "[4173 rows x 7 columns]"
            ]
          },
          "metadata": {
            "tags": []
          },
          "execution_count": 70
        }
      ]
    },
    {
      "cell_type": "code",
      "metadata": {
        "id": "dZ9hFRFDY2lZ",
        "outputId": "d2b8e7d0-05d1-4a62-945d-e893837f7c34",
        "colab": {
          "base_uri": "https://localhost:8080/",
          "height": 166
        }
      },
      "source": [
        "nairobi_df3['text_stem'] = nairobi_df3['text_stem'].apply(lambda x:str(x).split()) #Use tokenize or split, smae results\n",
        "top = Counter([item for sublist in nairobi_df3['text_stem'] for item in sublist]) #Counts the frequency of words\n",
        "temp = pd.DataFrame(top.most_common(6)) #top five words\n",
        "temp.columns = ['common_words', 'count']\n",
        "temp.style.background_gradient(cmap = 'Blues')"
      ],
      "execution_count": 79,
      "outputs": [
        {
          "output_type": "execute_result",
          "data": {
            "text/html": [
              "<style  type=\"text/css\" >\n",
              "#T_f8b53b4c_82b9_11eb_be71_0242ac1c0002row0_col1{\n",
              "            background-color:  #08306b;\n",
              "            color:  #f1f1f1;\n",
              "        }#T_f8b53b4c_82b9_11eb_be71_0242ac1c0002row1_col1{\n",
              "            background-color:  #3080bd;\n",
              "            color:  #000000;\n",
              "        }#T_f8b53b4c_82b9_11eb_be71_0242ac1c0002row2_col1{\n",
              "            background-color:  #4a98c9;\n",
              "            color:  #000000;\n",
              "        }#T_f8b53b4c_82b9_11eb_be71_0242ac1c0002row3_col1{\n",
              "            background-color:  #f0f6fd;\n",
              "            color:  #000000;\n",
              "        }#T_f8b53b4c_82b9_11eb_be71_0242ac1c0002row4_col1{\n",
              "            background-color:  #f5fafe;\n",
              "            color:  #000000;\n",
              "        }#T_f8b53b4c_82b9_11eb_be71_0242ac1c0002row5_col1{\n",
              "            background-color:  #f7fbff;\n",
              "            color:  #000000;\n",
              "        }</style><table id=\"T_f8b53b4c_82b9_11eb_be71_0242ac1c0002\" ><thead>    <tr>        <th class=\"blank level0\" ></th>        <th class=\"col_heading level0 col0\" >common_words</th>        <th class=\"col_heading level0 col1\" >count</th>    </tr></thead><tbody>\n",
              "                <tr>\n",
              "                        <th id=\"T_f8b53b4c_82b9_11eb_be71_0242ac1c0002level0_row0\" class=\"row_heading level0 row0\" >0</th>\n",
              "                        <td id=\"T_f8b53b4c_82b9_11eb_be71_0242ac1c0002row0_col0\" class=\"data row0 col0\" >\"'stay',\",</td>\n",
              "                        <td id=\"T_f8b53b4c_82b9_11eb_be71_0242ac1c0002row0_col1\" class=\"data row0 col1\" >20410</td>\n",
              "            </tr>\n",
              "            <tr>\n",
              "                        <th id=\"T_f8b53b4c_82b9_11eb_be71_0242ac1c0002level0_row1\" class=\"row_heading level0 row1\" >1</th>\n",
              "                        <td id=\"T_f8b53b4c_82b9_11eb_be71_0242ac1c0002row1_col0\" class=\"data row1 col0\" >\"'safe',\",</td>\n",
              "                        <td id=\"T_f8b53b4c_82b9_11eb_be71_0242ac1c0002row1_col1\" class=\"data row1 col1\" >15923</td>\n",
              "            </tr>\n",
              "            <tr>\n",
              "                        <th id=\"T_f8b53b4c_82b9_11eb_be71_0242ac1c0002level0_row2\" class=\"row_heading level0 row2\" >2</th>\n",
              "                        <td id=\"T_f8b53b4c_82b9_11eb_be71_0242ac1c0002row2_col0\" class=\"data row2 col0\" >\"'staysaf',\",</td>\n",
              "                        <td id=\"T_f8b53b4c_82b9_11eb_be71_0242ac1c0002row2_col1\" class=\"data row2 col1\" >14571</td>\n",
              "            </tr>\n",
              "            <tr>\n",
              "                        <th id=\"T_f8b53b4c_82b9_11eb_be71_0242ac1c0002level0_row3\" class=\"row_heading level0 row3\" >3</th>\n",
              "                        <td id=\"T_f8b53b4c_82b9_11eb_be71_0242ac1c0002row3_col0\" class=\"data row3 col0\" >\"'stayhom',\",</td>\n",
              "                        <td id=\"T_f8b53b4c_82b9_11eb_be71_0242ac1c0002row3_col1\" class=\"data row3 col1\" >6393</td>\n",
              "            </tr>\n",
              "            <tr>\n",
              "                        <th id=\"T_f8b53b4c_82b9_11eb_be71_0242ac1c0002level0_row4\" class=\"row_heading level0 row4\" >4</th>\n",
              "                        <td id=\"T_f8b53b4c_82b9_11eb_be71_0242ac1c0002row4_col0\" class=\"data row4 col0\" >\"'us',\",</td>\n",
              "                        <td id=\"T_f8b53b4c_82b9_11eb_be71_0242ac1c0002row4_col1\" class=\"data row4 col1\" >5988</td>\n",
              "            </tr>\n",
              "            <tr>\n",
              "                        <th id=\"T_f8b53b4c_82b9_11eb_be71_0242ac1c0002level0_row5\" class=\"row_heading level0 row5\" >5</th>\n",
              "                        <td id=\"T_f8b53b4c_82b9_11eb_be71_0242ac1c0002row5_col0\" class=\"data row5 col0\" >\"'’',\",</td>\n",
              "                        <td id=\"T_f8b53b4c_82b9_11eb_be71_0242ac1c0002row5_col1\" class=\"data row5 col1\" >5824</td>\n",
              "            </tr>\n",
              "    </tbody></table>"
            ],
            "text/plain": [
              "<pandas.io.formats.style.Styler at 0x7f3cc0bd5890>"
            ]
          },
          "metadata": {
            "tags": []
          },
          "execution_count": 79
        }
      ]
    }
  ]
}