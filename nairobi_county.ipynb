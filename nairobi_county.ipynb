{
  "nbformat": 4,
  "nbformat_minor": 0,
  "metadata": {
    "language_info": {
      "codemirror_mode": {
        "name": "ipython",
        "version": 3
      },
      "file_extension": ".py",
      "mimetype": "text/x-python",
      "name": "python",
      "nbconvert_exporter": "python",
      "pygments_lexer": "ipython3",
      "version": "3.8.5-final"
    },
    "orig_nbformat": 2,
    "kernelspec": {
      "name": "python38564bitbaseconda378a717c3d1e409e93df1db8692daf27",
      "display_name": "Python 3.8.5 64-bit ('base': conda)",
      "language": "python"
    },
    "colab": {
      "name": "nairobi_county.ipynb",
      "provenance": []
    }
  },
  "cells": [
    {
      "cell_type": "markdown",
      "metadata": {
        "id": "AsLUVfp4Serq"
      },
      "source": [
        "**Overview**\n",
        "\n",
        "\n",
        "*   The data used here is what we scraped from the \"snscrape.ipynb\" file\n",
        "*   Scraping was done on local machine as Google Colab uses Python Version 3.6 as of the time this was published; snscrape only works with Pyhon 3.8 and above.\n",
        "\n"
      ]
    },
    {
      "cell_type": "markdown",
      "metadata": {
        "id": "wkL6LozWOaaq"
      },
      "source": [
        "**Importing Libraries & Modules**"
      ]
    },
    {
      "cell_type": "code",
      "metadata": {
        "id": "LcvdZHuSOO8M"
      },
      "source": [
        "import pandas as pd \n",
        "import matplotlib.pyplot as plt \n",
        "import seaborn as sns\n",
        "%matplotlib inline\n",
        "import numpy as np\n",
        "import re\n",
        "import nltk\n",
        "import warnings \n",
        "warnings.filterwarnings(\"ignore\", category=DeprecationWarning)\n",
        "from plotly import graph_objs as go\n",
        "from google.colab import drive\n",
        "from PIL import Image\n",
        "from wordcloud import WordCloud, STOPWORDS, ImageColorGenerator"
      ],
      "execution_count": 25,
      "outputs": []
    },
    {
      "cell_type": "code",
      "metadata": {
        "id": "bH1An5VTOO8Q",
        "colab": {
          "base_uri": "https://localhost:8080/"
        },
        "outputId": "a10bd7d3-fe78-4ed1-e56d-bea24c21cdb9"
      },
      "source": [
        "#Mount the google drive folder\n",
        "\n",
        "drive.mount('/content/gdrive')"
      ],
      "execution_count": 2,
      "outputs": [
        {
          "output_type": "stream",
          "text": [
            "Mounted at /content/gdrive\n"
          ],
          "name": "stdout"
        }
      ]
    },
    {
      "cell_type": "code",
      "metadata": {
        "id": "xky7JEDzP0LL",
        "colab": {
          "base_uri": "https://localhost:8080/",
          "height": 204
        },
        "outputId": "ddd446fd-e276-4830-ec39-c6396137ed3e"
      },
      "source": [
        "#Load the dataset\n",
        "\n",
        "nairobi_df = pd.read_csv('/content/gdrive/My Drive/Coronavirus_Tweets/nairobi_county.csv')\n",
        "\n",
        "#Preview the first four rows of the dataset\n",
        "\n",
        "nairobi_df.head()"
      ],
      "execution_count": 3,
      "outputs": [
        {
          "output_type": "execute_result",
          "data": {
            "text/html": [
              "<div>\n",
              "<style scoped>\n",
              "    .dataframe tbody tr th:only-of-type {\n",
              "        vertical-align: middle;\n",
              "    }\n",
              "\n",
              "    .dataframe tbody tr th {\n",
              "        vertical-align: top;\n",
              "    }\n",
              "\n",
              "    .dataframe thead th {\n",
              "        text-align: right;\n",
              "    }\n",
              "</style>\n",
              "<table border=\"1\" class=\"dataframe\">\n",
              "  <thead>\n",
              "    <tr style=\"text-align: right;\">\n",
              "      <th></th>\n",
              "      <th>Unnamed: 0</th>\n",
              "      <th>Unnamed: 0.1</th>\n",
              "      <th>Datetime</th>\n",
              "      <th>Text</th>\n",
              "      <th>retweets</th>\n",
              "      <th>likes</th>\n",
              "    </tr>\n",
              "  </thead>\n",
              "  <tbody>\n",
              "    <tr>\n",
              "      <th>0</th>\n",
              "      <td>0</td>\n",
              "      <td>0</td>\n",
              "      <td>2020-06-06 19:28:03+00:00</td>\n",
              "      <td>Mmetukosea sana! \\n\\nSasa ningeenda hadi pahal...</td>\n",
              "      <td>0</td>\n",
              "      <td>2</td>\n",
              "    </tr>\n",
              "    <tr>\n",
              "      <th>1</th>\n",
              "      <td>1</td>\n",
              "      <td>1</td>\n",
              "      <td>2020-06-06 13:25:27+00:00</td>\n",
              "      <td>CAN'T WAIT 🥰🥰 #6thjune #BlackLivesMatter #Curf...</td>\n",
              "      <td>1</td>\n",
              "      <td>10</td>\n",
              "    </tr>\n",
              "    <tr>\n",
              "      <th>2</th>\n",
              "      <td>2</td>\n",
              "      <td>2</td>\n",
              "      <td>2020-06-06 13:24:27+00:00</td>\n",
              "      <td>Wakenya hawachoki na meme za Uhuru😂😂 #UhuruKen...</td>\n",
              "      <td>1</td>\n",
              "      <td>4</td>\n",
              "    </tr>\n",
              "    <tr>\n",
              "      <th>3</th>\n",
              "      <td>3</td>\n",
              "      <td>3</td>\n",
              "      <td>2020-06-06 13:03:01+00:00</td>\n",
              "      <td>Fellow Kenyans #uhuruspeaks #UhuruAddress http...</td>\n",
              "      <td>0</td>\n",
              "      <td>1</td>\n",
              "    </tr>\n",
              "    <tr>\n",
              "      <th>4</th>\n",
              "      <td>4</td>\n",
              "      <td>4</td>\n",
              "      <td>2020-06-06 13:02:49+00:00</td>\n",
              "      <td>#UhuruKenyatta Cessation of movement in Nairob...</td>\n",
              "      <td>0</td>\n",
              "      <td>2</td>\n",
              "    </tr>\n",
              "  </tbody>\n",
              "</table>\n",
              "</div>"
            ],
            "text/plain": [
              "   Unnamed: 0  Unnamed: 0.1  ... retweets likes\n",
              "0           0             0  ...        0     2\n",
              "1           1             1  ...        1    10\n",
              "2           2             2  ...        1     4\n",
              "3           3             3  ...        0     1\n",
              "4           4             4  ...        0     2\n",
              "\n",
              "[5 rows x 6 columns]"
            ]
          },
          "metadata": {
            "tags": []
          },
          "execution_count": 3
        }
      ]
    },
    {
      "cell_type": "code",
      "metadata": {
        "id": "PpSAayBBT3bF",
        "colab": {
          "base_uri": "https://localhost:8080/",
          "height": 204
        },
        "outputId": "8d7fcdec-4488-4aa6-9304-8ea525d6ef10"
      },
      "source": [
        "#Preview the last four rows of the dataset\n",
        "\n",
        "nairobi_df.tail()"
      ],
      "execution_count": 4,
      "outputs": [
        {
          "output_type": "execute_result",
          "data": {
            "text/html": [
              "<div>\n",
              "<style scoped>\n",
              "    .dataframe tbody tr th:only-of-type {\n",
              "        vertical-align: middle;\n",
              "    }\n",
              "\n",
              "    .dataframe tbody tr th {\n",
              "        vertical-align: top;\n",
              "    }\n",
              "\n",
              "    .dataframe thead th {\n",
              "        text-align: right;\n",
              "    }\n",
              "</style>\n",
              "<table border=\"1\" class=\"dataframe\">\n",
              "  <thead>\n",
              "    <tr style=\"text-align: right;\">\n",
              "      <th></th>\n",
              "      <th>Unnamed: 0</th>\n",
              "      <th>Unnamed: 0.1</th>\n",
              "      <th>Datetime</th>\n",
              "      <th>Text</th>\n",
              "      <th>retweets</th>\n",
              "      <th>likes</th>\n",
              "    </tr>\n",
              "  </thead>\n",
              "  <tbody>\n",
              "    <tr>\n",
              "      <th>8179</th>\n",
              "      <td>37</td>\n",
              "      <td>37</td>\n",
              "      <td>2020-05-29 06:20:25+00:00</td>\n",
              "      <td>President Uhuru Kenyatta made it clear that's ...</td>\n",
              "      <td>0</td>\n",
              "      <td>2</td>\n",
              "    </tr>\n",
              "    <tr>\n",
              "      <th>8180</th>\n",
              "      <td>38</td>\n",
              "      <td>38</td>\n",
              "      <td>2020-05-29 06:03:22+00:00</td>\n",
              "      <td>#Uhurustoughchoices Mlisema huyu Ni mtoto wa N...</td>\n",
              "      <td>0</td>\n",
              "      <td>0</td>\n",
              "    </tr>\n",
              "    <tr>\n",
              "      <th>8181</th>\n",
              "      <td>39</td>\n",
              "      <td>39</td>\n",
              "      <td>2020-05-29 05:19:20+00:00</td>\n",
              "      <td>Among other tough choices Uhuru must make is g...</td>\n",
              "      <td>3</td>\n",
              "      <td>4</td>\n",
              "    </tr>\n",
              "    <tr>\n",
              "      <th>8182</th>\n",
              "      <td>40</td>\n",
              "      <td>40</td>\n",
              "      <td>2020-05-27 18:59:53+00:00</td>\n",
              "      <td>Pandemic. Perforated pockets. Plunging economy...</td>\n",
              "      <td>1</td>\n",
              "      <td>6</td>\n",
              "    </tr>\n",
              "    <tr>\n",
              "      <th>8183</th>\n",
              "      <td>41</td>\n",
              "      <td>41</td>\n",
              "      <td>2020-05-27 18:54:16+00:00</td>\n",
              "      <td>Pandemic. Perforated pockets. Plunging economy...</td>\n",
              "      <td>26</td>\n",
              "      <td>35</td>\n",
              "    </tr>\n",
              "  </tbody>\n",
              "</table>\n",
              "</div>"
            ],
            "text/plain": [
              "      Unnamed: 0  Unnamed: 0.1  ... retweets likes\n",
              "8179          37            37  ...        0     2\n",
              "8180          38            38  ...        0     0\n",
              "8181          39            39  ...        3     4\n",
              "8182          40            40  ...        1     6\n",
              "8183          41            41  ...       26    35\n",
              "\n",
              "[5 rows x 6 columns]"
            ]
          },
          "metadata": {
            "tags": []
          },
          "execution_count": 4
        }
      ]
    },
    {
      "cell_type": "markdown",
      "metadata": {
        "id": "V6Yg1rtZUvAe"
      },
      "source": [
        "### Shape of the data"
      ]
    },
    {
      "cell_type": "code",
      "metadata": {
        "id": "6ncE1FR8UmRK",
        "colab": {
          "base_uri": "https://localhost:8080/"
        },
        "outputId": "94eb39e8-0882-4c9c-d824-db62032df150"
      },
      "source": [
        "#number of rows and columns of the data\n",
        "\n",
        "nairobi_df.shape"
      ],
      "execution_count": 5,
      "outputs": [
        {
          "output_type": "execute_result",
          "data": {
            "text/plain": [
              "(8184, 6)"
            ]
          },
          "metadata": {
            "tags": []
          },
          "execution_count": 5
        }
      ]
    },
    {
      "cell_type": "code",
      "metadata": {
        "id": "p9lx3NUbVJnD",
        "colab": {
          "base_uri": "https://localhost:8080/"
        },
        "outputId": "c2f65d01-c8b3-43a1-dea0-50d99d633660"
      },
      "source": [
        "#Checking the data types of our data\n",
        "\n",
        "\"\"\" This is crucial for modeling tasks. e.g when solving a regression problem, we only deal with numerical data types and not categorical. \"\"\"\n",
        "\n",
        "nairobi_df.dtypes"
      ],
      "execution_count": 6,
      "outputs": [
        {
          "output_type": "execute_result",
          "data": {
            "text/plain": [
              "Unnamed: 0       int64\n",
              "Unnamed: 0.1     int64\n",
              "Datetime        object\n",
              "Text            object\n",
              "retweets         int64\n",
              "likes            int64\n",
              "dtype: object"
            ]
          },
          "metadata": {
            "tags": []
          },
          "execution_count": 6
        }
      ]
    },
    {
      "cell_type": "markdown",
      "metadata": {
        "id": "PJC6MB0cVY94"
      },
      "source": [
        "**Cleaning the Data**"
      ]
    },
    {
      "cell_type": "markdown",
      "metadata": {
        "id": "Pu8AfS4gVfwo"
      },
      "source": [
        "### Dealing with missing values"
      ]
    },
    {
      "cell_type": "code",
      "metadata": {
        "id": "_XOm4gHUVSem",
        "colab": {
          "base_uri": "https://localhost:8080/"
        },
        "outputId": "57a558b5-7076-4a47-d1da-46a08e5fccae"
      },
      "source": [
        "#Checking for missing values\n",
        "\n",
        "\"\"\" If there are missing values in the columns, we either fill or drop them from the respective columns with too many missing values that are not of significance to the modeling task.\n",
        "\n",
        "For this case, there are no missing values to handle.\"\"\"\n",
        "\n",
        "nairobi_df.isnull().sum()"
      ],
      "execution_count": 7,
      "outputs": [
        {
          "output_type": "execute_result",
          "data": {
            "text/plain": [
              "Unnamed: 0      0\n",
              "Unnamed: 0.1    0\n",
              "Datetime        0\n",
              "Text            0\n",
              "retweets        0\n",
              "likes           0\n",
              "dtype: int64"
            ]
          },
          "metadata": {
            "tags": []
          },
          "execution_count": 7
        }
      ]
    },
    {
      "cell_type": "code",
      "metadata": {
        "id": "40ymaK9CVvfb",
        "colab": {
          "base_uri": "https://localhost:8080/"
        },
        "outputId": "edc551f3-4c84-4c7c-bd42-1e33ef9bfb91"
      },
      "source": [
        "#Checking for duplicates\n",
        "print(nairobi_df.duplicated().any())"
      ],
      "execution_count": 8,
      "outputs": [
        {
          "output_type": "stream",
          "text": [
            "True\n"
          ],
          "name": "stdout"
        }
      ]
    },
    {
      "cell_type": "code",
      "metadata": {
        "id": "h70AV97CV37q",
        "colab": {
          "base_uri": "https://localhost:8080/"
        },
        "outputId": "b73a680e-d195-49c6-c3ee-5a1e74e92215"
      },
      "source": [
        "#Dropping Duplicates\n",
        "\n",
        "nairobi_df.drop_duplicates(keep=False, inplace=True)\n",
        "\n",
        "#Confirming there are no duplicates\n",
        "\n",
        "print(nairobi_df.duplicated().any())\n",
        "print(nairobi_df.shape)"
      ],
      "execution_count": 9,
      "outputs": [
        {
          "output_type": "stream",
          "text": [
            "False\n",
            "(4214, 6)\n"
          ],
          "name": "stdout"
        }
      ]
    },
    {
      "cell_type": "markdown",
      "metadata": {
        "id": "nCwTKBpyWTVq"
      },
      "source": [
        "### Dealing with Outliers\n",
        "\n",
        "##### We check for outliers because often times, they result into an impbalanced data for modeling. i.e too many outliers bring about a high variance to our data. High variance causes overfitting to our model.\n",
        "\n",
        "##### A Z score is used since our dataset consists of more than 30 rows."
      ]
    },
    {
      "cell_type": "code",
      "metadata": {
        "id": "2TrskM1IWDNu",
        "colab": {
          "base_uri": "https://localhost:8080/"
        },
        "outputId": "2d37c993-312d-4862-b760-b72a82987168"
      },
      "source": [
        "#Dealing with outliers\n",
        "#\n",
        "#Import stats from scipy library\n",
        "\n",
        "from scipy import stats\n",
        "num = ['retweets']\n",
        "for i, col in enumerate(num):\n",
        "    z = np.abs(stats.zscore(nairobi_df[col]))\n",
        "print(z)"
      ],
      "execution_count": 10,
      "outputs": [
        {
          "output_type": "stream",
          "text": [
            "[0.14138055 0.0583916  0.0583916  ... 0.10758628 0.0583916  2.016332  ]\n"
          ],
          "name": "stdout"
        }
      ]
    },
    {
      "cell_type": "code",
      "metadata": {
        "id": "ivXPuJocWhrJ",
        "colab": {
          "base_uri": "https://localhost:8080/"
        },
        "outputId": "8a342b1b-c980-425d-f0d7-faa40ec29455"
      },
      "source": [
        "#Confirming that our outliers have been dropped from the data set\n",
        "\n",
        "nairobi_df2 = nairobi_df[( z < 2 )]\n",
        "\n",
        "print(f\"Previous dataframe size : {nairobi_df.shape[0]}\" )\n",
        "print(f\"New dataframe size : {nairobi_df2.shape[0]}\" )"
      ],
      "execution_count": 11,
      "outputs": [
        {
          "output_type": "stream",
          "text": [
            "Previous dataframe size : 4214\n",
            "New dataframe size : 4173\n"
          ],
          "name": "stdout"
        }
      ]
    },
    {
      "cell_type": "code",
      "metadata": {
        "id": "w7nhCjTXWo8u",
        "colab": {
          "base_uri": "https://localhost:8080/",
          "height": 297
        },
        "outputId": "d7b9dcfd-7ded-4d44-fa97-39a1cfd1be99"
      },
      "source": [
        "nairobi_df2.describe()"
      ],
      "execution_count": 12,
      "outputs": [
        {
          "output_type": "execute_result",
          "data": {
            "text/html": [
              "<div>\n",
              "<style scoped>\n",
              "    .dataframe tbody tr th:only-of-type {\n",
              "        vertical-align: middle;\n",
              "    }\n",
              "\n",
              "    .dataframe tbody tr th {\n",
              "        vertical-align: top;\n",
              "    }\n",
              "\n",
              "    .dataframe thead th {\n",
              "        text-align: right;\n",
              "    }\n",
              "</style>\n",
              "<table border=\"1\" class=\"dataframe\">\n",
              "  <thead>\n",
              "    <tr style=\"text-align: right;\">\n",
              "      <th></th>\n",
              "      <th>Unnamed: 0</th>\n",
              "      <th>Unnamed: 0.1</th>\n",
              "      <th>retweets</th>\n",
              "      <th>likes</th>\n",
              "    </tr>\n",
              "  </thead>\n",
              "  <tbody>\n",
              "    <tr>\n",
              "      <th>count</th>\n",
              "      <td>4173.000000</td>\n",
              "      <td>4173.000000</td>\n",
              "      <td>4173.000000</td>\n",
              "      <td>4173.000000</td>\n",
              "    </tr>\n",
              "    <tr>\n",
              "      <th>mean</th>\n",
              "      <td>1358.447160</td>\n",
              "      <td>1358.447160</td>\n",
              "      <td>0.938414</td>\n",
              "      <td>3.865564</td>\n",
              "    </tr>\n",
              "    <tr>\n",
              "      <th>std</th>\n",
              "      <td>1011.783419</td>\n",
              "      <td>1011.783419</td>\n",
              "      <td>2.363796</td>\n",
              "      <td>11.781585</td>\n",
              "    </tr>\n",
              "    <tr>\n",
              "      <th>min</th>\n",
              "      <td>0.000000</td>\n",
              "      <td>0.000000</td>\n",
              "      <td>0.000000</td>\n",
              "      <td>0.000000</td>\n",
              "    </tr>\n",
              "    <tr>\n",
              "      <th>25%</th>\n",
              "      <td>444.000000</td>\n",
              "      <td>444.000000</td>\n",
              "      <td>0.000000</td>\n",
              "      <td>0.000000</td>\n",
              "    </tr>\n",
              "    <tr>\n",
              "      <th>50%</th>\n",
              "      <td>1195.000000</td>\n",
              "      <td>1195.000000</td>\n",
              "      <td>0.000000</td>\n",
              "      <td>1.000000</td>\n",
              "    </tr>\n",
              "    <tr>\n",
              "      <th>75%</th>\n",
              "      <td>2241.000000</td>\n",
              "      <td>2241.000000</td>\n",
              "      <td>1.000000</td>\n",
              "      <td>3.000000</td>\n",
              "    </tr>\n",
              "    <tr>\n",
              "      <th>max</th>\n",
              "      <td>3298.000000</td>\n",
              "      <td>3298.000000</td>\n",
              "      <td>25.000000</td>\n",
              "      <td>202.000000</td>\n",
              "    </tr>\n",
              "  </tbody>\n",
              "</table>\n",
              "</div>"
            ],
            "text/plain": [
              "        Unnamed: 0  Unnamed: 0.1     retweets        likes\n",
              "count  4173.000000   4173.000000  4173.000000  4173.000000\n",
              "mean   1358.447160   1358.447160     0.938414     3.865564\n",
              "std    1011.783419   1011.783419     2.363796    11.781585\n",
              "min       0.000000      0.000000     0.000000     0.000000\n",
              "25%     444.000000    444.000000     0.000000     0.000000\n",
              "50%    1195.000000   1195.000000     0.000000     1.000000\n",
              "75%    2241.000000   2241.000000     1.000000     3.000000\n",
              "max    3298.000000   3298.000000    25.000000   202.000000"
            ]
          },
          "metadata": {
            "tags": []
          },
          "execution_count": 12
        }
      ]
    },
    {
      "cell_type": "markdown",
      "metadata": {
        "id": "cbFgvvZDXB-C"
      },
      "source": [
        "**Cleaning the Text**"
      ]
    },
    {
      "cell_type": "code",
      "metadata": {
        "id": "pOMT4Vw8W2kQ",
        "colab": {
          "base_uri": "https://localhost:8080/"
        },
        "outputId": "f841ca1d-9900-491a-8c12-96aa9d9ca026"
      },
      "source": [
        "#Map the lowering function to all column names\n",
        "\n",
        "nairobi_df2.columns = map(str.lower, nairobi_df2.columns)\n",
        "\n",
        "#Print the column names\n",
        "\n",
        "for col in nairobi_df2:\n",
        "    print(col)"
      ],
      "execution_count": 13,
      "outputs": [
        {
          "output_type": "stream",
          "text": [
            "unnamed: 0\n",
            "unnamed: 0.1\n",
            "datetime\n",
            "text\n",
            "retweets\n",
            "likes\n"
          ],
          "name": "stdout"
        }
      ]
    },
    {
      "cell_type": "code",
      "metadata": {
        "id": "8amW5B8MXIbP"
      },
      "source": [
        "#Removing Whitespace from both columns and rows and converting case to lower case\n",
        "#\n",
        "#Converting the text column to string dtype after getting an attribute error\n",
        "\"\"\"nairobi_df2['text'] = nairobi_df2['text'].astype(str)\n",
        "\n",
        "nairobi_df2.columns = nairobi_df2.str.strip().str.replace(\",\").str.lower()\n",
        "\n",
        "cat = nairobi_df2['text']\n",
        "\n",
        "for i, c in enumerate(cat):\n",
        "    nairobi_df2[cat] = nairobi_df2[c].str.strip().str.replace(\",\").str.lower()\"\"\"\n",
        "\n",
        "#Make text lowercase, remove text in square brackets, remove links, remove punctuation and remove words containing numbers\n",
        "import re\n",
        "import string\n",
        "\n",
        "def clean_text(text):\n",
        "    text = str(text).lower()\n",
        "    text = re.sub(\"\\[.*?\\]\", '', text)\n",
        "    text = re.sub(\"https?://\\S+|www\\.S+\", '', text)\n",
        "    text = re.sub(\"<.*?>+\", '', text)\n",
        "    text = re.sub(\"[%s]\" % re.escape(string.punctuation) , '', text)\n",
        "    text = re.sub(\"\\n\", '', text)\n",
        "    text = re.sub(\"\\w*\\d\\w*\", '', text)\n",
        "    return text"
      ],
      "execution_count": 14,
      "outputs": []
    },
    {
      "cell_type": "code",
      "metadata": {
        "id": "DMSTKFYNXlDq",
        "colab": {
          "base_uri": "https://localhost:8080/"
        },
        "outputId": "cd4ca478-79e3-40c3-f710-32e2604eb81e"
      },
      "source": [
        "#Using a lambda function to clean the text column\n",
        "\n",
        "nairobi_df2['text'] = nairobi_df2['text'].apply(lambda x:clean_text(x))"
      ],
      "execution_count": 15,
      "outputs": [
        {
          "output_type": "stream",
          "text": [
            "/usr/local/lib/python3.7/dist-packages/ipykernel_launcher.py:3: SettingWithCopyWarning:\n",
            "\n",
            "\n",
            "A value is trying to be set on a copy of a slice from a DataFrame.\n",
            "Try using .loc[row_indexer,col_indexer] = value instead\n",
            "\n",
            "See the caveats in the documentation: https://pandas.pydata.org/pandas-docs/stable/user_guide/indexing.html#returning-a-view-versus-a-copy\n",
            "\n"
          ],
          "name": "stderr"
        }
      ]
    },
    {
      "cell_type": "code",
      "metadata": {
        "id": "3hESbDDQXnla",
        "colab": {
          "base_uri": "https://localhost:8080/",
          "height": 204
        },
        "outputId": "022aac8a-4efc-4991-8998-a35aaa83697b"
      },
      "source": [
        "#Preview the dataset to see changes\n",
        "\n",
        "nairobi_df2.tail()"
      ],
      "execution_count": 16,
      "outputs": [
        {
          "output_type": "execute_result",
          "data": {
            "text/html": [
              "<div>\n",
              "<style scoped>\n",
              "    .dataframe tbody tr th:only-of-type {\n",
              "        vertical-align: middle;\n",
              "    }\n",
              "\n",
              "    .dataframe tbody tr th {\n",
              "        vertical-align: top;\n",
              "    }\n",
              "\n",
              "    .dataframe thead th {\n",
              "        text-align: right;\n",
              "    }\n",
              "</style>\n",
              "<table border=\"1\" class=\"dataframe\">\n",
              "  <thead>\n",
              "    <tr style=\"text-align: right;\">\n",
              "      <th></th>\n",
              "      <th>unnamed: 0</th>\n",
              "      <th>unnamed: 0.1</th>\n",
              "      <th>datetime</th>\n",
              "      <th>text</th>\n",
              "      <th>retweets</th>\n",
              "      <th>likes</th>\n",
              "    </tr>\n",
              "  </thead>\n",
              "  <tbody>\n",
              "    <tr>\n",
              "      <th>8178</th>\n",
              "      <td>36</td>\n",
              "      <td>36</td>\n",
              "      <td>2020-05-29 06:34:32+00:00</td>\n",
              "      <td>theres nothing like making a tough choice when...</td>\n",
              "      <td>0</td>\n",
              "      <td>0</td>\n",
              "    </tr>\n",
              "    <tr>\n",
              "      <th>8179</th>\n",
              "      <td>37</td>\n",
              "      <td>37</td>\n",
              "      <td>2020-05-29 06:20:25+00:00</td>\n",
              "      <td>president uhuru kenyatta made it clear thats t...</td>\n",
              "      <td>0</td>\n",
              "      <td>2</td>\n",
              "    </tr>\n",
              "    <tr>\n",
              "      <th>8180</th>\n",
              "      <td>38</td>\n",
              "      <td>38</td>\n",
              "      <td>2020-05-29 06:03:22+00:00</td>\n",
              "      <td>uhurustoughchoices mlisema huyu ni mtoto wa na...</td>\n",
              "      <td>0</td>\n",
              "      <td>0</td>\n",
              "    </tr>\n",
              "    <tr>\n",
              "      <th>8181</th>\n",
              "      <td>39</td>\n",
              "      <td>39</td>\n",
              "      <td>2020-05-29 05:19:20+00:00</td>\n",
              "      <td>among other tough choices uhuru must make is g...</td>\n",
              "      <td>3</td>\n",
              "      <td>4</td>\n",
              "    </tr>\n",
              "    <tr>\n",
              "      <th>8182</th>\n",
              "      <td>40</td>\n",
              "      <td>40</td>\n",
              "      <td>2020-05-27 18:59:53+00:00</td>\n",
              "      <td>pandemic perforated pockets plunging economy p...</td>\n",
              "      <td>1</td>\n",
              "      <td>6</td>\n",
              "    </tr>\n",
              "  </tbody>\n",
              "</table>\n",
              "</div>"
            ],
            "text/plain": [
              "      unnamed: 0  unnamed: 0.1  ... retweets likes\n",
              "8178          36            36  ...        0     0\n",
              "8179          37            37  ...        0     2\n",
              "8180          38            38  ...        0     0\n",
              "8181          39            39  ...        3     4\n",
              "8182          40            40  ...        1     6\n",
              "\n",
              "[5 rows x 6 columns]"
            ]
          },
          "metadata": {
            "tags": []
          },
          "execution_count": 16
        }
      ]
    },
    {
      "cell_type": "code",
      "metadata": {
        "id": "HgXr-UnuXwka",
        "colab": {
          "base_uri": "https://localhost:8080/",
          "height": 496
        },
        "outputId": "9797e58e-a124-468f-a65b-69914cd32e83"
      },
      "source": [
        "#Removing Stopwords\n",
        "\n",
        "import nltk\n",
        "nltk.download('stopwords')\n",
        "\n",
        "from nltk.corpus import stopwords\n",
        "stop = stopwords.words('english')\n",
        "\n",
        "nairobi_df2['text_without_stopwords'] = nairobi_df2['text'].apply(lambda x: ' '.join(word for word in str(x).split() if word not in stop))#this method gives back a list of words\n",
        "\n",
        "nairobi_df2.head()"
      ],
      "execution_count": 18,
      "outputs": [
        {
          "output_type": "stream",
          "text": [
            "[nltk_data] Downloading package stopwords to /root/nltk_data...\n",
            "[nltk_data]   Unzipping corpora/stopwords.zip.\n"
          ],
          "name": "stdout"
        },
        {
          "output_type": "stream",
          "text": [
            "/usr/local/lib/python3.7/dist-packages/ipykernel_launcher.py:9: SettingWithCopyWarning:\n",
            "\n",
            "\n",
            "A value is trying to be set on a copy of a slice from a DataFrame.\n",
            "Try using .loc[row_indexer,col_indexer] = value instead\n",
            "\n",
            "See the caveats in the documentation: https://pandas.pydata.org/pandas-docs/stable/user_guide/indexing.html#returning-a-view-versus-a-copy\n",
            "\n"
          ],
          "name": "stderr"
        },
        {
          "output_type": "execute_result",
          "data": {
            "text/html": [
              "<div>\n",
              "<style scoped>\n",
              "    .dataframe tbody tr th:only-of-type {\n",
              "        vertical-align: middle;\n",
              "    }\n",
              "\n",
              "    .dataframe tbody tr th {\n",
              "        vertical-align: top;\n",
              "    }\n",
              "\n",
              "    .dataframe thead th {\n",
              "        text-align: right;\n",
              "    }\n",
              "</style>\n",
              "<table border=\"1\" class=\"dataframe\">\n",
              "  <thead>\n",
              "    <tr style=\"text-align: right;\">\n",
              "      <th></th>\n",
              "      <th>unnamed: 0</th>\n",
              "      <th>unnamed: 0.1</th>\n",
              "      <th>datetime</th>\n",
              "      <th>text</th>\n",
              "      <th>retweets</th>\n",
              "      <th>likes</th>\n",
              "      <th>text_without_stopwords</th>\n",
              "    </tr>\n",
              "  </thead>\n",
              "  <tbody>\n",
              "    <tr>\n",
              "      <th>0</th>\n",
              "      <td>0</td>\n",
              "      <td>0</td>\n",
              "      <td>2020-06-06 19:28:03+00:00</td>\n",
              "      <td>mmetukosea sana sasa ningeenda hadi pahali gar...</td>\n",
              "      <td>0</td>\n",
              "      <td>2</td>\n",
              "      <td>mmetukosea sana sasa ningeenda hadi pahali gar...</td>\n",
              "    </tr>\n",
              "    <tr>\n",
              "      <th>1</th>\n",
              "      <td>1</td>\n",
              "      <td>1</td>\n",
              "      <td>2020-06-06 13:25:27+00:00</td>\n",
              "      <td>cant wait 🥰🥰  blacklivesmatter curfewinkenya w...</td>\n",
              "      <td>1</td>\n",
              "      <td>10</td>\n",
              "      <td>cant wait 🥰🥰 blacklivesmatter curfewinkenya wa...</td>\n",
              "    </tr>\n",
              "    <tr>\n",
              "      <th>2</th>\n",
              "      <td>2</td>\n",
              "      <td>2</td>\n",
              "      <td>2020-06-06 13:24:27+00:00</td>\n",
              "      <td>wakenya hawachoki na meme za uhuru😂😂 uhurukeny...</td>\n",
              "      <td>1</td>\n",
              "      <td>4</td>\n",
              "      <td>wakenya hawachoki na meme za uhuru😂😂 uhurukeny...</td>\n",
              "    </tr>\n",
              "    <tr>\n",
              "      <th>3</th>\n",
              "      <td>3</td>\n",
              "      <td>3</td>\n",
              "      <td>2020-06-06 13:03:01+00:00</td>\n",
              "      <td>fellow kenyans uhuruspeaks uhuruaddress</td>\n",
              "      <td>0</td>\n",
              "      <td>1</td>\n",
              "      <td>fellow kenyans uhuruspeaks uhuruaddress</td>\n",
              "    </tr>\n",
              "    <tr>\n",
              "      <th>4</th>\n",
              "      <td>4</td>\n",
              "      <td>4</td>\n",
              "      <td>2020-06-06 13:02:49+00:00</td>\n",
              "      <td>uhurukenyatta cessation of movement in nairobi...</td>\n",
              "      <td>0</td>\n",
              "      <td>2</td>\n",
              "      <td>uhurukenyatta cessation movement nairobi momba...</td>\n",
              "    </tr>\n",
              "  </tbody>\n",
              "</table>\n",
              "</div>"
            ],
            "text/plain": [
              "   unnamed: 0  ...                             text_without_stopwords\n",
              "0           0  ...  mmetukosea sana sasa ningeenda hadi pahali gar...\n",
              "1           1  ...  cant wait 🥰🥰 blacklivesmatter curfewinkenya wa...\n",
              "2           2  ...  wakenya hawachoki na meme za uhuru😂😂 uhurukeny...\n",
              "3           3  ...            fellow kenyans uhuruspeaks uhuruaddress\n",
              "4           4  ...  uhurukenyatta cessation movement nairobi momba...\n",
              "\n",
              "[5 rows x 7 columns]"
            ]
          },
          "metadata": {
            "tags": []
          },
          "execution_count": 18
        }
      ]
    },
    {
      "cell_type": "code",
      "metadata": {
        "id": "C3P7cYKbe5Q_"
      },
      "source": [
        "#Check for the maximum and minimum dates in the data\n",
        "\n",
        "print(f\" Data Available since {nairobi_df2.datetime.min()}\")\n",
        "print(f\" Data Available upto {nairobi_df2.datetime.max()}\")"
      ],
      "execution_count": null,
      "outputs": []
    },
    {
      "cell_type": "markdown",
      "metadata": {
        "id": "7qK7_kT2fKl9"
      },
      "source": [
        "**Visualizations**"
      ]
    },
    {
      "cell_type": "markdown",
      "metadata": {
        "id": "EsPE3D98fW6t"
      },
      "source": [
        "### Common Words"
      ]
    },
    {
      "cell_type": "code",
      "metadata": {
        "id": "WGtGyf32fGQv"
      },
      "source": [
        "#Checking for the most common words\n",
        "\n",
        "from collections import Counter\n",
        "nairobi_df2['text_without_stopwords'] = nairobi_df2['text_without_stopwords'].apply(lambda x:str(x).split())\n",
        "top = Counter([item for sublist in nairobi_df2['text_without_stopwords'] for item in sublist])\n",
        "tweets = pd.DataFrame(top.most_common(51))\n",
        "tweets.columns = ['common words', 'count']\n",
        "tweets.style.background_gradient(cmap = 'Blues')"
      ],
      "execution_count": null,
      "outputs": []
    },
    {
      "cell_type": "markdown",
      "metadata": {
        "id": "Bk2Va7QcggOf"
      },
      "source": [
        "### Wordcloud"
      ]
    },
    {
      "cell_type": "code",
      "metadata": {
        "id": "WKv6z8LdiSlN"
      },
      "source": [
        "def plot_wordcloud(text, mask=None, max_words=500, max_font_size=100, figure_size=(14.0,6.0), color = 'white',\n",
        "                   title = None, title_size=40, image_color=False):\n",
        "    stopwords = set(STOPWORDS)\n",
        "    more_stopwords = {'sasa', \"wa\", 'wa', 'sana', 'hadi', 'na'}\n",
        "    stopwords = stopwords.union(more_stopwords)\n",
        "\n",
        "    wordcloud = WordCloud(background_color=color,\n",
        "                    stopwords = stopwords,\n",
        "                    max_words = max_words,\n",
        "                    max_font_size = max_font_size, \n",
        "                    random_state = 42,\n",
        "                    width=400, \n",
        "                    height=200,\n",
        "                    mask = mask)\n",
        "    wordcloud.generate(str(text))\n",
        "    \n",
        "    plt.figure(figsize=figure_size)\n",
        "    if image_color:\n",
        "        image_colors = ImageColorGenerator(mask);\n",
        "        plt.imshow(wordcloud.recolor(color_func=image_colors), interpolation=\"bilinear\");\n",
        "        plt.title(title, fontdict={'size': title_size,  \n",
        "                                  'verticalalignment': 'bottom'})\n",
        "    else:\n",
        "        plt.imshow(wordcloud);\n",
        "        plt.title(title, fontdict={'size': title_size, 'color': 'black', \n",
        "                                  'verticalalignment': 'bottom'})\n",
        "    plt.axis('off');\n",
        "    plt.tight_layout()  \n",
        "d = '/content/gdrive/My Drive/Coronavirus_Tweets/'"
      ],
      "execution_count": 31,
      "outputs": []
    },
    {
      "cell_type": "code",
      "metadata": {
        "id": "CteKBTfJklcA",
        "outputId": "24068a3c-7ed6-4d9d-b926-df624d22d3cf",
        "colab": {
          "base_uri": "https://localhost:8080/",
          "height": 441
        }
      },
      "source": [
        "pos_mask = np.array(Image.open(d+ 'upvote.png'))\n",
        "plot_wordcloud(nairobi_df2.text_without_stopwords,mask=pos_mask,color='white',max_font_size=300,title_size=30,title=\"Most Common Tweets\")"
      ],
      "execution_count": 32,
      "outputs": [
        {
          "output_type": "display_data",
          "data": {
            "image/png": "[encoded data removed]",
            "text/plain": [
              "<Figure size 1008x432 with 1 Axes>"
            ]
          },
          "metadata": {
            "tags": [],
            "needs_background": "light"
          }
        }
      ]
    },
    {
      "cell_type": "code",
      "metadata": {
        "id": "8005N5GK2A8L",
        "colab": {
          "base_uri": "https://localhost:8080/",
          "height": 905
        },
        "outputId": "a81be157-98fa-4aa6-eb7d-92a44ac6e500"
      },
      "source": [
        "#The number of tweets according to dates\n",
        "\n",
        "nairobi_df2['datetime'] =  pd.to_datetime(nairobi_df2['datetime'])\n",
        "cnt_srs =nairobi_df2['datetime'].dt.date.value_counts()\n",
        "cnt_srs = cnt_srs.sort_index()\n",
        "plt.figure(figsize=(28,15))\n",
        "sns.barplot(cnt_srs.index, cnt_srs.values, alpha=0.8, color='green')\n",
        "plt.xticks(rotation='vertical')\n",
        "plt.xlabel('Date', fontsize=15)\n",
        "plt.ylabel('Number of tweets', fontsize=15)\n",
        "plt.title(\"Number of tweets according to dates\")\n",
        "plt.show()"
      ],
      "execution_count": 33,
      "outputs": [
        {
          "output_type": "stream",
          "text": [
            "/usr/local/lib/python3.7/dist-packages/ipykernel_launcher.py:3: SettingWithCopyWarning:\n",
            "\n",
            "\n",
            "A value is trying to be set on a copy of a slice from a DataFrame.\n",
            "Try using .loc[row_indexer,col_indexer] = value instead\n",
            "\n",
            "See the caveats in the documentation: https://pandas.pydata.org/pandas-docs/stable/user_guide/indexing.html#returning-a-view-versus-a-copy\n",
            "\n",
            "/usr/local/lib/python3.7/dist-packages/seaborn/_decorators.py:43: FutureWarning:\n",
            "\n",
            "Pass the following variables as keyword args: x, y. From version 0.12, the only valid positional argument will be `data`, and passing other arguments without an explicit keyword will result in an error or misinterpretation.\n",
            "\n"
          ],
          "name": "stderr"
        },
        {
          "output_type": "display_data",
          "data": {
            "image/png": "[encoded data removed]",
            "text/plain": [
              "<Figure size 2016x1080 with 1 Axes>"
            ]
          },
          "metadata": {
            "tags": [],
            "needs_background": "light"
          }
        }
      ]
    },
    {
      "cell_type": "markdown",
      "metadata": {
        "id": "npt9UNflfAB5"
      },
      "source": [
        "# <center>**Bag of Words**</center>"
      ]
    },
    {
      "cell_type": "code",
      "metadata": {
        "id": "8Nly5tKifPGc"
      },
      "source": [
        ""
      ],
      "execution_count": null,
      "outputs": []
    }
  ]
}