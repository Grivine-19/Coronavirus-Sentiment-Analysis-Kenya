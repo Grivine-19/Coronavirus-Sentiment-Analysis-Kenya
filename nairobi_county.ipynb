{
  "nbformat": 4,
  "nbformat_minor": 0,
  "metadata": {
    "language_info": {
      "codemirror_mode": {
        "name": "ipython",
        "version": 3
      },
      "file_extension": ".py",
      "mimetype": "text/x-python",
      "name": "python",
      "nbconvert_exporter": "python",
      "pygments_lexer": "ipython3",
      "version": "3.8.5-final"
    },
    "orig_nbformat": 2,
    "kernelspec": {
      "name": "python38564bitbaseconda378a717c3d1e409e93df1db8692daf27",
      "display_name": "Python 3.8.5 64-bit ('base': conda)",
      "language": "python"
    },
    "colab": {
      "name": "nairobi_county.ipynb",
      "provenance": []
    }
  },
  "cells": [
    {
      "cell_type": "markdown",
      "metadata": {
        "id": "AsLUVfp4Serq"
      },
      "source": [
        "**Overview**\n",
        "\n",
        "\n",
        "*   The data used here is what we scraped from the \"snscrape.ipynb\" file\n",
        "*   Scraping was done on local machine as Google Colab uses Python Version 3.6 as of the time this was published; snscrape only works with Pyhon 3.8 and above.\n",
        "\n"
      ]
    },
    {
      "cell_type": "markdown",
      "metadata": {
        "id": "wkL6LozWOaaq"
      },
      "source": [
        "**Importing Libraries & Modules**"
      ]
    },
    {
      "cell_type": "code",
      "metadata": {
        "id": "LcvdZHuSOO8M"
      },
      "source": [
        "import pandas as pd \n",
        "import matplotlib.pyplot as plt \n",
        "import seaborn as sns\n",
        "%matplotlib inline\n",
        "import numpy as np\n",
        "import re\n",
        "import nltk\n",
        "import warnings \n",
        "warnings.filterwarnings(\"ignore\", category=DeprecationWarning)\n",
        "from plotly import graph_objs as go\n",
        "from google.colab import drive"
      ],
      "execution_count": 3,
      "outputs": []
    },
    {
      "cell_type": "code",
      "metadata": {
        "id": "bH1An5VTOO8Q",
        "outputId": "73601151-25b8-460d-ea48-30caf384aac6",
        "colab": {
          "base_uri": "https://localhost:8080/"
        }
      },
      "source": [
        "#Mount the google drive folder\n",
        "\n",
        "drive.mount('/content/gdrive')"
      ],
      "execution_count": 4,
      "outputs": [
        {
          "output_type": "stream",
          "text": [
            "Mounted at /content/gdrive\n"
          ],
          "name": "stdout"
        }
      ]
    },
    {
      "cell_type": "code",
      "metadata": {
        "id": "xky7JEDzP0LL",
        "outputId": "ead40d9a-4bae-4d39-c334-4ef3daa88add",
        "colab": {
          "base_uri": "https://localhost:8080/",
          "height": 204
        }
      },
      "source": [
        "#Load the dataset\n",
        "\n",
        "nairobi_df = pd.read_csv('/content/gdrive/My Drive/Coronavirus_Tweets/nairobi_county.csv')\n",
        "\n",
        "#Preview the first four rows of the dataset\n",
        "\n",
        "nairobi_df.head()"
      ],
      "execution_count": 6,
      "outputs": [
        {
          "output_type": "execute_result",
          "data": {
            "text/html": [
              "<div>\n",
              "<style scoped>\n",
              "    .dataframe tbody tr th:only-of-type {\n",
              "        vertical-align: middle;\n",
              "    }\n",
              "\n",
              "    .dataframe tbody tr th {\n",
              "        vertical-align: top;\n",
              "    }\n",
              "\n",
              "    .dataframe thead th {\n",
              "        text-align: right;\n",
              "    }\n",
              "</style>\n",
              "<table border=\"1\" class=\"dataframe\">\n",
              "  <thead>\n",
              "    <tr style=\"text-align: right;\">\n",
              "      <th></th>\n",
              "      <th>Unnamed: 0</th>\n",
              "      <th>Unnamed: 0.1</th>\n",
              "      <th>Datetime</th>\n",
              "      <th>Text</th>\n",
              "      <th>retweets</th>\n",
              "      <th>likes</th>\n",
              "    </tr>\n",
              "  </thead>\n",
              "  <tbody>\n",
              "    <tr>\n",
              "      <th>0</th>\n",
              "      <td>0</td>\n",
              "      <td>0</td>\n",
              "      <td>2020-06-06 19:28:03+00:00</td>\n",
              "      <td>Mmetukosea sana! \\n\\nSasa ningeenda hadi pahal...</td>\n",
              "      <td>0</td>\n",
              "      <td>2</td>\n",
              "    </tr>\n",
              "    <tr>\n",
              "      <th>1</th>\n",
              "      <td>1</td>\n",
              "      <td>1</td>\n",
              "      <td>2020-06-06 13:25:27+00:00</td>\n",
              "      <td>CAN'T WAIT 🥰🥰 #6thjune #BlackLivesMatter #Curf...</td>\n",
              "      <td>1</td>\n",
              "      <td>10</td>\n",
              "    </tr>\n",
              "    <tr>\n",
              "      <th>2</th>\n",
              "      <td>2</td>\n",
              "      <td>2</td>\n",
              "      <td>2020-06-06 13:24:27+00:00</td>\n",
              "      <td>Wakenya hawachoki na meme za Uhuru😂😂 #UhuruKen...</td>\n",
              "      <td>1</td>\n",
              "      <td>4</td>\n",
              "    </tr>\n",
              "    <tr>\n",
              "      <th>3</th>\n",
              "      <td>3</td>\n",
              "      <td>3</td>\n",
              "      <td>2020-06-06 13:03:01+00:00</td>\n",
              "      <td>Fellow Kenyans #uhuruspeaks #UhuruAddress http...</td>\n",
              "      <td>0</td>\n",
              "      <td>1</td>\n",
              "    </tr>\n",
              "    <tr>\n",
              "      <th>4</th>\n",
              "      <td>4</td>\n",
              "      <td>4</td>\n",
              "      <td>2020-06-06 13:02:49+00:00</td>\n",
              "      <td>#UhuruKenyatta Cessation of movement in Nairob...</td>\n",
              "      <td>0</td>\n",
              "      <td>2</td>\n",
              "    </tr>\n",
              "  </tbody>\n",
              "</table>\n",
              "</div>"
            ],
            "text/plain": [
              "   Unnamed: 0  Unnamed: 0.1  ... retweets likes\n",
              "0           0             0  ...        0     2\n",
              "1           1             1  ...        1    10\n",
              "2           2             2  ...        1     4\n",
              "3           3             3  ...        0     1\n",
              "4           4             4  ...        0     2\n",
              "\n",
              "[5 rows x 6 columns]"
            ]
          },
          "metadata": {
            "tags": []
          },
          "execution_count": 6
        }
      ]
    },
    {
      "cell_type": "code",
      "metadata": {
        "id": "PpSAayBBT3bF",
        "outputId": "acfdf9b6-31b0-4156-c6bf-e3ee6d93d7a7",
        "colab": {
          "base_uri": "https://localhost:8080/",
          "height": 204
        }
      },
      "source": [
        "#Preview the last four rows of the dataset\n",
        "\n",
        "nairobi_df.tail()"
      ],
      "execution_count": 7,
      "outputs": [
        {
          "output_type": "execute_result",
          "data": {
            "text/html": [
              "<div>\n",
              "<style scoped>\n",
              "    .dataframe tbody tr th:only-of-type {\n",
              "        vertical-align: middle;\n",
              "    }\n",
              "\n",
              "    .dataframe tbody tr th {\n",
              "        vertical-align: top;\n",
              "    }\n",
              "\n",
              "    .dataframe thead th {\n",
              "        text-align: right;\n",
              "    }\n",
              "</style>\n",
              "<table border=\"1\" class=\"dataframe\">\n",
              "  <thead>\n",
              "    <tr style=\"text-align: right;\">\n",
              "      <th></th>\n",
              "      <th>Unnamed: 0</th>\n",
              "      <th>Unnamed: 0.1</th>\n",
              "      <th>Datetime</th>\n",
              "      <th>Text</th>\n",
              "      <th>retweets</th>\n",
              "      <th>likes</th>\n",
              "    </tr>\n",
              "  </thead>\n",
              "  <tbody>\n",
              "    <tr>\n",
              "      <th>8179</th>\n",
              "      <td>37</td>\n",
              "      <td>37</td>\n",
              "      <td>2020-05-29 06:20:25+00:00</td>\n",
              "      <td>President Uhuru Kenyatta made it clear that's ...</td>\n",
              "      <td>0</td>\n",
              "      <td>2</td>\n",
              "    </tr>\n",
              "    <tr>\n",
              "      <th>8180</th>\n",
              "      <td>38</td>\n",
              "      <td>38</td>\n",
              "      <td>2020-05-29 06:03:22+00:00</td>\n",
              "      <td>#Uhurustoughchoices Mlisema huyu Ni mtoto wa N...</td>\n",
              "      <td>0</td>\n",
              "      <td>0</td>\n",
              "    </tr>\n",
              "    <tr>\n",
              "      <th>8181</th>\n",
              "      <td>39</td>\n",
              "      <td>39</td>\n",
              "      <td>2020-05-29 05:19:20+00:00</td>\n",
              "      <td>Among other tough choices Uhuru must make is g...</td>\n",
              "      <td>3</td>\n",
              "      <td>4</td>\n",
              "    </tr>\n",
              "    <tr>\n",
              "      <th>8182</th>\n",
              "      <td>40</td>\n",
              "      <td>40</td>\n",
              "      <td>2020-05-27 18:59:53+00:00</td>\n",
              "      <td>Pandemic. Perforated pockets. Plunging economy...</td>\n",
              "      <td>1</td>\n",
              "      <td>6</td>\n",
              "    </tr>\n",
              "    <tr>\n",
              "      <th>8183</th>\n",
              "      <td>41</td>\n",
              "      <td>41</td>\n",
              "      <td>2020-05-27 18:54:16+00:00</td>\n",
              "      <td>Pandemic. Perforated pockets. Plunging economy...</td>\n",
              "      <td>26</td>\n",
              "      <td>35</td>\n",
              "    </tr>\n",
              "  </tbody>\n",
              "</table>\n",
              "</div>"
            ],
            "text/plain": [
              "      Unnamed: 0  Unnamed: 0.1  ... retweets likes\n",
              "8179          37            37  ...        0     2\n",
              "8180          38            38  ...        0     0\n",
              "8181          39            39  ...        3     4\n",
              "8182          40            40  ...        1     6\n",
              "8183          41            41  ...       26    35\n",
              "\n",
              "[5 rows x 6 columns]"
            ]
          },
          "metadata": {
            "tags": []
          },
          "execution_count": 7
        }
      ]
    },
    {
      "cell_type": "markdown",
      "metadata": {
        "id": "V6Yg1rtZUvAe"
      },
      "source": [
        "### Shape of the data"
      ]
    },
    {
      "cell_type": "code",
      "metadata": {
        "id": "6ncE1FR8UmRK",
        "outputId": "8151789a-f445-4f84-b6eb-19c41e07de54",
        "colab": {
          "base_uri": "https://localhost:8080/"
        }
      },
      "source": [
        "#number of rows and columns of the data\n",
        "\n",
        "nairobi_df.shape"
      ],
      "execution_count": 8,
      "outputs": [
        {
          "output_type": "execute_result",
          "data": {
            "text/plain": [
              "(8184, 6)"
            ]
          },
          "metadata": {
            "tags": []
          },
          "execution_count": 8
        }
      ]
    },
    {
      "cell_type": "code",
      "metadata": {
        "id": "p9lx3NUbVJnD",
        "outputId": "6fe33224-75e3-4e67-fc0c-d096e7def89b",
        "colab": {
          "base_uri": "https://localhost:8080/"
        }
      },
      "source": [
        "#Checking the data types of our data\n",
        "\n",
        "\"\"\" This is crucial for modeling tasks. e.g when solving a regression problem, we only deal with numerical data types and not categorical. \"\"\"\n",
        "\n",
        "nairobi_df.dtypes"
      ],
      "execution_count": 9,
      "outputs": [
        {
          "output_type": "execute_result",
          "data": {
            "text/plain": [
              "Unnamed: 0       int64\n",
              "Unnamed: 0.1     int64\n",
              "Datetime        object\n",
              "Text            object\n",
              "retweets         int64\n",
              "likes            int64\n",
              "dtype: object"
            ]
          },
          "metadata": {
            "tags": []
          },
          "execution_count": 9
        }
      ]
    },
    {
      "cell_type": "markdown",
      "metadata": {
        "id": "PJC6MB0cVY94"
      },
      "source": [
        "**Cleaning the Data**"
      ]
    },
    {
      "cell_type": "markdown",
      "metadata": {
        "id": "Pu8AfS4gVfwo"
      },
      "source": [
        "### Dealing with missing values"
      ]
    },
    {
      "cell_type": "code",
      "metadata": {
        "id": "_XOm4gHUVSem",
        "outputId": "fb4e9bf8-8490-49bb-a3dd-f64379c02a82",
        "colab": {
          "base_uri": "https://localhost:8080/"
        }
      },
      "source": [
        "#Checking for missing values\n",
        "\n",
        "\"\"\" If there are missing values in the columns, we either fill or drop them from the respective columns with too many missing values that are not of significance to the modeling task.\n",
        "\n",
        "For this case, there are no missing values to handle.\"\"\"\n",
        "\n",
        "nairobi_df.isnull().sum()"
      ],
      "execution_count": 10,
      "outputs": [
        {
          "output_type": "execute_result",
          "data": {
            "text/plain": [
              "Unnamed: 0      0\n",
              "Unnamed: 0.1    0\n",
              "Datetime        0\n",
              "Text            0\n",
              "retweets        0\n",
              "likes           0\n",
              "dtype: int64"
            ]
          },
          "metadata": {
            "tags": []
          },
          "execution_count": 10
        }
      ]
    },
    {
      "cell_type": "code",
      "metadata": {
        "id": "40ymaK9CVvfb",
        "outputId": "c8acb208-0252-4933-fdfe-971f4185abfd",
        "colab": {
          "base_uri": "https://localhost:8080/"
        }
      },
      "source": [
        "#Checking for duplicates\n",
        "print(nairobi_df.duplicated().any())"
      ],
      "execution_count": 11,
      "outputs": [
        {
          "output_type": "stream",
          "text": [
            "True\n"
          ],
          "name": "stdout"
        }
      ]
    },
    {
      "cell_type": "code",
      "metadata": {
        "id": "h70AV97CV37q",
        "outputId": "6cdc06e7-d62e-4e4d-aeee-49d24c0e8225",
        "colab": {
          "base_uri": "https://localhost:8080/"
        }
      },
      "source": [
        "#Dropping Duplicates\n",
        "\n",
        "nairobi_df.drop_duplicates(keep=False, inplace=True)\n",
        "\n",
        "#Confirming there are no duplicates\n",
        "\n",
        "print(nairobi_df.duplicated().any())\n",
        "print(nairobi_df.shape)"
      ],
      "execution_count": 12,
      "outputs": [
        {
          "output_type": "stream",
          "text": [
            "False\n",
            "(4214, 6)\n"
          ],
          "name": "stdout"
        }
      ]
    },
    {
      "cell_type": "markdown",
      "metadata": {
        "id": "nCwTKBpyWTVq"
      },
      "source": [
        "### Dealing with Outliers\n",
        "\n",
        "##### We check for outliers because often times, they result into an impbalanced data for modeling. i.e too many outliers bring about a high variance to our data. High variance causes overfitting to our model.\n",
        "\n",
        "##### A Z score is used since our dataset consists of more than 30 rows."
      ]
    },
    {
      "cell_type": "code",
      "metadata": {
        "id": "2TrskM1IWDNu",
        "outputId": "92e44d40-cd18-4c55-e470-436fa00fa5c2",
        "colab": {
          "base_uri": "https://localhost:8080/"
        }
      },
      "source": [
        "#Dealing with outliers\n",
        "#\n",
        "#Import stats from scipy library\n",
        "\n",
        "from scipy import stats\n",
        "num = ['retweets']\n",
        "for i, col in enumerate(num):\n",
        "    z = np.abs(stats.zscore(nairobi_df[col]))\n",
        "print(z)"
      ],
      "execution_count": 13,
      "outputs": [
        {
          "output_type": "stream",
          "text": [
            "[0.14138055 0.0583916  0.0583916  ... 0.10758628 0.0583916  2.016332  ]\n"
          ],
          "name": "stdout"
        }
      ]
    },
    {
      "cell_type": "code",
      "metadata": {
        "id": "ivXPuJocWhrJ",
        "outputId": "4245ab92-dc52-4e59-f454-786f8ac93c91",
        "colab": {
          "base_uri": "https://localhost:8080/"
        }
      },
      "source": [
        "#Confirming that our outliers have been dropped from the data set\n",
        "\n",
        "nairobi_df2 = nairobi_df[( z < 2 )]\n",
        "\n",
        "print(f\"Previous dataframe size : {nairobi_df.shape[0]}\" )\n",
        "print(f\"New dataframe size : {nairobi_df2.shape[0]}\" )"
      ],
      "execution_count": 14,
      "outputs": [
        {
          "output_type": "stream",
          "text": [
            "Previous dataframe size : 4214\n",
            "New dataframe size : 4173\n"
          ],
          "name": "stdout"
        }
      ]
    },
    {
      "cell_type": "code",
      "metadata": {
        "id": "w7nhCjTXWo8u",
        "outputId": "33cb2232-018e-4f45-84ec-473385b1a2fb",
        "colab": {
          "base_uri": "https://localhost:8080/",
          "height": 297
        }
      },
      "source": [
        "nairobi_df2.describe()"
      ],
      "execution_count": 15,
      "outputs": [
        {
          "output_type": "execute_result",
          "data": {
            "text/html": [
              "<div>\n",
              "<style scoped>\n",
              "    .dataframe tbody tr th:only-of-type {\n",
              "        vertical-align: middle;\n",
              "    }\n",
              "\n",
              "    .dataframe tbody tr th {\n",
              "        vertical-align: top;\n",
              "    }\n",
              "\n",
              "    .dataframe thead th {\n",
              "        text-align: right;\n",
              "    }\n",
              "</style>\n",
              "<table border=\"1\" class=\"dataframe\">\n",
              "  <thead>\n",
              "    <tr style=\"text-align: right;\">\n",
              "      <th></th>\n",
              "      <th>Unnamed: 0</th>\n",
              "      <th>Unnamed: 0.1</th>\n",
              "      <th>retweets</th>\n",
              "      <th>likes</th>\n",
              "    </tr>\n",
              "  </thead>\n",
              "  <tbody>\n",
              "    <tr>\n",
              "      <th>count</th>\n",
              "      <td>4173.000000</td>\n",
              "      <td>4173.000000</td>\n",
              "      <td>4173.000000</td>\n",
              "      <td>4173.000000</td>\n",
              "    </tr>\n",
              "    <tr>\n",
              "      <th>mean</th>\n",
              "      <td>1358.447160</td>\n",
              "      <td>1358.447160</td>\n",
              "      <td>0.938414</td>\n",
              "      <td>3.865564</td>\n",
              "    </tr>\n",
              "    <tr>\n",
              "      <th>std</th>\n",
              "      <td>1011.783419</td>\n",
              "      <td>1011.783419</td>\n",
              "      <td>2.363796</td>\n",
              "      <td>11.781585</td>\n",
              "    </tr>\n",
              "    <tr>\n",
              "      <th>min</th>\n",
              "      <td>0.000000</td>\n",
              "      <td>0.000000</td>\n",
              "      <td>0.000000</td>\n",
              "      <td>0.000000</td>\n",
              "    </tr>\n",
              "    <tr>\n",
              "      <th>25%</th>\n",
              "      <td>444.000000</td>\n",
              "      <td>444.000000</td>\n",
              "      <td>0.000000</td>\n",
              "      <td>0.000000</td>\n",
              "    </tr>\n",
              "    <tr>\n",
              "      <th>50%</th>\n",
              "      <td>1195.000000</td>\n",
              "      <td>1195.000000</td>\n",
              "      <td>0.000000</td>\n",
              "      <td>1.000000</td>\n",
              "    </tr>\n",
              "    <tr>\n",
              "      <th>75%</th>\n",
              "      <td>2241.000000</td>\n",
              "      <td>2241.000000</td>\n",
              "      <td>1.000000</td>\n",
              "      <td>3.000000</td>\n",
              "    </tr>\n",
              "    <tr>\n",
              "      <th>max</th>\n",
              "      <td>3298.000000</td>\n",
              "      <td>3298.000000</td>\n",
              "      <td>25.000000</td>\n",
              "      <td>202.000000</td>\n",
              "    </tr>\n",
              "  </tbody>\n",
              "</table>\n",
              "</div>"
            ],
            "text/plain": [
              "        Unnamed: 0  Unnamed: 0.1     retweets        likes\n",
              "count  4173.000000   4173.000000  4173.000000  4173.000000\n",
              "mean   1358.447160   1358.447160     0.938414     3.865564\n",
              "std    1011.783419   1011.783419     2.363796    11.781585\n",
              "min       0.000000      0.000000     0.000000     0.000000\n",
              "25%     444.000000    444.000000     0.000000     0.000000\n",
              "50%    1195.000000   1195.000000     0.000000     1.000000\n",
              "75%    2241.000000   2241.000000     1.000000     3.000000\n",
              "max    3298.000000   3298.000000    25.000000   202.000000"
            ]
          },
          "metadata": {
            "tags": []
          },
          "execution_count": 15
        }
      ]
    },
    {
      "cell_type": "markdown",
      "metadata": {
        "id": "cbFgvvZDXB-C"
      },
      "source": [
        "**Cleaning the Text**"
      ]
    },
    {
      "cell_type": "code",
      "metadata": {
        "id": "pOMT4Vw8W2kQ",
        "outputId": "924b9abe-626b-4dc1-91aa-2ef09edfbf65",
        "colab": {
          "base_uri": "https://localhost:8080/"
        }
      },
      "source": [
        "#Map the lowering function to all column names\n",
        "\n",
        "nairobi_df2.columns = map(str.lower, nairobi_df2.columns)\n",
        "\n",
        "#Print the column names\n",
        "\n",
        "for col in nairobi_df2:\n",
        "    print(col)"
      ],
      "execution_count": 16,
      "outputs": [
        {
          "output_type": "stream",
          "text": [
            "unnamed: 0\n",
            "unnamed: 0.1\n",
            "datetime\n",
            "text\n",
            "retweets\n",
            "likes\n"
          ],
          "name": "stdout"
        }
      ]
    },
    {
      "cell_type": "code",
      "metadata": {
        "id": "8amW5B8MXIbP"
      },
      "source": [
        "#Removing Whitespace from both columns and rows and converting case to lower case\n",
        "#\n",
        "#Converting the text column to string dtype after getting an attribute error\n",
        "\"\"\"nairobi_df2['text'] = nairobi_df2['text'].astype(str)\n",
        "\n",
        "nairobi_df2.columns = nairobi_df2.str.strip().str.replace(\",\").str.lower()\n",
        "\n",
        "cat = nairobi_df2['text']\n",
        "\n",
        "for i, c in enumerate(cat):\n",
        "    nairobi_df2[cat] = nairobi_df2[c].str.strip().str.replace(\",\").str.lower()\"\"\"\n",
        "\n",
        "#Make text lowercase, remove text in square brackets, remove links, remove punctuation and remove words containing numbers\n",
        "import re\n",
        "import string\n",
        "\n",
        "def clean_text(text):\n",
        "    text = str(text).lower()\n",
        "    text = re.sub(\"\\[.*?\\]\", '', text)\n",
        "    text = re.sub(\"https?://\\S+|www\\.S+\", '', text)\n",
        "    text = re.sub(\"<.*?>+\", '', text)\n",
        "    text = re.sub(\"[%s]\" % re.escape(string.punctuation) , '', text)\n",
        "    text = re.sub(\"\\n\", '', text)\n",
        "    text = re.sub(\"\\w*\\d\\w*\", '', text)\n",
        "    return text"
      ],
      "execution_count": 17,
      "outputs": []
    },
    {
      "cell_type": "code",
      "metadata": {
        "id": "DMSTKFYNXlDq",
        "outputId": "7d5e4423-899d-49f8-fe01-ab323373f80f",
        "colab": {
          "base_uri": "https://localhost:8080/"
        }
      },
      "source": [
        "#Using a lambda function to clean the text column\n",
        "\n",
        "nairobi_df2['text'] = nairobi_df2['text'].apply(lambda x:clean_text(x))"
      ],
      "execution_count": 18,
      "outputs": [
        {
          "output_type": "stream",
          "text": [
            "/usr/local/lib/python3.7/dist-packages/ipykernel_launcher.py:3: SettingWithCopyWarning:\n",
            "\n",
            "\n",
            "A value is trying to be set on a copy of a slice from a DataFrame.\n",
            "Try using .loc[row_indexer,col_indexer] = value instead\n",
            "\n",
            "See the caveats in the documentation: https://pandas.pydata.org/pandas-docs/stable/user_guide/indexing.html#returning-a-view-versus-a-copy\n",
            "\n"
          ],
          "name": "stderr"
        }
      ]
    },
    {
      "cell_type": "code",
      "metadata": {
        "id": "3hESbDDQXnla",
        "outputId": "d3cab42a-7993-4bd5-cfbc-18d3fe715bc5",
        "colab": {
          "base_uri": "https://localhost:8080/",
          "height": 204
        }
      },
      "source": [
        "#Preview the dataset to see changes\n",
        "\n",
        "nairobi_df2.tail()"
      ],
      "execution_count": 19,
      "outputs": [
        {
          "output_type": "execute_result",
          "data": {
            "text/html": [
              "<div>\n",
              "<style scoped>\n",
              "    .dataframe tbody tr th:only-of-type {\n",
              "        vertical-align: middle;\n",
              "    }\n",
              "\n",
              "    .dataframe tbody tr th {\n",
              "        vertical-align: top;\n",
              "    }\n",
              "\n",
              "    .dataframe thead th {\n",
              "        text-align: right;\n",
              "    }\n",
              "</style>\n",
              "<table border=\"1\" class=\"dataframe\">\n",
              "  <thead>\n",
              "    <tr style=\"text-align: right;\">\n",
              "      <th></th>\n",
              "      <th>unnamed: 0</th>\n",
              "      <th>unnamed: 0.1</th>\n",
              "      <th>datetime</th>\n",
              "      <th>text</th>\n",
              "      <th>retweets</th>\n",
              "      <th>likes</th>\n",
              "    </tr>\n",
              "  </thead>\n",
              "  <tbody>\n",
              "    <tr>\n",
              "      <th>8178</th>\n",
              "      <td>36</td>\n",
              "      <td>36</td>\n",
              "      <td>2020-05-29 06:34:32+00:00</td>\n",
              "      <td>theres nothing like making a tough choice when...</td>\n",
              "      <td>0</td>\n",
              "      <td>0</td>\n",
              "    </tr>\n",
              "    <tr>\n",
              "      <th>8179</th>\n",
              "      <td>37</td>\n",
              "      <td>37</td>\n",
              "      <td>2020-05-29 06:20:25+00:00</td>\n",
              "      <td>president uhuru kenyatta made it clear thats t...</td>\n",
              "      <td>0</td>\n",
              "      <td>2</td>\n",
              "    </tr>\n",
              "    <tr>\n",
              "      <th>8180</th>\n",
              "      <td>38</td>\n",
              "      <td>38</td>\n",
              "      <td>2020-05-29 06:03:22+00:00</td>\n",
              "      <td>uhurustoughchoices mlisema huyu ni mtoto wa na...</td>\n",
              "      <td>0</td>\n",
              "      <td>0</td>\n",
              "    </tr>\n",
              "    <tr>\n",
              "      <th>8181</th>\n",
              "      <td>39</td>\n",
              "      <td>39</td>\n",
              "      <td>2020-05-29 05:19:20+00:00</td>\n",
              "      <td>among other tough choices uhuru must make is g...</td>\n",
              "      <td>3</td>\n",
              "      <td>4</td>\n",
              "    </tr>\n",
              "    <tr>\n",
              "      <th>8182</th>\n",
              "      <td>40</td>\n",
              "      <td>40</td>\n",
              "      <td>2020-05-27 18:59:53+00:00</td>\n",
              "      <td>pandemic perforated pockets plunging economy p...</td>\n",
              "      <td>1</td>\n",
              "      <td>6</td>\n",
              "    </tr>\n",
              "  </tbody>\n",
              "</table>\n",
              "</div>"
            ],
            "text/plain": [
              "      unnamed: 0  unnamed: 0.1  ... retweets likes\n",
              "8178          36            36  ...        0     0\n",
              "8179          37            37  ...        0     2\n",
              "8180          38            38  ...        0     0\n",
              "8181          39            39  ...        3     4\n",
              "8182          40            40  ...        1     6\n",
              "\n",
              "[5 rows x 6 columns]"
            ]
          },
          "metadata": {
            "tags": []
          },
          "execution_count": 19
        }
      ]
    },
    {
      "cell_type": "code",
      "metadata": {
        "id": "HgXr-UnuXwka",
        "outputId": "e2c78b53-725e-42d0-be82-c9ff247a1033",
        "colab": {
          "base_uri": "https://localhost:8080/",
          "height": 462
        }
      },
      "source": [
        "#Removing Stopwords\n",
        "\n",
        "from nltk.corpus import stopwords\n",
        "stop = stopwords.words('english')\n",
        "\n",
        "nairobi_df2['text_without_stopwords'] = nairobi_df2['text'].apply(lambda x: ' '.join(word for word in str(x).split() if word not in stop))#this method gives back a list of words\n",
        "\n",
        "nairobi_df2.head()"
      ],
      "execution_count": 31,
      "outputs": [
        {
          "output_type": "stream",
          "text": [
            "/usr/local/lib/python3.7/dist-packages/ipykernel_launcher.py:6: SettingWithCopyWarning:\n",
            "\n",
            "\n",
            "A value is trying to be set on a copy of a slice from a DataFrame.\n",
            "Try using .loc[row_indexer,col_indexer] = value instead\n",
            "\n",
            "See the caveats in the documentation: https://pandas.pydata.org/pandas-docs/stable/user_guide/indexing.html#returning-a-view-versus-a-copy\n",
            "\n"
          ],
          "name": "stderr"
        },
        {
          "output_type": "execute_result",
          "data": {
            "text/html": [
              "<div>\n",
              "<style scoped>\n",
              "    .dataframe tbody tr th:only-of-type {\n",
              "        vertical-align: middle;\n",
              "    }\n",
              "\n",
              "    .dataframe tbody tr th {\n",
              "        vertical-align: top;\n",
              "    }\n",
              "\n",
              "    .dataframe thead th {\n",
              "        text-align: right;\n",
              "    }\n",
              "</style>\n",
              "<table border=\"1\" class=\"dataframe\">\n",
              "  <thead>\n",
              "    <tr style=\"text-align: right;\">\n",
              "      <th></th>\n",
              "      <th>unnamed: 0</th>\n",
              "      <th>unnamed: 0.1</th>\n",
              "      <th>datetime</th>\n",
              "      <th>text</th>\n",
              "      <th>retweets</th>\n",
              "      <th>likes</th>\n",
              "      <th>text_without_stopwords</th>\n",
              "    </tr>\n",
              "  </thead>\n",
              "  <tbody>\n",
              "    <tr>\n",
              "      <th>0</th>\n",
              "      <td>0</td>\n",
              "      <td>0</td>\n",
              "      <td>2020-06-06 19:28:03+00:00</td>\n",
              "      <td>mmetukosea sana sasa ningeenda hadi pahali gar...</td>\n",
              "      <td>0</td>\n",
              "      <td>2</td>\n",
              "      <td>mmetukosea sana sasa ningeenda hadi pahali gar...</td>\n",
              "    </tr>\n",
              "    <tr>\n",
              "      <th>1</th>\n",
              "      <td>1</td>\n",
              "      <td>1</td>\n",
              "      <td>2020-06-06 13:25:27+00:00</td>\n",
              "      <td>cant wait 🥰🥰  blacklivesmatter curfewinkenya w...</td>\n",
              "      <td>1</td>\n",
              "      <td>10</td>\n",
              "      <td>cant wait 🥰🥰 blacklivesmatter curfewinkenya wa...</td>\n",
              "    </tr>\n",
              "    <tr>\n",
              "      <th>2</th>\n",
              "      <td>2</td>\n",
              "      <td>2</td>\n",
              "      <td>2020-06-06 13:24:27+00:00</td>\n",
              "      <td>wakenya hawachoki na meme za uhuru😂😂 uhurukeny...</td>\n",
              "      <td>1</td>\n",
              "      <td>4</td>\n",
              "      <td>wakenya hawachoki na meme za uhuru😂😂 uhurukeny...</td>\n",
              "    </tr>\n",
              "    <tr>\n",
              "      <th>3</th>\n",
              "      <td>3</td>\n",
              "      <td>3</td>\n",
              "      <td>2020-06-06 13:03:01+00:00</td>\n",
              "      <td>fellow kenyans uhuruspeaks uhuruaddress</td>\n",
              "      <td>0</td>\n",
              "      <td>1</td>\n",
              "      <td>fellow kenyans uhuruspeaks uhuruaddress</td>\n",
              "    </tr>\n",
              "    <tr>\n",
              "      <th>4</th>\n",
              "      <td>4</td>\n",
              "      <td>4</td>\n",
              "      <td>2020-06-06 13:02:49+00:00</td>\n",
              "      <td>uhurukenyatta cessation of movement in nairobi...</td>\n",
              "      <td>0</td>\n",
              "      <td>2</td>\n",
              "      <td>uhurukenyatta cessation movement nairobi momba...</td>\n",
              "    </tr>\n",
              "  </tbody>\n",
              "</table>\n",
              "</div>"
            ],
            "text/plain": [
              "   unnamed: 0  ...                             text_without_stopwords\n",
              "0           0  ...  mmetukosea sana sasa ningeenda hadi pahali gar...\n",
              "1           1  ...  cant wait 🥰🥰 blacklivesmatter curfewinkenya wa...\n",
              "2           2  ...  wakenya hawachoki na meme za uhuru😂😂 uhurukeny...\n",
              "3           3  ...            fellow kenyans uhuruspeaks uhuruaddress\n",
              "4           4  ...  uhurukenyatta cessation movement nairobi momba...\n",
              "\n",
              "[5 rows x 7 columns]"
            ]
          },
          "metadata": {
            "tags": []
          },
          "execution_count": 31
        }
      ]
    },
    {
      "cell_type": "code",
      "metadata": {
        "id": "C3P7cYKbe5Q_",
        "outputId": "5396e050-1b28-419c-e484-30c9fed1db99",
        "colab": {
          "base_uri": "https://localhost:8080/"
        }
      },
      "source": [
        "#Check for the maximum and minimum dates in the data\n",
        "\n",
        "print(f\" Data Available since {nairobi_df2.datetime.min()}\")\n",
        "print(f\" Data Available upto {nairobi_df2.datetime.max()}\")"
      ],
      "execution_count": 28,
      "outputs": [
        {
          "output_type": "stream",
          "text": [
            " Data Available since 2020-02-16 11:30:23+00:00\n",
            " Data Available upto 2020-07-22 03:35:10+00:00\n"
          ],
          "name": "stdout"
        }
      ]
    },
    {
      "cell_type": "markdown",
      "metadata": {
        "id": "7qK7_kT2fKl9"
      },
      "source": [
        "**Visualizations**"
      ]
    },
    {
      "cell_type": "markdown",
      "metadata": {
        "id": "EsPE3D98fW6t"
      },
      "source": [
        "### Common Words"
      ]
    },
    {
      "cell_type": "code",
      "metadata": {
        "id": "WGtGyf32fGQv",
        "outputId": "f3cd07b6-1eaa-49fc-e9f1-56e705f7bae4",
        "colab": {
          "base_uri": "https://localhost:8080/",
          "height": 1000
        }
      },
      "source": [
        "#Checking for the most common words\n",
        "\n",
        "from collections import Counter\n",
        "nairobi_df2['text_without_stopwords'] = nairobi_df2['text_without_stopwords'].apply(lambda x:str(x).split())\n",
        "top = Counter([item for sublist in nairobi_df2['text_without_stopwords'] for item in sublist])\n",
        "tweets = pd.DataFrame(top.most_common(51))\n",
        "tweets.columns = ['common words', 'count']\n",
        "tweets.style.background_gradient(cmap = 'Blues')"
      ],
      "execution_count": 32,
      "outputs": [
        {
          "output_type": "stream",
          "text": [
            "/usr/local/lib/python3.7/dist-packages/ipykernel_launcher.py:4: SettingWithCopyWarning:\n",
            "\n",
            "\n",
            "A value is trying to be set on a copy of a slice from a DataFrame.\n",
            "Try using .loc[row_indexer,col_indexer] = value instead\n",
            "\n",
            "See the caveats in the documentation: https://pandas.pydata.org/pandas-docs/stable/user_guide/indexing.html#returning-a-view-versus-a-copy\n",
            "\n"
          ],
          "name": "stderr"
        },
        {
          "output_type": "execute_result",
          "data": {
            "text/html": [
              "<style  type=\"text/css\" >\n",
              "#T_2cfc3304_8136_11eb_9732_0242ac1c0002row0_col1{\n",
              "            background-color:  #08306b;\n",
              "            color:  #f1f1f1;\n",
              "        }#T_2cfc3304_8136_11eb_9732_0242ac1c0002row1_col1{\n",
              "            background-color:  #08509b;\n",
              "            color:  #f1f1f1;\n",
              "        }#T_2cfc3304_8136_11eb_9732_0242ac1c0002row2_col1{\n",
              "            background-color:  #0a549e;\n",
              "            color:  #f1f1f1;\n",
              "        }#T_2cfc3304_8136_11eb_9732_0242ac1c0002row3_col1{\n",
              "            background-color:  #aacfe5;\n",
              "            color:  #000000;\n",
              "        }#T_2cfc3304_8136_11eb_9732_0242ac1c0002row4_col1{\n",
              "            background-color:  #c4daee;\n",
              "            color:  #000000;\n",
              "        }#T_2cfc3304_8136_11eb_9732_0242ac1c0002row5_col1{\n",
              "            background-color:  #d3e3f3;\n",
              "            color:  #000000;\n",
              "        }#T_2cfc3304_8136_11eb_9732_0242ac1c0002row6_col1{\n",
              "            background-color:  #d8e7f5;\n",
              "            color:  #000000;\n",
              "        }#T_2cfc3304_8136_11eb_9732_0242ac1c0002row7_col1{\n",
              "            background-color:  #dae8f6;\n",
              "            color:  #000000;\n",
              "        }#T_2cfc3304_8136_11eb_9732_0242ac1c0002row8_col1{\n",
              "            background-color:  #e0ecf8;\n",
              "            color:  #000000;\n",
              "        }#T_2cfc3304_8136_11eb_9732_0242ac1c0002row9_col1,#T_2cfc3304_8136_11eb_9732_0242ac1c0002row10_col1{\n",
              "            background-color:  #e1edf8;\n",
              "            color:  #000000;\n",
              "        }#T_2cfc3304_8136_11eb_9732_0242ac1c0002row11_col1{\n",
              "            background-color:  #e6f0f9;\n",
              "            color:  #000000;\n",
              "        }#T_2cfc3304_8136_11eb_9732_0242ac1c0002row12_col1{\n",
              "            background-color:  #e8f1fa;\n",
              "            color:  #000000;\n",
              "        }#T_2cfc3304_8136_11eb_9732_0242ac1c0002row13_col1,#T_2cfc3304_8136_11eb_9732_0242ac1c0002row14_col1{\n",
              "            background-color:  #ebf3fb;\n",
              "            color:  #000000;\n",
              "        }#T_2cfc3304_8136_11eb_9732_0242ac1c0002row15_col1{\n",
              "            background-color:  #ecf4fb;\n",
              "            color:  #000000;\n",
              "        }#T_2cfc3304_8136_11eb_9732_0242ac1c0002row16_col1,#T_2cfc3304_8136_11eb_9732_0242ac1c0002row17_col1,#T_2cfc3304_8136_11eb_9732_0242ac1c0002row18_col1,#T_2cfc3304_8136_11eb_9732_0242ac1c0002row19_col1,#T_2cfc3304_8136_11eb_9732_0242ac1c0002row20_col1{\n",
              "            background-color:  #eef5fc;\n",
              "            color:  #000000;\n",
              "        }#T_2cfc3304_8136_11eb_9732_0242ac1c0002row21_col1{\n",
              "            background-color:  #eff6fc;\n",
              "            color:  #000000;\n",
              "        }#T_2cfc3304_8136_11eb_9732_0242ac1c0002row22_col1,#T_2cfc3304_8136_11eb_9732_0242ac1c0002row23_col1,#T_2cfc3304_8136_11eb_9732_0242ac1c0002row24_col1{\n",
              "            background-color:  #f1f7fd;\n",
              "            color:  #000000;\n",
              "        }#T_2cfc3304_8136_11eb_9732_0242ac1c0002row25_col1,#T_2cfc3304_8136_11eb_9732_0242ac1c0002row26_col1,#T_2cfc3304_8136_11eb_9732_0242ac1c0002row27_col1{\n",
              "            background-color:  #f2f7fd;\n",
              "            color:  #000000;\n",
              "        }#T_2cfc3304_8136_11eb_9732_0242ac1c0002row28_col1,#T_2cfc3304_8136_11eb_9732_0242ac1c0002row29_col1,#T_2cfc3304_8136_11eb_9732_0242ac1c0002row30_col1{\n",
              "            background-color:  #f2f8fd;\n",
              "            color:  #000000;\n",
              "        }#T_2cfc3304_8136_11eb_9732_0242ac1c0002row31_col1,#T_2cfc3304_8136_11eb_9732_0242ac1c0002row32_col1{\n",
              "            background-color:  #f3f8fe;\n",
              "            color:  #000000;\n",
              "        }#T_2cfc3304_8136_11eb_9732_0242ac1c0002row33_col1,#T_2cfc3304_8136_11eb_9732_0242ac1c0002row34_col1,#T_2cfc3304_8136_11eb_9732_0242ac1c0002row35_col1,#T_2cfc3304_8136_11eb_9732_0242ac1c0002row36_col1{\n",
              "            background-color:  #f4f9fe;\n",
              "            color:  #000000;\n",
              "        }#T_2cfc3304_8136_11eb_9732_0242ac1c0002row37_col1,#T_2cfc3304_8136_11eb_9732_0242ac1c0002row38_col1,#T_2cfc3304_8136_11eb_9732_0242ac1c0002row39_col1{\n",
              "            background-color:  #f5f9fe;\n",
              "            color:  #000000;\n",
              "        }#T_2cfc3304_8136_11eb_9732_0242ac1c0002row40_col1,#T_2cfc3304_8136_11eb_9732_0242ac1c0002row41_col1,#T_2cfc3304_8136_11eb_9732_0242ac1c0002row42_col1,#T_2cfc3304_8136_11eb_9732_0242ac1c0002row43_col1{\n",
              "            background-color:  #f5fafe;\n",
              "            color:  #000000;\n",
              "        }#T_2cfc3304_8136_11eb_9732_0242ac1c0002row44_col1,#T_2cfc3304_8136_11eb_9732_0242ac1c0002row45_col1,#T_2cfc3304_8136_11eb_9732_0242ac1c0002row46_col1{\n",
              "            background-color:  #f6faff;\n",
              "            color:  #000000;\n",
              "        }#T_2cfc3304_8136_11eb_9732_0242ac1c0002row47_col1,#T_2cfc3304_8136_11eb_9732_0242ac1c0002row48_col1,#T_2cfc3304_8136_11eb_9732_0242ac1c0002row49_col1,#T_2cfc3304_8136_11eb_9732_0242ac1c0002row50_col1{\n",
              "            background-color:  #f7fbff;\n",
              "            color:  #000000;\n",
              "        }</style><table id=\"T_2cfc3304_8136_11eb_9732_0242ac1c0002\" ><thead>    <tr>        <th class=\"blank level0\" ></th>        <th class=\"col_heading level0 col0\" >common words</th>        <th class=\"col_heading level0 col1\" >count</th>    </tr></thead><tbody>\n",
              "                <tr>\n",
              "                        <th id=\"T_2cfc3304_8136_11eb_9732_0242ac1c0002level0_row0\" class=\"row_heading level0 row0\" >0</th>\n",
              "                        <td id=\"T_2cfc3304_8136_11eb_9732_0242ac1c0002row0_col0\" class=\"data row0 col0\" >stay</td>\n",
              "                        <td id=\"T_2cfc3304_8136_11eb_9732_0242ac1c0002row0_col1\" class=\"data row0 col1\" >1602</td>\n",
              "            </tr>\n",
              "            <tr>\n",
              "                        <th id=\"T_2cfc3304_8136_11eb_9732_0242ac1c0002level0_row1\" class=\"row_heading level0 row1\" >1</th>\n",
              "                        <td id=\"T_2cfc3304_8136_11eb_9732_0242ac1c0002row1_col0\" class=\"data row1 col0\" >safe</td>\n",
              "                        <td id=\"T_2cfc3304_8136_11eb_9732_0242ac1c0002row1_col1\" class=\"data row1 col1\" >1413</td>\n",
              "            </tr>\n",
              "            <tr>\n",
              "                        <th id=\"T_2cfc3304_8136_11eb_9732_0242ac1c0002level0_row2\" class=\"row_heading level0 row2\" >2</th>\n",
              "                        <td id=\"T_2cfc3304_8136_11eb_9732_0242ac1c0002row2_col0\" class=\"data row2 col0\" >staysafe</td>\n",
              "                        <td id=\"T_2cfc3304_8136_11eb_9732_0242ac1c0002row2_col1\" class=\"data row2 col1\" >1394</td>\n",
              "            </tr>\n",
              "            <tr>\n",
              "                        <th id=\"T_2cfc3304_8136_11eb_9732_0242ac1c0002level0_row3\" class=\"row_heading level0 row3\" >3</th>\n",
              "                        <td id=\"T_2cfc3304_8136_11eb_9732_0242ac1c0002row3_col0\" class=\"data row3 col0\" >curfewinkenya</td>\n",
              "                        <td id=\"T_2cfc3304_8136_11eb_9732_0242ac1c0002row3_col1\" class=\"data row3 col1\" >593</td>\n",
              "            </tr>\n",
              "            <tr>\n",
              "                        <th id=\"T_2cfc3304_8136_11eb_9732_0242ac1c0002level0_row4\" class=\"row_heading level0 row4\" >4</th>\n",
              "                        <td id=\"T_2cfc3304_8136_11eb_9732_0242ac1c0002row4_col0\" class=\"data row4 col0\" >stayhome</td>\n",
              "                        <td id=\"T_2cfc3304_8136_11eb_9732_0242ac1c0002row4_col1\" class=\"data row4 col1\" >472</td>\n",
              "            </tr>\n",
              "            <tr>\n",
              "                        <th id=\"T_2cfc3304_8136_11eb_9732_0242ac1c0002level0_row5\" class=\"row_heading level0 row5\" >5</th>\n",
              "                        <td id=\"T_2cfc3304_8136_11eb_9732_0242ac1c0002row5_col0\" class=\"data row5 col0\" >home</td>\n",
              "                        <td id=\"T_2cfc3304_8136_11eb_9732_0242ac1c0002row5_col1\" class=\"data row5 col1\" >365</td>\n",
              "            </tr>\n",
              "            <tr>\n",
              "                        <th id=\"T_2cfc3304_8136_11eb_9732_0242ac1c0002level0_row6\" class=\"row_heading level0 row6\" >6</th>\n",
              "                        <td id=\"T_2cfc3304_8136_11eb_9732_0242ac1c0002row6_col0\" class=\"data row6 col0\" >us</td>\n",
              "                        <td id=\"T_2cfc3304_8136_11eb_9732_0242ac1c0002row6_col1\" class=\"data row6 col1\" >319</td>\n",
              "            </tr>\n",
              "            <tr>\n",
              "                        <th id=\"T_2cfc3304_8136_11eb_9732_0242ac1c0002level0_row7\" class=\"row_heading level0 row7\" >7</th>\n",
              "                        <td id=\"T_2cfc3304_8136_11eb_9732_0242ac1c0002row7_col0\" class=\"data row7 col0\" >nairobi</td>\n",
              "                        <td id=\"T_2cfc3304_8136_11eb_9732_0242ac1c0002row7_col1\" class=\"data row7 col1\" >306</td>\n",
              "            </tr>\n",
              "            <tr>\n",
              "                        <th id=\"T_2cfc3304_8136_11eb_9732_0242ac1c0002level0_row8\" class=\"row_heading level0 row8\" >8</th>\n",
              "                        <td id=\"T_2cfc3304_8136_11eb_9732_0242ac1c0002row8_col0\" class=\"data row8 col0\" >amp</td>\n",
              "                        <td id=\"T_2cfc3304_8136_11eb_9732_0242ac1c0002row8_col1\" class=\"data row8 col1\" >255</td>\n",
              "            </tr>\n",
              "            <tr>\n",
              "                        <th id=\"T_2cfc3304_8136_11eb_9732_0242ac1c0002level0_row9\" class=\"row_heading level0 row9\" >9</th>\n",
              "                        <td id=\"T_2cfc3304_8136_11eb_9732_0242ac1c0002row9_col0\" class=\"data row9 col0\" >kenya</td>\n",
              "                        <td id=\"T_2cfc3304_8136_11eb_9732_0242ac1c0002row9_col1\" class=\"data row9 col1\" >253</td>\n",
              "            </tr>\n",
              "            <tr>\n",
              "                        <th id=\"T_2cfc3304_8136_11eb_9732_0242ac1c0002level0_row10\" class=\"row_heading level0 row10\" >10</th>\n",
              "                        <td id=\"T_2cfc3304_8136_11eb_9732_0242ac1c0002row10_col0\" class=\"data row10 col0\" >happy</td>\n",
              "                        <td id=\"T_2cfc3304_8136_11eb_9732_0242ac1c0002row10_col1\" class=\"data row10 col1\" >248</td>\n",
              "            </tr>\n",
              "            <tr>\n",
              "                        <th id=\"T_2cfc3304_8136_11eb_9732_0242ac1c0002level0_row11\" class=\"row_heading level0 row11\" >11</th>\n",
              "                        <td id=\"T_2cfc3304_8136_11eb_9732_0242ac1c0002row11_col0\" class=\"data row11 col0\" >good</td>\n",
              "                        <td id=\"T_2cfc3304_8136_11eb_9732_0242ac1c0002row11_col1\" class=\"data row11 col1\" >213</td>\n",
              "            </tr>\n",
              "            <tr>\n",
              "                        <th id=\"T_2cfc3304_8136_11eb_9732_0242ac1c0002level0_row12\" class=\"row_heading level0 row12\" >12</th>\n",
              "                        <td id=\"T_2cfc3304_8136_11eb_9732_0242ac1c0002row12_col0\" class=\"data row12 col0\" >people</td>\n",
              "                        <td id=\"T_2cfc3304_8136_11eb_9732_0242ac1c0002row12_col1\" class=\"data row12 col1\" >196</td>\n",
              "            </tr>\n",
              "            <tr>\n",
              "                        <th id=\"T_2cfc3304_8136_11eb_9732_0242ac1c0002level0_row13\" class=\"row_heading level0 row13\" >13</th>\n",
              "                        <td id=\"T_2cfc3304_8136_11eb_9732_0242ac1c0002row13_col0\" class=\"data row13 col0\" >corona</td>\n",
              "                        <td id=\"T_2cfc3304_8136_11eb_9732_0242ac1c0002row13_col1\" class=\"data row13 col1\" >172</td>\n",
              "            </tr>\n",
              "            <tr>\n",
              "                        <th id=\"T_2cfc3304_8136_11eb_9732_0242ac1c0002level0_row14\" class=\"row_heading level0 row14\" >14</th>\n",
              "                        <td id=\"T_2cfc3304_8136_11eb_9732_0242ac1c0002row14_col0\" class=\"data row14 col0\" >day</td>\n",
              "                        <td id=\"T_2cfc3304_8136_11eb_9732_0242ac1c0002row14_col1\" class=\"data row14 col1\" >171</td>\n",
              "            </tr>\n",
              "            <tr>\n",
              "                        <th id=\"T_2cfc3304_8136_11eb_9732_0242ac1c0002level0_row15\" class=\"row_heading level0 row15\" >15</th>\n",
              "                        <td id=\"T_2cfc3304_8136_11eb_9732_0242ac1c0002row15_col0\" class=\"data row15 col0\" >keep</td>\n",
              "                        <td id=\"T_2cfc3304_8136_11eb_9732_0242ac1c0002row15_col1\" class=\"data row15 col1\" >166</td>\n",
              "            </tr>\n",
              "            <tr>\n",
              "                        <th id=\"T_2cfc3304_8136_11eb_9732_0242ac1c0002level0_row16\" class=\"row_heading level0 row16\" >16</th>\n",
              "                        <td id=\"T_2cfc3304_8136_11eb_9732_0242ac1c0002row16_col0\" class=\"data row16 col0\" >time</td>\n",
              "                        <td id=\"T_2cfc3304_8136_11eb_9732_0242ac1c0002row16_col1\" class=\"data row16 col1\" >158</td>\n",
              "            </tr>\n",
              "            <tr>\n",
              "                        <th id=\"T_2cfc3304_8136_11eb_9732_0242ac1c0002level0_row17\" class=\"row_heading level0 row17\" >17</th>\n",
              "                        <td id=\"T_2cfc3304_8136_11eb_9732_0242ac1c0002row17_col0\" class=\"data row17 col0\" >new</td>\n",
              "                        <td id=\"T_2cfc3304_8136_11eb_9732_0242ac1c0002row17_col1\" class=\"data row17 col1\" >157</td>\n",
              "            </tr>\n",
              "            <tr>\n",
              "                        <th id=\"T_2cfc3304_8136_11eb_9732_0242ac1c0002level0_row18\" class=\"row_heading level0 row18\" >18</th>\n",
              "                        <td id=\"T_2cfc3304_8136_11eb_9732_0242ac1c0002row18_col0\" class=\"data row18 col0\" >sanitize</td>\n",
              "                        <td id=\"T_2cfc3304_8136_11eb_9732_0242ac1c0002row18_col1\" class=\"data row18 col1\" >153</td>\n",
              "            </tr>\n",
              "            <tr>\n",
              "                        <th id=\"T_2cfc3304_8136_11eb_9732_0242ac1c0002level0_row19\" class=\"row_heading level0 row19\" >19</th>\n",
              "                        <td id=\"T_2cfc3304_8136_11eb_9732_0242ac1c0002row19_col0\" class=\"data row19 col0\" >stayathome</td>\n",
              "                        <td id=\"T_2cfc3304_8136_11eb_9732_0242ac1c0002row19_col1\" class=\"data row19 col1\" >152</td>\n",
              "            </tr>\n",
              "            <tr>\n",
              "                        <th id=\"T_2cfc3304_8136_11eb_9732_0242ac1c0002level0_row20\" class=\"row_heading level0 row20\" >20</th>\n",
              "                        <td id=\"T_2cfc3304_8136_11eb_9732_0242ac1c0002row20_col0\" class=\"data row20 col0\" >curfew</td>\n",
              "                        <td id=\"T_2cfc3304_8136_11eb_9732_0242ac1c0002row20_col1\" class=\"data row20 col1\" >147</td>\n",
              "            </tr>\n",
              "            <tr>\n",
              "                        <th id=\"T_2cfc3304_8136_11eb_9732_0242ac1c0002level0_row21\" class=\"row_heading level0 row21\" >21</th>\n",
              "                        <td id=\"T_2cfc3304_8136_11eb_9732_0242ac1c0002row21_col0\" class=\"data row21 col0\" >get</td>\n",
              "                        <td id=\"T_2cfc3304_8136_11eb_9732_0242ac1c0002row21_col1\" class=\"data row21 col1\" >141</td>\n",
              "            </tr>\n",
              "            <tr>\n",
              "                        <th id=\"T_2cfc3304_8136_11eb_9732_0242ac1c0002level0_row22\" class=\"row_heading level0 row22\" >22</th>\n",
              "                        <td id=\"T_2cfc3304_8136_11eb_9732_0242ac1c0002row22_col0\" class=\"data row22 col0\" >kenyans</td>\n",
              "                        <td id=\"T_2cfc3304_8136_11eb_9732_0242ac1c0002row22_col1\" class=\"data row22 col1\" >132</td>\n",
              "            </tr>\n",
              "            <tr>\n",
              "                        <th id=\"T_2cfc3304_8136_11eb_9732_0242ac1c0002level0_row23\" class=\"row_heading level0 row23\" >23</th>\n",
              "                        <td id=\"T_2cfc3304_8136_11eb_9732_0242ac1c0002row23_col0\" class=\"data row23 col0\" >please</td>\n",
              "                        <td id=\"T_2cfc3304_8136_11eb_9732_0242ac1c0002row23_col1\" class=\"data row23 col1\" >131</td>\n",
              "            </tr>\n",
              "            <tr>\n",
              "                        <th id=\"T_2cfc3304_8136_11eb_9732_0242ac1c0002level0_row24\" class=\"row_heading level0 row24\" >24</th>\n",
              "                        <td id=\"T_2cfc3304_8136_11eb_9732_0242ac1c0002row24_col0\" class=\"data row24 col0\" >lockdown</td>\n",
              "                        <td id=\"T_2cfc3304_8136_11eb_9732_0242ac1c0002row24_col1\" class=\"data row24 col1\" >130</td>\n",
              "            </tr>\n",
              "            <tr>\n",
              "                        <th id=\"T_2cfc3304_8136_11eb_9732_0242ac1c0002level0_row25\" class=\"row_heading level0 row25\" >25</th>\n",
              "                        <td id=\"T_2cfc3304_8136_11eb_9732_0242ac1c0002row25_col0\" class=\"data row25 col0\" >call</td>\n",
              "                        <td id=\"T_2cfc3304_8136_11eb_9732_0242ac1c0002row25_col1\" class=\"data row25 col1\" >126</td>\n",
              "            </tr>\n",
              "            <tr>\n",
              "                        <th id=\"T_2cfc3304_8136_11eb_9732_0242ac1c0002level0_row26\" class=\"row_heading level0 row26\" >26</th>\n",
              "                        <td id=\"T_2cfc3304_8136_11eb_9732_0242ac1c0002row26_col0\" class=\"data row26 col0\" >lets</td>\n",
              "                        <td id=\"T_2cfc3304_8136_11eb_9732_0242ac1c0002row26_col1\" class=\"data row26 col1\" >125</td>\n",
              "            </tr>\n",
              "            <tr>\n",
              "                        <th id=\"T_2cfc3304_8136_11eb_9732_0242ac1c0002level0_row27\" class=\"row_heading level0 row27\" >27</th>\n",
              "                        <td id=\"T_2cfc3304_8136_11eb_9732_0242ac1c0002row27_col0\" class=\"data row27 col0\" >virus</td>\n",
              "                        <td id=\"T_2cfc3304_8136_11eb_9732_0242ac1c0002row27_col1\" class=\"data row27 col1\" >125</td>\n",
              "            </tr>\n",
              "            <tr>\n",
              "                        <th id=\"T_2cfc3304_8136_11eb_9732_0242ac1c0002level0_row28\" class=\"row_heading level0 row28\" >28</th>\n",
              "                        <td id=\"T_2cfc3304_8136_11eb_9732_0242ac1c0002row28_col0\" class=\"data row28 col0\" >today</td>\n",
              "                        <td id=\"T_2cfc3304_8136_11eb_9732_0242ac1c0002row28_col1\" class=\"data row28 col1\" >121</td>\n",
              "            </tr>\n",
              "            <tr>\n",
              "                        <th id=\"T_2cfc3304_8136_11eb_9732_0242ac1c0002level0_row29\" class=\"row_heading level0 row29\" >29</th>\n",
              "                        <td id=\"T_2cfc3304_8136_11eb_9732_0242ac1c0002row29_col0\" class=\"data row29 col0\" >one</td>\n",
              "                        <td id=\"T_2cfc3304_8136_11eb_9732_0242ac1c0002row29_col1\" class=\"data row29 col1\" >120</td>\n",
              "            </tr>\n",
              "            <tr>\n",
              "                        <th id=\"T_2cfc3304_8136_11eb_9732_0242ac1c0002level0_row30\" class=\"row_heading level0 row30\" >30</th>\n",
              "                        <td id=\"T_2cfc3304_8136_11eb_9732_0242ac1c0002row30_col0\" class=\"data row30 col0\" >social</td>\n",
              "                        <td id=\"T_2cfc3304_8136_11eb_9732_0242ac1c0002row30_col1\" class=\"data row30 col1\" >117</td>\n",
              "            </tr>\n",
              "            <tr>\n",
              "                        <th id=\"T_2cfc3304_8136_11eb_9732_0242ac1c0002level0_row31\" class=\"row_heading level0 row31\" >31</th>\n",
              "                        <td id=\"T_2cfc3304_8136_11eb_9732_0242ac1c0002row31_col0\" class=\"data row31 col0\" >morning</td>\n",
              "                        <td id=\"T_2cfc3304_8136_11eb_9732_0242ac1c0002row31_col1\" class=\"data row31 col1\" >113</td>\n",
              "            </tr>\n",
              "            <tr>\n",
              "                        <th id=\"T_2cfc3304_8136_11eb_9732_0242ac1c0002level0_row32\" class=\"row_heading level0 row32\" >32</th>\n",
              "                        <td id=\"T_2cfc3304_8136_11eb_9732_0242ac1c0002row32_col0\" class=\"data row32 col0\" >take</td>\n",
              "                        <td id=\"T_2cfc3304_8136_11eb_9732_0242ac1c0002row32_col1\" class=\"data row32 col1\" >112</td>\n",
              "            </tr>\n",
              "            <tr>\n",
              "                        <th id=\"T_2cfc3304_8136_11eb_9732_0242ac1c0002level0_row33\" class=\"row_heading level0 row33\" >33</th>\n",
              "                        <td id=\"T_2cfc3304_8136_11eb_9732_0242ac1c0002row33_col0\" class=\"data row33 col0\" >police</td>\n",
              "                        <td id=\"T_2cfc3304_8136_11eb_9732_0242ac1c0002row33_col1\" class=\"data row33 col1\" >110</td>\n",
              "            </tr>\n",
              "            <tr>\n",
              "                        <th id=\"T_2cfc3304_8136_11eb_9732_0242ac1c0002level0_row34\" class=\"row_heading level0 row34\" >34</th>\n",
              "                        <td id=\"T_2cfc3304_8136_11eb_9732_0242ac1c0002row34_col0\" class=\"data row34 col0\" >like</td>\n",
              "                        <td id=\"T_2cfc3304_8136_11eb_9732_0242ac1c0002row34_col1\" class=\"data row34 col1\" >107</td>\n",
              "            </tr>\n",
              "            <tr>\n",
              "                        <th id=\"T_2cfc3304_8136_11eb_9732_0242ac1c0002level0_row35\" class=\"row_heading level0 row35\" >35</th>\n",
              "                        <td id=\"T_2cfc3304_8136_11eb_9732_0242ac1c0002row35_col0\" class=\"data row35 col0\" >na</td>\n",
              "                        <td id=\"T_2cfc3304_8136_11eb_9732_0242ac1c0002row35_col1\" class=\"data row35 col1\" >106</td>\n",
              "            </tr>\n",
              "            <tr>\n",
              "                        <th id=\"T_2cfc3304_8136_11eb_9732_0242ac1c0002level0_row36\" class=\"row_heading level0 row36\" >36</th>\n",
              "                        <td id=\"T_2cfc3304_8136_11eb_9732_0242ac1c0002row36_col0\" class=\"data row36 col0\" >coronavirus</td>\n",
              "                        <td id=\"T_2cfc3304_8136_11eb_9732_0242ac1c0002row36_col1\" class=\"data row36 col1\" >106</td>\n",
              "            </tr>\n",
              "            <tr>\n",
              "                        <th id=\"T_2cfc3304_8136_11eb_9732_0242ac1c0002level0_row37\" class=\"row_heading level0 row37\" >37</th>\n",
              "                        <td id=\"T_2cfc3304_8136_11eb_9732_0242ac1c0002row37_col0\" class=\"data row37 col0\" >dont</td>\n",
              "                        <td id=\"T_2cfc3304_8136_11eb_9732_0242ac1c0002row37_col1\" class=\"data row37 col1\" >101</td>\n",
              "            </tr>\n",
              "            <tr>\n",
              "                        <th id=\"T_2cfc3304_8136_11eb_9732_0242ac1c0002level0_row38\" class=\"row_heading level0 row38\" >38</th>\n",
              "                        <td id=\"T_2cfc3304_8136_11eb_9732_0242ac1c0002row38_col0\" class=\"data row38 col0\" >need</td>\n",
              "                        <td id=\"T_2cfc3304_8136_11eb_9732_0242ac1c0002row38_col1\" class=\"data row38 col1\" >99</td>\n",
              "            </tr>\n",
              "            <tr>\n",
              "                        <th id=\"T_2cfc3304_8136_11eb_9732_0242ac1c0002level0_row39\" class=\"row_heading level0 row39\" >39</th>\n",
              "                        <td id=\"T_2cfc3304_8136_11eb_9732_0242ac1c0002row39_col0\" class=\"data row39 col0\" >know</td>\n",
              "                        <td id=\"T_2cfc3304_8136_11eb_9732_0242ac1c0002row39_col1\" class=\"data row39 col1\" >99</td>\n",
              "            </tr>\n",
              "            <tr>\n",
              "                        <th id=\"T_2cfc3304_8136_11eb_9732_0242ac1c0002level0_row40\" class=\"row_heading level0 row40\" >40</th>\n",
              "                        <td id=\"T_2cfc3304_8136_11eb_9732_0242ac1c0002row40_col0\" class=\"data row40 col0\" >well</td>\n",
              "                        <td id=\"T_2cfc3304_8136_11eb_9732_0242ac1c0002row40_col1\" class=\"data row40 col1\" >97</td>\n",
              "            </tr>\n",
              "            <tr>\n",
              "                        <th id=\"T_2cfc3304_8136_11eb_9732_0242ac1c0002level0_row41\" class=\"row_heading level0 row41\" >41</th>\n",
              "                        <td id=\"T_2cfc3304_8136_11eb_9732_0242ac1c0002row41_col0\" class=\"data row41 col0\" >hands</td>\n",
              "                        <td id=\"T_2cfc3304_8136_11eb_9732_0242ac1c0002row41_col1\" class=\"data row41 col1\" >94</td>\n",
              "            </tr>\n",
              "            <tr>\n",
              "                        <th id=\"T_2cfc3304_8136_11eb_9732_0242ac1c0002level0_row42\" class=\"row_heading level0 row42\" >42</th>\n",
              "                        <td id=\"T_2cfc3304_8136_11eb_9732_0242ac1c0002row42_col0\" class=\"data row42 col0\" >quarantine</td>\n",
              "                        <td id=\"T_2cfc3304_8136_11eb_9732_0242ac1c0002row42_col1\" class=\"data row42 col1\" >94</td>\n",
              "            </tr>\n",
              "            <tr>\n",
              "                        <th id=\"T_2cfc3304_8136_11eb_9732_0242ac1c0002level0_row43\" class=\"row_heading level0 row43\" >43</th>\n",
              "                        <td id=\"T_2cfc3304_8136_11eb_9732_0242ac1c0002row43_col0\" class=\"data row43 col0\" >coronaviruske</td>\n",
              "                        <td id=\"T_2cfc3304_8136_11eb_9732_0242ac1c0002row43_col1\" class=\"data row43 col1\" >93</td>\n",
              "            </tr>\n",
              "            <tr>\n",
              "                        <th id=\"T_2cfc3304_8136_11eb_9732_0242ac1c0002level0_row44\" class=\"row_heading level0 row44\" >44</th>\n",
              "                        <td id=\"T_2cfc3304_8136_11eb_9732_0242ac1c0002row44_col0\" class=\"data row44 col0\" >love</td>\n",
              "                        <td id=\"T_2cfc3304_8136_11eb_9732_0242ac1c0002row44_col1\" class=\"data row44 col1\" >92</td>\n",
              "            </tr>\n",
              "            <tr>\n",
              "                        <th id=\"T_2cfc3304_8136_11eb_9732_0242ac1c0002level0_row45\" class=\"row_heading level0 row45\" >45</th>\n",
              "                        <td id=\"T_2cfc3304_8136_11eb_9732_0242ac1c0002row45_col0\" class=\"data row45 col0\" >washyourhands</td>\n",
              "                        <td id=\"T_2cfc3304_8136_11eb_9732_0242ac1c0002row45_col1\" class=\"data row45 col1\" >88</td>\n",
              "            </tr>\n",
              "            <tr>\n",
              "                        <th id=\"T_2cfc3304_8136_11eb_9732_0242ac1c0002level0_row46\" class=\"row_heading level0 row46\" >46</th>\n",
              "                        <td id=\"T_2cfc3304_8136_11eb_9732_0242ac1c0002row46_col0\" class=\"data row46 col0\" >best</td>\n",
              "                        <td id=\"T_2cfc3304_8136_11eb_9732_0242ac1c0002row46_col1\" class=\"data row46 col1\" >87</td>\n",
              "            </tr>\n",
              "            <tr>\n",
              "                        <th id=\"T_2cfc3304_8136_11eb_9732_0242ac1c0002level0_row47\" class=\"row_heading level0 row47\" >47</th>\n",
              "                        <td id=\"T_2cfc3304_8136_11eb_9732_0242ac1c0002row47_col0\" class=\"data row47 col0\" >shall</td>\n",
              "                        <td id=\"T_2cfc3304_8136_11eb_9732_0242ac1c0002row47_col1\" class=\"data row47 col1\" >84</td>\n",
              "            </tr>\n",
              "            <tr>\n",
              "                        <th id=\"T_2cfc3304_8136_11eb_9732_0242ac1c0002level0_row48\" class=\"row_heading level0 row48\" >48</th>\n",
              "                        <td id=\"T_2cfc3304_8136_11eb_9732_0242ac1c0002row48_col0\" class=\"data row48 col0\" >health</td>\n",
              "                        <td id=\"T_2cfc3304_8136_11eb_9732_0242ac1c0002row48_col1\" class=\"data row48 col1\" >82</td>\n",
              "            </tr>\n",
              "            <tr>\n",
              "                        <th id=\"T_2cfc3304_8136_11eb_9732_0242ac1c0002level0_row49\" class=\"row_heading level0 row49\" >49</th>\n",
              "                        <td id=\"T_2cfc3304_8136_11eb_9732_0242ac1c0002row49_col0\" class=\"data row49 col0\" >family</td>\n",
              "                        <td id=\"T_2cfc3304_8136_11eb_9732_0242ac1c0002row49_col1\" class=\"data row49 col1\" >81</td>\n",
              "            </tr>\n",
              "            <tr>\n",
              "                        <th id=\"T_2cfc3304_8136_11eb_9732_0242ac1c0002level0_row50\" class=\"row_heading level0 row50\" >50</th>\n",
              "                        <td id=\"T_2cfc3304_8136_11eb_9732_0242ac1c0002row50_col0\" class=\"data row50 col0\" >life</td>\n",
              "                        <td id=\"T_2cfc3304_8136_11eb_9732_0242ac1c0002row50_col1\" class=\"data row50 col1\" >81</td>\n",
              "            </tr>\n",
              "    </tbody></table>"
            ],
            "text/plain": [
              "<pandas.io.formats.style.Styler at 0x7f2519471410>"
            ]
          },
          "metadata": {
            "tags": []
          },
          "execution_count": 32
        }
      ]
    },
    {
      "cell_type": "markdown",
      "metadata": {
        "id": "Bk2Va7QcggOf"
      },
      "source": [
        "### Wordcloud"
      ]
    },
    {
      "cell_type": "code",
      "metadata": {
        "id": "7j_3KZ42rbHX",
        "outputId": "20d0b067-356d-4afa-cffa-0f0c06b1bde3",
        "colab": {
          "base_uri": "https://localhost:8080/"
        }
      },
      "source": [
        "pip install Pillow imageio"
      ],
      "execution_count": 38,
      "outputs": [
        {
          "output_type": "stream",
          "text": [
            "Requirement already satisfied: Pillow in /usr/local/lib/python3.7/dist-packages (7.0.0)\n",
            "Requirement already satisfied: imageio in /usr/local/lib/python3.7/dist-packages (2.4.1)\n",
            "Requirement already satisfied: numpy in /usr/local/lib/python3.7/dist-packages (from imageio) (1.19.5)\n"
          ],
          "name": "stdout"
        }
      ]
    },
    {
      "cell_type": "code",
      "metadata": {
        "id": "9_uELQySgH7M",
        "outputId": "969daef3-efe9-4802-c80f-86e9039cf1ac",
        "colab": {
          "base_uri": "https://localhost:8080/",
          "height": 297
        }
      },
      "source": [
        "#import imageio\n",
        "from wordcloud import WordCloud, STOPWORDS\n",
        "from nltk.corpus import stopwords\n",
        "\n",
        "#twitter_mask = imageio.imread('/content/gdrive/My Drive/Coronavirus_Tweets/twiter.png')\n",
        "\n",
        "stopwords = set(STOPWORDS)\n",
        "more_stopwords = {'sana', 'na', 'sasa', 'za', 'uh'}\n",
        "stopwords = stopwords.union(more_stopwords)\n",
        "wordcloud = WordCloud(\n",
        "                      stopwords=STOPWORDS,\n",
        "                      background_color='white',\n",
        "                      width=1800,\n",
        "                      height=1400,\n",
        "                      mask=twitter_mask\n",
        "            ).generate(str(nairobi_df2['text_without_stopwords'].dropna()))\n",
        "\n",
        "plt.imshow(wordcloud)\n",
        "plt.axis(\"off\")\n",
        "plt.savefig('/content/gdrive/My Drive/Coronavirus_Tweets/my_twitter_wordcloud.png', dpi=300)\n",
        "plt.tight_layout()\n",
        "plt.show()"
      ],
      "execution_count": 60,
      "outputs": [
        {
          "output_type": "display_data",
          "data": {
            "image/png": "[encoded data removed]",
            "text/plain": [
              "<Figure size 432x288 with 1 Axes>"
            ]
          },
          "metadata": {
            "tags": [],
            "needs_background": "light"
          }
        }
      ]
    },
    {
      "cell_type": "code",
      "metadata": {
        "id": "8005N5GK2A8L",
        "outputId": "e99d3488-944a-4ff7-fff0-dc3525695a0c",
        "colab": {
          "base_uri": "https://localhost:8080/",
          "height": 905
        }
      },
      "source": [
        "#The number of tweets according to dates\n",
        "\n",
        "nairobi_df2['datetime'] =  pd.to_datetime(nairobi_df2['datetime'])\n",
        "cnt_srs =nairobi_df2['datetime'].dt.date.value_counts()\n",
        "cnt_srs = cnt_srs.sort_index()\n",
        "plt.figure(figsize=(28,15))\n",
        "sns.barplot(cnt_srs.index, cnt_srs.values, alpha=0.8, color='green')\n",
        "plt.xticks(rotation='vertical')\n",
        "plt.xlabel('Date', fontsize=15)\n",
        "plt.ylabel('Number of tweets', fontsize=15)\n",
        "plt.title(\"Number of tweets according to dates\")\n",
        "plt.show()"
      ],
      "execution_count": 68,
      "outputs": [
        {
          "output_type": "stream",
          "text": [
            "/usr/local/lib/python3.7/dist-packages/ipykernel_launcher.py:3: SettingWithCopyWarning:\n",
            "\n",
            "\n",
            "A value is trying to be set on a copy of a slice from a DataFrame.\n",
            "Try using .loc[row_indexer,col_indexer] = value instead\n",
            "\n",
            "See the caveats in the documentation: https://pandas.pydata.org/pandas-docs/stable/user_guide/indexing.html#returning-a-view-versus-a-copy\n",
            "\n",
            "/usr/local/lib/python3.7/dist-packages/seaborn/_decorators.py:43: FutureWarning:\n",
            "\n",
            "Pass the following variables as keyword args: x, y. From version 0.12, the only valid positional argument will be `data`, and passing other arguments without an explicit keyword will result in an error or misinterpretation.\n",
            "\n"
          ],
          "name": "stderr"
        },
        {
          "output_type": "display_data",
          "data": {
            "image/png": "[encoded data removed]",
            "text/plain": [
              "<Figure size 2016x1080 with 1 Axes>"
            ]
          },
          "metadata": {
            "tags": [],
            "needs_background": "light"
          }
        }
      ]
    }
  ]
}