{
  "nbformat": 4,
  "nbformat_minor": 0,
  "metadata": {
    "language_info": {
      "codemirror_mode": {
        "name": "ipython",
        "version": 3
      },
      "file_extension": ".py",
      "mimetype": "text/x-python",
      "name": "python",
      "nbconvert_exporter": "python",
      "pygments_lexer": "ipython3",
      "version": "3.8.5-final"
    },
    "orig_nbformat": 2,
    "kernelspec": {
      "name": "python38564bitbaseconda378a717c3d1e409e93df1db8692daf27",
      "display_name": "Python 3.8.5 64-bit ('base': conda)",
      "language": "python"
    },
    "colab": {
      "name": "nairobi_county.ipynb",
      "provenance": []
    }
  },
  "cells": [
    {
      "cell_type": "markdown",
      "metadata": {
        "id": "AsLUVfp4Serq"
      },
      "source": [
        "**Overview**\n",
        "\n",
        "\n",
        "*   The data used here is what we scraped from the \"snscrape.ipynb\" file\n",
        "*   Scraping was done on local machine as Google Colab uses Python Version 3.6 as of the time this was published; snscrape only works with Pyhon 3.8 and above.\n",
        "\n"
      ]
    },
    {
      "cell_type": "markdown",
      "metadata": {
        "id": "wkL6LozWOaaq"
      },
      "source": [
        "**Importing Libraries & Modules**"
      ]
    },
    {
      "cell_type": "code",
      "metadata": {
        "id": "LcvdZHuSOO8M"
      },
      "source": [
        "import pandas as pd \n",
        "import matplotlib.pyplot as plt \n",
        "import seaborn as sns\n",
        "%matplotlib inline\n",
        "import numpy as np\n",
        "import re\n",
        "import nltk\n",
        "import warnings \n",
        "warnings.filterwarnings(\"ignore\", category=DeprecationWarning)\n",
        "from plotly import graph_objs as go\n",
        "from google.colab import drive\n",
        "from PIL import Image\n",
        "from wordcloud import WordCloud, STOPWORDS, ImageColorGenerator\n",
        "from collections import Counter\n",
        "from nltk.corpus import stopwords \n",
        "from nltk.tokenize import word_tokenize\n",
        "from nltk.stem.porter import  PorterStemmer\n",
        "from nltk.stem import WordNetLemmatizer\n",
        "from bs4 import BeautifulSoup\n",
        "from sklearn.feature_extraction.text import CountVectorizer \n",
        "from scipy import sparse\n",
        "from nrclex import NRCLex\n",
        "import plotly.express as px"
      ],
      "execution_count": 54,
      "outputs": []
    },
    {
      "cell_type": "code",
      "metadata": {
        "id": "bH1An5VTOO8Q",
        "colab": {
          "base_uri": "https://localhost:8080/"
        },
        "outputId": "303cd13e-74ad-48dd-bd16-143c3b1c11e4"
      },
      "source": [
        "#Mount the google drive folder\n",
        "\n",
        "drive.mount('/content/gdrive')"
      ],
      "execution_count": 5,
      "outputs": [
        {
          "output_type": "stream",
          "text": [
            "Mounted at /content/gdrive\n"
          ],
          "name": "stdout"
        }
      ]
    },
    {
      "cell_type": "code",
      "metadata": {
        "id": "xky7JEDzP0LL",
        "colab": {
          "base_uri": "https://localhost:8080/",
          "height": 204
        },
        "outputId": "d02057d5-4a57-4b0b-a893-db0cd3c3d60f"
      },
      "source": [
        "#Load the dataset\n",
        "\n",
        "nairobi_df = pd.read_csv('/content/gdrive/My Drive/Coronavirus_Tweets/nairobi_county.csv')\n",
        "\n",
        "#Preview the first four rows of the dataset\n",
        "\n",
        "nairobi_df.head()"
      ],
      "execution_count": 6,
      "outputs": [
        {
          "output_type": "execute_result",
          "data": {
            "text/html": [
              "<div>\n",
              "<style scoped>\n",
              "    .dataframe tbody tr th:only-of-type {\n",
              "        vertical-align: middle;\n",
              "    }\n",
              "\n",
              "    .dataframe tbody tr th {\n",
              "        vertical-align: top;\n",
              "    }\n",
              "\n",
              "    .dataframe thead th {\n",
              "        text-align: right;\n",
              "    }\n",
              "</style>\n",
              "<table border=\"1\" class=\"dataframe\">\n",
              "  <thead>\n",
              "    <tr style=\"text-align: right;\">\n",
              "      <th></th>\n",
              "      <th>Unnamed: 0</th>\n",
              "      <th>Unnamed: 0.1</th>\n",
              "      <th>Datetime</th>\n",
              "      <th>Text</th>\n",
              "      <th>retweets</th>\n",
              "      <th>likes</th>\n",
              "    </tr>\n",
              "  </thead>\n",
              "  <tbody>\n",
              "    <tr>\n",
              "      <th>0</th>\n",
              "      <td>0</td>\n",
              "      <td>0</td>\n",
              "      <td>2020-06-06 19:28:03+00:00</td>\n",
              "      <td>Mmetukosea sana! \\n\\nSasa ningeenda hadi pahal...</td>\n",
              "      <td>0</td>\n",
              "      <td>2</td>\n",
              "    </tr>\n",
              "    <tr>\n",
              "      <th>1</th>\n",
              "      <td>1</td>\n",
              "      <td>1</td>\n",
              "      <td>2020-06-06 13:25:27+00:00</td>\n",
              "      <td>CAN'T WAIT 🥰🥰 #6thjune #BlackLivesMatter #Curf...</td>\n",
              "      <td>1</td>\n",
              "      <td>10</td>\n",
              "    </tr>\n",
              "    <tr>\n",
              "      <th>2</th>\n",
              "      <td>2</td>\n",
              "      <td>2</td>\n",
              "      <td>2020-06-06 13:24:27+00:00</td>\n",
              "      <td>Wakenya hawachoki na meme za Uhuru😂😂 #UhuruKen...</td>\n",
              "      <td>1</td>\n",
              "      <td>4</td>\n",
              "    </tr>\n",
              "    <tr>\n",
              "      <th>3</th>\n",
              "      <td>3</td>\n",
              "      <td>3</td>\n",
              "      <td>2020-06-06 13:03:01+00:00</td>\n",
              "      <td>Fellow Kenyans #uhuruspeaks #UhuruAddress http...</td>\n",
              "      <td>0</td>\n",
              "      <td>1</td>\n",
              "    </tr>\n",
              "    <tr>\n",
              "      <th>4</th>\n",
              "      <td>4</td>\n",
              "      <td>4</td>\n",
              "      <td>2020-06-06 13:02:49+00:00</td>\n",
              "      <td>#UhuruKenyatta Cessation of movement in Nairob...</td>\n",
              "      <td>0</td>\n",
              "      <td>2</td>\n",
              "    </tr>\n",
              "  </tbody>\n",
              "</table>\n",
              "</div>"
            ],
            "text/plain": [
              "   Unnamed: 0  Unnamed: 0.1  ... retweets likes\n",
              "0           0             0  ...        0     2\n",
              "1           1             1  ...        1    10\n",
              "2           2             2  ...        1     4\n",
              "3           3             3  ...        0     1\n",
              "4           4             4  ...        0     2\n",
              "\n",
              "[5 rows x 6 columns]"
            ]
          },
          "metadata": {
            "tags": []
          },
          "execution_count": 6
        }
      ]
    },
    {
      "cell_type": "code",
      "metadata": {
        "id": "PpSAayBBT3bF",
        "colab": {
          "base_uri": "https://localhost:8080/",
          "height": 204
        },
        "outputId": "a206c41c-82e2-4894-b857-2cc098f37324"
      },
      "source": [
        "#Preview the last four rows of the dataset\n",
        "\n",
        "nairobi_df.tail()"
      ],
      "execution_count": 7,
      "outputs": [
        {
          "output_type": "execute_result",
          "data": {
            "text/html": [
              "<div>\n",
              "<style scoped>\n",
              "    .dataframe tbody tr th:only-of-type {\n",
              "        vertical-align: middle;\n",
              "    }\n",
              "\n",
              "    .dataframe tbody tr th {\n",
              "        vertical-align: top;\n",
              "    }\n",
              "\n",
              "    .dataframe thead th {\n",
              "        text-align: right;\n",
              "    }\n",
              "</style>\n",
              "<table border=\"1\" class=\"dataframe\">\n",
              "  <thead>\n",
              "    <tr style=\"text-align: right;\">\n",
              "      <th></th>\n",
              "      <th>Unnamed: 0</th>\n",
              "      <th>Unnamed: 0.1</th>\n",
              "      <th>Datetime</th>\n",
              "      <th>Text</th>\n",
              "      <th>retweets</th>\n",
              "      <th>likes</th>\n",
              "    </tr>\n",
              "  </thead>\n",
              "  <tbody>\n",
              "    <tr>\n",
              "      <th>8179</th>\n",
              "      <td>37</td>\n",
              "      <td>37</td>\n",
              "      <td>2020-05-29 06:20:25+00:00</td>\n",
              "      <td>President Uhuru Kenyatta made it clear that's ...</td>\n",
              "      <td>0</td>\n",
              "      <td>2</td>\n",
              "    </tr>\n",
              "    <tr>\n",
              "      <th>8180</th>\n",
              "      <td>38</td>\n",
              "      <td>38</td>\n",
              "      <td>2020-05-29 06:03:22+00:00</td>\n",
              "      <td>#Uhurustoughchoices Mlisema huyu Ni mtoto wa N...</td>\n",
              "      <td>0</td>\n",
              "      <td>0</td>\n",
              "    </tr>\n",
              "    <tr>\n",
              "      <th>8181</th>\n",
              "      <td>39</td>\n",
              "      <td>39</td>\n",
              "      <td>2020-05-29 05:19:20+00:00</td>\n",
              "      <td>Among other tough choices Uhuru must make is g...</td>\n",
              "      <td>3</td>\n",
              "      <td>4</td>\n",
              "    </tr>\n",
              "    <tr>\n",
              "      <th>8182</th>\n",
              "      <td>40</td>\n",
              "      <td>40</td>\n",
              "      <td>2020-05-27 18:59:53+00:00</td>\n",
              "      <td>Pandemic. Perforated pockets. Plunging economy...</td>\n",
              "      <td>1</td>\n",
              "      <td>6</td>\n",
              "    </tr>\n",
              "    <tr>\n",
              "      <th>8183</th>\n",
              "      <td>41</td>\n",
              "      <td>41</td>\n",
              "      <td>2020-05-27 18:54:16+00:00</td>\n",
              "      <td>Pandemic. Perforated pockets. Plunging economy...</td>\n",
              "      <td>26</td>\n",
              "      <td>35</td>\n",
              "    </tr>\n",
              "  </tbody>\n",
              "</table>\n",
              "</div>"
            ],
            "text/plain": [
              "      Unnamed: 0  Unnamed: 0.1  ... retweets likes\n",
              "8179          37            37  ...        0     2\n",
              "8180          38            38  ...        0     0\n",
              "8181          39            39  ...        3     4\n",
              "8182          40            40  ...        1     6\n",
              "8183          41            41  ...       26    35\n",
              "\n",
              "[5 rows x 6 columns]"
            ]
          },
          "metadata": {
            "tags": []
          },
          "execution_count": 7
        }
      ]
    },
    {
      "cell_type": "markdown",
      "metadata": {
        "id": "V6Yg1rtZUvAe"
      },
      "source": [
        "### Shape of the data"
      ]
    },
    {
      "cell_type": "code",
      "metadata": {
        "id": "6ncE1FR8UmRK",
        "colab": {
          "base_uri": "https://localhost:8080/"
        },
        "outputId": "ec29d1a1-ae61-4304-f03b-2a5924bc5e00"
      },
      "source": [
        "#number of rows and columns of the data\n",
        "\n",
        "nairobi_df.shape"
      ],
      "execution_count": 8,
      "outputs": [
        {
          "output_type": "execute_result",
          "data": {
            "text/plain": [
              "(8184, 6)"
            ]
          },
          "metadata": {
            "tags": []
          },
          "execution_count": 8
        }
      ]
    },
    {
      "cell_type": "code",
      "metadata": {
        "id": "p9lx3NUbVJnD",
        "colab": {
          "base_uri": "https://localhost:8080/"
        },
        "outputId": "0b3ac660-1307-41a1-ab04-d152fa9c931b"
      },
      "source": [
        "#Checking the data types of our data\n",
        "\n",
        "\"\"\" This is crucial for modeling tasks. e.g when solving a regression problem, we only deal with numerical data types and not categorical. \"\"\"\n",
        "\n",
        "nairobi_df.dtypes"
      ],
      "execution_count": 9,
      "outputs": [
        {
          "output_type": "execute_result",
          "data": {
            "text/plain": [
              "Unnamed: 0       int64\n",
              "Unnamed: 0.1     int64\n",
              "Datetime        object\n",
              "Text            object\n",
              "retweets         int64\n",
              "likes            int64\n",
              "dtype: object"
            ]
          },
          "metadata": {
            "tags": []
          },
          "execution_count": 9
        }
      ]
    },
    {
      "cell_type": "markdown",
      "metadata": {
        "id": "PJC6MB0cVY94"
      },
      "source": [
        "**Cleaning the Data**"
      ]
    },
    {
      "cell_type": "markdown",
      "metadata": {
        "id": "Pu8AfS4gVfwo"
      },
      "source": [
        "### Dealing with missing values"
      ]
    },
    {
      "cell_type": "code",
      "metadata": {
        "id": "_XOm4gHUVSem",
        "colab": {
          "base_uri": "https://localhost:8080/"
        },
        "outputId": "765e69c9-fe74-4574-f3cb-5e0120fea8fa"
      },
      "source": [
        "#Checking for missing values\n",
        "\n",
        "\"\"\" If there are missing values in the columns, we either fill or drop them from the respective columns with too many missing values that are not of significance to the modeling task.\n",
        "\n",
        "For this case, there are no missing values to handle.\"\"\"\n",
        "\n",
        "nairobi_df.isnull().sum()"
      ],
      "execution_count": 10,
      "outputs": [
        {
          "output_type": "execute_result",
          "data": {
            "text/plain": [
              "Unnamed: 0      0\n",
              "Unnamed: 0.1    0\n",
              "Datetime        0\n",
              "Text            0\n",
              "retweets        0\n",
              "likes           0\n",
              "dtype: int64"
            ]
          },
          "metadata": {
            "tags": []
          },
          "execution_count": 10
        }
      ]
    },
    {
      "cell_type": "code",
      "metadata": {
        "id": "40ymaK9CVvfb",
        "colab": {
          "base_uri": "https://localhost:8080/"
        },
        "outputId": "5e8c0d12-ee50-4657-a153-314fc27c054e"
      },
      "source": [
        "#Checking for duplicates\n",
        "print(nairobi_df.duplicated().any())"
      ],
      "execution_count": 11,
      "outputs": [
        {
          "output_type": "stream",
          "text": [
            "True\n"
          ],
          "name": "stdout"
        }
      ]
    },
    {
      "cell_type": "code",
      "metadata": {
        "id": "h70AV97CV37q",
        "colab": {
          "base_uri": "https://localhost:8080/"
        },
        "outputId": "8378d9e1-5fd1-48ea-c844-70bd7f5c9d7f"
      },
      "source": [
        "#Dropping Duplicates\n",
        "\n",
        "nairobi_df.drop_duplicates(keep=False, inplace=True)\n",
        "\n",
        "#Confirming there are no duplicates\n",
        "\n",
        "print(nairobi_df.duplicated().any())\n",
        "print(nairobi_df.shape)"
      ],
      "execution_count": 12,
      "outputs": [
        {
          "output_type": "stream",
          "text": [
            "False\n",
            "(4214, 6)\n"
          ],
          "name": "stdout"
        }
      ]
    },
    {
      "cell_type": "markdown",
      "metadata": {
        "id": "nCwTKBpyWTVq"
      },
      "source": [
        "### Dealing with Outliers\n",
        "\n",
        "##### We check for outliers because often times, they result into an impbalanced data for modeling. i.e too many outliers bring about a high variance to our data. High variance causes overfitting to our model.\n",
        "\n",
        "##### A Z score is used since our dataset consists of more than 30 rows."
      ]
    },
    {
      "cell_type": "code",
      "metadata": {
        "id": "2TrskM1IWDNu",
        "colab": {
          "base_uri": "https://localhost:8080/"
        },
        "outputId": "b5f9cdd8-49d9-4805-bf37-3587eead861a"
      },
      "source": [
        "#Dealing with outliers\n",
        "#\n",
        "#Import stats from scipy library\n",
        "\n",
        "from scipy import stats\n",
        "num = ['retweets']\n",
        "for i, col in enumerate(num):\n",
        "    z = np.abs(stats.zscore(nairobi_df[col]))\n",
        "print(z)"
      ],
      "execution_count": 13,
      "outputs": [
        {
          "output_type": "stream",
          "text": [
            "[0.14138055 0.0583916  0.0583916  ... 0.10758628 0.0583916  2.016332  ]\n"
          ],
          "name": "stdout"
        }
      ]
    },
    {
      "cell_type": "code",
      "metadata": {
        "id": "ivXPuJocWhrJ",
        "colab": {
          "base_uri": "https://localhost:8080/"
        },
        "outputId": "aade418f-018d-49e0-af11-21f35d82503a"
      },
      "source": [
        "#Confirming that our outliers have been dropped from the data set\n",
        "\n",
        "nairobi_df2 = nairobi_df[( z < 2 )]\n",
        "\n",
        "print(f\"Previous dataframe size : {nairobi_df.shape[0]}\" )\n",
        "print(f\"New dataframe size : {nairobi_df2.shape[0]}\" )"
      ],
      "execution_count": 14,
      "outputs": [
        {
          "output_type": "stream",
          "text": [
            "Previous dataframe size : 4214\n",
            "New dataframe size : 4173\n"
          ],
          "name": "stdout"
        }
      ]
    },
    {
      "cell_type": "code",
      "metadata": {
        "id": "w7nhCjTXWo8u",
        "colab": {
          "base_uri": "https://localhost:8080/",
          "height": 297
        },
        "outputId": "b98df914-092c-477d-b445-9a8528cadea9"
      },
      "source": [
        "nairobi_df2.describe()"
      ],
      "execution_count": 15,
      "outputs": [
        {
          "output_type": "execute_result",
          "data": {
            "text/html": [
              "<div>\n",
              "<style scoped>\n",
              "    .dataframe tbody tr th:only-of-type {\n",
              "        vertical-align: middle;\n",
              "    }\n",
              "\n",
              "    .dataframe tbody tr th {\n",
              "        vertical-align: top;\n",
              "    }\n",
              "\n",
              "    .dataframe thead th {\n",
              "        text-align: right;\n",
              "    }\n",
              "</style>\n",
              "<table border=\"1\" class=\"dataframe\">\n",
              "  <thead>\n",
              "    <tr style=\"text-align: right;\">\n",
              "      <th></th>\n",
              "      <th>Unnamed: 0</th>\n",
              "      <th>Unnamed: 0.1</th>\n",
              "      <th>retweets</th>\n",
              "      <th>likes</th>\n",
              "    </tr>\n",
              "  </thead>\n",
              "  <tbody>\n",
              "    <tr>\n",
              "      <th>count</th>\n",
              "      <td>4173.000000</td>\n",
              "      <td>4173.000000</td>\n",
              "      <td>4173.000000</td>\n",
              "      <td>4173.000000</td>\n",
              "    </tr>\n",
              "    <tr>\n",
              "      <th>mean</th>\n",
              "      <td>1358.447160</td>\n",
              "      <td>1358.447160</td>\n",
              "      <td>0.938414</td>\n",
              "      <td>3.865564</td>\n",
              "    </tr>\n",
              "    <tr>\n",
              "      <th>std</th>\n",
              "      <td>1011.783419</td>\n",
              "      <td>1011.783419</td>\n",
              "      <td>2.363796</td>\n",
              "      <td>11.781585</td>\n",
              "    </tr>\n",
              "    <tr>\n",
              "      <th>min</th>\n",
              "      <td>0.000000</td>\n",
              "      <td>0.000000</td>\n",
              "      <td>0.000000</td>\n",
              "      <td>0.000000</td>\n",
              "    </tr>\n",
              "    <tr>\n",
              "      <th>25%</th>\n",
              "      <td>444.000000</td>\n",
              "      <td>444.000000</td>\n",
              "      <td>0.000000</td>\n",
              "      <td>0.000000</td>\n",
              "    </tr>\n",
              "    <tr>\n",
              "      <th>50%</th>\n",
              "      <td>1195.000000</td>\n",
              "      <td>1195.000000</td>\n",
              "      <td>0.000000</td>\n",
              "      <td>1.000000</td>\n",
              "    </tr>\n",
              "    <tr>\n",
              "      <th>75%</th>\n",
              "      <td>2241.000000</td>\n",
              "      <td>2241.000000</td>\n",
              "      <td>1.000000</td>\n",
              "      <td>3.000000</td>\n",
              "    </tr>\n",
              "    <tr>\n",
              "      <th>max</th>\n",
              "      <td>3298.000000</td>\n",
              "      <td>3298.000000</td>\n",
              "      <td>25.000000</td>\n",
              "      <td>202.000000</td>\n",
              "    </tr>\n",
              "  </tbody>\n",
              "</table>\n",
              "</div>"
            ],
            "text/plain": [
              "        Unnamed: 0  Unnamed: 0.1     retweets        likes\n",
              "count  4173.000000   4173.000000  4173.000000  4173.000000\n",
              "mean   1358.447160   1358.447160     0.938414     3.865564\n",
              "std    1011.783419   1011.783419     2.363796    11.781585\n",
              "min       0.000000      0.000000     0.000000     0.000000\n",
              "25%     444.000000    444.000000     0.000000     0.000000\n",
              "50%    1195.000000   1195.000000     0.000000     1.000000\n",
              "75%    2241.000000   2241.000000     1.000000     3.000000\n",
              "max    3298.000000   3298.000000    25.000000   202.000000"
            ]
          },
          "metadata": {
            "tags": []
          },
          "execution_count": 15
        }
      ]
    },
    {
      "cell_type": "markdown",
      "metadata": {
        "id": "cbFgvvZDXB-C"
      },
      "source": [
        "**Cleaning the Text**"
      ]
    },
    {
      "cell_type": "code",
      "metadata": {
        "id": "pOMT4Vw8W2kQ",
        "colab": {
          "base_uri": "https://localhost:8080/"
        },
        "outputId": "bb2f478a-78ac-417b-df4d-b492f68294f3"
      },
      "source": [
        "#Map the lowering function to all column names\n",
        "\n",
        "nairobi_df2.columns = map(str.lower, nairobi_df2.columns)\n",
        "\n",
        "#Print the column names\n",
        "\n",
        "for col in nairobi_df2:\n",
        "    print(col)"
      ],
      "execution_count": 16,
      "outputs": [
        {
          "output_type": "stream",
          "text": [
            "unnamed: 0\n",
            "unnamed: 0.1\n",
            "datetime\n",
            "text\n",
            "retweets\n",
            "likes\n"
          ],
          "name": "stdout"
        }
      ]
    },
    {
      "cell_type": "code",
      "metadata": {
        "id": "8amW5B8MXIbP"
      },
      "source": [
        "#Removing Whitespace from both columns and rows and converting case to lower case\n",
        "#\n",
        "#Converting the text column to string dtype after getting an attribute error\n",
        "\"\"\"nairobi_df2['text'] = nairobi_df2['text'].astype(str)\n",
        "\n",
        "nairobi_df2.columns = nairobi_df2.str.strip().str.replace(\",\").str.lower()\n",
        "\n",
        "cat = nairobi_df2['text']\n",
        "\n",
        "for i, c in enumerate(cat):\n",
        "    nairobi_df2[cat] = nairobi_df2[c].str.strip().str.replace(\",\").str.lower()\"\"\"\n",
        "\n",
        "#Make text lowercase, remove text in square brackets, remove links, remove punctuation and remove words containing numbers\n",
        "import re\n",
        "import string\n",
        "\n",
        "def clean_text(text):\n",
        "    text = str(text).lower()\n",
        "    text = re.sub(\"\\[.*?\\]\", '', text)\n",
        "    text = re.sub(\"https?://\\S+|www\\.S+\", '', text)\n",
        "    text = re.sub(\"<.*?>+\", '', text)\n",
        "    text = re.sub(\"[%s]\" % re.escape(string.punctuation) , '', text)\n",
        "    text = re.sub(\"\\n\", '', text)\n",
        "    text = re.sub(\"\\w*\\d\\w*\", '', text)\n",
        "    return text"
      ],
      "execution_count": 17,
      "outputs": []
    },
    {
      "cell_type": "code",
      "metadata": {
        "id": "DMSTKFYNXlDq",
        "colab": {
          "base_uri": "https://localhost:8080/"
        },
        "outputId": "67f83e43-d730-462f-c548-9dc86a5b2bbc"
      },
      "source": [
        "#Using a lambda function to clean the text column\n",
        "\n",
        "nairobi_df2['text'] = nairobi_df2['text'].apply(lambda x:clean_text(x))"
      ],
      "execution_count": 18,
      "outputs": [
        {
          "output_type": "stream",
          "text": [
            "/usr/local/lib/python3.7/dist-packages/ipykernel_launcher.py:3: SettingWithCopyWarning:\n",
            "\n",
            "\n",
            "A value is trying to be set on a copy of a slice from a DataFrame.\n",
            "Try using .loc[row_indexer,col_indexer] = value instead\n",
            "\n",
            "See the caveats in the documentation: https://pandas.pydata.org/pandas-docs/stable/user_guide/indexing.html#returning-a-view-versus-a-copy\n",
            "\n"
          ],
          "name": "stderr"
        }
      ]
    },
    {
      "cell_type": "code",
      "metadata": {
        "id": "3hESbDDQXnla",
        "colab": {
          "base_uri": "https://localhost:8080/",
          "height": 204
        },
        "outputId": "4690b9cb-757d-4d25-8e60-ed5837bd1387"
      },
      "source": [
        "#Preview the dataset to see changes\n",
        "\n",
        "nairobi_df2.tail()"
      ],
      "execution_count": 19,
      "outputs": [
        {
          "output_type": "execute_result",
          "data": {
            "text/html": [
              "<div>\n",
              "<style scoped>\n",
              "    .dataframe tbody tr th:only-of-type {\n",
              "        vertical-align: middle;\n",
              "    }\n",
              "\n",
              "    .dataframe tbody tr th {\n",
              "        vertical-align: top;\n",
              "    }\n",
              "\n",
              "    .dataframe thead th {\n",
              "        text-align: right;\n",
              "    }\n",
              "</style>\n",
              "<table border=\"1\" class=\"dataframe\">\n",
              "  <thead>\n",
              "    <tr style=\"text-align: right;\">\n",
              "      <th></th>\n",
              "      <th>unnamed: 0</th>\n",
              "      <th>unnamed: 0.1</th>\n",
              "      <th>datetime</th>\n",
              "      <th>text</th>\n",
              "      <th>retweets</th>\n",
              "      <th>likes</th>\n",
              "    </tr>\n",
              "  </thead>\n",
              "  <tbody>\n",
              "    <tr>\n",
              "      <th>8178</th>\n",
              "      <td>36</td>\n",
              "      <td>36</td>\n",
              "      <td>2020-05-29 06:34:32+00:00</td>\n",
              "      <td>theres nothing like making a tough choice when...</td>\n",
              "      <td>0</td>\n",
              "      <td>0</td>\n",
              "    </tr>\n",
              "    <tr>\n",
              "      <th>8179</th>\n",
              "      <td>37</td>\n",
              "      <td>37</td>\n",
              "      <td>2020-05-29 06:20:25+00:00</td>\n",
              "      <td>president uhuru kenyatta made it clear thats t...</td>\n",
              "      <td>0</td>\n",
              "      <td>2</td>\n",
              "    </tr>\n",
              "    <tr>\n",
              "      <th>8180</th>\n",
              "      <td>38</td>\n",
              "      <td>38</td>\n",
              "      <td>2020-05-29 06:03:22+00:00</td>\n",
              "      <td>uhurustoughchoices mlisema huyu ni mtoto wa na...</td>\n",
              "      <td>0</td>\n",
              "      <td>0</td>\n",
              "    </tr>\n",
              "    <tr>\n",
              "      <th>8181</th>\n",
              "      <td>39</td>\n",
              "      <td>39</td>\n",
              "      <td>2020-05-29 05:19:20+00:00</td>\n",
              "      <td>among other tough choices uhuru must make is g...</td>\n",
              "      <td>3</td>\n",
              "      <td>4</td>\n",
              "    </tr>\n",
              "    <tr>\n",
              "      <th>8182</th>\n",
              "      <td>40</td>\n",
              "      <td>40</td>\n",
              "      <td>2020-05-27 18:59:53+00:00</td>\n",
              "      <td>pandemic perforated pockets plunging economy p...</td>\n",
              "      <td>1</td>\n",
              "      <td>6</td>\n",
              "    </tr>\n",
              "  </tbody>\n",
              "</table>\n",
              "</div>"
            ],
            "text/plain": [
              "      unnamed: 0  unnamed: 0.1  ... retweets likes\n",
              "8178          36            36  ...        0     0\n",
              "8179          37            37  ...        0     2\n",
              "8180          38            38  ...        0     0\n",
              "8181          39            39  ...        3     4\n",
              "8182          40            40  ...        1     6\n",
              "\n",
              "[5 rows x 6 columns]"
            ]
          },
          "metadata": {
            "tags": []
          },
          "execution_count": 19
        }
      ]
    },
    {
      "cell_type": "code",
      "metadata": {
        "id": "HgXr-UnuXwka",
        "colab": {
          "base_uri": "https://localhost:8080/",
          "height": 496
        },
        "outputId": "c61d3c97-363c-42ac-f980-8a76528be797"
      },
      "source": [
        "#Removing Stopwords\n",
        "\n",
        "import nltk\n",
        "nltk.download('stopwords')\n",
        "\n",
        "from nltk.corpus import stopwords\n",
        "stop = stopwords.words('english')\n",
        "\n",
        "nairobi_df2['text_without_stopwords'] = nairobi_df2['text'].apply(lambda x: ' '.join(word for word in str(x).split() if word not in stop))#this method gives back a list of words\n",
        "\n",
        "nairobi_df2.head()"
      ],
      "execution_count": 20,
      "outputs": [
        {
          "output_type": "stream",
          "text": [
            "[nltk_data] Downloading package stopwords to /root/nltk_data...\n",
            "[nltk_data]   Unzipping corpora/stopwords.zip.\n"
          ],
          "name": "stdout"
        },
        {
          "output_type": "stream",
          "text": [
            "/usr/local/lib/python3.7/dist-packages/ipykernel_launcher.py:9: SettingWithCopyWarning:\n",
            "\n",
            "\n",
            "A value is trying to be set on a copy of a slice from a DataFrame.\n",
            "Try using .loc[row_indexer,col_indexer] = value instead\n",
            "\n",
            "See the caveats in the documentation: https://pandas.pydata.org/pandas-docs/stable/user_guide/indexing.html#returning-a-view-versus-a-copy\n",
            "\n"
          ],
          "name": "stderr"
        },
        {
          "output_type": "execute_result",
          "data": {
            "text/html": [
              "<div>\n",
              "<style scoped>\n",
              "    .dataframe tbody tr th:only-of-type {\n",
              "        vertical-align: middle;\n",
              "    }\n",
              "\n",
              "    .dataframe tbody tr th {\n",
              "        vertical-align: top;\n",
              "    }\n",
              "\n",
              "    .dataframe thead th {\n",
              "        text-align: right;\n",
              "    }\n",
              "</style>\n",
              "<table border=\"1\" class=\"dataframe\">\n",
              "  <thead>\n",
              "    <tr style=\"text-align: right;\">\n",
              "      <th></th>\n",
              "      <th>unnamed: 0</th>\n",
              "      <th>unnamed: 0.1</th>\n",
              "      <th>datetime</th>\n",
              "      <th>text</th>\n",
              "      <th>retweets</th>\n",
              "      <th>likes</th>\n",
              "      <th>text_without_stopwords</th>\n",
              "    </tr>\n",
              "  </thead>\n",
              "  <tbody>\n",
              "    <tr>\n",
              "      <th>0</th>\n",
              "      <td>0</td>\n",
              "      <td>0</td>\n",
              "      <td>2020-06-06 19:28:03+00:00</td>\n",
              "      <td>mmetukosea sana sasa ningeenda hadi pahali gar...</td>\n",
              "      <td>0</td>\n",
              "      <td>2</td>\n",
              "      <td>mmetukosea sana sasa ningeenda hadi pahali gar...</td>\n",
              "    </tr>\n",
              "    <tr>\n",
              "      <th>1</th>\n",
              "      <td>1</td>\n",
              "      <td>1</td>\n",
              "      <td>2020-06-06 13:25:27+00:00</td>\n",
              "      <td>cant wait 🥰🥰  blacklivesmatter curfewinkenya w...</td>\n",
              "      <td>1</td>\n",
              "      <td>10</td>\n",
              "      <td>cant wait 🥰🥰 blacklivesmatter curfewinkenya wa...</td>\n",
              "    </tr>\n",
              "    <tr>\n",
              "      <th>2</th>\n",
              "      <td>2</td>\n",
              "      <td>2</td>\n",
              "      <td>2020-06-06 13:24:27+00:00</td>\n",
              "      <td>wakenya hawachoki na meme za uhuru😂😂 uhurukeny...</td>\n",
              "      <td>1</td>\n",
              "      <td>4</td>\n",
              "      <td>wakenya hawachoki na meme za uhuru😂😂 uhurukeny...</td>\n",
              "    </tr>\n",
              "    <tr>\n",
              "      <th>3</th>\n",
              "      <td>3</td>\n",
              "      <td>3</td>\n",
              "      <td>2020-06-06 13:03:01+00:00</td>\n",
              "      <td>fellow kenyans uhuruspeaks uhuruaddress</td>\n",
              "      <td>0</td>\n",
              "      <td>1</td>\n",
              "      <td>fellow kenyans uhuruspeaks uhuruaddress</td>\n",
              "    </tr>\n",
              "    <tr>\n",
              "      <th>4</th>\n",
              "      <td>4</td>\n",
              "      <td>4</td>\n",
              "      <td>2020-06-06 13:02:49+00:00</td>\n",
              "      <td>uhurukenyatta cessation of movement in nairobi...</td>\n",
              "      <td>0</td>\n",
              "      <td>2</td>\n",
              "      <td>uhurukenyatta cessation movement nairobi momba...</td>\n",
              "    </tr>\n",
              "  </tbody>\n",
              "</table>\n",
              "</div>"
            ],
            "text/plain": [
              "   unnamed: 0  ...                             text_without_stopwords\n",
              "0           0  ...  mmetukosea sana sasa ningeenda hadi pahali gar...\n",
              "1           1  ...  cant wait 🥰🥰 blacklivesmatter curfewinkenya wa...\n",
              "2           2  ...  wakenya hawachoki na meme za uhuru😂😂 uhurukeny...\n",
              "3           3  ...            fellow kenyans uhuruspeaks uhuruaddress\n",
              "4           4  ...  uhurukenyatta cessation movement nairobi momba...\n",
              "\n",
              "[5 rows x 7 columns]"
            ]
          },
          "metadata": {
            "tags": []
          },
          "execution_count": 20
        }
      ]
    },
    {
      "cell_type": "code",
      "metadata": {
        "id": "C3P7cYKbe5Q_",
        "colab": {
          "base_uri": "https://localhost:8080/"
        },
        "outputId": "fde0a0fd-8346-419e-9c4f-bac08680b491"
      },
      "source": [
        "#Check for the maximum and minimum dates in the data\n",
        "\n",
        "print(f\" Data Available since {nairobi_df2.datetime.min()}\")\n",
        "print(f\" Data Available upto {nairobi_df2.datetime.max()}\")"
      ],
      "execution_count": 21,
      "outputs": [
        {
          "output_type": "stream",
          "text": [
            " Data Available since 2020-02-16 11:30:23+00:00\n",
            " Data Available upto 2020-07-22 03:35:10+00:00\n"
          ],
          "name": "stdout"
        }
      ]
    },
    {
      "cell_type": "markdown",
      "metadata": {
        "id": "7qK7_kT2fKl9"
      },
      "source": [
        "**Visualizations**"
      ]
    },
    {
      "cell_type": "markdown",
      "metadata": {
        "id": "EsPE3D98fW6t"
      },
      "source": [
        "### Common Words"
      ]
    },
    {
      "cell_type": "code",
      "metadata": {
        "id": "WGtGyf32fGQv",
        "colab": {
          "base_uri": "https://localhost:8080/",
          "height": 1000
        },
        "outputId": "c0a0754f-5298-44b9-bc4d-5b69188e9808"
      },
      "source": [
        "#Checking for the most common words\n",
        "\n",
        "from collections import Counter\n",
        "nairobi_df2['text_without_stopwords'] = nairobi_df2['text_without_stopwords'].apply(lambda x:str(x).split())\n",
        "top = Counter([item for sublist in nairobi_df2['text_without_stopwords'] for item in sublist])\n",
        "tweets = pd.DataFrame(top.most_common(51))\n",
        "tweets.columns = ['common words', 'count']\n",
        "tweets.style.background_gradient(cmap = 'Blues')"
      ],
      "execution_count": 22,
      "outputs": [
        {
          "output_type": "stream",
          "text": [
            "/usr/local/lib/python3.7/dist-packages/ipykernel_launcher.py:4: SettingWithCopyWarning:\n",
            "\n",
            "\n",
            "A value is trying to be set on a copy of a slice from a DataFrame.\n",
            "Try using .loc[row_indexer,col_indexer] = value instead\n",
            "\n",
            "See the caveats in the documentation: https://pandas.pydata.org/pandas-docs/stable/user_guide/indexing.html#returning-a-view-versus-a-copy\n",
            "\n"
          ],
          "name": "stderr"
        },
        {
          "output_type": "execute_result",
          "data": {
            "text/html": [
              "<style  type=\"text/css\" >\n",
              "#T_b7847e6e_85fa_11eb_80a6_0242ac1c0002row0_col1{\n",
              "            background-color:  #08306b;\n",
              "            color:  #f1f1f1;\n",
              "        }#T_b7847e6e_85fa_11eb_80a6_0242ac1c0002row1_col1{\n",
              "            background-color:  #08509b;\n",
              "            color:  #f1f1f1;\n",
              "        }#T_b7847e6e_85fa_11eb_80a6_0242ac1c0002row2_col1{\n",
              "            background-color:  #0a549e;\n",
              "            color:  #f1f1f1;\n",
              "        }#T_b7847e6e_85fa_11eb_80a6_0242ac1c0002row3_col1{\n",
              "            background-color:  #aacfe5;\n",
              "            color:  #000000;\n",
              "        }#T_b7847e6e_85fa_11eb_80a6_0242ac1c0002row4_col1{\n",
              "            background-color:  #c4daee;\n",
              "            color:  #000000;\n",
              "        }#T_b7847e6e_85fa_11eb_80a6_0242ac1c0002row5_col1{\n",
              "            background-color:  #d3e3f3;\n",
              "            color:  #000000;\n",
              "        }#T_b7847e6e_85fa_11eb_80a6_0242ac1c0002row6_col1{\n",
              "            background-color:  #d8e7f5;\n",
              "            color:  #000000;\n",
              "        }#T_b7847e6e_85fa_11eb_80a6_0242ac1c0002row7_col1{\n",
              "            background-color:  #dae8f6;\n",
              "            color:  #000000;\n",
              "        }#T_b7847e6e_85fa_11eb_80a6_0242ac1c0002row8_col1{\n",
              "            background-color:  #e0ecf8;\n",
              "            color:  #000000;\n",
              "        }#T_b7847e6e_85fa_11eb_80a6_0242ac1c0002row9_col1,#T_b7847e6e_85fa_11eb_80a6_0242ac1c0002row10_col1{\n",
              "            background-color:  #e1edf8;\n",
              "            color:  #000000;\n",
              "        }#T_b7847e6e_85fa_11eb_80a6_0242ac1c0002row11_col1{\n",
              "            background-color:  #e6f0f9;\n",
              "            color:  #000000;\n",
              "        }#T_b7847e6e_85fa_11eb_80a6_0242ac1c0002row12_col1{\n",
              "            background-color:  #e8f1fa;\n",
              "            color:  #000000;\n",
              "        }#T_b7847e6e_85fa_11eb_80a6_0242ac1c0002row13_col1,#T_b7847e6e_85fa_11eb_80a6_0242ac1c0002row14_col1{\n",
              "            background-color:  #ebf3fb;\n",
              "            color:  #000000;\n",
              "        }#T_b7847e6e_85fa_11eb_80a6_0242ac1c0002row15_col1{\n",
              "            background-color:  #ecf4fb;\n",
              "            color:  #000000;\n",
              "        }#T_b7847e6e_85fa_11eb_80a6_0242ac1c0002row16_col1,#T_b7847e6e_85fa_11eb_80a6_0242ac1c0002row17_col1,#T_b7847e6e_85fa_11eb_80a6_0242ac1c0002row18_col1,#T_b7847e6e_85fa_11eb_80a6_0242ac1c0002row19_col1,#T_b7847e6e_85fa_11eb_80a6_0242ac1c0002row20_col1{\n",
              "            background-color:  #eef5fc;\n",
              "            color:  #000000;\n",
              "        }#T_b7847e6e_85fa_11eb_80a6_0242ac1c0002row21_col1{\n",
              "            background-color:  #eff6fc;\n",
              "            color:  #000000;\n",
              "        }#T_b7847e6e_85fa_11eb_80a6_0242ac1c0002row22_col1,#T_b7847e6e_85fa_11eb_80a6_0242ac1c0002row23_col1,#T_b7847e6e_85fa_11eb_80a6_0242ac1c0002row24_col1{\n",
              "            background-color:  #f1f7fd;\n",
              "            color:  #000000;\n",
              "        }#T_b7847e6e_85fa_11eb_80a6_0242ac1c0002row25_col1,#T_b7847e6e_85fa_11eb_80a6_0242ac1c0002row26_col1,#T_b7847e6e_85fa_11eb_80a6_0242ac1c0002row27_col1{\n",
              "            background-color:  #f2f7fd;\n",
              "            color:  #000000;\n",
              "        }#T_b7847e6e_85fa_11eb_80a6_0242ac1c0002row28_col1,#T_b7847e6e_85fa_11eb_80a6_0242ac1c0002row29_col1,#T_b7847e6e_85fa_11eb_80a6_0242ac1c0002row30_col1{\n",
              "            background-color:  #f2f8fd;\n",
              "            color:  #000000;\n",
              "        }#T_b7847e6e_85fa_11eb_80a6_0242ac1c0002row31_col1,#T_b7847e6e_85fa_11eb_80a6_0242ac1c0002row32_col1{\n",
              "            background-color:  #f3f8fe;\n",
              "            color:  #000000;\n",
              "        }#T_b7847e6e_85fa_11eb_80a6_0242ac1c0002row33_col1,#T_b7847e6e_85fa_11eb_80a6_0242ac1c0002row34_col1,#T_b7847e6e_85fa_11eb_80a6_0242ac1c0002row35_col1,#T_b7847e6e_85fa_11eb_80a6_0242ac1c0002row36_col1{\n",
              "            background-color:  #f4f9fe;\n",
              "            color:  #000000;\n",
              "        }#T_b7847e6e_85fa_11eb_80a6_0242ac1c0002row37_col1,#T_b7847e6e_85fa_11eb_80a6_0242ac1c0002row38_col1,#T_b7847e6e_85fa_11eb_80a6_0242ac1c0002row39_col1{\n",
              "            background-color:  #f5f9fe;\n",
              "            color:  #000000;\n",
              "        }#T_b7847e6e_85fa_11eb_80a6_0242ac1c0002row40_col1,#T_b7847e6e_85fa_11eb_80a6_0242ac1c0002row41_col1,#T_b7847e6e_85fa_11eb_80a6_0242ac1c0002row42_col1,#T_b7847e6e_85fa_11eb_80a6_0242ac1c0002row43_col1{\n",
              "            background-color:  #f5fafe;\n",
              "            color:  #000000;\n",
              "        }#T_b7847e6e_85fa_11eb_80a6_0242ac1c0002row44_col1,#T_b7847e6e_85fa_11eb_80a6_0242ac1c0002row45_col1,#T_b7847e6e_85fa_11eb_80a6_0242ac1c0002row46_col1{\n",
              "            background-color:  #f6faff;\n",
              "            color:  #000000;\n",
              "        }#T_b7847e6e_85fa_11eb_80a6_0242ac1c0002row47_col1,#T_b7847e6e_85fa_11eb_80a6_0242ac1c0002row48_col1,#T_b7847e6e_85fa_11eb_80a6_0242ac1c0002row49_col1,#T_b7847e6e_85fa_11eb_80a6_0242ac1c0002row50_col1{\n",
              "            background-color:  #f7fbff;\n",
              "            color:  #000000;\n",
              "        }</style><table id=\"T_b7847e6e_85fa_11eb_80a6_0242ac1c0002\" ><thead>    <tr>        <th class=\"blank level0\" ></th>        <th class=\"col_heading level0 col0\" >common words</th>        <th class=\"col_heading level0 col1\" >count</th>    </tr></thead><tbody>\n",
              "                <tr>\n",
              "                        <th id=\"T_b7847e6e_85fa_11eb_80a6_0242ac1c0002level0_row0\" class=\"row_heading level0 row0\" >0</th>\n",
              "                        <td id=\"T_b7847e6e_85fa_11eb_80a6_0242ac1c0002row0_col0\" class=\"data row0 col0\" >stay</td>\n",
              "                        <td id=\"T_b7847e6e_85fa_11eb_80a6_0242ac1c0002row0_col1\" class=\"data row0 col1\" >1602</td>\n",
              "            </tr>\n",
              "            <tr>\n",
              "                        <th id=\"T_b7847e6e_85fa_11eb_80a6_0242ac1c0002level0_row1\" class=\"row_heading level0 row1\" >1</th>\n",
              "                        <td id=\"T_b7847e6e_85fa_11eb_80a6_0242ac1c0002row1_col0\" class=\"data row1 col0\" >safe</td>\n",
              "                        <td id=\"T_b7847e6e_85fa_11eb_80a6_0242ac1c0002row1_col1\" class=\"data row1 col1\" >1413</td>\n",
              "            </tr>\n",
              "            <tr>\n",
              "                        <th id=\"T_b7847e6e_85fa_11eb_80a6_0242ac1c0002level0_row2\" class=\"row_heading level0 row2\" >2</th>\n",
              "                        <td id=\"T_b7847e6e_85fa_11eb_80a6_0242ac1c0002row2_col0\" class=\"data row2 col0\" >staysafe</td>\n",
              "                        <td id=\"T_b7847e6e_85fa_11eb_80a6_0242ac1c0002row2_col1\" class=\"data row2 col1\" >1394</td>\n",
              "            </tr>\n",
              "            <tr>\n",
              "                        <th id=\"T_b7847e6e_85fa_11eb_80a6_0242ac1c0002level0_row3\" class=\"row_heading level0 row3\" >3</th>\n",
              "                        <td id=\"T_b7847e6e_85fa_11eb_80a6_0242ac1c0002row3_col0\" class=\"data row3 col0\" >curfewinkenya</td>\n",
              "                        <td id=\"T_b7847e6e_85fa_11eb_80a6_0242ac1c0002row3_col1\" class=\"data row3 col1\" >593</td>\n",
              "            </tr>\n",
              "            <tr>\n",
              "                        <th id=\"T_b7847e6e_85fa_11eb_80a6_0242ac1c0002level0_row4\" class=\"row_heading level0 row4\" >4</th>\n",
              "                        <td id=\"T_b7847e6e_85fa_11eb_80a6_0242ac1c0002row4_col0\" class=\"data row4 col0\" >stayhome</td>\n",
              "                        <td id=\"T_b7847e6e_85fa_11eb_80a6_0242ac1c0002row4_col1\" class=\"data row4 col1\" >472</td>\n",
              "            </tr>\n",
              "            <tr>\n",
              "                        <th id=\"T_b7847e6e_85fa_11eb_80a6_0242ac1c0002level0_row5\" class=\"row_heading level0 row5\" >5</th>\n",
              "                        <td id=\"T_b7847e6e_85fa_11eb_80a6_0242ac1c0002row5_col0\" class=\"data row5 col0\" >home</td>\n",
              "                        <td id=\"T_b7847e6e_85fa_11eb_80a6_0242ac1c0002row5_col1\" class=\"data row5 col1\" >365</td>\n",
              "            </tr>\n",
              "            <tr>\n",
              "                        <th id=\"T_b7847e6e_85fa_11eb_80a6_0242ac1c0002level0_row6\" class=\"row_heading level0 row6\" >6</th>\n",
              "                        <td id=\"T_b7847e6e_85fa_11eb_80a6_0242ac1c0002row6_col0\" class=\"data row6 col0\" >us</td>\n",
              "                        <td id=\"T_b7847e6e_85fa_11eb_80a6_0242ac1c0002row6_col1\" class=\"data row6 col1\" >319</td>\n",
              "            </tr>\n",
              "            <tr>\n",
              "                        <th id=\"T_b7847e6e_85fa_11eb_80a6_0242ac1c0002level0_row7\" class=\"row_heading level0 row7\" >7</th>\n",
              "                        <td id=\"T_b7847e6e_85fa_11eb_80a6_0242ac1c0002row7_col0\" class=\"data row7 col0\" >nairobi</td>\n",
              "                        <td id=\"T_b7847e6e_85fa_11eb_80a6_0242ac1c0002row7_col1\" class=\"data row7 col1\" >306</td>\n",
              "            </tr>\n",
              "            <tr>\n",
              "                        <th id=\"T_b7847e6e_85fa_11eb_80a6_0242ac1c0002level0_row8\" class=\"row_heading level0 row8\" >8</th>\n",
              "                        <td id=\"T_b7847e6e_85fa_11eb_80a6_0242ac1c0002row8_col0\" class=\"data row8 col0\" >amp</td>\n",
              "                        <td id=\"T_b7847e6e_85fa_11eb_80a6_0242ac1c0002row8_col1\" class=\"data row8 col1\" >255</td>\n",
              "            </tr>\n",
              "            <tr>\n",
              "                        <th id=\"T_b7847e6e_85fa_11eb_80a6_0242ac1c0002level0_row9\" class=\"row_heading level0 row9\" >9</th>\n",
              "                        <td id=\"T_b7847e6e_85fa_11eb_80a6_0242ac1c0002row9_col0\" class=\"data row9 col0\" >kenya</td>\n",
              "                        <td id=\"T_b7847e6e_85fa_11eb_80a6_0242ac1c0002row9_col1\" class=\"data row9 col1\" >253</td>\n",
              "            </tr>\n",
              "            <tr>\n",
              "                        <th id=\"T_b7847e6e_85fa_11eb_80a6_0242ac1c0002level0_row10\" class=\"row_heading level0 row10\" >10</th>\n",
              "                        <td id=\"T_b7847e6e_85fa_11eb_80a6_0242ac1c0002row10_col0\" class=\"data row10 col0\" >happy</td>\n",
              "                        <td id=\"T_b7847e6e_85fa_11eb_80a6_0242ac1c0002row10_col1\" class=\"data row10 col1\" >248</td>\n",
              "            </tr>\n",
              "            <tr>\n",
              "                        <th id=\"T_b7847e6e_85fa_11eb_80a6_0242ac1c0002level0_row11\" class=\"row_heading level0 row11\" >11</th>\n",
              "                        <td id=\"T_b7847e6e_85fa_11eb_80a6_0242ac1c0002row11_col0\" class=\"data row11 col0\" >good</td>\n",
              "                        <td id=\"T_b7847e6e_85fa_11eb_80a6_0242ac1c0002row11_col1\" class=\"data row11 col1\" >213</td>\n",
              "            </tr>\n",
              "            <tr>\n",
              "                        <th id=\"T_b7847e6e_85fa_11eb_80a6_0242ac1c0002level0_row12\" class=\"row_heading level0 row12\" >12</th>\n",
              "                        <td id=\"T_b7847e6e_85fa_11eb_80a6_0242ac1c0002row12_col0\" class=\"data row12 col0\" >people</td>\n",
              "                        <td id=\"T_b7847e6e_85fa_11eb_80a6_0242ac1c0002row12_col1\" class=\"data row12 col1\" >196</td>\n",
              "            </tr>\n",
              "            <tr>\n",
              "                        <th id=\"T_b7847e6e_85fa_11eb_80a6_0242ac1c0002level0_row13\" class=\"row_heading level0 row13\" >13</th>\n",
              "                        <td id=\"T_b7847e6e_85fa_11eb_80a6_0242ac1c0002row13_col0\" class=\"data row13 col0\" >corona</td>\n",
              "                        <td id=\"T_b7847e6e_85fa_11eb_80a6_0242ac1c0002row13_col1\" class=\"data row13 col1\" >172</td>\n",
              "            </tr>\n",
              "            <tr>\n",
              "                        <th id=\"T_b7847e6e_85fa_11eb_80a6_0242ac1c0002level0_row14\" class=\"row_heading level0 row14\" >14</th>\n",
              "                        <td id=\"T_b7847e6e_85fa_11eb_80a6_0242ac1c0002row14_col0\" class=\"data row14 col0\" >day</td>\n",
              "                        <td id=\"T_b7847e6e_85fa_11eb_80a6_0242ac1c0002row14_col1\" class=\"data row14 col1\" >171</td>\n",
              "            </tr>\n",
              "            <tr>\n",
              "                        <th id=\"T_b7847e6e_85fa_11eb_80a6_0242ac1c0002level0_row15\" class=\"row_heading level0 row15\" >15</th>\n",
              "                        <td id=\"T_b7847e6e_85fa_11eb_80a6_0242ac1c0002row15_col0\" class=\"data row15 col0\" >keep</td>\n",
              "                        <td id=\"T_b7847e6e_85fa_11eb_80a6_0242ac1c0002row15_col1\" class=\"data row15 col1\" >166</td>\n",
              "            </tr>\n",
              "            <tr>\n",
              "                        <th id=\"T_b7847e6e_85fa_11eb_80a6_0242ac1c0002level0_row16\" class=\"row_heading level0 row16\" >16</th>\n",
              "                        <td id=\"T_b7847e6e_85fa_11eb_80a6_0242ac1c0002row16_col0\" class=\"data row16 col0\" >time</td>\n",
              "                        <td id=\"T_b7847e6e_85fa_11eb_80a6_0242ac1c0002row16_col1\" class=\"data row16 col1\" >158</td>\n",
              "            </tr>\n",
              "            <tr>\n",
              "                        <th id=\"T_b7847e6e_85fa_11eb_80a6_0242ac1c0002level0_row17\" class=\"row_heading level0 row17\" >17</th>\n",
              "                        <td id=\"T_b7847e6e_85fa_11eb_80a6_0242ac1c0002row17_col0\" class=\"data row17 col0\" >new</td>\n",
              "                        <td id=\"T_b7847e6e_85fa_11eb_80a6_0242ac1c0002row17_col1\" class=\"data row17 col1\" >157</td>\n",
              "            </tr>\n",
              "            <tr>\n",
              "                        <th id=\"T_b7847e6e_85fa_11eb_80a6_0242ac1c0002level0_row18\" class=\"row_heading level0 row18\" >18</th>\n",
              "                        <td id=\"T_b7847e6e_85fa_11eb_80a6_0242ac1c0002row18_col0\" class=\"data row18 col0\" >sanitize</td>\n",
              "                        <td id=\"T_b7847e6e_85fa_11eb_80a6_0242ac1c0002row18_col1\" class=\"data row18 col1\" >153</td>\n",
              "            </tr>\n",
              "            <tr>\n",
              "                        <th id=\"T_b7847e6e_85fa_11eb_80a6_0242ac1c0002level0_row19\" class=\"row_heading level0 row19\" >19</th>\n",
              "                        <td id=\"T_b7847e6e_85fa_11eb_80a6_0242ac1c0002row19_col0\" class=\"data row19 col0\" >stayathome</td>\n",
              "                        <td id=\"T_b7847e6e_85fa_11eb_80a6_0242ac1c0002row19_col1\" class=\"data row19 col1\" >152</td>\n",
              "            </tr>\n",
              "            <tr>\n",
              "                        <th id=\"T_b7847e6e_85fa_11eb_80a6_0242ac1c0002level0_row20\" class=\"row_heading level0 row20\" >20</th>\n",
              "                        <td id=\"T_b7847e6e_85fa_11eb_80a6_0242ac1c0002row20_col0\" class=\"data row20 col0\" >curfew</td>\n",
              "                        <td id=\"T_b7847e6e_85fa_11eb_80a6_0242ac1c0002row20_col1\" class=\"data row20 col1\" >147</td>\n",
              "            </tr>\n",
              "            <tr>\n",
              "                        <th id=\"T_b7847e6e_85fa_11eb_80a6_0242ac1c0002level0_row21\" class=\"row_heading level0 row21\" >21</th>\n",
              "                        <td id=\"T_b7847e6e_85fa_11eb_80a6_0242ac1c0002row21_col0\" class=\"data row21 col0\" >get</td>\n",
              "                        <td id=\"T_b7847e6e_85fa_11eb_80a6_0242ac1c0002row21_col1\" class=\"data row21 col1\" >141</td>\n",
              "            </tr>\n",
              "            <tr>\n",
              "                        <th id=\"T_b7847e6e_85fa_11eb_80a6_0242ac1c0002level0_row22\" class=\"row_heading level0 row22\" >22</th>\n",
              "                        <td id=\"T_b7847e6e_85fa_11eb_80a6_0242ac1c0002row22_col0\" class=\"data row22 col0\" >kenyans</td>\n",
              "                        <td id=\"T_b7847e6e_85fa_11eb_80a6_0242ac1c0002row22_col1\" class=\"data row22 col1\" >132</td>\n",
              "            </tr>\n",
              "            <tr>\n",
              "                        <th id=\"T_b7847e6e_85fa_11eb_80a6_0242ac1c0002level0_row23\" class=\"row_heading level0 row23\" >23</th>\n",
              "                        <td id=\"T_b7847e6e_85fa_11eb_80a6_0242ac1c0002row23_col0\" class=\"data row23 col0\" >please</td>\n",
              "                        <td id=\"T_b7847e6e_85fa_11eb_80a6_0242ac1c0002row23_col1\" class=\"data row23 col1\" >131</td>\n",
              "            </tr>\n",
              "            <tr>\n",
              "                        <th id=\"T_b7847e6e_85fa_11eb_80a6_0242ac1c0002level0_row24\" class=\"row_heading level0 row24\" >24</th>\n",
              "                        <td id=\"T_b7847e6e_85fa_11eb_80a6_0242ac1c0002row24_col0\" class=\"data row24 col0\" >lockdown</td>\n",
              "                        <td id=\"T_b7847e6e_85fa_11eb_80a6_0242ac1c0002row24_col1\" class=\"data row24 col1\" >130</td>\n",
              "            </tr>\n",
              "            <tr>\n",
              "                        <th id=\"T_b7847e6e_85fa_11eb_80a6_0242ac1c0002level0_row25\" class=\"row_heading level0 row25\" >25</th>\n",
              "                        <td id=\"T_b7847e6e_85fa_11eb_80a6_0242ac1c0002row25_col0\" class=\"data row25 col0\" >call</td>\n",
              "                        <td id=\"T_b7847e6e_85fa_11eb_80a6_0242ac1c0002row25_col1\" class=\"data row25 col1\" >126</td>\n",
              "            </tr>\n",
              "            <tr>\n",
              "                        <th id=\"T_b7847e6e_85fa_11eb_80a6_0242ac1c0002level0_row26\" class=\"row_heading level0 row26\" >26</th>\n",
              "                        <td id=\"T_b7847e6e_85fa_11eb_80a6_0242ac1c0002row26_col0\" class=\"data row26 col0\" >lets</td>\n",
              "                        <td id=\"T_b7847e6e_85fa_11eb_80a6_0242ac1c0002row26_col1\" class=\"data row26 col1\" >125</td>\n",
              "            </tr>\n",
              "            <tr>\n",
              "                        <th id=\"T_b7847e6e_85fa_11eb_80a6_0242ac1c0002level0_row27\" class=\"row_heading level0 row27\" >27</th>\n",
              "                        <td id=\"T_b7847e6e_85fa_11eb_80a6_0242ac1c0002row27_col0\" class=\"data row27 col0\" >virus</td>\n",
              "                        <td id=\"T_b7847e6e_85fa_11eb_80a6_0242ac1c0002row27_col1\" class=\"data row27 col1\" >125</td>\n",
              "            </tr>\n",
              "            <tr>\n",
              "                        <th id=\"T_b7847e6e_85fa_11eb_80a6_0242ac1c0002level0_row28\" class=\"row_heading level0 row28\" >28</th>\n",
              "                        <td id=\"T_b7847e6e_85fa_11eb_80a6_0242ac1c0002row28_col0\" class=\"data row28 col0\" >today</td>\n",
              "                        <td id=\"T_b7847e6e_85fa_11eb_80a6_0242ac1c0002row28_col1\" class=\"data row28 col1\" >121</td>\n",
              "            </tr>\n",
              "            <tr>\n",
              "                        <th id=\"T_b7847e6e_85fa_11eb_80a6_0242ac1c0002level0_row29\" class=\"row_heading level0 row29\" >29</th>\n",
              "                        <td id=\"T_b7847e6e_85fa_11eb_80a6_0242ac1c0002row29_col0\" class=\"data row29 col0\" >one</td>\n",
              "                        <td id=\"T_b7847e6e_85fa_11eb_80a6_0242ac1c0002row29_col1\" class=\"data row29 col1\" >120</td>\n",
              "            </tr>\n",
              "            <tr>\n",
              "                        <th id=\"T_b7847e6e_85fa_11eb_80a6_0242ac1c0002level0_row30\" class=\"row_heading level0 row30\" >30</th>\n",
              "                        <td id=\"T_b7847e6e_85fa_11eb_80a6_0242ac1c0002row30_col0\" class=\"data row30 col0\" >social</td>\n",
              "                        <td id=\"T_b7847e6e_85fa_11eb_80a6_0242ac1c0002row30_col1\" class=\"data row30 col1\" >117</td>\n",
              "            </tr>\n",
              "            <tr>\n",
              "                        <th id=\"T_b7847e6e_85fa_11eb_80a6_0242ac1c0002level0_row31\" class=\"row_heading level0 row31\" >31</th>\n",
              "                        <td id=\"T_b7847e6e_85fa_11eb_80a6_0242ac1c0002row31_col0\" class=\"data row31 col0\" >morning</td>\n",
              "                        <td id=\"T_b7847e6e_85fa_11eb_80a6_0242ac1c0002row31_col1\" class=\"data row31 col1\" >113</td>\n",
              "            </tr>\n",
              "            <tr>\n",
              "                        <th id=\"T_b7847e6e_85fa_11eb_80a6_0242ac1c0002level0_row32\" class=\"row_heading level0 row32\" >32</th>\n",
              "                        <td id=\"T_b7847e6e_85fa_11eb_80a6_0242ac1c0002row32_col0\" class=\"data row32 col0\" >take</td>\n",
              "                        <td id=\"T_b7847e6e_85fa_11eb_80a6_0242ac1c0002row32_col1\" class=\"data row32 col1\" >112</td>\n",
              "            </tr>\n",
              "            <tr>\n",
              "                        <th id=\"T_b7847e6e_85fa_11eb_80a6_0242ac1c0002level0_row33\" class=\"row_heading level0 row33\" >33</th>\n",
              "                        <td id=\"T_b7847e6e_85fa_11eb_80a6_0242ac1c0002row33_col0\" class=\"data row33 col0\" >police</td>\n",
              "                        <td id=\"T_b7847e6e_85fa_11eb_80a6_0242ac1c0002row33_col1\" class=\"data row33 col1\" >110</td>\n",
              "            </tr>\n",
              "            <tr>\n",
              "                        <th id=\"T_b7847e6e_85fa_11eb_80a6_0242ac1c0002level0_row34\" class=\"row_heading level0 row34\" >34</th>\n",
              "                        <td id=\"T_b7847e6e_85fa_11eb_80a6_0242ac1c0002row34_col0\" class=\"data row34 col0\" >like</td>\n",
              "                        <td id=\"T_b7847e6e_85fa_11eb_80a6_0242ac1c0002row34_col1\" class=\"data row34 col1\" >107</td>\n",
              "            </tr>\n",
              "            <tr>\n",
              "                        <th id=\"T_b7847e6e_85fa_11eb_80a6_0242ac1c0002level0_row35\" class=\"row_heading level0 row35\" >35</th>\n",
              "                        <td id=\"T_b7847e6e_85fa_11eb_80a6_0242ac1c0002row35_col0\" class=\"data row35 col0\" >na</td>\n",
              "                        <td id=\"T_b7847e6e_85fa_11eb_80a6_0242ac1c0002row35_col1\" class=\"data row35 col1\" >106</td>\n",
              "            </tr>\n",
              "            <tr>\n",
              "                        <th id=\"T_b7847e6e_85fa_11eb_80a6_0242ac1c0002level0_row36\" class=\"row_heading level0 row36\" >36</th>\n",
              "                        <td id=\"T_b7847e6e_85fa_11eb_80a6_0242ac1c0002row36_col0\" class=\"data row36 col0\" >coronavirus</td>\n",
              "                        <td id=\"T_b7847e6e_85fa_11eb_80a6_0242ac1c0002row36_col1\" class=\"data row36 col1\" >106</td>\n",
              "            </tr>\n",
              "            <tr>\n",
              "                        <th id=\"T_b7847e6e_85fa_11eb_80a6_0242ac1c0002level0_row37\" class=\"row_heading level0 row37\" >37</th>\n",
              "                        <td id=\"T_b7847e6e_85fa_11eb_80a6_0242ac1c0002row37_col0\" class=\"data row37 col0\" >dont</td>\n",
              "                        <td id=\"T_b7847e6e_85fa_11eb_80a6_0242ac1c0002row37_col1\" class=\"data row37 col1\" >101</td>\n",
              "            </tr>\n",
              "            <tr>\n",
              "                        <th id=\"T_b7847e6e_85fa_11eb_80a6_0242ac1c0002level0_row38\" class=\"row_heading level0 row38\" >38</th>\n",
              "                        <td id=\"T_b7847e6e_85fa_11eb_80a6_0242ac1c0002row38_col0\" class=\"data row38 col0\" >need</td>\n",
              "                        <td id=\"T_b7847e6e_85fa_11eb_80a6_0242ac1c0002row38_col1\" class=\"data row38 col1\" >99</td>\n",
              "            </tr>\n",
              "            <tr>\n",
              "                        <th id=\"T_b7847e6e_85fa_11eb_80a6_0242ac1c0002level0_row39\" class=\"row_heading level0 row39\" >39</th>\n",
              "                        <td id=\"T_b7847e6e_85fa_11eb_80a6_0242ac1c0002row39_col0\" class=\"data row39 col0\" >know</td>\n",
              "                        <td id=\"T_b7847e6e_85fa_11eb_80a6_0242ac1c0002row39_col1\" class=\"data row39 col1\" >99</td>\n",
              "            </tr>\n",
              "            <tr>\n",
              "                        <th id=\"T_b7847e6e_85fa_11eb_80a6_0242ac1c0002level0_row40\" class=\"row_heading level0 row40\" >40</th>\n",
              "                        <td id=\"T_b7847e6e_85fa_11eb_80a6_0242ac1c0002row40_col0\" class=\"data row40 col0\" >well</td>\n",
              "                        <td id=\"T_b7847e6e_85fa_11eb_80a6_0242ac1c0002row40_col1\" class=\"data row40 col1\" >97</td>\n",
              "            </tr>\n",
              "            <tr>\n",
              "                        <th id=\"T_b7847e6e_85fa_11eb_80a6_0242ac1c0002level0_row41\" class=\"row_heading level0 row41\" >41</th>\n",
              "                        <td id=\"T_b7847e6e_85fa_11eb_80a6_0242ac1c0002row41_col0\" class=\"data row41 col0\" >hands</td>\n",
              "                        <td id=\"T_b7847e6e_85fa_11eb_80a6_0242ac1c0002row41_col1\" class=\"data row41 col1\" >94</td>\n",
              "            </tr>\n",
              "            <tr>\n",
              "                        <th id=\"T_b7847e6e_85fa_11eb_80a6_0242ac1c0002level0_row42\" class=\"row_heading level0 row42\" >42</th>\n",
              "                        <td id=\"T_b7847e6e_85fa_11eb_80a6_0242ac1c0002row42_col0\" class=\"data row42 col0\" >quarantine</td>\n",
              "                        <td id=\"T_b7847e6e_85fa_11eb_80a6_0242ac1c0002row42_col1\" class=\"data row42 col1\" >94</td>\n",
              "            </tr>\n",
              "            <tr>\n",
              "                        <th id=\"T_b7847e6e_85fa_11eb_80a6_0242ac1c0002level0_row43\" class=\"row_heading level0 row43\" >43</th>\n",
              "                        <td id=\"T_b7847e6e_85fa_11eb_80a6_0242ac1c0002row43_col0\" class=\"data row43 col0\" >coronaviruske</td>\n",
              "                        <td id=\"T_b7847e6e_85fa_11eb_80a6_0242ac1c0002row43_col1\" class=\"data row43 col1\" >93</td>\n",
              "            </tr>\n",
              "            <tr>\n",
              "                        <th id=\"T_b7847e6e_85fa_11eb_80a6_0242ac1c0002level0_row44\" class=\"row_heading level0 row44\" >44</th>\n",
              "                        <td id=\"T_b7847e6e_85fa_11eb_80a6_0242ac1c0002row44_col0\" class=\"data row44 col0\" >love</td>\n",
              "                        <td id=\"T_b7847e6e_85fa_11eb_80a6_0242ac1c0002row44_col1\" class=\"data row44 col1\" >92</td>\n",
              "            </tr>\n",
              "            <tr>\n",
              "                        <th id=\"T_b7847e6e_85fa_11eb_80a6_0242ac1c0002level0_row45\" class=\"row_heading level0 row45\" >45</th>\n",
              "                        <td id=\"T_b7847e6e_85fa_11eb_80a6_0242ac1c0002row45_col0\" class=\"data row45 col0\" >washyourhands</td>\n",
              "                        <td id=\"T_b7847e6e_85fa_11eb_80a6_0242ac1c0002row45_col1\" class=\"data row45 col1\" >88</td>\n",
              "            </tr>\n",
              "            <tr>\n",
              "                        <th id=\"T_b7847e6e_85fa_11eb_80a6_0242ac1c0002level0_row46\" class=\"row_heading level0 row46\" >46</th>\n",
              "                        <td id=\"T_b7847e6e_85fa_11eb_80a6_0242ac1c0002row46_col0\" class=\"data row46 col0\" >best</td>\n",
              "                        <td id=\"T_b7847e6e_85fa_11eb_80a6_0242ac1c0002row46_col1\" class=\"data row46 col1\" >87</td>\n",
              "            </tr>\n",
              "            <tr>\n",
              "                        <th id=\"T_b7847e6e_85fa_11eb_80a6_0242ac1c0002level0_row47\" class=\"row_heading level0 row47\" >47</th>\n",
              "                        <td id=\"T_b7847e6e_85fa_11eb_80a6_0242ac1c0002row47_col0\" class=\"data row47 col0\" >shall</td>\n",
              "                        <td id=\"T_b7847e6e_85fa_11eb_80a6_0242ac1c0002row47_col1\" class=\"data row47 col1\" >84</td>\n",
              "            </tr>\n",
              "            <tr>\n",
              "                        <th id=\"T_b7847e6e_85fa_11eb_80a6_0242ac1c0002level0_row48\" class=\"row_heading level0 row48\" >48</th>\n",
              "                        <td id=\"T_b7847e6e_85fa_11eb_80a6_0242ac1c0002row48_col0\" class=\"data row48 col0\" >health</td>\n",
              "                        <td id=\"T_b7847e6e_85fa_11eb_80a6_0242ac1c0002row48_col1\" class=\"data row48 col1\" >82</td>\n",
              "            </tr>\n",
              "            <tr>\n",
              "                        <th id=\"T_b7847e6e_85fa_11eb_80a6_0242ac1c0002level0_row49\" class=\"row_heading level0 row49\" >49</th>\n",
              "                        <td id=\"T_b7847e6e_85fa_11eb_80a6_0242ac1c0002row49_col0\" class=\"data row49 col0\" >family</td>\n",
              "                        <td id=\"T_b7847e6e_85fa_11eb_80a6_0242ac1c0002row49_col1\" class=\"data row49 col1\" >81</td>\n",
              "            </tr>\n",
              "            <tr>\n",
              "                        <th id=\"T_b7847e6e_85fa_11eb_80a6_0242ac1c0002level0_row50\" class=\"row_heading level0 row50\" >50</th>\n",
              "                        <td id=\"T_b7847e6e_85fa_11eb_80a6_0242ac1c0002row50_col0\" class=\"data row50 col0\" >life</td>\n",
              "                        <td id=\"T_b7847e6e_85fa_11eb_80a6_0242ac1c0002row50_col1\" class=\"data row50 col1\" >81</td>\n",
              "            </tr>\n",
              "    </tbody></table>"
            ],
            "text/plain": [
              "<pandas.io.formats.style.Styler at 0x7fcca8e73350>"
            ]
          },
          "metadata": {
            "tags": []
          },
          "execution_count": 22
        }
      ]
    },
    {
      "cell_type": "markdown",
      "metadata": {
        "id": "Bk2Va7QcggOf"
      },
      "source": [
        "### Wordcloud"
      ]
    },
    {
      "cell_type": "code",
      "metadata": {
        "id": "WKv6z8LdiSlN"
      },
      "source": [
        "def plot_wordcloud(text, mask=None, max_words=500, max_font_size=100, figure_size=(14.0,6.0), color = 'white',\n",
        "                   title = None, title_size=40, image_color=False):\n",
        "    stopwords = set(STOPWORDS)\n",
        "    more_stopwords = {'sasa', \"wa\", 'wa', 'sana', 'hadi', 'na', 'huyu', 'ni',\n",
        "                      'za', 'enga', 'mtoto'}\n",
        "    stopwords = stopwords.union(more_stopwords)\n",
        "\n",
        "    wordcloud = WordCloud(background_color=color,\n",
        "                    stopwords = stopwords,\n",
        "                    max_words = max_words,\n",
        "                    max_font_size = max_font_size, \n",
        "                    random_state = 42,\n",
        "                    width=400, \n",
        "                    height=200,\n",
        "                    mask = mask)\n",
        "    wordcloud.generate(str(text))\n",
        "    \n",
        "    plt.figure(figsize=figure_size)\n",
        "    if image_color:\n",
        "        image_colors = ImageColorGenerator(mask);\n",
        "        plt.imshow(wordcloud.recolor(color_func=image_colors), interpolation=\"bilinear\");\n",
        "        plt.title(title, fontdict={'size': title_size,  \n",
        "                                  'verticalalignment': 'bottom'})\n",
        "    else:\n",
        "        plt.imshow(wordcloud);\n",
        "        plt.title(title, fontdict={'size': title_size, 'color': 'black', \n",
        "                                  'verticalalignment': 'bottom'})\n",
        "    plt.axis('off');\n",
        "    plt.tight_layout()  \n",
        "d = '/content/gdrive/My Drive/Coronavirus_Tweets/'"
      ],
      "execution_count": 23,
      "outputs": []
    },
    {
      "cell_type": "code",
      "metadata": {
        "colab": {
          "base_uri": "https://localhost:8080/",
          "height": 441
        },
        "id": "CteKBTfJklcA",
        "outputId": "fd63b70f-d8fc-4794-f6d8-5b505be9b859"
      },
      "source": [
        "pos_mask = np.array(Image.open(d+ 'upvote.png'))\n",
        "plot_wordcloud(nairobi_df2.text_without_stopwords,mask=pos_mask,color='white',max_font_size=300,title_size=30,title=\"Most Common Tweets\")"
      ],
      "execution_count": 24,
      "outputs": [
        {
          "output_type": "display_data",
          "data": {
            "image/png": "[encoded data removed]",
            "text/plain": [
              "<Figure size 1008x432 with 1 Axes>"
            ]
          },
          "metadata": {
            "tags": [],
            "needs_background": "light"
          }
        }
      ]
    },
    {
      "cell_type": "code",
      "metadata": {
        "id": "8005N5GK2A8L",
        "colab": {
          "base_uri": "https://localhost:8080/",
          "height": 905
        },
        "outputId": "74b32d5f-fc46-41ef-b811-fe5321a3acb1"
      },
      "source": [
        "#The number of tweets according to dates\n",
        "\n",
        "nairobi_df2['datetime'] =  pd.to_datetime(nairobi_df2['datetime'])\n",
        "cnt_srs =nairobi_df2['datetime'].dt.date.value_counts()\n",
        "cnt_srs = cnt_srs.sort_index()\n",
        "plt.figure(figsize=(28,15))\n",
        "sns.barplot(cnt_srs.index, cnt_srs.values, alpha=0.8, color='green')\n",
        "plt.xticks(rotation='vertical')\n",
        "plt.xlabel('Date', fontsize=15)\n",
        "plt.ylabel('Number of tweets', fontsize=15)\n",
        "plt.title(\"Number of tweets according to dates\")\n",
        "plt.show()"
      ],
      "execution_count": 25,
      "outputs": [
        {
          "output_type": "stream",
          "text": [
            "/usr/local/lib/python3.7/dist-packages/ipykernel_launcher.py:3: SettingWithCopyWarning:\n",
            "\n",
            "\n",
            "A value is trying to be set on a copy of a slice from a DataFrame.\n",
            "Try using .loc[row_indexer,col_indexer] = value instead\n",
            "\n",
            "See the caveats in the documentation: https://pandas.pydata.org/pandas-docs/stable/user_guide/indexing.html#returning-a-view-versus-a-copy\n",
            "\n",
            "/usr/local/lib/python3.7/dist-packages/seaborn/_decorators.py:43: FutureWarning:\n",
            "\n",
            "Pass the following variables as keyword args: x, y. From version 0.12, the only valid positional argument will be `data`, and passing other arguments without an explicit keyword will result in an error or misinterpretation.\n",
            "\n"
          ],
          "name": "stderr"
        },
        {
          "output_type": "display_data",
          "data": {
            "image/png": "[encoded data removed]",
            "text/plain": [
              "<Figure size 2016x1080 with 1 Axes>"
            ]
          },
          "metadata": {
            "tags": [],
            "needs_background": "light"
          }
        }
      ]
    },
    {
      "cell_type": "markdown",
      "metadata": {
        "id": "npt9UNflfAB5"
      },
      "source": [
        "# <center>**Bag of Words**</center>\n",
        "\n",
        "### Procedure\n",
        "\n",
        "\n",
        "*   Tokenize\n",
        "*   Remove Stopwords\n",
        "*   Lemmatization\n",
        "*   Modeling with BOW\n",
        "*   Split test and train data\n",
        "\n",
        "\n",
        "\n"
      ]
    },
    {
      "cell_type": "code",
      "metadata": {
        "colab": {
          "base_uri": "https://localhost:8080/"
        },
        "id": "8Nly5tKifPGc",
        "outputId": "b4f1f473-5325-4931-eae5-d3b095de3b28"
      },
      "source": [
        "#Tokenizing\n",
        "\n",
        "nltk.download('punkt')\n",
        "nltk.download('wordnet')"
      ],
      "execution_count": 26,
      "outputs": [
        {
          "output_type": "stream",
          "text": [
            "[nltk_data] Downloading package punkt to /root/nltk_data...\n",
            "[nltk_data]   Unzipping tokenizers/punkt.zip.\n",
            "[nltk_data] Downloading package wordnet to /root/nltk_data...\n",
            "[nltk_data]   Unzipping corpora/wordnet.zip.\n"
          ],
          "name": "stdout"
        },
        {
          "output_type": "execute_result",
          "data": {
            "text/plain": [
              "True"
            ]
          },
          "metadata": {
            "tags": []
          },
          "execution_count": 26
        }
      ]
    },
    {
      "cell_type": "code",
      "metadata": {
        "colab": {
          "base_uri": "https://localhost:8080/",
          "height": 306
        },
        "id": "W4lsJPGs3miP",
        "outputId": "6a125fef-73dc-408e-ec38-a4bdd912038d"
      },
      "source": [
        "#Save the dataframe to a csv file for Bag of Words\n",
        "\n",
        "nairobi_df3 = nairobi_df2.to_csv('/content/gdrive/My Drive/Coronavirus_Tweets/bow.csv')\n",
        "\n",
        "#Load the dataset\n",
        "nairobi_df3 = pd.read_csv('/content/gdrive/My Drive/Coronavirus_Tweets/bow.csv')\n",
        "\n",
        "#Preview the first few rows\n",
        "nairobi_df3.head()"
      ],
      "execution_count": 27,
      "outputs": [
        {
          "output_type": "execute_result",
          "data": {
            "text/html": [
              "<div>\n",
              "<style scoped>\n",
              "    .dataframe tbody tr th:only-of-type {\n",
              "        vertical-align: middle;\n",
              "    }\n",
              "\n",
              "    .dataframe tbody tr th {\n",
              "        vertical-align: top;\n",
              "    }\n",
              "\n",
              "    .dataframe thead th {\n",
              "        text-align: right;\n",
              "    }\n",
              "</style>\n",
              "<table border=\"1\" class=\"dataframe\">\n",
              "  <thead>\n",
              "    <tr style=\"text-align: right;\">\n",
              "      <th></th>\n",
              "      <th>Unnamed: 0</th>\n",
              "      <th>unnamed: 0</th>\n",
              "      <th>unnamed: 0.1</th>\n",
              "      <th>datetime</th>\n",
              "      <th>text</th>\n",
              "      <th>retweets</th>\n",
              "      <th>likes</th>\n",
              "      <th>text_without_stopwords</th>\n",
              "    </tr>\n",
              "  </thead>\n",
              "  <tbody>\n",
              "    <tr>\n",
              "      <th>0</th>\n",
              "      <td>0</td>\n",
              "      <td>0</td>\n",
              "      <td>0</td>\n",
              "      <td>2020-06-06 19:28:03+00:00</td>\n",
              "      <td>mmetukosea sana sasa ningeenda hadi pahali gar...</td>\n",
              "      <td>0</td>\n",
              "      <td>2</td>\n",
              "      <td>['mmetukosea', 'sana', 'sasa', 'ningeenda', 'h...</td>\n",
              "    </tr>\n",
              "    <tr>\n",
              "      <th>1</th>\n",
              "      <td>1</td>\n",
              "      <td>1</td>\n",
              "      <td>1</td>\n",
              "      <td>2020-06-06 13:25:27+00:00</td>\n",
              "      <td>cant wait 🥰🥰  blacklivesmatter curfewinkenya w...</td>\n",
              "      <td>1</td>\n",
              "      <td>10</td>\n",
              "      <td>['cant', 'wait', '🥰🥰', 'blacklivesmatter', 'cu...</td>\n",
              "    </tr>\n",
              "    <tr>\n",
              "      <th>2</th>\n",
              "      <td>2</td>\n",
              "      <td>2</td>\n",
              "      <td>2</td>\n",
              "      <td>2020-06-06 13:24:27+00:00</td>\n",
              "      <td>wakenya hawachoki na meme za uhuru😂😂 uhurukeny...</td>\n",
              "      <td>1</td>\n",
              "      <td>4</td>\n",
              "      <td>['wakenya', 'hawachoki', 'na', 'meme', 'za', '...</td>\n",
              "    </tr>\n",
              "    <tr>\n",
              "      <th>3</th>\n",
              "      <td>3</td>\n",
              "      <td>3</td>\n",
              "      <td>3</td>\n",
              "      <td>2020-06-06 13:03:01+00:00</td>\n",
              "      <td>fellow kenyans uhuruspeaks uhuruaddress</td>\n",
              "      <td>0</td>\n",
              "      <td>1</td>\n",
              "      <td>['fellow', 'kenyans', 'uhuruspeaks', 'uhuruadd...</td>\n",
              "    </tr>\n",
              "    <tr>\n",
              "      <th>4</th>\n",
              "      <td>4</td>\n",
              "      <td>4</td>\n",
              "      <td>4</td>\n",
              "      <td>2020-06-06 13:02:49+00:00</td>\n",
              "      <td>uhurukenyatta cessation of movement in nairobi...</td>\n",
              "      <td>0</td>\n",
              "      <td>2</td>\n",
              "      <td>['uhurukenyatta', 'cessation', 'movement', 'na...</td>\n",
              "    </tr>\n",
              "  </tbody>\n",
              "</table>\n",
              "</div>"
            ],
            "text/plain": [
              "   Unnamed: 0  ...                             text_without_stopwords\n",
              "0           0  ...  ['mmetukosea', 'sana', 'sasa', 'ningeenda', 'h...\n",
              "1           1  ...  ['cant', 'wait', '🥰🥰', 'blacklivesmatter', 'cu...\n",
              "2           2  ...  ['wakenya', 'hawachoki', 'na', 'meme', 'za', '...\n",
              "3           3  ...  ['fellow', 'kenyans', 'uhuruspeaks', 'uhuruadd...\n",
              "4           4  ...  ['uhurukenyatta', 'cessation', 'movement', 'na...\n",
              "\n",
              "[5 rows x 8 columns]"
            ]
          },
          "metadata": {
            "tags": []
          },
          "execution_count": 27
        }
      ]
    },
    {
      "cell_type": "code",
      "metadata": {
        "colab": {
          "base_uri": "https://localhost:8080/",
          "height": 419
        },
        "id": "Hys7VetDAE7i",
        "outputId": "83fcfd79-7201-4060-dc3b-30b833ccd182"
      },
      "source": [
        "#Dropping the unnamed columns\n",
        "\n",
        "nairobi_df3.drop(['Unnamed: 0', 'unnamed: 0', 'unnamed: 0.1'], axis=1)"
      ],
      "execution_count": 28,
      "outputs": [
        {
          "output_type": "execute_result",
          "data": {
            "text/html": [
              "<div>\n",
              "<style scoped>\n",
              "    .dataframe tbody tr th:only-of-type {\n",
              "        vertical-align: middle;\n",
              "    }\n",
              "\n",
              "    .dataframe tbody tr th {\n",
              "        vertical-align: top;\n",
              "    }\n",
              "\n",
              "    .dataframe thead th {\n",
              "        text-align: right;\n",
              "    }\n",
              "</style>\n",
              "<table border=\"1\" class=\"dataframe\">\n",
              "  <thead>\n",
              "    <tr style=\"text-align: right;\">\n",
              "      <th></th>\n",
              "      <th>datetime</th>\n",
              "      <th>text</th>\n",
              "      <th>retweets</th>\n",
              "      <th>likes</th>\n",
              "      <th>text_without_stopwords</th>\n",
              "    </tr>\n",
              "  </thead>\n",
              "  <tbody>\n",
              "    <tr>\n",
              "      <th>0</th>\n",
              "      <td>2020-06-06 19:28:03+00:00</td>\n",
              "      <td>mmetukosea sana sasa ningeenda hadi pahali gar...</td>\n",
              "      <td>0</td>\n",
              "      <td>2</td>\n",
              "      <td>['mmetukosea', 'sana', 'sasa', 'ningeenda', 'h...</td>\n",
              "    </tr>\n",
              "    <tr>\n",
              "      <th>1</th>\n",
              "      <td>2020-06-06 13:25:27+00:00</td>\n",
              "      <td>cant wait 🥰🥰  blacklivesmatter curfewinkenya w...</td>\n",
              "      <td>1</td>\n",
              "      <td>10</td>\n",
              "      <td>['cant', 'wait', '🥰🥰', 'blacklivesmatter', 'cu...</td>\n",
              "    </tr>\n",
              "    <tr>\n",
              "      <th>2</th>\n",
              "      <td>2020-06-06 13:24:27+00:00</td>\n",
              "      <td>wakenya hawachoki na meme za uhuru😂😂 uhurukeny...</td>\n",
              "      <td>1</td>\n",
              "      <td>4</td>\n",
              "      <td>['wakenya', 'hawachoki', 'na', 'meme', 'za', '...</td>\n",
              "    </tr>\n",
              "    <tr>\n",
              "      <th>3</th>\n",
              "      <td>2020-06-06 13:03:01+00:00</td>\n",
              "      <td>fellow kenyans uhuruspeaks uhuruaddress</td>\n",
              "      <td>0</td>\n",
              "      <td>1</td>\n",
              "      <td>['fellow', 'kenyans', 'uhuruspeaks', 'uhuruadd...</td>\n",
              "    </tr>\n",
              "    <tr>\n",
              "      <th>4</th>\n",
              "      <td>2020-06-06 13:02:49+00:00</td>\n",
              "      <td>uhurukenyatta cessation of movement in nairobi...</td>\n",
              "      <td>0</td>\n",
              "      <td>2</td>\n",
              "      <td>['uhurukenyatta', 'cessation', 'movement', 'na...</td>\n",
              "    </tr>\n",
              "    <tr>\n",
              "      <th>...</th>\n",
              "      <td>...</td>\n",
              "      <td>...</td>\n",
              "      <td>...</td>\n",
              "      <td>...</td>\n",
              "      <td>...</td>\n",
              "    </tr>\n",
              "    <tr>\n",
              "      <th>4168</th>\n",
              "      <td>2020-05-29 06:34:32+00:00</td>\n",
              "      <td>theres nothing like making a tough choice when...</td>\n",
              "      <td>0</td>\n",
              "      <td>0</td>\n",
              "      <td>['theres', 'nothing', 'like', 'making', 'tough...</td>\n",
              "    </tr>\n",
              "    <tr>\n",
              "      <th>4169</th>\n",
              "      <td>2020-05-29 06:20:25+00:00</td>\n",
              "      <td>president uhuru kenyatta made it clear thats t...</td>\n",
              "      <td>0</td>\n",
              "      <td>2</td>\n",
              "      <td>['president', 'uhuru', 'kenyatta', 'made', 'cl...</td>\n",
              "    </tr>\n",
              "    <tr>\n",
              "      <th>4170</th>\n",
              "      <td>2020-05-29 06:03:22+00:00</td>\n",
              "      <td>uhurustoughchoices mlisema huyu ni mtoto wa na...</td>\n",
              "      <td>0</td>\n",
              "      <td>0</td>\n",
              "      <td>['uhurustoughchoices', 'mlisema', 'huyu', 'ni'...</td>\n",
              "    </tr>\n",
              "    <tr>\n",
              "      <th>4171</th>\n",
              "      <td>2020-05-29 05:19:20+00:00</td>\n",
              "      <td>among other tough choices uhuru must make is g...</td>\n",
              "      <td>3</td>\n",
              "      <td>4</td>\n",
              "      <td>['among', 'tough', 'choices', 'uhuru', 'must',...</td>\n",
              "    </tr>\n",
              "    <tr>\n",
              "      <th>4172</th>\n",
              "      <td>2020-05-27 18:59:53+00:00</td>\n",
              "      <td>pandemic perforated pockets plunging economy p...</td>\n",
              "      <td>1</td>\n",
              "      <td>6</td>\n",
              "      <td>['pandemic', 'perforated', 'pockets', 'plungin...</td>\n",
              "    </tr>\n",
              "  </tbody>\n",
              "</table>\n",
              "<p>4173 rows × 5 columns</p>\n",
              "</div>"
            ],
            "text/plain": [
              "                       datetime  ...                             text_without_stopwords\n",
              "0     2020-06-06 19:28:03+00:00  ...  ['mmetukosea', 'sana', 'sasa', 'ningeenda', 'h...\n",
              "1     2020-06-06 13:25:27+00:00  ...  ['cant', 'wait', '🥰🥰', 'blacklivesmatter', 'cu...\n",
              "2     2020-06-06 13:24:27+00:00  ...  ['wakenya', 'hawachoki', 'na', 'meme', 'za', '...\n",
              "3     2020-06-06 13:03:01+00:00  ...  ['fellow', 'kenyans', 'uhuruspeaks', 'uhuruadd...\n",
              "4     2020-06-06 13:02:49+00:00  ...  ['uhurukenyatta', 'cessation', 'movement', 'na...\n",
              "...                         ...  ...                                                ...\n",
              "4168  2020-05-29 06:34:32+00:00  ...  ['theres', 'nothing', 'like', 'making', 'tough...\n",
              "4169  2020-05-29 06:20:25+00:00  ...  ['president', 'uhuru', 'kenyatta', 'made', 'cl...\n",
              "4170  2020-05-29 06:03:22+00:00  ...  ['uhurustoughchoices', 'mlisema', 'huyu', 'ni'...\n",
              "4171  2020-05-29 05:19:20+00:00  ...  ['among', 'tough', 'choices', 'uhuru', 'must',...\n",
              "4172  2020-05-27 18:59:53+00:00  ...  ['pandemic', 'perforated', 'pockets', 'plungin...\n",
              "\n",
              "[4173 rows x 5 columns]"
            ]
          },
          "metadata": {
            "tags": []
          },
          "execution_count": 28
        }
      ]
    },
    {
      "cell_type": "code",
      "metadata": {
        "colab": {
          "base_uri": "https://localhost:8080/",
          "height": 166
        },
        "id": "l0z-8U9UBo95",
        "outputId": "e0a8fa3c-4dde-49a0-a447-7cf74436b27f"
      },
      "source": [
        "#Split the text column to create a new column, \"text_list\" then create a dataframe of two columns; \"most_common_words\" and \"count\"\n",
        "\n",
        "nairobi_df3['text_list'] = nairobi_df3['text'].apply(lambda x:str(x).split()) #Use tokenize or split, smae results\n",
        "top = Counter([item for sublist in nairobi_df3['text_list'] for item in sublist]) #Counts the frequency of words\n",
        "temp = pd.DataFrame(top.most_common(6)) #top five words\n",
        "temp.columns = ['common_words', 'count']\n",
        "temp.style.background_gradient(cmap = 'Blues')"
      ],
      "execution_count": 29,
      "outputs": [
        {
          "output_type": "execute_result",
          "data": {
            "text/html": [
              "<style  type=\"text/css\" >\n",
              "#T_c088e4aa_85fa_11eb_80a6_0242ac1c0002row0_col1{\n",
              "            background-color:  #08306b;\n",
              "            color:  #f1f1f1;\n",
              "        }#T_c088e4aa_85fa_11eb_80a6_0242ac1c0002row1_col1{\n",
              "            background-color:  #2272b6;\n",
              "            color:  #f1f1f1;\n",
              "        }#T_c088e4aa_85fa_11eb_80a6_0242ac1c0002row2_col1{\n",
              "            background-color:  #87bddc;\n",
              "            color:  #000000;\n",
              "        }#T_c088e4aa_85fa_11eb_80a6_0242ac1c0002row3_col1{\n",
              "            background-color:  #bfd8ed;\n",
              "            color:  #000000;\n",
              "        }#T_c088e4aa_85fa_11eb_80a6_0242ac1c0002row4_col1{\n",
              "            background-color:  #f2f8fd;\n",
              "            color:  #000000;\n",
              "        }#T_c088e4aa_85fa_11eb_80a6_0242ac1c0002row5_col1{\n",
              "            background-color:  #f7fbff;\n",
              "            color:  #000000;\n",
              "        }</style><table id=\"T_c088e4aa_85fa_11eb_80a6_0242ac1c0002\" ><thead>    <tr>        <th class=\"blank level0\" ></th>        <th class=\"col_heading level0 col0\" >common_words</th>        <th class=\"col_heading level0 col1\" >count</th>    </tr></thead><tbody>\n",
              "                <tr>\n",
              "                        <th id=\"T_c088e4aa_85fa_11eb_80a6_0242ac1c0002level0_row0\" class=\"row_heading level0 row0\" >0</th>\n",
              "                        <td id=\"T_c088e4aa_85fa_11eb_80a6_0242ac1c0002row0_col0\" class=\"data row0 col0\" >the</td>\n",
              "                        <td id=\"T_c088e4aa_85fa_11eb_80a6_0242ac1c0002row0_col1\" class=\"data row0 col1\" >2159</td>\n",
              "            </tr>\n",
              "            <tr>\n",
              "                        <th id=\"T_c088e4aa_85fa_11eb_80a6_0242ac1c0002level0_row1\" class=\"row_heading level0 row1\" >1</th>\n",
              "                        <td id=\"T_c088e4aa_85fa_11eb_80a6_0242ac1c0002row1_col0\" class=\"data row1 col0\" >to</td>\n",
              "                        <td id=\"T_c088e4aa_85fa_11eb_80a6_0242ac1c0002row1_col1\" class=\"data row1 col1\" >1962</td>\n",
              "            </tr>\n",
              "            <tr>\n",
              "                        <th id=\"T_c088e4aa_85fa_11eb_80a6_0242ac1c0002level0_row2\" class=\"row_heading level0 row2\" >2</th>\n",
              "                        <td id=\"T_c088e4aa_85fa_11eb_80a6_0242ac1c0002row2_col0\" class=\"data row2 col0\" >and</td>\n",
              "                        <td id=\"T_c088e4aa_85fa_11eb_80a6_0242ac1c0002row2_col1\" class=\"data row2 col1\" >1725</td>\n",
              "            </tr>\n",
              "            <tr>\n",
              "                        <th id=\"T_c088e4aa_85fa_11eb_80a6_0242ac1c0002level0_row3\" class=\"row_heading level0 row3\" >3</th>\n",
              "                        <td id=\"T_c088e4aa_85fa_11eb_80a6_0242ac1c0002row3_col0\" class=\"data row3 col0\" >stay</td>\n",
              "                        <td id=\"T_c088e4aa_85fa_11eb_80a6_0242ac1c0002row3_col1\" class=\"data row3 col1\" >1602</td>\n",
              "            </tr>\n",
              "            <tr>\n",
              "                        <th id=\"T_c088e4aa_85fa_11eb_80a6_0242ac1c0002level0_row4\" class=\"row_heading level0 row4\" >4</th>\n",
              "                        <td id=\"T_c088e4aa_85fa_11eb_80a6_0242ac1c0002row4_col0\" class=\"data row4 col0\" >safe</td>\n",
              "                        <td id=\"T_c088e4aa_85fa_11eb_80a6_0242ac1c0002row4_col1\" class=\"data row4 col1\" >1413</td>\n",
              "            </tr>\n",
              "            <tr>\n",
              "                        <th id=\"T_c088e4aa_85fa_11eb_80a6_0242ac1c0002level0_row5\" class=\"row_heading level0 row5\" >5</th>\n",
              "                        <td id=\"T_c088e4aa_85fa_11eb_80a6_0242ac1c0002row5_col0\" class=\"data row5 col0\" >staysafe</td>\n",
              "                        <td id=\"T_c088e4aa_85fa_11eb_80a6_0242ac1c0002row5_col1\" class=\"data row5 col1\" >1394</td>\n",
              "            </tr>\n",
              "    </tbody></table>"
            ],
            "text/plain": [
              "<pandas.io.formats.style.Styler at 0x7fcca8702090>"
            ]
          },
          "metadata": {
            "tags": []
          },
          "execution_count": 29
        }
      ]
    },
    {
      "cell_type": "code",
      "metadata": {
        "colab": {
          "base_uri": "https://localhost:8080/"
        },
        "id": "K7_FO8pAE4FG",
        "outputId": "e95b3f85-bc5a-44a1-faba-718c3dbf1102"
      },
      "source": [
        "#Check a summary of the data\n",
        "\n",
        "nairobi_df3.info()"
      ],
      "execution_count": 30,
      "outputs": [
        {
          "output_type": "stream",
          "text": [
            "<class 'pandas.core.frame.DataFrame'>\n",
            "RangeIndex: 4173 entries, 0 to 4172\n",
            "Data columns (total 9 columns):\n",
            " #   Column                  Non-Null Count  Dtype \n",
            "---  ------                  --------------  ----- \n",
            " 0   Unnamed: 0              4173 non-null   int64 \n",
            " 1   unnamed: 0              4173 non-null   int64 \n",
            " 2   unnamed: 0.1            4173 non-null   int64 \n",
            " 3   datetime                4173 non-null   object\n",
            " 4   text                    4173 non-null   object\n",
            " 5   retweets                4173 non-null   int64 \n",
            " 6   likes                   4173 non-null   int64 \n",
            " 7   text_without_stopwords  4173 non-null   object\n",
            " 8   text_list               4173 non-null   object\n",
            "dtypes: int64(5), object(4)\n",
            "memory usage: 293.5+ KB\n"
          ],
          "name": "stdout"
        }
      ]
    },
    {
      "cell_type": "code",
      "metadata": {
        "colab": {
          "base_uri": "https://localhost:8080/"
        },
        "id": "G7CtFaWNFeRb",
        "outputId": "160ccfb4-7964-4afe-c65e-9e5835d075b3"
      },
      "source": [
        "#Check the Text_List column contents of first 20\n",
        "\n",
        "nairobi_df3['text_list'][0:21]"
      ],
      "execution_count": 31,
      "outputs": [
        {
          "output_type": "execute_result",
          "data": {
            "text/plain": [
              "0     [mmetukosea, sana, sasa, ningeenda, hadi, paha...\n",
              "1     [cant, wait, 🥰🥰, blacklivesmatter, curfewinken...\n",
              "2     [wakenya, hawachoki, na, meme, za, uhuru😂😂, uh...\n",
              "3          [fellow, kenyans, uhuruspeaks, uhuruaddress]\n",
              "4     [uhurukenyatta, cessation, of, movement, in, n...\n",
              "5     [tumeni, pombe, ni, sahau, hiyo, kizungu, ming...\n",
              "6     [maryannwanguike, forget, uhuruaddressam, a, f...\n",
              "7     [nationwide, dusk, to, dawn, curfew, extended,...\n",
              "8                                        [uhuruaddress]\n",
              "9     [uhuru, cessation, of, movement, of, eastleigh...\n",
              "10    [free, delivery, in, ongata, rongai, karen, an...\n",
              "11                         [here, we, go, uhuruaddress]\n",
              "12                              [lol😅, 😂, uhuruaddress]\n",
              "13    [kenya, will, be, green, againissues, affectin...\n",
              "14    [that, to, purchase, locally, manufactured, ve...\n",
              "15    [“money, in, the, hands, of, a, family, restor...\n",
              "16    [president, uhuru, kenyatta, my, administratio...\n",
              "17    [the, government, need, to, add, mind, your, b...\n",
              "18    [my, question, would, be, what, was, really, a...\n",
              "19    [the, difference, is, like, day, and, night, i...\n",
              "20    [uhuruaddress, announces, ksh, stimulus, plan,...\n",
              "Name: text_list, dtype: object"
            ]
          },
          "metadata": {
            "tags": []
          },
          "execution_count": 31
        }
      ]
    },
    {
      "cell_type": "code",
      "metadata": {
        "colab": {
          "base_uri": "https://localhost:8080/"
        },
        "id": "0ER5mSTxGSLP",
        "outputId": "4f43afba-2997-4500-9627-4cc93f708199"
      },
      "source": [
        "#Check the length of the text_list column\n",
        "\n",
        "len(nairobi_df3['text_list'])"
      ],
      "execution_count": 32,
      "outputs": [
        {
          "output_type": "execute_result",
          "data": {
            "text/plain": [
              "4173"
            ]
          },
          "metadata": {
            "tags": []
          },
          "execution_count": 32
        }
      ]
    },
    {
      "cell_type": "markdown",
      "metadata": {
        "id": "UyGOq1WJHJck"
      },
      "source": [
        "**Lemmatization & Stemming**\n",
        "\n",
        "#### English Language stemmers: only identify with English language text\n",
        "\n",
        "\n",
        "1.   Porter Stemmer; uses sufix stripping. does not keep a look-up table/dictionary for words\n",
        "2.   Snowball Stemmer; more agressive than porter stemmer. **NB:** *You must specify that you want the english language texts coz it also has a dictionary of other words*\n",
        "\n",
        "#### Other Language stemmers\n",
        "\n",
        "\n",
        "1.   ISRI Stemmer; Arabic Language\n",
        "2.   RSLP Stemmer; Portuguese Language\n",
        "1.   Lancaster Stemmer - is heavy. requires good memory of computer resources.\n",
        "2.   List item\n",
        "\n",
        "\n",
        "\n",
        "\n"
      ]
    },
    {
      "cell_type": "code",
      "metadata": {
        "id": "QMveSPymG_V5"
      },
      "source": [
        "#Preparing text for BOW: Remove stopwords & stem/Lemmatize\n",
        "\n",
        "def prep_text(text):\n",
        "  import nltk\n",
        "\n",
        "  #Remove HTML tags\n",
        "  my_text = BeautifulSoup(text, 'html.parser').get_text()\n",
        "\n",
        "  #Tokenize words\n",
        "  tokens = nltk.word_tokenize(my_text)\n",
        "\n",
        "  #Define Stopwords\n",
        "  stops = set(stopwords.words('english'))\n",
        "\n",
        "  #Remove the stopwords\n",
        "  words = [x for x in tokens if not x in stops]\n",
        "\n",
        "  #Stemming\n",
        "  stemmer = PorterStemmer()\n",
        "  stemmed_words = []\n",
        "  for i in range(0, len(words)):\n",
        "    l2 = ' '.join([stemmer.stem(word) for word in words])\n",
        "    stemmed_words.append(l2)\n",
        "\n",
        "  #words = [nltk.SnowballStemmer('english').stem(w) for w in words]\n",
        "\n",
        "  #Join the words back into one string separated by a space and return results\n",
        "  return stemmed_words"
      ],
      "execution_count": 33,
      "outputs": []
    },
    {
      "cell_type": "code",
      "metadata": {
        "id": "Ni2KMpLtMM9J"
      },
      "source": [
        "#Performing iterative preps on each of the statements\n",
        "nairobi_df3['text_stem'] = nairobi_df3['text'].apply(prep_text)"
      ],
      "execution_count": 34,
      "outputs": []
    },
    {
      "cell_type": "code",
      "metadata": {
        "colab": {
          "base_uri": "https://localhost:8080/",
          "height": 558
        },
        "id": "FsDSwHVSMqaq",
        "outputId": "d2922735-6359-4870-9c24-ef24a924a204"
      },
      "source": [
        "#View the stemmed words\n",
        "nairobi_df3.sample(6)"
      ],
      "execution_count": 35,
      "outputs": [
        {
          "output_type": "execute_result",
          "data": {
            "text/html": [
              "<div>\n",
              "<style scoped>\n",
              "    .dataframe tbody tr th:only-of-type {\n",
              "        vertical-align: middle;\n",
              "    }\n",
              "\n",
              "    .dataframe tbody tr th {\n",
              "        vertical-align: top;\n",
              "    }\n",
              "\n",
              "    .dataframe thead th {\n",
              "        text-align: right;\n",
              "    }\n",
              "</style>\n",
              "<table border=\"1\" class=\"dataframe\">\n",
              "  <thead>\n",
              "    <tr style=\"text-align: right;\">\n",
              "      <th></th>\n",
              "      <th>Unnamed: 0</th>\n",
              "      <th>unnamed: 0</th>\n",
              "      <th>unnamed: 0.1</th>\n",
              "      <th>datetime</th>\n",
              "      <th>text</th>\n",
              "      <th>retweets</th>\n",
              "      <th>likes</th>\n",
              "      <th>text_without_stopwords</th>\n",
              "      <th>text_list</th>\n",
              "      <th>text_stem</th>\n",
              "    </tr>\n",
              "  </thead>\n",
              "  <tbody>\n",
              "    <tr>\n",
              "      <th>1348</th>\n",
              "      <td>5338</td>\n",
              "      <td>495</td>\n",
              "      <td>495</td>\n",
              "      <td>2020-05-29 07:37:28+00:00</td>\n",
              "      <td>we love to see the excitement from our guests ...</td>\n",
              "      <td>1</td>\n",
              "      <td>5</td>\n",
              "      <td>['love', 'see', 'excitement', 'guests', 'lose'...</td>\n",
              "      <td>[we, love, to, see, the, excitement, from, our...</td>\n",
              "      <td>[love see excit guest lose delici meal choic 😋...</td>\n",
              "    </tr>\n",
              "    <tr>\n",
              "      <th>2976</th>\n",
              "      <td>6971</td>\n",
              "      <td>2128</td>\n",
              "      <td>2128</td>\n",
              "      <td>2020-04-08 18:49:50+00:00</td>\n",
              "      <td>during this time of  the world needs to come t...</td>\n",
              "      <td>0</td>\n",
              "      <td>1</td>\n",
              "      <td>['time', 'world', 'needs', 'come', 'together',...</td>\n",
              "      <td>[during, this, time, of, the, world, needs, to...</td>\n",
              "      <td>[time world need come togeth stay safe iron co...</td>\n",
              "    </tr>\n",
              "    <tr>\n",
              "      <th>1354</th>\n",
              "      <td>5345</td>\n",
              "      <td>502</td>\n",
              "      <td>502</td>\n",
              "      <td>2020-05-28 19:23:52+00:00</td>\n",
              "      <td>aquaengnoq wishing you quick recovery dr majak...</td>\n",
              "      <td>0</td>\n",
              "      <td>2</td>\n",
              "      <td>['aquaengnoq', 'wishing', 'quick', 'recovery',...</td>\n",
              "      <td>[aquaengnoq, wishing, you, quick, recovery, dr...</td>\n",
              "      <td>[aquaengnoq wish quick recoveri dr majak stay ...</td>\n",
              "    </tr>\n",
              "    <tr>\n",
              "      <th>942</th>\n",
              "      <td>4928</td>\n",
              "      <td>85</td>\n",
              "      <td>85</td>\n",
              "      <td>2020-07-14 09:38:24+00:00</td>\n",
              "      <td>hii corona imekita mizizi hapa nairobi treat e...</td>\n",
              "      <td>0</td>\n",
              "      <td>0</td>\n",
              "      <td>['hii', 'corona', 'imekita', 'mizizi', 'hapa',...</td>\n",
              "      <td>[hii, corona, imekita, mizizi, hapa, nairobi, ...</td>\n",
              "      <td>[hii corona imekita mizizi hapa nairobi treat ...</td>\n",
              "    </tr>\n",
              "    <tr>\n",
              "      <th>91</th>\n",
              "      <td>91</td>\n",
              "      <td>54</td>\n",
              "      <td>54</td>\n",
              "      <td>2020-05-16 16:18:50+00:00</td>\n",
              "      <td>people of tana river are crying or medicines t...</td>\n",
              "      <td>0</td>\n",
              "      <td>1</td>\n",
              "      <td>['people', 'tana', 'river', 'crying', 'medicin...</td>\n",
              "      <td>[people, of, tana, river, are, crying, or, med...</td>\n",
              "      <td>[peopl tana river cri medicin sad see countri ...</td>\n",
              "    </tr>\n",
              "    <tr>\n",
              "      <th>1326</th>\n",
              "      <td>5316</td>\n",
              "      <td>473</td>\n",
              "      <td>473</td>\n",
              "      <td>2020-05-30 13:28:18+00:00</td>\n",
              "      <td>sato alhamdulillah ukiskia johnte ni mteja  le...</td>\n",
              "      <td>0</td>\n",
              "      <td>0</td>\n",
              "      <td>['sato', 'alhamdulillah', 'ukiskia', 'johnte',...</td>\n",
              "      <td>[sato, alhamdulillah, ukiskia, johnte, ni, mte...</td>\n",
              "      <td>[sato alhamdulillah ukiskia johnt ni mteja leo...</td>\n",
              "    </tr>\n",
              "  </tbody>\n",
              "</table>\n",
              "</div>"
            ],
            "text/plain": [
              "      Unnamed: 0  ...                                          text_stem\n",
              "1348        5338  ...  [love see excit guest lose delici meal choic 😋...\n",
              "2976        6971  ...  [time world need come togeth stay safe iron co...\n",
              "1354        5345  ...  [aquaengnoq wish quick recoveri dr majak stay ...\n",
              "942         4928  ...  [hii corona imekita mizizi hapa nairobi treat ...\n",
              "91            91  ...  [peopl tana river cri medicin sad see countri ...\n",
              "1326        5316  ...  [sato alhamdulillah ukiskia johnt ni mteja leo...\n",
              "\n",
              "[6 rows x 10 columns]"
            ]
          },
          "metadata": {
            "tags": []
          },
          "execution_count": 35
        }
      ]
    },
    {
      "cell_type": "code",
      "metadata": {
        "colab": {
          "base_uri": "https://localhost:8080/",
          "height": 606
        },
        "id": "gttKWpn_WE-d",
        "outputId": "08d9e733-1c59-44ee-b781-1240b93eb43e"
      },
      "source": [
        "#Dropping the unnamed columns\n",
        "\n",
        "nairobi_df3.drop(['Unnamed: 0', 'unnamed: 0', 'unnamed: 0.1'], axis=1)\n"
      ],
      "execution_count": 36,
      "outputs": [
        {
          "output_type": "execute_result",
          "data": {
            "text/html": [
              "<div>\n",
              "<style scoped>\n",
              "    .dataframe tbody tr th:only-of-type {\n",
              "        vertical-align: middle;\n",
              "    }\n",
              "\n",
              "    .dataframe tbody tr th {\n",
              "        vertical-align: top;\n",
              "    }\n",
              "\n",
              "    .dataframe thead th {\n",
              "        text-align: right;\n",
              "    }\n",
              "</style>\n",
              "<table border=\"1\" class=\"dataframe\">\n",
              "  <thead>\n",
              "    <tr style=\"text-align: right;\">\n",
              "      <th></th>\n",
              "      <th>datetime</th>\n",
              "      <th>text</th>\n",
              "      <th>retweets</th>\n",
              "      <th>likes</th>\n",
              "      <th>text_without_stopwords</th>\n",
              "      <th>text_list</th>\n",
              "      <th>text_stem</th>\n",
              "    </tr>\n",
              "  </thead>\n",
              "  <tbody>\n",
              "    <tr>\n",
              "      <th>0</th>\n",
              "      <td>2020-06-06 19:28:03+00:00</td>\n",
              "      <td>mmetukosea sana sasa ningeenda hadi pahali gar...</td>\n",
              "      <td>0</td>\n",
              "      <td>2</td>\n",
              "      <td>['mmetukosea', 'sana', 'sasa', 'ningeenda', 'h...</td>\n",
              "      <td>[mmetukosea, sana, sasa, ningeenda, hadi, paha...</td>\n",
              "      <td>[mmetukosea sana sasa ningeenda hadi pahali ga...</td>\n",
              "    </tr>\n",
              "    <tr>\n",
              "      <th>1</th>\n",
              "      <td>2020-06-06 13:25:27+00:00</td>\n",
              "      <td>cant wait 🥰🥰  blacklivesmatter curfewinkenya w...</td>\n",
              "      <td>1</td>\n",
              "      <td>10</td>\n",
              "      <td>['cant', 'wait', '🥰🥰', 'blacklivesmatter', 'cu...</td>\n",
              "      <td>[cant, wait, 🥰🥰, blacklivesmatter, curfewinken...</td>\n",
              "      <td>[cant wait 🥰🥰 blacklivesmatt curfewinkenya wan...</td>\n",
              "    </tr>\n",
              "    <tr>\n",
              "      <th>2</th>\n",
              "      <td>2020-06-06 13:24:27+00:00</td>\n",
              "      <td>wakenya hawachoki na meme za uhuru😂😂 uhurukeny...</td>\n",
              "      <td>1</td>\n",
              "      <td>4</td>\n",
              "      <td>['wakenya', 'hawachoki', 'na', 'meme', 'za', '...</td>\n",
              "      <td>[wakenya, hawachoki, na, meme, za, uhuru😂😂, uh...</td>\n",
              "      <td>[wakenya hawachoki na meme za uhuru😂😂 uhuruken...</td>\n",
              "    </tr>\n",
              "    <tr>\n",
              "      <th>3</th>\n",
              "      <td>2020-06-06 13:03:01+00:00</td>\n",
              "      <td>fellow kenyans uhuruspeaks uhuruaddress</td>\n",
              "      <td>0</td>\n",
              "      <td>1</td>\n",
              "      <td>['fellow', 'kenyans', 'uhuruspeaks', 'uhuruadd...</td>\n",
              "      <td>[fellow, kenyans, uhuruspeaks, uhuruaddress]</td>\n",
              "      <td>[fellow kenyan uhuruspeak uhuruaddress, fellow...</td>\n",
              "    </tr>\n",
              "    <tr>\n",
              "      <th>4</th>\n",
              "      <td>2020-06-06 13:02:49+00:00</td>\n",
              "      <td>uhurukenyatta cessation of movement in nairobi...</td>\n",
              "      <td>0</td>\n",
              "      <td>2</td>\n",
              "      <td>['uhurukenyatta', 'cessation', 'movement', 'na...</td>\n",
              "      <td>[uhurukenyatta, cessation, of, movement, in, n...</td>\n",
              "      <td>[uhurukenyatta cessat movement nairobi mombasa...</td>\n",
              "    </tr>\n",
              "    <tr>\n",
              "      <th>...</th>\n",
              "      <td>...</td>\n",
              "      <td>...</td>\n",
              "      <td>...</td>\n",
              "      <td>...</td>\n",
              "      <td>...</td>\n",
              "      <td>...</td>\n",
              "      <td>...</td>\n",
              "    </tr>\n",
              "    <tr>\n",
              "      <th>4168</th>\n",
              "      <td>2020-05-29 06:34:32+00:00</td>\n",
              "      <td>theres nothing like making a tough choice when...</td>\n",
              "      <td>0</td>\n",
              "      <td>0</td>\n",
              "      <td>['theres', 'nothing', 'like', 'making', 'tough...</td>\n",
              "      <td>[theres, nothing, like, making, a, tough, choi...</td>\n",
              "      <td>[there noth like make tough choic come open ec...</td>\n",
              "    </tr>\n",
              "    <tr>\n",
              "      <th>4169</th>\n",
              "      <td>2020-05-29 06:20:25+00:00</td>\n",
              "      <td>president uhuru kenyatta made it clear thats t...</td>\n",
              "      <td>0</td>\n",
              "      <td>2</td>\n",
              "      <td>['president', 'uhuru', 'kenyatta', 'made', 'cl...</td>\n",
              "      <td>[president, uhuru, kenyatta, made, it, clear, ...</td>\n",
              "      <td>[presid uhuru kenyatta made clear that engag c...</td>\n",
              "    </tr>\n",
              "    <tr>\n",
              "      <th>4170</th>\n",
              "      <td>2020-05-29 06:03:22+00:00</td>\n",
              "      <td>uhurustoughchoices mlisema huyu ni mtoto wa na...</td>\n",
              "      <td>0</td>\n",
              "      <td>0</td>\n",
              "      <td>['uhurustoughchoices', 'mlisema', 'huyu', 'ni'...</td>\n",
              "      <td>[uhurustoughchoices, mlisema, huyu, ni, mtoto,...</td>\n",
              "      <td>[uhurustoughchoic mlisema huyu ni mtoto wa nan...</td>\n",
              "    </tr>\n",
              "    <tr>\n",
              "      <th>4171</th>\n",
              "      <td>2020-05-29 05:19:20+00:00</td>\n",
              "      <td>among other tough choices uhuru must make is g...</td>\n",
              "      <td>3</td>\n",
              "      <td>4</td>\n",
              "      <td>['among', 'tough', 'choices', 'uhuru', 'must',...</td>\n",
              "      <td>[among, other, tough, choices, uhuru, must, ma...</td>\n",
              "      <td>[among tough choic uhuru must make get compet ...</td>\n",
              "    </tr>\n",
              "    <tr>\n",
              "      <th>4172</th>\n",
              "      <td>2020-05-27 18:59:53+00:00</td>\n",
              "      <td>pandemic perforated pockets plunging economy p...</td>\n",
              "      <td>1</td>\n",
              "      <td>6</td>\n",
              "      <td>['pandemic', 'perforated', 'pockets', 'plungin...</td>\n",
              "      <td>[pandemic, perforated, pockets, plunging, econ...</td>\n",
              "      <td>[pandem perfor pocket plung economi presid pie...</td>\n",
              "    </tr>\n",
              "  </tbody>\n",
              "</table>\n",
              "<p>4173 rows × 7 columns</p>\n",
              "</div>"
            ],
            "text/plain": [
              "                       datetime  ...                                          text_stem\n",
              "0     2020-06-06 19:28:03+00:00  ...  [mmetukosea sana sasa ningeenda hadi pahali ga...\n",
              "1     2020-06-06 13:25:27+00:00  ...  [cant wait 🥰🥰 blacklivesmatt curfewinkenya wan...\n",
              "2     2020-06-06 13:24:27+00:00  ...  [wakenya hawachoki na meme za uhuru😂😂 uhuruken...\n",
              "3     2020-06-06 13:03:01+00:00  ...  [fellow kenyan uhuruspeak uhuruaddress, fellow...\n",
              "4     2020-06-06 13:02:49+00:00  ...  [uhurukenyatta cessat movement nairobi mombasa...\n",
              "...                         ...  ...                                                ...\n",
              "4168  2020-05-29 06:34:32+00:00  ...  [there noth like make tough choic come open ec...\n",
              "4169  2020-05-29 06:20:25+00:00  ...  [presid uhuru kenyatta made clear that engag c...\n",
              "4170  2020-05-29 06:03:22+00:00  ...  [uhurustoughchoic mlisema huyu ni mtoto wa nan...\n",
              "4171  2020-05-29 05:19:20+00:00  ...  [among tough choic uhuru must make get compet ...\n",
              "4172  2020-05-27 18:59:53+00:00  ...  [pandem perfor pocket plung economi presid pie...\n",
              "\n",
              "[4173 rows x 7 columns]"
            ]
          },
          "metadata": {
            "tags": []
          },
          "execution_count": 36
        }
      ]
    },
    {
      "cell_type": "code",
      "metadata": {
        "colab": {
          "base_uri": "https://localhost:8080/",
          "height": 481
        },
        "id": "dZ9hFRFDY2lZ",
        "outputId": "43f2f106-110c-4fae-a976-433a4da34192"
      },
      "source": [
        "#Display the most common words after stemming\n",
        "\n",
        "nairobi_df3['text_stem'] = nairobi_df3['text_stem'].apply(lambda x:str(x).split()) #Use tokenize or split, smae results\n",
        "top = Counter([item for sublist in nairobi_df3['text_stem'] for item in sublist]) #Counts the frequency of words\n",
        "temp = pd.DataFrame(top.most_common(21)) #top twenty words\n",
        "temp.columns = ['common_words', 'count']\n",
        "temp.style.background_gradient(cmap = 'Blues')"
      ],
      "execution_count": 37,
      "outputs": [
        {
          "output_type": "execute_result",
          "data": {
            "text/html": [
              "<style  type=\"text/css\" >\n",
              "#T_cf8d2d8a_85fa_11eb_80a6_0242ac1c0002row0_col1{\n",
              "            background-color:  #08306b;\n",
              "            color:  #f1f1f1;\n",
              "        }#T_cf8d2d8a_85fa_11eb_80a6_0242ac1c0002row1_col1{\n",
              "            background-color:  #2272b6;\n",
              "            color:  #f1f1f1;\n",
              "        }#T_cf8d2d8a_85fa_11eb_80a6_0242ac1c0002row2_col1{\n",
              "            background-color:  #3787c0;\n",
              "            color:  #000000;\n",
              "        }#T_cf8d2d8a_85fa_11eb_80a6_0242ac1c0002row3_col1{\n",
              "            background-color:  #d0e2f2;\n",
              "            color:  #000000;\n",
              "        }#T_cf8d2d8a_85fa_11eb_80a6_0242ac1c0002row4_col1{\n",
              "            background-color:  #d5e5f4;\n",
              "            color:  #000000;\n",
              "        }#T_cf8d2d8a_85fa_11eb_80a6_0242ac1c0002row5_col1{\n",
              "            background-color:  #d7e6f5;\n",
              "            color:  #000000;\n",
              "        }#T_cf8d2d8a_85fa_11eb_80a6_0242ac1c0002row6_col1{\n",
              "            background-color:  #d8e7f5;\n",
              "            color:  #000000;\n",
              "        }#T_cf8d2d8a_85fa_11eb_80a6_0242ac1c0002row7_col1{\n",
              "            background-color:  #dceaf6;\n",
              "            color:  #000000;\n",
              "        }#T_cf8d2d8a_85fa_11eb_80a6_0242ac1c0002row8_col1{\n",
              "            background-color:  #dfebf7;\n",
              "            color:  #000000;\n",
              "        }#T_cf8d2d8a_85fa_11eb_80a6_0242ac1c0002row9_col1{\n",
              "            background-color:  #e6f0f9;\n",
              "            color:  #000000;\n",
              "        }#T_cf8d2d8a_85fa_11eb_80a6_0242ac1c0002row10_col1{\n",
              "            background-color:  #edf4fc;\n",
              "            color:  #000000;\n",
              "        }#T_cf8d2d8a_85fa_11eb_80a6_0242ac1c0002row11_col1{\n",
              "            background-color:  #eef5fc;\n",
              "            color:  #000000;\n",
              "        }#T_cf8d2d8a_85fa_11eb_80a6_0242ac1c0002row12_col1,#T_cf8d2d8a_85fa_11eb_80a6_0242ac1c0002row13_col1{\n",
              "            background-color:  #f1f7fd;\n",
              "            color:  #000000;\n",
              "        }#T_cf8d2d8a_85fa_11eb_80a6_0242ac1c0002row14_col1,#T_cf8d2d8a_85fa_11eb_80a6_0242ac1c0002row15_col1{\n",
              "            background-color:  #f2f8fd;\n",
              "            color:  #000000;\n",
              "        }#T_cf8d2d8a_85fa_11eb_80a6_0242ac1c0002row16_col1,#T_cf8d2d8a_85fa_11eb_80a6_0242ac1c0002row17_col1{\n",
              "            background-color:  #f3f8fe;\n",
              "            color:  #000000;\n",
              "        }#T_cf8d2d8a_85fa_11eb_80a6_0242ac1c0002row18_col1{\n",
              "            background-color:  #f4f9fe;\n",
              "            color:  #000000;\n",
              "        }#T_cf8d2d8a_85fa_11eb_80a6_0242ac1c0002row19_col1,#T_cf8d2d8a_85fa_11eb_80a6_0242ac1c0002row20_col1{\n",
              "            background-color:  #f7fbff;\n",
              "            color:  #000000;\n",
              "        }</style><table id=\"T_cf8d2d8a_85fa_11eb_80a6_0242ac1c0002\" ><thead>    <tr>        <th class=\"blank level0\" ></th>        <th class=\"col_heading level0 col0\" >common_words</th>        <th class=\"col_heading level0 col1\" >count</th>    </tr></thead><tbody>\n",
              "                <tr>\n",
              "                        <th id=\"T_cf8d2d8a_85fa_11eb_80a6_0242ac1c0002level0_row0\" class=\"row_heading level0 row0\" >0</th>\n",
              "                        <td id=\"T_cf8d2d8a_85fa_11eb_80a6_0242ac1c0002row0_col0\" class=\"data row0 col0\" >stay</td>\n",
              "                        <td id=\"T_cf8d2d8a_85fa_11eb_80a6_0242ac1c0002row0_col1\" class=\"data row0 col1\" >20410</td>\n",
              "            </tr>\n",
              "            <tr>\n",
              "                        <th id=\"T_cf8d2d8a_85fa_11eb_80a6_0242ac1c0002level0_row1\" class=\"row_heading level0 row1\" >1</th>\n",
              "                        <td id=\"T_cf8d2d8a_85fa_11eb_80a6_0242ac1c0002row1_col0\" class=\"data row1 col0\" >safe</td>\n",
              "                        <td id=\"T_cf8d2d8a_85fa_11eb_80a6_0242ac1c0002row1_col1\" class=\"data row1 col1\" >15923</td>\n",
              "            </tr>\n",
              "            <tr>\n",
              "                        <th id=\"T_cf8d2d8a_85fa_11eb_80a6_0242ac1c0002level0_row2\" class=\"row_heading level0 row2\" >2</th>\n",
              "                        <td id=\"T_cf8d2d8a_85fa_11eb_80a6_0242ac1c0002row2_col0\" class=\"data row2 col0\" >staysaf</td>\n",
              "                        <td id=\"T_cf8d2d8a_85fa_11eb_80a6_0242ac1c0002row2_col1\" class=\"data row2 col1\" >14571</td>\n",
              "            </tr>\n",
              "            <tr>\n",
              "                        <th id=\"T_cf8d2d8a_85fa_11eb_80a6_0242ac1c0002level0_row3\" class=\"row_heading level0 row3\" >3</th>\n",
              "                        <td id=\"T_cf8d2d8a_85fa_11eb_80a6_0242ac1c0002row3_col0\" class=\"data row3 col0\" >stayhom</td>\n",
              "                        <td id=\"T_cf8d2d8a_85fa_11eb_80a6_0242ac1c0002row3_col1\" class=\"data row3 col1\" >6393</td>\n",
              "            </tr>\n",
              "            <tr>\n",
              "                        <th id=\"T_cf8d2d8a_85fa_11eb_80a6_0242ac1c0002level0_row4\" class=\"row_heading level0 row4\" >4</th>\n",
              "                        <td id=\"T_cf8d2d8a_85fa_11eb_80a6_0242ac1c0002row4_col0\" class=\"data row4 col0\" >us</td>\n",
              "                        <td id=\"T_cf8d2d8a_85fa_11eb_80a6_0242ac1c0002row4_col1\" class=\"data row4 col1\" >5988</td>\n",
              "            </tr>\n",
              "            <tr>\n",
              "                        <th id=\"T_cf8d2d8a_85fa_11eb_80a6_0242ac1c0002level0_row5\" class=\"row_heading level0 row5\" >5</th>\n",
              "                        <td id=\"T_cf8d2d8a_85fa_11eb_80a6_0242ac1c0002row5_col0\" class=\"data row5 col0\" >’</td>\n",
              "                        <td id=\"T_cf8d2d8a_85fa_11eb_80a6_0242ac1c0002row5_col1\" class=\"data row5 col1\" >5824</td>\n",
              "            </tr>\n",
              "            <tr>\n",
              "                        <th id=\"T_cf8d2d8a_85fa_11eb_80a6_0242ac1c0002level0_row6\" class=\"row_heading level0 row6\" >6</th>\n",
              "                        <td id=\"T_cf8d2d8a_85fa_11eb_80a6_0242ac1c0002row6_col0\" class=\"data row6 col0\" >home</td>\n",
              "                        <td id=\"T_cf8d2d8a_85fa_11eb_80a6_0242ac1c0002row6_col1\" class=\"data row6 col1\" >5739</td>\n",
              "            </tr>\n",
              "            <tr>\n",
              "                        <th id=\"T_cf8d2d8a_85fa_11eb_80a6_0242ac1c0002level0_row7\" class=\"row_heading level0 row7\" >7</th>\n",
              "                        <td id=\"T_cf8d2d8a_85fa_11eb_80a6_0242ac1c0002row7_col0\" class=\"data row7 col0\" >amp</td>\n",
              "                        <td id=\"T_cf8d2d8a_85fa_11eb_80a6_0242ac1c0002row7_col1\" class=\"data row7 col1\" >5348</td>\n",
              "            </tr>\n",
              "            <tr>\n",
              "                        <th id=\"T_cf8d2d8a_85fa_11eb_80a6_0242ac1c0002level0_row8\" class=\"row_heading level0 row8\" >8</th>\n",
              "                        <td id=\"T_cf8d2d8a_85fa_11eb_80a6_0242ac1c0002row8_col0\" class=\"data row8 col0\" >staysaf',</td>\n",
              "                        <td id=\"T_cf8d2d8a_85fa_11eb_80a6_0242ac1c0002row8_col1\" class=\"data row8 col1\" >5111</td>\n",
              "            </tr>\n",
              "            <tr>\n",
              "                        <th id=\"T_cf8d2d8a_85fa_11eb_80a6_0242ac1c0002level0_row9\" class=\"row_heading level0 row9\" >9</th>\n",
              "                        <td id=\"T_cf8d2d8a_85fa_11eb_80a6_0242ac1c0002row9_col0\" class=\"data row9 col0\" >curfewinkenya</td>\n",
              "                        <td id=\"T_cf8d2d8a_85fa_11eb_80a6_0242ac1c0002row9_col1\" class=\"data row9 col1\" >4516</td>\n",
              "            </tr>\n",
              "            <tr>\n",
              "                        <th id=\"T_cf8d2d8a_85fa_11eb_80a6_0242ac1c0002level0_row10\" class=\"row_heading level0 row10\" >10</th>\n",
              "                        <td id=\"T_cf8d2d8a_85fa_11eb_80a6_0242ac1c0002row10_col0\" class=\"data row10 col0\" >time</td>\n",
              "                        <td id=\"T_cf8d2d8a_85fa_11eb_80a6_0242ac1c0002row10_col1\" class=\"data row10 col1\" >3922</td>\n",
              "            </tr>\n",
              "            <tr>\n",
              "                        <th id=\"T_cf8d2d8a_85fa_11eb_80a6_0242ac1c0002level0_row11\" class=\"row_heading level0 row11\" >11</th>\n",
              "                        <td id=\"T_cf8d2d8a_85fa_11eb_80a6_0242ac1c0002row11_col0\" class=\"data row11 col0\" >keep</td>\n",
              "                        <td id=\"T_cf8d2d8a_85fa_11eb_80a6_0242ac1c0002row11_col1\" class=\"data row11 col1\" >3833</td>\n",
              "            </tr>\n",
              "            <tr>\n",
              "                        <th id=\"T_cf8d2d8a_85fa_11eb_80a6_0242ac1c0002level0_row12\" class=\"row_heading level0 row12\" >12</th>\n",
              "                        <td id=\"T_cf8d2d8a_85fa_11eb_80a6_0242ac1c0002row12_col0\" class=\"data row12 col0\" >happi</td>\n",
              "                        <td id=\"T_cf8d2d8a_85fa_11eb_80a6_0242ac1c0002row12_col1\" class=\"data row12 col1\" >3542</td>\n",
              "            </tr>\n",
              "            <tr>\n",
              "                        <th id=\"T_cf8d2d8a_85fa_11eb_80a6_0242ac1c0002level0_row13\" class=\"row_heading level0 row13\" >13</th>\n",
              "                        <td id=\"T_cf8d2d8a_85fa_11eb_80a6_0242ac1c0002row13_col0\" class=\"data row13 col0\" >peopl</td>\n",
              "                        <td id=\"T_cf8d2d8a_85fa_11eb_80a6_0242ac1c0002row13_col1\" class=\"data row13 col1\" >3529</td>\n",
              "            </tr>\n",
              "            <tr>\n",
              "                        <th id=\"T_cf8d2d8a_85fa_11eb_80a6_0242ac1c0002level0_row14\" class=\"row_heading level0 row14\" >14</th>\n",
              "                        <td id=\"T_cf8d2d8a_85fa_11eb_80a6_0242ac1c0002row14_col0\" class=\"data row14 col0\" >day</td>\n",
              "                        <td id=\"T_cf8d2d8a_85fa_11eb_80a6_0242ac1c0002row14_col1\" class=\"data row14 col1\" >3445</td>\n",
              "            </tr>\n",
              "            <tr>\n",
              "                        <th id=\"T_cf8d2d8a_85fa_11eb_80a6_0242ac1c0002level0_row15\" class=\"row_heading level0 row15\" >15</th>\n",
              "                        <td id=\"T_cf8d2d8a_85fa_11eb_80a6_0242ac1c0002row15_col0\" class=\"data row15 col0\" >let</td>\n",
              "                        <td id=\"T_cf8d2d8a_85fa_11eb_80a6_0242ac1c0002row15_col1\" class=\"data row15 col1\" >3437</td>\n",
              "            </tr>\n",
              "            <tr>\n",
              "                        <th id=\"T_cf8d2d8a_85fa_11eb_80a6_0242ac1c0002level0_row16\" class=\"row_heading level0 row16\" >16</th>\n",
              "                        <td id=\"T_cf8d2d8a_85fa_11eb_80a6_0242ac1c0002row16_col0\" class=\"data row16 col0\" >kenya</td>\n",
              "                        <td id=\"T_cf8d2d8a_85fa_11eb_80a6_0242ac1c0002row16_col1\" class=\"data row16 col1\" >3376</td>\n",
              "            </tr>\n",
              "            <tr>\n",
              "                        <th id=\"T_cf8d2d8a_85fa_11eb_80a6_0242ac1c0002level0_row17\" class=\"row_heading level0 row17\" >17</th>\n",
              "                        <td id=\"T_cf8d2d8a_85fa_11eb_80a6_0242ac1c0002row17_col0\" class=\"data row17 col0\" >safe',</td>\n",
              "                        <td id=\"T_cf8d2d8a_85fa_11eb_80a6_0242ac1c0002row17_col1\" class=\"data row17 col1\" >3367</td>\n",
              "            </tr>\n",
              "            <tr>\n",
              "                        <th id=\"T_cf8d2d8a_85fa_11eb_80a6_0242ac1c0002level0_row18\" class=\"row_heading level0 row18\" >18</th>\n",
              "                        <td id=\"T_cf8d2d8a_85fa_11eb_80a6_0242ac1c0002row18_col0\" class=\"data row18 col0\" >curfewinkenya',</td>\n",
              "                        <td id=\"T_cf8d2d8a_85fa_11eb_80a6_0242ac1c0002row18_col1\" class=\"data row18 col1\" >3297</td>\n",
              "            </tr>\n",
              "            <tr>\n",
              "                        <th id=\"T_cf8d2d8a_85fa_11eb_80a6_0242ac1c0002level0_row19\" class=\"row_heading level0 row19\" >19</th>\n",
              "                        <td id=\"T_cf8d2d8a_85fa_11eb_80a6_0242ac1c0002row19_col0\" class=\"data row19 col0\" >love</td>\n",
              "                        <td id=\"T_cf8d2d8a_85fa_11eb_80a6_0242ac1c0002row19_col1\" class=\"data row19 col1\" >3026</td>\n",
              "            </tr>\n",
              "            <tr>\n",
              "                        <th id=\"T_cf8d2d8a_85fa_11eb_80a6_0242ac1c0002level0_row20\" class=\"row_heading level0 row20\" >20</th>\n",
              "                        <td id=\"T_cf8d2d8a_85fa_11eb_80a6_0242ac1c0002row20_col0\" class=\"data row20 col0\" >new</td>\n",
              "                        <td id=\"T_cf8d2d8a_85fa_11eb_80a6_0242ac1c0002row20_col1\" class=\"data row20 col1\" >2975</td>\n",
              "            </tr>\n",
              "    </tbody></table>"
            ],
            "text/plain": [
              "<pandas.io.formats.style.Styler at 0x7fcca94e0190>"
            ]
          },
          "metadata": {
            "tags": []
          },
          "execution_count": 37
        }
      ]
    },
    {
      "cell_type": "markdown",
      "metadata": {
        "id": "pQy-lr0P3oCV"
      },
      "source": [
        "**Emotions**"
      ]
    },
    {
      "cell_type": "code",
      "metadata": {
        "id": "pax-ANgx1YEC",
        "outputId": "580c9631-88a4-4dab-94ba-a4243aa41a52",
        "colab": {
          "base_uri": "https://localhost:8080/"
        }
      },
      "source": [
        "#Convert the text_stem column to string type. nrclext only takes input of type str\n",
        "\n",
        "nairobi_df3['text_stem'] = nairobi_df3['text_stem'].astype(str)\n",
        "\n",
        "#Create a text object\n",
        "text_object = NRCLex(' '.join(nairobi_df3['text_stem']))\n",
        "\n",
        "#List emotional affect frequencies\n",
        "\n",
        "text_object.affect_frequencies"
      ],
      "execution_count": 68,
      "outputs": [
        {
          "output_type": "execute_result",
          "data": {
            "text/plain": [
              "{'anger': 0.015344784036372822,\n",
              " 'anticip': 0.0,\n",
              " 'anticipation': 0.10444556706238949,\n",
              " 'disgust': 0.0126610255114928,\n",
              " 'fear': 0.029237181106339986,\n",
              " 'joy': 0.20743874715837332,\n",
              " 'negative': 0.049223288709270015,\n",
              " 'positive': 0.2769638797676181,\n",
              " 'sadness': 0.018502147006819902,\n",
              " 'surprise': 0.054496084869916646,\n",
              " 'trust': 0.23168729477140693}"
            ]
          },
          "metadata": {
            "tags": []
          },
          "execution_count": 68
        }
      ]
    },
    {
      "cell_type": "code",
      "metadata": {
        "id": "RDl6u2lT3Tu3",
        "outputId": "3b6d43bf-f197-47af-fa64-742a18caeb62",
        "colab": {
          "base_uri": "https://localhost:8080/"
        }
      },
      "source": [
        "#Display the top emotions\n",
        "\n",
        "text_object.top_emotions"
      ],
      "execution_count": 69,
      "outputs": [
        {
          "output_type": "execute_result",
          "data": {
            "text/plain": [
              "[('positive', 0.2769638797676181)]"
            ]
          },
          "metadata": {
            "tags": []
          },
          "execution_count": 69
        }
      ]
    },
    {
      "cell_type": "code",
      "metadata": {
        "id": "ea4LMfsv8Hxn",
        "outputId": "944f88d1-f204-40f1-bab7-364143f636b8",
        "colab": {
          "base_uri": "https://localhost:8080/"
        }
      },
      "source": [
        "sentiment = sentiment_scores['Sentiment'].to_list()\n",
        "sentiment"
      ],
      "execution_count": 70,
      "outputs": [
        {
          "output_type": "execute_result",
          "data": {
            "text/plain": [
              "['anger',\n",
              " 'anticipation',\n",
              " 'disgust',\n",
              " 'fear',\n",
              " 'joy',\n",
              " 'negative',\n",
              " 'positive',\n",
              " 'sadness',\n",
              " 'surprise',\n",
              " 'trust']"
            ]
          },
          "metadata": {
            "tags": []
          },
          "execution_count": 70
        }
      ]
    },
    {
      "cell_type": "code",
      "metadata": {
        "id": "ctHSynnA4I90",
        "outputId": "1f45ea15-ec0b-49cf-bf63-4599f7d94b1a",
        "colab": {
          "base_uri": "https://localhost:8080/",
          "height": 359
        }
      },
      "source": [
        "#Create a list from the  text object\n",
        "\n",
        "sentiment_scores = pd.DataFrame(list(text_object.raw_emotion_scores.items())) \n",
        "\n",
        "#Create a dataframe of two columns\n",
        "\n",
        "sentiment_scores = sentiment_scores.rename(columns={0: \"Sentiment\", 1: \"Count\"})\n",
        "sentiment_scores"
      ],
      "execution_count": 71,
      "outputs": [
        {
          "output_type": "execute_result",
          "data": {
            "text/html": [
              "<div>\n",
              "<style scoped>\n",
              "    .dataframe tbody tr th:only-of-type {\n",
              "        vertical-align: middle;\n",
              "    }\n",
              "\n",
              "    .dataframe tbody tr th {\n",
              "        vertical-align: top;\n",
              "    }\n",
              "\n",
              "    .dataframe thead th {\n",
              "        text-align: right;\n",
              "    }\n",
              "</style>\n",
              "<table border=\"1\" class=\"dataframe\">\n",
              "  <thead>\n",
              "    <tr style=\"text-align: right;\">\n",
              "      <th></th>\n",
              "      <th>Sentiment</th>\n",
              "      <th>Count</th>\n",
              "    </tr>\n",
              "  </thead>\n",
              "  <tbody>\n",
              "    <tr>\n",
              "      <th>0</th>\n",
              "      <td>positive</td>\n",
              "      <td>8772</td>\n",
              "    </tr>\n",
              "    <tr>\n",
              "      <th>1</th>\n",
              "      <td>trust</td>\n",
              "      <td>7338</td>\n",
              "    </tr>\n",
              "    <tr>\n",
              "      <th>2</th>\n",
              "      <td>anger</td>\n",
              "      <td>486</td>\n",
              "    </tr>\n",
              "    <tr>\n",
              "      <th>3</th>\n",
              "      <td>fear</td>\n",
              "      <td>926</td>\n",
              "    </tr>\n",
              "    <tr>\n",
              "      <th>4</th>\n",
              "      <td>negative</td>\n",
              "      <td>1559</td>\n",
              "    </tr>\n",
              "    <tr>\n",
              "      <th>5</th>\n",
              "      <td>sadness</td>\n",
              "      <td>586</td>\n",
              "    </tr>\n",
              "    <tr>\n",
              "      <th>6</th>\n",
              "      <td>disgust</td>\n",
              "      <td>401</td>\n",
              "    </tr>\n",
              "    <tr>\n",
              "      <th>7</th>\n",
              "      <td>anticipation</td>\n",
              "      <td>3308</td>\n",
              "    </tr>\n",
              "    <tr>\n",
              "      <th>8</th>\n",
              "      <td>joy</td>\n",
              "      <td>6570</td>\n",
              "    </tr>\n",
              "    <tr>\n",
              "      <th>9</th>\n",
              "      <td>surprise</td>\n",
              "      <td>1726</td>\n",
              "    </tr>\n",
              "  </tbody>\n",
              "</table>\n",
              "</div>"
            ],
            "text/plain": [
              "      Sentiment  Count\n",
              "0      positive   8772\n",
              "1         trust   7338\n",
              "2         anger    486\n",
              "3          fear    926\n",
              "4      negative   1559\n",
              "5       sadness    586\n",
              "6       disgust    401\n",
              "7  anticipation   3308\n",
              "8           joy   6570\n",
              "9      surprise   1726"
            ]
          },
          "metadata": {
            "tags": []
          },
          "execution_count": 71
        }
      ]
    },
    {
      "cell_type": "code",
      "metadata": {
        "id": "JekGRQKd46tA",
        "outputId": "b79b02ed-f7fb-4a43-e462-d952940cd471",
        "colab": {
          "base_uri": "https://localhost:8080/",
          "height": 542
        }
      },
      "source": [
        "#A Pie Chart of the sentiment sentiment_scores\n",
        "\n",
        "fig = px.pie(sentiment_scores, values='Count', names='Sentiment',\n",
        "             title='Sentiment Scores',\n",
        "             hover_data=['Sentiment'])\n",
        "fig.update_traces(textposition='inside', textinfo='percent+label')\n",
        "fig.show()"
      ],
      "execution_count": 72,
      "outputs": [
        {
          "output_type": "display_data",
          "data": {
            "text/html": [
              "<html>\n",
              "<head><meta charset=\"utf-8\" /></head>\n",
              "<body>\n",
              "    <div>\n",
              "            <script src=\"https://cdnjs.cloudflare.com/ajax/libs/mathjax/2.7.5/MathJax.js?config=TeX-AMS-MML_SVG\"></script><script type=\"text/javascript\">if (window.MathJax) {MathJax.Hub.Config({SVG: {font: \"STIX-Web\"}});}</script>\n",
              "                <script type=\"text/javascript\">window.PlotlyConfig = {MathJaxConfig: 'local'};</script>\n",
              "        <script src=\"https://cdn.plot.ly/plotly-latest.min.js\"></script>    \n",
              "            <div id=\"d65044ad-fff4-4c67-865c-1c2026dc5761\" class=\"plotly-graph-div\" style=\"height:525px; width:100%;\"></div>\n",
              "            <script type=\"text/javascript\">\n",
              "                \n",
              "                    window.PLOTLYENV=window.PLOTLYENV || {};\n",
              "                    \n",
              "                if (document.getElementById(\"d65044ad-fff4-4c67-865c-1c2026dc5761\")) {\n",
              "                    Plotly.newPlot(\n",
              "                        'd65044ad-fff4-4c67-865c-1c2026dc5761',\n",
              "                        [{\"customdata\": [[\"positive\"], [\"trust\"], [\"anger\"], [\"fear\"], [\"negative\"], [\"sadness\"], [\"disgust\"], [\"anticipation\"], [\"joy\"], [\"surprise\"]], \"domain\": {\"x\": [0.0, 1.0], \"y\": [0.0, 1.0]}, \"hoverlabel\": {\"namelength\": 0}, \"hovertemplate\": \"Sentiment=%{label}<br>Count=%{value}\", \"labels\": [\"positive\", \"trust\", \"anger\", \"fear\", \"negative\", \"sadness\", \"disgust\", \"anticipation\", \"joy\", \"surprise\"], \"legendgroup\": \"\", \"name\": \"\", \"showlegend\": true, \"textinfo\": \"percent+label\", \"textposition\": \"inside\", \"type\": \"pie\", \"values\": [8772, 7338, 486, 926, 1559, 586, 401, 3308, 6570, 1726]}],\n",
              "                        {\"legend\": {\"tracegroupgap\": 0}, \"template\": {\"data\": {\"bar\": [{\"error_x\": {\"color\": \"#2a3f5f\"}, \"error_y\": {\"color\": \"#2a3f5f\"}, \"marker\": {\"line\": {\"color\": \"#E5ECF6\", \"width\": 0.5}}, \"type\": \"bar\"}], \"barpolar\": [{\"marker\": {\"line\": {\"color\": \"#E5ECF6\", \"width\": 0.5}}, \"type\": \"barpolar\"}], \"carpet\": [{\"aaxis\": {\"endlinecolor\": \"#2a3f5f\", \"gridcolor\": \"white\", \"linecolor\": \"white\", \"minorgridcolor\": \"white\", \"startlinecolor\": \"#2a3f5f\"}, \"baxis\": {\"endlinecolor\": \"#2a3f5f\", \"gridcolor\": \"white\", \"linecolor\": \"white\", \"minorgridcolor\": \"white\", \"startlinecolor\": \"#2a3f5f\"}, \"type\": \"carpet\"}], \"choropleth\": [{\"colorbar\": {\"outlinewidth\": 0, \"ticks\": \"\"}, \"type\": \"choropleth\"}], \"contour\": [{\"colorbar\": {\"outlinewidth\": 0, \"ticks\": \"\"}, \"colorscale\": [[0.0, \"#0d0887\"], [0.1111111111111111, \"#46039f\"], [0.2222222222222222, \"#7201a8\"], [0.3333333333333333, \"#9c179e\"], [0.4444444444444444, \"#bd3786\"], [0.5555555555555556, \"#d8576b\"], [0.6666666666666666, \"#ed7953\"], [0.7777777777777778, \"#fb9f3a\"], [0.8888888888888888, \"#fdca26\"], [1.0, \"#f0f921\"]], \"type\": \"contour\"}], \"contourcarpet\": [{\"colorbar\": {\"outlinewidth\": 0, \"ticks\": \"\"}, \"type\": \"contourcarpet\"}], \"heatmap\": [{\"colorbar\": {\"outlinewidth\": 0, \"ticks\": \"\"}, \"colorscale\": [[0.0, \"#0d0887\"], [0.1111111111111111, \"#46039f\"], [0.2222222222222222, \"#7201a8\"], [0.3333333333333333, \"#9c179e\"], [0.4444444444444444, \"#bd3786\"], [0.5555555555555556, \"#d8576b\"], [0.6666666666666666, \"#ed7953\"], [0.7777777777777778, \"#fb9f3a\"], [0.8888888888888888, \"#fdca26\"], [1.0, \"#f0f921\"]], \"type\": \"heatmap\"}], \"heatmapgl\": [{\"colorbar\": {\"outlinewidth\": 0, \"ticks\": \"\"}, \"colorscale\": [[0.0, \"#0d0887\"], [0.1111111111111111, \"#46039f\"], [0.2222222222222222, \"#7201a8\"], [0.3333333333333333, \"#9c179e\"], [0.4444444444444444, \"#bd3786\"], [0.5555555555555556, \"#d8576b\"], [0.6666666666666666, \"#ed7953\"], [0.7777777777777778, \"#fb9f3a\"], [0.8888888888888888, \"#fdca26\"], [1.0, \"#f0f921\"]], \"type\": \"heatmapgl\"}], \"histogram\": [{\"marker\": {\"colorbar\": {\"outlinewidth\": 0, \"ticks\": \"\"}}, \"type\": \"histogram\"}], \"histogram2d\": [{\"colorbar\": {\"outlinewidth\": 0, \"ticks\": \"\"}, \"colorscale\": [[0.0, \"#0d0887\"], [0.1111111111111111, \"#46039f\"], [0.2222222222222222, \"#7201a8\"], [0.3333333333333333, \"#9c179e\"], [0.4444444444444444, \"#bd3786\"], [0.5555555555555556, \"#d8576b\"], [0.6666666666666666, \"#ed7953\"], [0.7777777777777778, \"#fb9f3a\"], [0.8888888888888888, \"#fdca26\"], [1.0, \"#f0f921\"]], \"type\": \"histogram2d\"}], \"histogram2dcontour\": [{\"colorbar\": {\"outlinewidth\": 0, \"ticks\": \"\"}, \"colorscale\": [[0.0, \"#0d0887\"], [0.1111111111111111, \"#46039f\"], [0.2222222222222222, \"#7201a8\"], [0.3333333333333333, \"#9c179e\"], [0.4444444444444444, \"#bd3786\"], [0.5555555555555556, \"#d8576b\"], [0.6666666666666666, \"#ed7953\"], [0.7777777777777778, \"#fb9f3a\"], [0.8888888888888888, \"#fdca26\"], [1.0, \"#f0f921\"]], \"type\": \"histogram2dcontour\"}], \"mesh3d\": [{\"colorbar\": {\"outlinewidth\": 0, \"ticks\": \"\"}, \"type\": \"mesh3d\"}], \"parcoords\": [{\"line\": {\"colorbar\": {\"outlinewidth\": 0, \"ticks\": \"\"}}, \"type\": \"parcoords\"}], \"pie\": [{\"automargin\": true, \"type\": \"pie\"}], \"scatter\": [{\"marker\": {\"colorbar\": {\"outlinewidth\": 0, \"ticks\": \"\"}}, \"type\": \"scatter\"}], \"scatter3d\": [{\"line\": {\"colorbar\": {\"outlinewidth\": 0, \"ticks\": \"\"}}, \"marker\": {\"colorbar\": {\"outlinewidth\": 0, \"ticks\": \"\"}}, \"type\": \"scatter3d\"}], \"scattercarpet\": [{\"marker\": {\"colorbar\": {\"outlinewidth\": 0, \"ticks\": \"\"}}, \"type\": \"scattercarpet\"}], \"scattergeo\": [{\"marker\": {\"colorbar\": {\"outlinewidth\": 0, \"ticks\": \"\"}}, \"type\": \"scattergeo\"}], \"scattergl\": [{\"marker\": {\"colorbar\": {\"outlinewidth\": 0, \"ticks\": \"\"}}, \"type\": \"scattergl\"}], \"scattermapbox\": [{\"marker\": {\"colorbar\": {\"outlinewidth\": 0, \"ticks\": \"\"}}, \"type\": \"scattermapbox\"}], \"scatterpolar\": [{\"marker\": {\"colorbar\": {\"outlinewidth\": 0, \"ticks\": \"\"}}, \"type\": \"scatterpolar\"}], \"scatterpolargl\": [{\"marker\": {\"colorbar\": {\"outlinewidth\": 0, \"ticks\": \"\"}}, \"type\": \"scatterpolargl\"}], \"scatterternary\": [{\"marker\": {\"colorbar\": {\"outlinewidth\": 0, \"ticks\": \"\"}}, \"type\": \"scatterternary\"}], \"surface\": [{\"colorbar\": {\"outlinewidth\": 0, \"ticks\": \"\"}, \"colorscale\": [[0.0, \"#0d0887\"], [0.1111111111111111, \"#46039f\"], [0.2222222222222222, \"#7201a8\"], [0.3333333333333333, \"#9c179e\"], [0.4444444444444444, \"#bd3786\"], [0.5555555555555556, \"#d8576b\"], [0.6666666666666666, \"#ed7953\"], [0.7777777777777778, \"#fb9f3a\"], [0.8888888888888888, \"#fdca26\"], [1.0, \"#f0f921\"]], \"type\": \"surface\"}], \"table\": [{\"cells\": {\"fill\": {\"color\": \"#EBF0F8\"}, \"line\": {\"color\": \"white\"}}, \"header\": {\"fill\": {\"color\": \"#C8D4E3\"}, \"line\": {\"color\": \"white\"}}, \"type\": \"table\"}]}, \"layout\": {\"annotationdefaults\": {\"arrowcolor\": \"#2a3f5f\", \"arrowhead\": 0, \"arrowwidth\": 1}, \"coloraxis\": {\"colorbar\": {\"outlinewidth\": 0, \"ticks\": \"\"}}, \"colorscale\": {\"diverging\": [[0, \"#8e0152\"], [0.1, \"#c51b7d\"], [0.2, \"#de77ae\"], [0.3, \"#f1b6da\"], [0.4, \"#fde0ef\"], [0.5, \"#f7f7f7\"], [0.6, \"#e6f5d0\"], [0.7, \"#b8e186\"], [0.8, \"#7fbc41\"], [0.9, \"#4d9221\"], [1, \"#276419\"]], \"sequential\": [[0.0, \"#0d0887\"], [0.1111111111111111, \"#46039f\"], [0.2222222222222222, \"#7201a8\"], [0.3333333333333333, \"#9c179e\"], [0.4444444444444444, \"#bd3786\"], [0.5555555555555556, \"#d8576b\"], [0.6666666666666666, \"#ed7953\"], [0.7777777777777778, \"#fb9f3a\"], [0.8888888888888888, \"#fdca26\"], [1.0, \"#f0f921\"]], \"sequentialminus\": [[0.0, \"#0d0887\"], [0.1111111111111111, \"#46039f\"], [0.2222222222222222, \"#7201a8\"], [0.3333333333333333, \"#9c179e\"], [0.4444444444444444, \"#bd3786\"], [0.5555555555555556, \"#d8576b\"], [0.6666666666666666, \"#ed7953\"], [0.7777777777777778, \"#fb9f3a\"], [0.8888888888888888, \"#fdca26\"], [1.0, \"#f0f921\"]]}, \"colorway\": [\"#636efa\", \"#EF553B\", \"#00cc96\", \"#ab63fa\", \"#FFA15A\", \"#19d3f3\", \"#FF6692\", \"#B6E880\", \"#FF97FF\", \"#FECB52\"], \"font\": {\"color\": \"#2a3f5f\"}, \"geo\": {\"bgcolor\": \"white\", \"lakecolor\": \"white\", \"landcolor\": \"#E5ECF6\", \"showlakes\": true, \"showland\": true, \"subunitcolor\": \"white\"}, \"hoverlabel\": {\"align\": \"left\"}, \"hovermode\": \"closest\", \"mapbox\": {\"style\": \"light\"}, \"paper_bgcolor\": \"white\", \"plot_bgcolor\": \"#E5ECF6\", \"polar\": {\"angularaxis\": {\"gridcolor\": \"white\", \"linecolor\": \"white\", \"ticks\": \"\"}, \"bgcolor\": \"#E5ECF6\", \"radialaxis\": {\"gridcolor\": \"white\", \"linecolor\": \"white\", \"ticks\": \"\"}}, \"scene\": {\"xaxis\": {\"backgroundcolor\": \"#E5ECF6\", \"gridcolor\": \"white\", \"gridwidth\": 2, \"linecolor\": \"white\", \"showbackground\": true, \"ticks\": \"\", \"zerolinecolor\": \"white\"}, \"yaxis\": {\"backgroundcolor\": \"#E5ECF6\", \"gridcolor\": \"white\", \"gridwidth\": 2, \"linecolor\": \"white\", \"showbackground\": true, \"ticks\": \"\", \"zerolinecolor\": \"white\"}, \"zaxis\": {\"backgroundcolor\": \"#E5ECF6\", \"gridcolor\": \"white\", \"gridwidth\": 2, \"linecolor\": \"white\", \"showbackground\": true, \"ticks\": \"\", \"zerolinecolor\": \"white\"}}, \"shapedefaults\": {\"line\": {\"color\": \"#2a3f5f\"}}, \"ternary\": {\"aaxis\": {\"gridcolor\": \"white\", \"linecolor\": \"white\", \"ticks\": \"\"}, \"baxis\": {\"gridcolor\": \"white\", \"linecolor\": \"white\", \"ticks\": \"\"}, \"bgcolor\": \"#E5ECF6\", \"caxis\": {\"gridcolor\": \"white\", \"linecolor\": \"white\", \"ticks\": \"\"}}, \"title\": {\"x\": 0.05}, \"xaxis\": {\"automargin\": true, \"gridcolor\": \"white\", \"linecolor\": \"white\", \"ticks\": \"\", \"title\": {\"standoff\": 15}, \"zerolinecolor\": \"white\", \"zerolinewidth\": 2}, \"yaxis\": {\"automargin\": true, \"gridcolor\": \"white\", \"linecolor\": \"white\", \"ticks\": \"\", \"title\": {\"standoff\": 15}, \"zerolinecolor\": \"white\", \"zerolinewidth\": 2}}}, \"title\": {\"text\": \"Sentiment Scores\"}},\n",
              "                        {\"responsive\": true}\n",
              "                    ).then(function(){\n",
              "                            \n",
              "var gd = document.getElementById('d65044ad-fff4-4c67-865c-1c2026dc5761');\n",
              "var x = new MutationObserver(function (mutations, observer) {{\n",
              "        var display = window.getComputedStyle(gd).display;\n",
              "        if (!display || display === 'none') {{\n",
              "            console.log([gd, 'removed!']);\n",
              "            Plotly.purge(gd);\n",
              "            observer.disconnect();\n",
              "        }}\n",
              "}});\n",
              "\n",
              "// Listen for the removal of the full notebook cells\n",
              "var notebookContainer = gd.closest('#notebook-container');\n",
              "if (notebookContainer) {{\n",
              "    x.observe(notebookContainer, {childList: true});\n",
              "}}\n",
              "\n",
              "// Listen for the clearing of the current output cell\n",
              "var outputEl = gd.closest('.output');\n",
              "if (outputEl) {{\n",
              "    x.observe(outputEl, {childList: true});\n",
              "}}\n",
              "\n",
              "                        })\n",
              "                };\n",
              "                \n",
              "            </script>\n",
              "        </div>\n",
              "</body>\n",
              "</html>"
            ]
          },
          "metadata": {
            "tags": []
          }
        }
      ]
    },
    {
      "cell_type": "code",
      "metadata": {
        "id": "lmD6fooc6ZPH",
        "outputId": "5979d4fc-fafd-48e7-c835-7eb9b00d1bd3",
        "colab": {
          "base_uri": "https://localhost:8080/",
          "height": 419
        }
      },
      "source": [
        "#Create a dataframe with a dictionary of the sentiments\n",
        "\n",
        "sentiment_words = pd.DataFrame(list(text_object.affect_dict.items()),columns = ['words','sentiments'])\n",
        "sentiment_words"
      ],
      "execution_count": 73,
      "outputs": [
        {
          "output_type": "execute_result",
          "data": {
            "text/html": [
              "<div>\n",
              "<style scoped>\n",
              "    .dataframe tbody tr th:only-of-type {\n",
              "        vertical-align: middle;\n",
              "    }\n",
              "\n",
              "    .dataframe tbody tr th {\n",
              "        vertical-align: top;\n",
              "    }\n",
              "\n",
              "    .dataframe thead th {\n",
              "        text-align: right;\n",
              "    }\n",
              "</style>\n",
              "<table border=\"1\" class=\"dataframe\">\n",
              "  <thead>\n",
              "    <tr style=\"text-align: right;\">\n",
              "      <th></th>\n",
              "      <th>words</th>\n",
              "      <th>sentiments</th>\n",
              "    </tr>\n",
              "  </thead>\n",
              "  <tbody>\n",
              "    <tr>\n",
              "      <th>0</th>\n",
              "      <td>fellow</td>\n",
              "      <td>[positive, trust]</td>\n",
              "    </tr>\n",
              "    <tr>\n",
              "      <th>1</th>\n",
              "      <td>extend</td>\n",
              "      <td>[positive]</td>\n",
              "    </tr>\n",
              "    <tr>\n",
              "      <th>2</th>\n",
              "      <td>govern</td>\n",
              "      <td>[positive, trust]</td>\n",
              "    </tr>\n",
              "    <tr>\n",
              "      <th>3</th>\n",
              "      <td>question</td>\n",
              "      <td>[positive]</td>\n",
              "    </tr>\n",
              "    <tr>\n",
              "      <th>4</th>\n",
              "      <td>dear</td>\n",
              "      <td>[positive]</td>\n",
              "    </tr>\n",
              "    <tr>\n",
              "      <th>...</th>\n",
              "      <td>...</td>\n",
              "      <td>...</td>\n",
              "    </tr>\n",
              "    <tr>\n",
              "      <th>210</th>\n",
              "      <td>impress</td>\n",
              "      <td>[positive]</td>\n",
              "    </tr>\n",
              "    <tr>\n",
              "      <th>211</th>\n",
              "      <td>prophet</td>\n",
              "      <td>[anticipation, positive, trust]</td>\n",
              "    </tr>\n",
              "    <tr>\n",
              "      <th>212</th>\n",
              "      <td>fact</td>\n",
              "      <td>[trust]</td>\n",
              "    </tr>\n",
              "    <tr>\n",
              "      <th>213</th>\n",
              "      <td>trick</td>\n",
              "      <td>[negative, surprise]</td>\n",
              "    </tr>\n",
              "    <tr>\n",
              "      <th>214</th>\n",
              "      <td>cough</td>\n",
              "      <td>[disgust, negative]</td>\n",
              "    </tr>\n",
              "  </tbody>\n",
              "</table>\n",
              "<p>215 rows × 2 columns</p>\n",
              "</div>"
            ],
            "text/plain": [
              "        words                       sentiments\n",
              "0      fellow                [positive, trust]\n",
              "1      extend                       [positive]\n",
              "2      govern                [positive, trust]\n",
              "3    question                       [positive]\n",
              "4        dear                       [positive]\n",
              "..        ...                              ...\n",
              "210   impress                       [positive]\n",
              "211   prophet  [anticipation, positive, trust]\n",
              "212      fact                          [trust]\n",
              "213     trick             [negative, surprise]\n",
              "214     cough              [disgust, negative]\n",
              "\n",
              "[215 rows x 2 columns]"
            ]
          },
          "metadata": {
            "tags": []
          },
          "execution_count": 73
        }
      ]
    },
    {
      "cell_type": "code",
      "metadata": {
        "id": "6lQSZbRP-LJK",
        "outputId": "cc8c73bf-1ad7-4785-ecfd-36c08680c15c",
        "colab": {
          "base_uri": "https://localhost:8080/",
          "height": 419
        }
      },
      "source": [
        "for y in sentiment:\n",
        "    sentiment_words[y] = 9\n",
        "sentiment_words"
      ],
      "execution_count": 75,
      "outputs": [
        {
          "output_type": "execute_result",
          "data": {
            "text/html": [
              "<div>\n",
              "<style scoped>\n",
              "    .dataframe tbody tr th:only-of-type {\n",
              "        vertical-align: middle;\n",
              "    }\n",
              "\n",
              "    .dataframe tbody tr th {\n",
              "        vertical-align: top;\n",
              "    }\n",
              "\n",
              "    .dataframe thead th {\n",
              "        text-align: right;\n",
              "    }\n",
              "</style>\n",
              "<table border=\"1\" class=\"dataframe\">\n",
              "  <thead>\n",
              "    <tr style=\"text-align: right;\">\n",
              "      <th></th>\n",
              "      <th>words</th>\n",
              "      <th>sentiments</th>\n",
              "      <th>anger</th>\n",
              "      <th>anticipation</th>\n",
              "      <th>disgust</th>\n",
              "      <th>fear</th>\n",
              "      <th>joy</th>\n",
              "      <th>negative</th>\n",
              "      <th>positive</th>\n",
              "      <th>sadness</th>\n",
              "      <th>surprise</th>\n",
              "      <th>trust</th>\n",
              "    </tr>\n",
              "  </thead>\n",
              "  <tbody>\n",
              "    <tr>\n",
              "      <th>0</th>\n",
              "      <td>fellow</td>\n",
              "      <td>[positive, trust]</td>\n",
              "      <td>9</td>\n",
              "      <td>9</td>\n",
              "      <td>9</td>\n",
              "      <td>9</td>\n",
              "      <td>9</td>\n",
              "      <td>9</td>\n",
              "      <td>9</td>\n",
              "      <td>9</td>\n",
              "      <td>9</td>\n",
              "      <td>9</td>\n",
              "    </tr>\n",
              "    <tr>\n",
              "      <th>1</th>\n",
              "      <td>extend</td>\n",
              "      <td>[positive]</td>\n",
              "      <td>9</td>\n",
              "      <td>9</td>\n",
              "      <td>9</td>\n",
              "      <td>9</td>\n",
              "      <td>9</td>\n",
              "      <td>9</td>\n",
              "      <td>9</td>\n",
              "      <td>9</td>\n",
              "      <td>9</td>\n",
              "      <td>9</td>\n",
              "    </tr>\n",
              "    <tr>\n",
              "      <th>2</th>\n",
              "      <td>govern</td>\n",
              "      <td>[positive, trust]</td>\n",
              "      <td>9</td>\n",
              "      <td>9</td>\n",
              "      <td>9</td>\n",
              "      <td>9</td>\n",
              "      <td>9</td>\n",
              "      <td>9</td>\n",
              "      <td>9</td>\n",
              "      <td>9</td>\n",
              "      <td>9</td>\n",
              "      <td>9</td>\n",
              "    </tr>\n",
              "    <tr>\n",
              "      <th>3</th>\n",
              "      <td>question</td>\n",
              "      <td>[positive]</td>\n",
              "      <td>9</td>\n",
              "      <td>9</td>\n",
              "      <td>9</td>\n",
              "      <td>9</td>\n",
              "      <td>9</td>\n",
              "      <td>9</td>\n",
              "      <td>9</td>\n",
              "      <td>9</td>\n",
              "      <td>9</td>\n",
              "      <td>9</td>\n",
              "    </tr>\n",
              "    <tr>\n",
              "      <th>4</th>\n",
              "      <td>dear</td>\n",
              "      <td>[positive]</td>\n",
              "      <td>9</td>\n",
              "      <td>9</td>\n",
              "      <td>9</td>\n",
              "      <td>9</td>\n",
              "      <td>9</td>\n",
              "      <td>9</td>\n",
              "      <td>9</td>\n",
              "      <td>9</td>\n",
              "      <td>9</td>\n",
              "      <td>9</td>\n",
              "    </tr>\n",
              "    <tr>\n",
              "      <th>...</th>\n",
              "      <td>...</td>\n",
              "      <td>...</td>\n",
              "      <td>...</td>\n",
              "      <td>...</td>\n",
              "      <td>...</td>\n",
              "      <td>...</td>\n",
              "      <td>...</td>\n",
              "      <td>...</td>\n",
              "      <td>...</td>\n",
              "      <td>...</td>\n",
              "      <td>...</td>\n",
              "      <td>...</td>\n",
              "    </tr>\n",
              "    <tr>\n",
              "      <th>210</th>\n",
              "      <td>impress</td>\n",
              "      <td>[positive]</td>\n",
              "      <td>9</td>\n",
              "      <td>9</td>\n",
              "      <td>9</td>\n",
              "      <td>9</td>\n",
              "      <td>9</td>\n",
              "      <td>9</td>\n",
              "      <td>9</td>\n",
              "      <td>9</td>\n",
              "      <td>9</td>\n",
              "      <td>9</td>\n",
              "    </tr>\n",
              "    <tr>\n",
              "      <th>211</th>\n",
              "      <td>prophet</td>\n",
              "      <td>[anticipation, positive, trust]</td>\n",
              "      <td>9</td>\n",
              "      <td>9</td>\n",
              "      <td>9</td>\n",
              "      <td>9</td>\n",
              "      <td>9</td>\n",
              "      <td>9</td>\n",
              "      <td>9</td>\n",
              "      <td>9</td>\n",
              "      <td>9</td>\n",
              "      <td>9</td>\n",
              "    </tr>\n",
              "    <tr>\n",
              "      <th>212</th>\n",
              "      <td>fact</td>\n",
              "      <td>[trust]</td>\n",
              "      <td>9</td>\n",
              "      <td>9</td>\n",
              "      <td>9</td>\n",
              "      <td>9</td>\n",
              "      <td>9</td>\n",
              "      <td>9</td>\n",
              "      <td>9</td>\n",
              "      <td>9</td>\n",
              "      <td>9</td>\n",
              "      <td>9</td>\n",
              "    </tr>\n",
              "    <tr>\n",
              "      <th>213</th>\n",
              "      <td>trick</td>\n",
              "      <td>[negative, surprise]</td>\n",
              "      <td>9</td>\n",
              "      <td>9</td>\n",
              "      <td>9</td>\n",
              "      <td>9</td>\n",
              "      <td>9</td>\n",
              "      <td>9</td>\n",
              "      <td>9</td>\n",
              "      <td>9</td>\n",
              "      <td>9</td>\n",
              "      <td>9</td>\n",
              "    </tr>\n",
              "    <tr>\n",
              "      <th>214</th>\n",
              "      <td>cough</td>\n",
              "      <td>[disgust, negative]</td>\n",
              "      <td>9</td>\n",
              "      <td>9</td>\n",
              "      <td>9</td>\n",
              "      <td>9</td>\n",
              "      <td>9</td>\n",
              "      <td>9</td>\n",
              "      <td>9</td>\n",
              "      <td>9</td>\n",
              "      <td>9</td>\n",
              "      <td>9</td>\n",
              "    </tr>\n",
              "  </tbody>\n",
              "</table>\n",
              "<p>215 rows × 12 columns</p>\n",
              "</div>"
            ],
            "text/plain": [
              "        words                       sentiments  anger  ...  sadness  surprise  trust\n",
              "0      fellow                [positive, trust]      9  ...        9         9      9\n",
              "1      extend                       [positive]      9  ...        9         9      9\n",
              "2      govern                [positive, trust]      9  ...        9         9      9\n",
              "3    question                       [positive]      9  ...        9         9      9\n",
              "4        dear                       [positive]      9  ...        9         9      9\n",
              "..        ...                              ...    ...  ...      ...       ...    ...\n",
              "210   impress                       [positive]      9  ...        9         9      9\n",
              "211   prophet  [anticipation, positive, trust]      9  ...        9         9      9\n",
              "212      fact                          [trust]      9  ...        9         9      9\n",
              "213     trick             [negative, surprise]      9  ...        9         9      9\n",
              "214     cough              [disgust, negative]      9  ...        9         9      9\n",
              "\n",
              "[215 rows x 12 columns]"
            ]
          },
          "metadata": {
            "tags": []
          },
          "execution_count": 75
        }
      ]
    },
    {
      "cell_type": "code",
      "metadata": {
        "id": "ZkIKlts_7Vxs",
        "outputId": "b8b885f0-3890-4757-c0dd-21da7cf62f1b",
        "colab": {
          "base_uri": "https://localhost:8080/",
          "height": 529
        }
      },
      "source": [
        "a=0\n",
        "for i in sentiment_words['sentiments']: \n",
        "    for y in sentiment:\n",
        "        sentiment_words[y][a] = int(y in i)\n",
        "    a=a+1\n",
        "\n",
        "sentiment_words.tail(11)"
      ],
      "execution_count": 78,
      "outputs": [
        {
          "output_type": "stream",
          "text": [
            "/usr/local/lib/python3.7/dist-packages/ipykernel_launcher.py:4: SettingWithCopyWarning:\n",
            "\n",
            "\n",
            "A value is trying to be set on a copy of a slice from a DataFrame\n",
            "\n",
            "See the caveats in the documentation: https://pandas.pydata.org/pandas-docs/stable/user_guide/indexing.html#returning-a-view-versus-a-copy\n",
            "\n"
          ],
          "name": "stderr"
        },
        {
          "output_type": "execute_result",
          "data": {
            "text/html": [
              "<div>\n",
              "<style scoped>\n",
              "    .dataframe tbody tr th:only-of-type {\n",
              "        vertical-align: middle;\n",
              "    }\n",
              "\n",
              "    .dataframe tbody tr th {\n",
              "        vertical-align: top;\n",
              "    }\n",
              "\n",
              "    .dataframe thead th {\n",
              "        text-align: right;\n",
              "    }\n",
              "</style>\n",
              "<table border=\"1\" class=\"dataframe\">\n",
              "  <thead>\n",
              "    <tr style=\"text-align: right;\">\n",
              "      <th></th>\n",
              "      <th>words</th>\n",
              "      <th>sentiments</th>\n",
              "      <th>anger</th>\n",
              "      <th>anticipation</th>\n",
              "      <th>disgust</th>\n",
              "      <th>fear</th>\n",
              "      <th>joy</th>\n",
              "      <th>negative</th>\n",
              "      <th>positive</th>\n",
              "      <th>sadness</th>\n",
              "      <th>surprise</th>\n",
              "      <th>trust</th>\n",
              "    </tr>\n",
              "  </thead>\n",
              "  <tbody>\n",
              "    <tr>\n",
              "      <th>204</th>\n",
              "      <td>backward</td>\n",
              "      <td>[negative]</td>\n",
              "      <td>0</td>\n",
              "      <td>0</td>\n",
              "      <td>0</td>\n",
              "      <td>0</td>\n",
              "      <td>0</td>\n",
              "      <td>1</td>\n",
              "      <td>0</td>\n",
              "      <td>0</td>\n",
              "      <td>0</td>\n",
              "      <td>0</td>\n",
              "    </tr>\n",
              "    <tr>\n",
              "      <th>205</th>\n",
              "      <td>chase</td>\n",
              "      <td>[negative]</td>\n",
              "      <td>0</td>\n",
              "      <td>0</td>\n",
              "      <td>0</td>\n",
              "      <td>0</td>\n",
              "      <td>0</td>\n",
              "      <td>1</td>\n",
              "      <td>0</td>\n",
              "      <td>0</td>\n",
              "      <td>0</td>\n",
              "      <td>0</td>\n",
              "    </tr>\n",
              "    <tr>\n",
              "      <th>206</th>\n",
              "      <td>found</td>\n",
              "      <td>[joy, positive, trust]</td>\n",
              "      <td>0</td>\n",
              "      <td>0</td>\n",
              "      <td>0</td>\n",
              "      <td>0</td>\n",
              "      <td>1</td>\n",
              "      <td>0</td>\n",
              "      <td>1</td>\n",
              "      <td>0</td>\n",
              "      <td>0</td>\n",
              "      <td>1</td>\n",
              "    </tr>\n",
              "    <tr>\n",
              "      <th>207</th>\n",
              "      <td>proud</td>\n",
              "      <td>[anticipation, joy, positive, trust]</td>\n",
              "      <td>0</td>\n",
              "      <td>1</td>\n",
              "      <td>0</td>\n",
              "      <td>0</td>\n",
              "      <td>1</td>\n",
              "      <td>0</td>\n",
              "      <td>1</td>\n",
              "      <td>0</td>\n",
              "      <td>0</td>\n",
              "      <td>1</td>\n",
              "    </tr>\n",
              "    <tr>\n",
              "      <th>208</th>\n",
              "      <td>church</td>\n",
              "      <td>[anticipation, joy, positive, trust]</td>\n",
              "      <td>0</td>\n",
              "      <td>1</td>\n",
              "      <td>0</td>\n",
              "      <td>0</td>\n",
              "      <td>1</td>\n",
              "      <td>0</td>\n",
              "      <td>1</td>\n",
              "      <td>0</td>\n",
              "      <td>0</td>\n",
              "      <td>1</td>\n",
              "    </tr>\n",
              "    <tr>\n",
              "      <th>209</th>\n",
              "      <td>assist</td>\n",
              "      <td>[positive, trust]</td>\n",
              "      <td>0</td>\n",
              "      <td>0</td>\n",
              "      <td>0</td>\n",
              "      <td>0</td>\n",
              "      <td>0</td>\n",
              "      <td>0</td>\n",
              "      <td>1</td>\n",
              "      <td>0</td>\n",
              "      <td>0</td>\n",
              "      <td>1</td>\n",
              "    </tr>\n",
              "    <tr>\n",
              "      <th>210</th>\n",
              "      <td>impress</td>\n",
              "      <td>[positive]</td>\n",
              "      <td>0</td>\n",
              "      <td>0</td>\n",
              "      <td>0</td>\n",
              "      <td>0</td>\n",
              "      <td>0</td>\n",
              "      <td>0</td>\n",
              "      <td>1</td>\n",
              "      <td>0</td>\n",
              "      <td>0</td>\n",
              "      <td>0</td>\n",
              "    </tr>\n",
              "    <tr>\n",
              "      <th>211</th>\n",
              "      <td>prophet</td>\n",
              "      <td>[anticipation, positive, trust]</td>\n",
              "      <td>0</td>\n",
              "      <td>1</td>\n",
              "      <td>0</td>\n",
              "      <td>0</td>\n",
              "      <td>0</td>\n",
              "      <td>0</td>\n",
              "      <td>1</td>\n",
              "      <td>0</td>\n",
              "      <td>0</td>\n",
              "      <td>1</td>\n",
              "    </tr>\n",
              "    <tr>\n",
              "      <th>212</th>\n",
              "      <td>fact</td>\n",
              "      <td>[trust]</td>\n",
              "      <td>0</td>\n",
              "      <td>0</td>\n",
              "      <td>0</td>\n",
              "      <td>0</td>\n",
              "      <td>0</td>\n",
              "      <td>0</td>\n",
              "      <td>0</td>\n",
              "      <td>0</td>\n",
              "      <td>0</td>\n",
              "      <td>1</td>\n",
              "    </tr>\n",
              "    <tr>\n",
              "      <th>213</th>\n",
              "      <td>trick</td>\n",
              "      <td>[negative, surprise]</td>\n",
              "      <td>0</td>\n",
              "      <td>0</td>\n",
              "      <td>0</td>\n",
              "      <td>0</td>\n",
              "      <td>0</td>\n",
              "      <td>1</td>\n",
              "      <td>0</td>\n",
              "      <td>0</td>\n",
              "      <td>1</td>\n",
              "      <td>0</td>\n",
              "    </tr>\n",
              "    <tr>\n",
              "      <th>214</th>\n",
              "      <td>cough</td>\n",
              "      <td>[disgust, negative]</td>\n",
              "      <td>0</td>\n",
              "      <td>0</td>\n",
              "      <td>1</td>\n",
              "      <td>0</td>\n",
              "      <td>0</td>\n",
              "      <td>1</td>\n",
              "      <td>0</td>\n",
              "      <td>0</td>\n",
              "      <td>0</td>\n",
              "      <td>0</td>\n",
              "    </tr>\n",
              "  </tbody>\n",
              "</table>\n",
              "</div>"
            ],
            "text/plain": [
              "        words                            sentiments  ...  surprise  trust\n",
              "204  backward                            [negative]  ...         0      0\n",
              "205     chase                            [negative]  ...         0      0\n",
              "206     found                [joy, positive, trust]  ...         0      1\n",
              "207     proud  [anticipation, joy, positive, trust]  ...         0      1\n",
              "208    church  [anticipation, joy, positive, trust]  ...         0      1\n",
              "209    assist                     [positive, trust]  ...         0      1\n",
              "210   impress                            [positive]  ...         0      0\n",
              "211   prophet       [anticipation, positive, trust]  ...         0      1\n",
              "212      fact                               [trust]  ...         0      1\n",
              "213     trick                  [negative, surprise]  ...         1      0\n",
              "214     cough                   [disgust, negative]  ...         0      0\n",
              "\n",
              "[11 rows x 12 columns]"
            ]
          },
          "metadata": {
            "tags": []
          },
          "execution_count": 78
        }
      ]
    },
    {
      "cell_type": "markdown",
      "metadata": {
        "id": "fa3DWpwdisj5"
      },
      "source": [
        "**Bag of words**"
      ]
    },
    {
      "cell_type": "code",
      "metadata": {
        "id": "CLLKa96Wiwg_",
        "colab": {
          "base_uri": "https://localhost:8080/",
          "height": 232
        },
        "outputId": "7eb50de3-a3cc-42ae-b86d-c3b9b855ace6"
      },
      "source": [
        "#Vectorize the texts\n",
        "\n",
        "cv = CountVectorizer\n",
        "\n",
        "corpus = nairobi_df3['text_stem']\n",
        "\n",
        "cv = CountVectorizer(stop_words = 'english', analyzer = 'word') #ngram_range=(2,3) groupings can be specified using ngram\n",
        "bow = cv.fit_transorm(corpus)\n",
        "\n",
        "#view the vocabulary and frequency\n",
        "\n",
        "cv.vocabulary_"
      ],
      "execution_count": 38,
      "outputs": [
        {
          "output_type": "error",
          "ename": "AttributeError",
          "evalue": "ignored",
          "traceback": [
            "\u001b[0;31m---------------------------------------------------------------------------\u001b[0m",
            "\u001b[0;31mAttributeError\u001b[0m                            Traceback (most recent call last)",
            "\u001b[0;32m<ipython-input-38-0f86c35c6f7a>\u001b[0m in \u001b[0;36m<module>\u001b[0;34m()\u001b[0m\n\u001b[1;32m      6\u001b[0m \u001b[0;34m\u001b[0m\u001b[0m\n\u001b[1;32m      7\u001b[0m \u001b[0mcv\u001b[0m \u001b[0;34m=\u001b[0m \u001b[0mCountVectorizer\u001b[0m\u001b[0;34m(\u001b[0m\u001b[0mstop_words\u001b[0m \u001b[0;34m=\u001b[0m \u001b[0;34m'english'\u001b[0m\u001b[0;34m,\u001b[0m \u001b[0manalyzer\u001b[0m \u001b[0;34m=\u001b[0m \u001b[0;34m'word'\u001b[0m\u001b[0;34m)\u001b[0m \u001b[0;31m#ngram_range=(2,3) groupings can be specified using ngram\u001b[0m\u001b[0;34m\u001b[0m\u001b[0;34m\u001b[0m\u001b[0m\n\u001b[0;32m----> 8\u001b[0;31m \u001b[0mbow\u001b[0m \u001b[0;34m=\u001b[0m \u001b[0mcv\u001b[0m\u001b[0;34m.\u001b[0m\u001b[0mfit_transorm\u001b[0m\u001b[0;34m(\u001b[0m\u001b[0mcorpus\u001b[0m\u001b[0;34m)\u001b[0m\u001b[0;34m\u001b[0m\u001b[0;34m\u001b[0m\u001b[0m\n\u001b[0m\u001b[1;32m      9\u001b[0m \u001b[0;34m\u001b[0m\u001b[0m\n\u001b[1;32m     10\u001b[0m \u001b[0;31m#view the vocabulary and frequency\u001b[0m\u001b[0;34m\u001b[0m\u001b[0;34m\u001b[0m\u001b[0;34m\u001b[0m\u001b[0m\n",
            "\u001b[0;31mAttributeError\u001b[0m: 'CountVectorizer' object has no attribute 'fit_transorm'"
          ]
        }
      ]
    },
    {
      "cell_type": "code",
      "metadata": {
        "id": "Qm61iSIqlf0W"
      },
      "source": [
        "#get the feature names\n",
        "\n",
        "cv.get_feature_names()"
      ],
      "execution_count": null,
      "outputs": []
    },
    {
      "cell_type": "code",
      "metadata": {
        "id": "FiUDTjzcmAlB"
      },
      "source": [
        "#\n",
        "\n",
        "cv_sparse = cv.fit_transform(nairobi_df3['text_stem'])\n",
        "col = [i for i in cv.get_feature_names()]\n",
        "temp = pd.DataFrame(cv_sparse.todense(), columns = col)\n",
        "temp"
      ],
      "execution_count": null,
      "outputs": []
    },
    {
      "cell_type": "code",
      "metadata": {
        "id": "Vl1rlGAAnPbu"
      },
      "source": [
        "#Transform to an array\n",
        "\n",
        "bow.toarray()"
      ],
      "execution_count": null,
      "outputs": []
    }
  ]
}