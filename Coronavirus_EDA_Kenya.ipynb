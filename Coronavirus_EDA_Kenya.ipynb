{
  "nbformat": 4,
  "nbformat_minor": 0,
  "metadata": {
    "colab": {
      "name": "Coronavirus_EDA_Kenya.ipynb",
      "provenance": [],
      "mount_file_id": "1fjbedTCDSsLHZySGjjPgZH9LucBoHJtj",
      "authorship_tag": "ABX9TyNDssbaegkUKM0P2tVYSB1i",
      "include_colab_link": true
    },
    "kernelspec": {
      "name": "python3",
      "display_name": "Python 3"
    }
  },
  "cells": [
    {
      "cell_type": "markdown",
      "metadata": {
        "id": "view-in-github",
        "colab_type": "text"
      },
      "source": [
        "<a href=\"https://colab.research.google.com/github/Grivine-19/Coronavirus-Sentiment-Analysis-Kenya/blob/master/Coronavirus_EDA_Kenya.ipynb\" target=\"_parent\"><img src=\"https://colab.research.google.com/assets/colab-badge.svg\" alt=\"Open In Colab\"/></a>"
      ]
    },
    {
      "cell_type": "markdown",
      "metadata": {
        "id": "6QsF5wF2PY-2"
      },
      "source": [
        "# <center>**Steps**</center>\n",
        "\n",
        "\n",
        "\n",
        "*   Tokenization\n",
        "*   Cleaning the data\n",
        "*   Removing Stop words\n",
        "*   Classification task;\n",
        "\n",
        "  * *Positive, negative,neutral*\n",
        "*   Apply supervised algorithm for classification;\n",
        "\n",
        "  * *Bag of Words*\n",
        "  * *Lexicons-pre classified set of words*\n",
        "\n",
        "*   Calculation - *final sentiment score*\n",
        "\n",
        "\n",
        "\n",
        "\n",
        "\n"
      ]
    },
    {
      "cell_type": "code",
      "metadata": {
        "id": "T4L7SV21zHhD"
      },
      "source": [
        "pip install pyLDAvis"
      ],
      "execution_count": null,
      "outputs": []
    },
    {
      "cell_type": "code",
      "metadata": {
        "id": "scfldJqHzRrU"
      },
      "source": [
        "pip install fasttext"
      ],
      "execution_count": null,
      "outputs": []
    },
    {
      "cell_type": "code",
      "metadata": {
        "id": "nmLAbw-izmq1"
      },
      "source": [
        "pip install contractions"
      ],
      "execution_count": null,
      "outputs": []
    },
    {
      "cell_type": "markdown",
      "metadata": {
        "id": "4Bm2yXyurrqF"
      },
      "source": [
        "# <center>**Exploratory Data Analysis**</center>\n",
        "\n",
        "*Here, we clean and visualize data from Data_Extraction.ipynb file to gain insights on the kind of data we are dealing with.*"
      ]
    },
    {
      "cell_type": "code",
      "metadata": {
        "id": "m6LYON75trdM"
      },
      "source": [
        "#Import Visualization Libraries\n",
        "\n",
        "from google.colab import drive\n",
        "import pandas as pd \n",
        "import matplotlib.pyplot as plt \n",
        "import seaborn as sns\n",
        "from wordcloud import WordCloud, STOPWORDS, ImageColorGenerator\n",
        "import numpy as np\n",
        "import re\n",
        "import nltk\n",
        "import warnings \n",
        "warnings.filterwarnings(\"ignore\", category=DeprecationWarning)\n",
        "import pickle\n",
        "import pyLDAvis.sklearn\n",
        "from collections import Counter\n",
        "from textblob import TextBlob\n",
        "from sklearn.feature_extraction.text import CountVectorizer\n",
        "from sklearn.feature_extraction.text import TfidfVectorizer\n",
        "from sklearn.decomposition import LatentDirichletAllocation, NMF\n",
        "\n",
        "#Import data cleaning Libraries\n",
        "\n",
        "from html.parser import HTMLParser\n",
        "\n",
        "import string\n",
        "import fasttext\n",
        "import contractions\n",
        "from nltk.tokenize import word_tokenize\n",
        "from nltk.corpus import stopwords, wordnet\n",
        "from nltk.stem import WordNetLemmatizer\n",
        "\n",
        "#Default Parameters\n",
        "\n",
        "%matplotlib inline\n",
        "pd.options.mode.chained_assignment = None\n",
        "pd.set_option('display.max_colwidth', 100)"
      ],
      "execution_count": null,
      "outputs": []
    },
    {
      "cell_type": "code",
      "metadata": {
        "id": "Tg-5_u1PrbbP",
        "outputId": "082588c2-b991-461c-b142-118df9d082ae",
        "colab": {
          "base_uri": "https://localhost:8080/",
          "height": 34
        }
      },
      "source": [
        "#Mount the google drive folder\n",
        "\n",
        "drive.mount('/content/gdrive')"
      ],
      "execution_count": null,
      "outputs": [
        {
          "output_type": "stream",
          "text": [
            "Mounted at /content/gdrive\n"
          ],
          "name": "stdout"
        }
      ]
    },
    {
      "cell_type": "markdown",
      "metadata": {
        "id": "qbST0WlAv9F-"
      },
      "source": [
        "# <center>**Nairobi; Data Cleaning**</center>"
      ]
    },
    {
      "cell_type": "code",
      "metadata": {
        "id": "RhSMuJhywTsx",
        "outputId": "1b38e01d-d327-42b1-9959-c2b04ac71b0c",
        "colab": {
          "base_uri": "https://localhost:8080/",
          "height": 374
        }
      },
      "source": [
        "#Load the dataframe\n",
        "\n",
        "nairobi_tweets = pd.read_csv('/content/gdrive/My Drive/Tweets/nairobi.csv')\n",
        "\n",
        "nairobi_tweets.head()"
      ],
      "execution_count": null,
      "outputs": [
        {
          "output_type": "execute_result",
          "data": {
            "text/html": [
              "<div>\n",
              "<style scoped>\n",
              "    .dataframe tbody tr th:only-of-type {\n",
              "        vertical-align: middle;\n",
              "    }\n",
              "\n",
              "    .dataframe tbody tr th {\n",
              "        vertical-align: top;\n",
              "    }\n",
              "\n",
              "    .dataframe thead th {\n",
              "        text-align: right;\n",
              "    }\n",
              "</style>\n",
              "<table border=\"1\" class=\"dataframe\">\n",
              "  <thead>\n",
              "    <tr style=\"text-align: right;\">\n",
              "      <th></th>\n",
              "      <th>Unnamed: 0</th>\n",
              "      <th>ID</th>\n",
              "      <th>DATE</th>\n",
              "      <th>TWEET</th>\n",
              "      <th>LOCATION</th>\n",
              "      <th>RETWEETS</th>\n",
              "      <th>FAVORITES</th>\n",
              "      <th>HASHTAGS</th>\n",
              "    </tr>\n",
              "  </thead>\n",
              "  <tbody>\n",
              "    <tr>\n",
              "      <th>0</th>\n",
              "      <td>0</td>\n",
              "      <td>1289314486092877825</td>\n",
              "      <td>2020-07-31 21:38:22+00:00</td>\n",
              "      <td>#FACupFinal #ruiru #lockdownextension #COVID19KE #TheUmbrellaAcademy https://m.facebook.com/stor...</td>\n",
              "      <td>NaN</td>\n",
              "      <td>0</td>\n",
              "      <td>1</td>\n",
              "      <td>#FACupFinal #ruiru #lockdownextension #COVID19KE #TheUmbrellaAcademy #TheUmbrellaAcademy</td>\n",
              "    </tr>\n",
              "    <tr>\n",
              "      <th>1</th>\n",
              "      <td>1</td>\n",
              "      <td>1215096387550896128</td>\n",
              "      <td>2020-01-09 02:22:08+00:00</td>\n",
              "      <td>Check out Audio Book Elven Magic on Audible, amazon pay $75 for every bounty(have to be a member...</td>\n",
              "      <td>NaN</td>\n",
              "      <td>28</td>\n",
              "      <td>108</td>\n",
              "      <td>NaN</td>\n",
              "    </tr>\n",
              "    <tr>\n",
              "      <th>2</th>\n",
              "      <td>2</td>\n",
              "      <td>1289257452219793408</td>\n",
              "      <td>2020-07-31 17:51:44+00:00</td>\n",
              "      <td>#COVID19KE #TheScoreKE #ruiru</td>\n",
              "      <td>NaN</td>\n",
              "      <td>0</td>\n",
              "      <td>2</td>\n",
              "      <td>#COVID19KE #TheScoreKE #ruiru</td>\n",
              "    </tr>\n",
              "    <tr>\n",
              "      <th>3</th>\n",
              "      <td>3</td>\n",
              "      <td>1289191573054345219</td>\n",
              "      <td>2020-07-31 13:29:57+00:00</td>\n",
              "      <td>In the opening remarks @Ezra_K_Yego mentioned that it is extremely important for us to come up w...</td>\n",
              "      <td>NaN</td>\n",
              "      <td>10</td>\n",
              "      <td>28</td>\n",
              "      <td>#BuildBackBetter #SDGs #COVID19KE</td>\n",
              "    </tr>\n",
              "    <tr>\n",
              "      <th>4</th>\n",
              "      <td>4</td>\n",
              "      <td>1289142305593724928</td>\n",
              "      <td>2020-07-31 10:14:11+00:00</td>\n",
              "      <td>Wishing him and all front line workers quick recovery from #COVID19KE.</td>\n",
              "      <td>NaN</td>\n",
              "      <td>0</td>\n",
              "      <td>0</td>\n",
              "      <td>#COVID19KE</td>\n",
              "    </tr>\n",
              "  </tbody>\n",
              "</table>\n",
              "</div>"
            ],
            "text/plain": [
              "   Unnamed: 0  ...                                                                                  HASHTAGS\n",
              "0           0  ...  #FACupFinal #ruiru #lockdownextension #COVID19KE #TheUmbrellaAcademy #TheUmbrellaAcademy\n",
              "1           1  ...                                                                                       NaN\n",
              "2           2  ...                                                             #COVID19KE #TheScoreKE #ruiru\n",
              "3           3  ...                                                         #BuildBackBetter #SDGs #COVID19KE\n",
              "4           4  ...                                                                                #COVID19KE\n",
              "\n",
              "[5 rows x 8 columns]"
            ]
          },
          "metadata": {
            "tags": []
          },
          "execution_count": 46
        }
      ]
    },
    {
      "cell_type": "code",
      "metadata": {
        "id": "Be7rEV6URTy2",
        "outputId": "8eef75d8-8fb8-49a6-c6fa-ad37e1da29a1",
        "colab": {
          "base_uri": "https://localhost:8080/",
          "height": 275
        }
      },
      "source": [
        "nairobi_tweets.info"
      ],
      "execution_count": null,
      "outputs": [
        {
          "output_type": "execute_result",
          "data": {
            "text/plain": [
              "<bound method DataFrame.info of       Unnamed: 0  ...                                                                                             HASHTAGS\n",
              "0              0  ...             #FACupFinal #ruiru #lockdownextension #COVID19KE #TheUmbrellaAcademy #TheUmbrellaAcademy\n",
              "1              1  ...                                                                                                  NaN\n",
              "2              2  ...                                                                        #COVID19KE #TheScoreKE #ruiru\n",
              "3              3  ...                                                                    #BuildBackBetter #SDGs #COVID19KE\n",
              "4              4  ...                                                                                           #COVID19KE\n",
              "...          ...  ...                                                                                                  ...\n",
              "8636         225  ...                                                                                   #lockdownextension\n",
              "8637         226  ...  #RealRuto #KunaHopeTutawin #COVID19 #FullMoon #WednesdayMotivation #WednesdayThoughts #lockdowne...\n",
              "8638         227  ...                                                             #lockdownextension #SouthSudan #RealRuto\n",
              "8639         228  ...  #KunaHopeTutawin #COVID19 #WednesdayMotivation #StayHome #StayHome #WednesdayThoughts #lockdowne...\n",
              "8640         229  ...  #WiredEA #17mps #coronavirusinKenya #FullMoon #CoronavirusPandemic #StayHome #StayHome #lockdown...\n",
              "\n",
              "[8641 rows x 8 columns]>"
            ]
          },
          "metadata": {
            "tags": []
          },
          "execution_count": 47
        }
      ]
    },
    {
      "cell_type": "code",
      "metadata": {
        "id": "VO4Y7UZtzlS8",
        "outputId": "0bfb889f-02ce-462d-c964-8ab633daf603",
        "colab": {
          "base_uri": "https://localhost:8080/",
          "height": 153
        }
      },
      "source": [
        "#List the column names\n",
        "\n",
        "for col in nairobi_tweets:\n",
        "  print (col)"
      ],
      "execution_count": null,
      "outputs": [
        {
          "output_type": "stream",
          "text": [
            "Unnamed: 0\n",
            "ID\n",
            "DATE\n",
            "TWEET\n",
            "LOCATION\n",
            "RETWEETS\n",
            "FAVORITES\n",
            "HASHTAGS\n"
          ],
          "name": "stdout"
        }
      ]
    },
    {
      "cell_type": "code",
      "metadata": {
        "id": "NP34xBoZwspF"
      },
      "source": [
        "#Drop the 'location' and 'Unnamed 0:' columns from the df\n",
        "\n",
        "nairobi_tweets.drop([\"Unnamed: 0\", \"LOCATION\"], axis = 1, inplace = True) "
      ],
      "execution_count": null,
      "outputs": []
    },
    {
      "cell_type": "code",
      "metadata": {
        "id": "A0YJ88SS0Jir"
      },
      "source": [
        "# Save the updated dataframe to a new csv file\n",
        "\n",
        "nairobi_tweets.to_csv('/content/gdrive/My Drive/Tweets/nairobi_final.csv')"
      ],
      "execution_count": null,
      "outputs": []
    },
    {
      "cell_type": "code",
      "metadata": {
        "id": "D-RWP8Tb1phg",
        "outputId": "6c46b957-9d0e-403f-9626-015ef4bfbd12",
        "colab": {
          "base_uri": "https://localhost:8080/",
          "height": 374
        }
      },
      "source": [
        "#Load the updated csv file\n",
        "\n",
        "new_df = pd.read_csv('/content/gdrive/My Drive/Tweets/nairobi_final.csv')\n",
        "\n",
        "#get the shape of the dataframe\n",
        "print(new_df.shape)\n",
        "\n",
        "new_df.head()  #the Unnamed: 0 column does not delete, it resulted from the merged datasets of tweets fetched from Nairobi."
      ],
      "execution_count": null,
      "outputs": [
        {
          "output_type": "stream",
          "text": [
            "(8641, 7)\n"
          ],
          "name": "stdout"
        },
        {
          "output_type": "execute_result",
          "data": {
            "text/html": [
              "<div>\n",
              "<style scoped>\n",
              "    .dataframe tbody tr th:only-of-type {\n",
              "        vertical-align: middle;\n",
              "    }\n",
              "\n",
              "    .dataframe tbody tr th {\n",
              "        vertical-align: top;\n",
              "    }\n",
              "\n",
              "    .dataframe thead th {\n",
              "        text-align: right;\n",
              "    }\n",
              "</style>\n",
              "<table border=\"1\" class=\"dataframe\">\n",
              "  <thead>\n",
              "    <tr style=\"text-align: right;\">\n",
              "      <th></th>\n",
              "      <th>Unnamed: 0</th>\n",
              "      <th>ID</th>\n",
              "      <th>DATE</th>\n",
              "      <th>TWEET</th>\n",
              "      <th>RETWEETS</th>\n",
              "      <th>FAVORITES</th>\n",
              "      <th>HASHTAGS</th>\n",
              "    </tr>\n",
              "  </thead>\n",
              "  <tbody>\n",
              "    <tr>\n",
              "      <th>0</th>\n",
              "      <td>0</td>\n",
              "      <td>1289314486092877825</td>\n",
              "      <td>2020-07-31 21:38:22+00:00</td>\n",
              "      <td>#FACupFinal #ruiru #lockdownextension #COVID19KE #TheUmbrellaAcademy https://m.facebook.com/stor...</td>\n",
              "      <td>0</td>\n",
              "      <td>1</td>\n",
              "      <td>#FACupFinal #ruiru #lockdownextension #COVID19KE #TheUmbrellaAcademy #TheUmbrellaAcademy</td>\n",
              "    </tr>\n",
              "    <tr>\n",
              "      <th>1</th>\n",
              "      <td>1</td>\n",
              "      <td>1215096387550896128</td>\n",
              "      <td>2020-01-09 02:22:08+00:00</td>\n",
              "      <td>Check out Audio Book Elven Magic on Audible, amazon pay $75 for every bounty(have to be a member...</td>\n",
              "      <td>28</td>\n",
              "      <td>108</td>\n",
              "      <td>NaN</td>\n",
              "    </tr>\n",
              "    <tr>\n",
              "      <th>2</th>\n",
              "      <td>2</td>\n",
              "      <td>1289257452219793408</td>\n",
              "      <td>2020-07-31 17:51:44+00:00</td>\n",
              "      <td>#COVID19KE #TheScoreKE #ruiru</td>\n",
              "      <td>0</td>\n",
              "      <td>2</td>\n",
              "      <td>#COVID19KE #TheScoreKE #ruiru</td>\n",
              "    </tr>\n",
              "    <tr>\n",
              "      <th>3</th>\n",
              "      <td>3</td>\n",
              "      <td>1289191573054345219</td>\n",
              "      <td>2020-07-31 13:29:57+00:00</td>\n",
              "      <td>In the opening remarks @Ezra_K_Yego mentioned that it is extremely important for us to come up w...</td>\n",
              "      <td>10</td>\n",
              "      <td>28</td>\n",
              "      <td>#BuildBackBetter #SDGs #COVID19KE</td>\n",
              "    </tr>\n",
              "    <tr>\n",
              "      <th>4</th>\n",
              "      <td>4</td>\n",
              "      <td>1289142305593724928</td>\n",
              "      <td>2020-07-31 10:14:11+00:00</td>\n",
              "      <td>Wishing him and all front line workers quick recovery from #COVID19KE.</td>\n",
              "      <td>0</td>\n",
              "      <td>0</td>\n",
              "      <td>#COVID19KE</td>\n",
              "    </tr>\n",
              "  </tbody>\n",
              "</table>\n",
              "</div>"
            ],
            "text/plain": [
              "   Unnamed: 0  ...                                                                                  HASHTAGS\n",
              "0           0  ...  #FACupFinal #ruiru #lockdownextension #COVID19KE #TheUmbrellaAcademy #TheUmbrellaAcademy\n",
              "1           1  ...                                                                                       NaN\n",
              "2           2  ...                                                             #COVID19KE #TheScoreKE #ruiru\n",
              "3           3  ...                                                         #BuildBackBetter #SDGs #COVID19KE\n",
              "4           4  ...                                                                                #COVID19KE\n",
              "\n",
              "[5 rows x 7 columns]"
            ]
          },
          "metadata": {
            "tags": []
          },
          "execution_count": 51
        }
      ]
    },
    {
      "cell_type": "code",
      "metadata": {
        "id": "YnQJBgMw45bc",
        "outputId": "7215564f-a55f-4c5b-ad55-08631040fead",
        "colab": {
          "base_uri": "https://localhost:8080/",
          "height": 51
        }
      },
      "source": [
        "#Check for the max and min dates in the data frame\n",
        "#not correct as such in some instances\n",
        "\n",
        "print(f\" Data Available since {new_df.DATE.min()}\")\n",
        "print(f\" Data Available upto {new_df.DATE.max()}\")"
      ],
      "execution_count": null,
      "outputs": [
        {
          "output_type": "stream",
          "text": [
            " Data Available since 2019-11-09 11:23:40+00:00\n",
            " Data Available upto 2020-08-14 13:13:25+00:00\n"
          ],
          "name": "stdout"
        }
      ]
    },
    {
      "cell_type": "code",
      "metadata": {
        "id": "jP-yOXA-5X3J",
        "outputId": "dfb6e59b-ab4e-4c02-9160-0e9f46dd1334",
        "colab": {
          "base_uri": "https://localhost:8080/",
          "height": 171
        }
      },
      "source": [
        "#Checking for null values\n",
        "\n",
        "new_df.isnull().mean()*100 \n",
        "\n",
        "print(new_df.isnull().sum())\n",
        "\n",
        "'''There are null values in the hashtags column...\n",
        "Droping these 1159 NAN values in the hashtag column would result in the loss of similar rows of data.\n",
        "Missing values causes problems with predictor models such as SVM, we retain the NAN's because our\n",
        "problem requires a classification model.'''\n",
        "\n",
        "#Do not run lines 13 & 14 of the cell!!\n",
        "'''new_df.dropna(inplace=True)\n",
        "print(new_df.shape)'''"
      ],
      "execution_count": null,
      "outputs": [
        {
          "output_type": "stream",
          "text": [
            "Unnamed: 0       0\n",
            "ID               0\n",
            "DATE             0\n",
            "TWEET            0\n",
            "RETWEETS         0\n",
            "FAVORITES        0\n",
            "HASHTAGS      1159\n",
            "dtype: int64\n"
          ],
          "name": "stdout"
        },
        {
          "output_type": "execute_result",
          "data": {
            "application/vnd.google.colaboratory.intrinsic+json": {
              "type": "string"
            },
            "text/plain": [
              "'new_df.dropna(inplace=True)\\nprint(new_df.shape)'"
            ]
          },
          "metadata": {
            "tags": []
          },
          "execution_count": 53
        }
      ]
    },
    {
      "cell_type": "code",
      "metadata": {
        "id": "Kv-DLMdua4d8",
        "outputId": "6e9800e9-46e5-4039-e82d-ea404a786fc9",
        "colab": {
          "base_uri": "https://localhost:8080/",
          "height": 476
        }
      },
      "source": [
        "#Removing contractions from the tweet column\n",
        "\n",
        "new_df['UNCONTRACTED'] = new_df['TWEET'].apply(lambda x: [contractions.fix(word) for word in x.split()])\n",
        "new_df.head()"
      ],
      "execution_count": null,
      "outputs": [
        {
          "output_type": "execute_result",
          "data": {
            "text/html": [
              "<div>\n",
              "<style scoped>\n",
              "    .dataframe tbody tr th:only-of-type {\n",
              "        vertical-align: middle;\n",
              "    }\n",
              "\n",
              "    .dataframe tbody tr th {\n",
              "        vertical-align: top;\n",
              "    }\n",
              "\n",
              "    .dataframe thead th {\n",
              "        text-align: right;\n",
              "    }\n",
              "</style>\n",
              "<table border=\"1\" class=\"dataframe\">\n",
              "  <thead>\n",
              "    <tr style=\"text-align: right;\">\n",
              "      <th></th>\n",
              "      <th>Unnamed: 0</th>\n",
              "      <th>ID</th>\n",
              "      <th>DATE</th>\n",
              "      <th>TWEET</th>\n",
              "      <th>RETWEETS</th>\n",
              "      <th>FAVORITES</th>\n",
              "      <th>HASHTAGS</th>\n",
              "      <th>UNCONTRACTED</th>\n",
              "    </tr>\n",
              "  </thead>\n",
              "  <tbody>\n",
              "    <tr>\n",
              "      <th>0</th>\n",
              "      <td>0</td>\n",
              "      <td>1289314486092877825</td>\n",
              "      <td>2020-07-31 21:38:22+00:00</td>\n",
              "      <td>#FACupFinal #ruiru #lockdownextension #COVID19KE #TheUmbrellaAcademy https://m.facebook.com/stor...</td>\n",
              "      <td>0</td>\n",
              "      <td>1</td>\n",
              "      <td>#FACupFinal #ruiru #lockdownextension #COVID19KE #TheUmbrellaAcademy #TheUmbrellaAcademy</td>\n",
              "      <td>[#FACupFinal, #ruiru, #lockdownextension, #COVID19KE, #TheUmbrellaAcademy, https://m.facebook.co...</td>\n",
              "    </tr>\n",
              "    <tr>\n",
              "      <th>1</th>\n",
              "      <td>1</td>\n",
              "      <td>1215096387550896128</td>\n",
              "      <td>2020-01-09 02:22:08+00:00</td>\n",
              "      <td>Check out Audio Book Elven Magic on Audible, amazon pay $75 for every bounty(have to be a member...</td>\n",
              "      <td>28</td>\n",
              "      <td>108</td>\n",
              "      <td>NaN</td>\n",
              "      <td>[Check, out, Audio, Book, Elven, Magic, on, Audible,, amazon, pay, $75, for, every, bounty(have,...</td>\n",
              "    </tr>\n",
              "    <tr>\n",
              "      <th>2</th>\n",
              "      <td>2</td>\n",
              "      <td>1289257452219793408</td>\n",
              "      <td>2020-07-31 17:51:44+00:00</td>\n",
              "      <td>#COVID19KE #TheScoreKE #ruiru</td>\n",
              "      <td>0</td>\n",
              "      <td>2</td>\n",
              "      <td>#COVID19KE #TheScoreKE #ruiru</td>\n",
              "      <td>[#COVID19KE, #TheScoreKE, #ruiru]</td>\n",
              "    </tr>\n",
              "    <tr>\n",
              "      <th>3</th>\n",
              "      <td>3</td>\n",
              "      <td>1289191573054345219</td>\n",
              "      <td>2020-07-31 13:29:57+00:00</td>\n",
              "      <td>In the opening remarks @Ezra_K_Yego mentioned that it is extremely important for us to come up w...</td>\n",
              "      <td>10</td>\n",
              "      <td>28</td>\n",
              "      <td>#BuildBackBetter #SDGs #COVID19KE</td>\n",
              "      <td>[In, the, opening, remarks, @Ezra_K_Yego, mentioned, that, it, is, extremely, important, for, us...</td>\n",
              "    </tr>\n",
              "    <tr>\n",
              "      <th>4</th>\n",
              "      <td>4</td>\n",
              "      <td>1289142305593724928</td>\n",
              "      <td>2020-07-31 10:14:11+00:00</td>\n",
              "      <td>Wishing him and all front line workers quick recovery from #COVID19KE.</td>\n",
              "      <td>0</td>\n",
              "      <td>0</td>\n",
              "      <td>#COVID19KE</td>\n",
              "      <td>[Wishing, him, and, all, front, line, workers, quick, recovery, from, #COVID19KE.]</td>\n",
              "    </tr>\n",
              "  </tbody>\n",
              "</table>\n",
              "</div>"
            ],
            "text/plain": [
              "   Unnamed: 0  ...                                                                                         UNCONTRACTED\n",
              "0           0  ...  [#FACupFinal, #ruiru, #lockdownextension, #COVID19KE, #TheUmbrellaAcademy, https://m.facebook.co...\n",
              "1           1  ...  [Check, out, Audio, Book, Elven, Magic, on, Audible,, amazon, pay, $75, for, every, bounty(have,...\n",
              "2           2  ...                                                                    [#COVID19KE, #TheScoreKE, #ruiru]\n",
              "3           3  ...  [In, the, opening, remarks, @Ezra_K_Yego, mentioned, that, it, is, extremely, important, for, us...\n",
              "4           4  ...                   [Wishing, him, and, all, front, line, workers, quick, recovery, from, #COVID19KE.]\n",
              "\n",
              "[5 rows x 8 columns]"
            ]
          },
          "metadata": {
            "tags": []
          },
          "execution_count": 54
        }
      ]
    },
    {
      "cell_type": "code",
      "metadata": {
        "id": "7ZbBrlvYdxhm",
        "outputId": "7a841533-bb7b-43dd-df24-22e7ec0f4767",
        "colab": {
          "base_uri": "https://localhost:8080/",
          "height": 530
        }
      },
      "source": [
        "#Converting the Uncontracted twwets to a string\n",
        "\n",
        "new_df['UNCONTRACTED_STR'] = [' '.join(map(str, l)) for l in new_df['UNCONTRACTED']]\n",
        "new_df.head()"
      ],
      "execution_count": null,
      "outputs": [
        {
          "output_type": "execute_result",
          "data": {
            "text/html": [
              "<div>\n",
              "<style scoped>\n",
              "    .dataframe tbody tr th:only-of-type {\n",
              "        vertical-align: middle;\n",
              "    }\n",
              "\n",
              "    .dataframe tbody tr th {\n",
              "        vertical-align: top;\n",
              "    }\n",
              "\n",
              "    .dataframe thead th {\n",
              "        text-align: right;\n",
              "    }\n",
              "</style>\n",
              "<table border=\"1\" class=\"dataframe\">\n",
              "  <thead>\n",
              "    <tr style=\"text-align: right;\">\n",
              "      <th></th>\n",
              "      <th>Unnamed: 0</th>\n",
              "      <th>ID</th>\n",
              "      <th>DATE</th>\n",
              "      <th>TWEET</th>\n",
              "      <th>RETWEETS</th>\n",
              "      <th>FAVORITES</th>\n",
              "      <th>HASHTAGS</th>\n",
              "      <th>UNCONTRACTED</th>\n",
              "      <th>UNCONTRACTED_STR</th>\n",
              "    </tr>\n",
              "  </thead>\n",
              "  <tbody>\n",
              "    <tr>\n",
              "      <th>0</th>\n",
              "      <td>0</td>\n",
              "      <td>1289314486092877825</td>\n",
              "      <td>2020-07-31 21:38:22+00:00</td>\n",
              "      <td>#FACupFinal #ruiru #lockdownextension #COVID19KE #TheUmbrellaAcademy https://m.facebook.com/stor...</td>\n",
              "      <td>0</td>\n",
              "      <td>1</td>\n",
              "      <td>#FACupFinal #ruiru #lockdownextension #COVID19KE #TheUmbrellaAcademy #TheUmbrellaAcademy</td>\n",
              "      <td>[#FACupFinal, #ruiru, #lockdownextension, #COVID19KE, #TheUmbrellaAcademy, https://m.facebook.co...</td>\n",
              "      <td>#FACupFinal #ruiru #lockdownextension #COVID19KE #TheUmbrellaAcademy https://m.facebook.com/stor...</td>\n",
              "    </tr>\n",
              "    <tr>\n",
              "      <th>1</th>\n",
              "      <td>1</td>\n",
              "      <td>1215096387550896128</td>\n",
              "      <td>2020-01-09 02:22:08+00:00</td>\n",
              "      <td>Check out Audio Book Elven Magic on Audible, amazon pay $75 for every bounty(have to be a member...</td>\n",
              "      <td>28</td>\n",
              "      <td>108</td>\n",
              "      <td>NaN</td>\n",
              "      <td>[Check, out, Audio, Book, Elven, Magic, on, Audible,, amazon, pay, $75, for, every, bounty(have,...</td>\n",
              "      <td>Check out Audio Book Elven Magic on Audible, amazon pay $75 for every bounty(have to be a member...</td>\n",
              "    </tr>\n",
              "    <tr>\n",
              "      <th>2</th>\n",
              "      <td>2</td>\n",
              "      <td>1289257452219793408</td>\n",
              "      <td>2020-07-31 17:51:44+00:00</td>\n",
              "      <td>#COVID19KE #TheScoreKE #ruiru</td>\n",
              "      <td>0</td>\n",
              "      <td>2</td>\n",
              "      <td>#COVID19KE #TheScoreKE #ruiru</td>\n",
              "      <td>[#COVID19KE, #TheScoreKE, #ruiru]</td>\n",
              "      <td>#COVID19KE #TheScoreKE #ruiru</td>\n",
              "    </tr>\n",
              "    <tr>\n",
              "      <th>3</th>\n",
              "      <td>3</td>\n",
              "      <td>1289191573054345219</td>\n",
              "      <td>2020-07-31 13:29:57+00:00</td>\n",
              "      <td>In the opening remarks @Ezra_K_Yego mentioned that it is extremely important for us to come up w...</td>\n",
              "      <td>10</td>\n",
              "      <td>28</td>\n",
              "      <td>#BuildBackBetter #SDGs #COVID19KE</td>\n",
              "      <td>[In, the, opening, remarks, @Ezra_K_Yego, mentioned, that, it, is, extremely, important, for, us...</td>\n",
              "      <td>In the opening remarks @Ezra_K_Yego mentioned that it is extremely important for us to come up w...</td>\n",
              "    </tr>\n",
              "    <tr>\n",
              "      <th>4</th>\n",
              "      <td>4</td>\n",
              "      <td>1289142305593724928</td>\n",
              "      <td>2020-07-31 10:14:11+00:00</td>\n",
              "      <td>Wishing him and all front line workers quick recovery from #COVID19KE.</td>\n",
              "      <td>0</td>\n",
              "      <td>0</td>\n",
              "      <td>#COVID19KE</td>\n",
              "      <td>[Wishing, him, and, all, front, line, workers, quick, recovery, from, #COVID19KE.]</td>\n",
              "      <td>Wishing him and all front line workers quick recovery from #COVID19KE.</td>\n",
              "    </tr>\n",
              "  </tbody>\n",
              "</table>\n",
              "</div>"
            ],
            "text/plain": [
              "   Unnamed: 0  ...                                                                                     UNCONTRACTED_STR\n",
              "0           0  ...  #FACupFinal #ruiru #lockdownextension #COVID19KE #TheUmbrellaAcademy https://m.facebook.com/stor...\n",
              "1           1  ...  Check out Audio Book Elven Magic on Audible, amazon pay $75 for every bounty(have to be a member...\n",
              "2           2  ...                                                                        #COVID19KE #TheScoreKE #ruiru\n",
              "3           3  ...  In the opening remarks @Ezra_K_Yego mentioned that it is extremely important for us to come up w...\n",
              "4           4  ...                               Wishing him and all front line workers quick recovery from #COVID19KE.\n",
              "\n",
              "[5 rows x 9 columns]"
            ]
          },
          "metadata": {
            "tags": []
          },
          "execution_count": 55
        }
      ]
    },
    {
      "cell_type": "code",
      "metadata": {
        "id": "bCVwv6E_fiDT",
        "outputId": "5721e94c-dfcc-4f9e-9072-8bc2f15c35f3",
        "colab": {
          "base_uri": "https://localhost:8080/",
          "height": 129
        }
      },
      "source": [
        "#English Language Identification\n",
        "\n",
        "pretrained_model = \"lid.176.bin\" \n",
        "model = fasttext.load_model(pretrained_model)langs=[]\n",
        "for sent in new_df['UNCONTRACTED_STR']:\n",
        "    lang = model.predict(sent)[0]\n",
        "    langs.append(str(lang)[11:13])\n",
        "new_df['langs'] = langs"
      ],
      "execution_count": null,
      "outputs": [
        {
          "output_type": "error",
          "ename": "SyntaxError",
          "evalue": "ignored",
          "traceback": [
            "\u001b[0;36m  File \u001b[0;32m\"<ipython-input-57-18c4df7d3b83>\"\u001b[0;36m, line \u001b[0;32m4\u001b[0m\n\u001b[0;31m    model = fasttext.load_model(pretrained_model)langs=[]\u001b[0m\n\u001b[0m                                                     ^\u001b[0m\n\u001b[0;31mSyntaxError\u001b[0m\u001b[0;31m:\u001b[0m invalid syntax\n"
          ]
        }
      ]
    },
    {
      "cell_type": "code",
      "metadata": {
        "id": "ALb9sxvNS8Tc",
        "outputId": "301f230d-797d-4933-ecc6-d39391926a44",
        "colab": {
          "base_uri": "https://localhost:8080/",
          "height": 68
        }
      },
      "source": [
        "nltk.download('punkt')"
      ],
      "execution_count": null,
      "outputs": [
        {
          "output_type": "stream",
          "text": [
            "[nltk_data] Downloading package punkt to /root/nltk_data...\n",
            "[nltk_data]   Package punkt is already up-to-date!\n"
          ],
          "name": "stdout"
        },
        {
          "output_type": "execute_result",
          "data": {
            "text/plain": [
              "True"
            ]
          },
          "metadata": {
            "tags": []
          },
          "execution_count": 58
        }
      ]
    },
    {
      "cell_type": "code",
      "metadata": {
        "id": "IvJYFcEFv0_7",
        "outputId": "e3109d8a-a138-4bc4-ee4b-cb5cfdaa4b74",
        "colab": {
          "base_uri": "https://localhost:8080/",
          "height": 547
        }
      },
      "source": [
        "#Applying Tokenizer Function\n",
        "\n",
        "new_df['TOKENIZED'] = new_df['UNCONTRACTED_STR'].apply(word_tokenize)\n",
        "\n",
        "new_df.head()"
      ],
      "execution_count": null,
      "outputs": [
        {
          "output_type": "execute_result",
          "data": {
            "text/html": [
              "<div>\n",
              "<style scoped>\n",
              "    .dataframe tbody tr th:only-of-type {\n",
              "        vertical-align: middle;\n",
              "    }\n",
              "\n",
              "    .dataframe tbody tr th {\n",
              "        vertical-align: top;\n",
              "    }\n",
              "\n",
              "    .dataframe thead th {\n",
              "        text-align: right;\n",
              "    }\n",
              "</style>\n",
              "<table border=\"1\" class=\"dataframe\">\n",
              "  <thead>\n",
              "    <tr style=\"text-align: right;\">\n",
              "      <th></th>\n",
              "      <th>Unnamed: 0</th>\n",
              "      <th>ID</th>\n",
              "      <th>DATE</th>\n",
              "      <th>TWEET</th>\n",
              "      <th>RETWEETS</th>\n",
              "      <th>FAVORITES</th>\n",
              "      <th>HASHTAGS</th>\n",
              "      <th>UNCONTRACTED</th>\n",
              "      <th>UNCONTRACTED_STR</th>\n",
              "      <th>TOKENIZED</th>\n",
              "    </tr>\n",
              "  </thead>\n",
              "  <tbody>\n",
              "    <tr>\n",
              "      <th>0</th>\n",
              "      <td>0</td>\n",
              "      <td>1289314486092877825</td>\n",
              "      <td>2020-07-31 21:38:22+00:00</td>\n",
              "      <td>#FACupFinal #ruiru #lockdownextension #COVID19KE #TheUmbrellaAcademy https://m.facebook.com/stor...</td>\n",
              "      <td>0</td>\n",
              "      <td>1</td>\n",
              "      <td>#FACupFinal #ruiru #lockdownextension #COVID19KE #TheUmbrellaAcademy #TheUmbrellaAcademy</td>\n",
              "      <td>[#FACupFinal, #ruiru, #lockdownextension, #COVID19KE, #TheUmbrellaAcademy, https://m.facebook.co...</td>\n",
              "      <td>#FACupFinal #ruiru #lockdownextension #COVID19KE #TheUmbrellaAcademy https://m.facebook.com/stor...</td>\n",
              "      <td>[#, FACupFinal, #, ruiru, #, lockdownextension, #, COVID19KE, #, TheUmbrellaAcademy, https, :, /...</td>\n",
              "    </tr>\n",
              "    <tr>\n",
              "      <th>1</th>\n",
              "      <td>1</td>\n",
              "      <td>1215096387550896128</td>\n",
              "      <td>2020-01-09 02:22:08+00:00</td>\n",
              "      <td>Check out Audio Book Elven Magic on Audible, amazon pay $75 for every bounty(have to be a member...</td>\n",
              "      <td>28</td>\n",
              "      <td>108</td>\n",
              "      <td>NaN</td>\n",
              "      <td>[Check, out, Audio, Book, Elven, Magic, on, Audible,, amazon, pay, $75, for, every, bounty(have,...</td>\n",
              "      <td>Check out Audio Book Elven Magic on Audible, amazon pay $75 for every bounty(have to be a member...</td>\n",
              "      <td>[Check, out, Audio, Book, Elven, Magic, on, Audible, ,, amazon, pay, $, 75, for, every, bounty, ...</td>\n",
              "    </tr>\n",
              "    <tr>\n",
              "      <th>2</th>\n",
              "      <td>2</td>\n",
              "      <td>1289257452219793408</td>\n",
              "      <td>2020-07-31 17:51:44+00:00</td>\n",
              "      <td>#COVID19KE #TheScoreKE #ruiru</td>\n",
              "      <td>0</td>\n",
              "      <td>2</td>\n",
              "      <td>#COVID19KE #TheScoreKE #ruiru</td>\n",
              "      <td>[#COVID19KE, #TheScoreKE, #ruiru]</td>\n",
              "      <td>#COVID19KE #TheScoreKE #ruiru</td>\n",
              "      <td>[#, COVID19KE, #, TheScoreKE, #, ruiru]</td>\n",
              "    </tr>\n",
              "    <tr>\n",
              "      <th>3</th>\n",
              "      <td>3</td>\n",
              "      <td>1289191573054345219</td>\n",
              "      <td>2020-07-31 13:29:57+00:00</td>\n",
              "      <td>In the opening remarks @Ezra_K_Yego mentioned that it is extremely important for us to come up w...</td>\n",
              "      <td>10</td>\n",
              "      <td>28</td>\n",
              "      <td>#BuildBackBetter #SDGs #COVID19KE</td>\n",
              "      <td>[In, the, opening, remarks, @Ezra_K_Yego, mentioned, that, it, is, extremely, important, for, us...</td>\n",
              "      <td>In the opening remarks @Ezra_K_Yego mentioned that it is extremely important for us to come up w...</td>\n",
              "      <td>[In, the, opening, remarks, @, Ezra_K_Yego, mentioned, that, it, is, extremely, important, for, ...</td>\n",
              "    </tr>\n",
              "    <tr>\n",
              "      <th>4</th>\n",
              "      <td>4</td>\n",
              "      <td>1289142305593724928</td>\n",
              "      <td>2020-07-31 10:14:11+00:00</td>\n",
              "      <td>Wishing him and all front line workers quick recovery from #COVID19KE.</td>\n",
              "      <td>0</td>\n",
              "      <td>0</td>\n",
              "      <td>#COVID19KE</td>\n",
              "      <td>[Wishing, him, and, all, front, line, workers, quick, recovery, from, #COVID19KE.]</td>\n",
              "      <td>Wishing him and all front line workers quick recovery from #COVID19KE.</td>\n",
              "      <td>[Wishing, him, and, all, front, line, workers, quick, recovery, from, #, COVID19KE, .]</td>\n",
              "    </tr>\n",
              "  </tbody>\n",
              "</table>\n",
              "</div>"
            ],
            "text/plain": [
              "   Unnamed: 0  ...                                                                                            TOKENIZED\n",
              "0           0  ...  [#, FACupFinal, #, ruiru, #, lockdownextension, #, COVID19KE, #, TheUmbrellaAcademy, https, :, /...\n",
              "1           1  ...  [Check, out, Audio, Book, Elven, Magic, on, Audible, ,, amazon, pay, $, 75, for, every, bounty, ...\n",
              "2           2  ...                                                              [#, COVID19KE, #, TheScoreKE, #, ruiru]\n",
              "3           3  ...  [In, the, opening, remarks, @, Ezra_K_Yego, mentioned, that, it, is, extremely, important, for, ...\n",
              "4           4  ...               [Wishing, him, and, all, front, line, workers, quick, recovery, from, #, COVID19KE, .]\n",
              "\n",
              "[5 rows x 10 columns]"
            ]
          },
          "metadata": {
            "tags": []
          },
          "execution_count": 59
        }
      ]
    },
    {
      "cell_type": "code",
      "metadata": {
        "id": "0Y37FuWhxBLQ",
        "outputId": "86d5d5bb-922d-481f-a1f5-54a4fcf12a06",
        "colab": {
          "base_uri": "https://localhost:8080/",
          "height": 564
        }
      },
      "source": [
        "#Converting all characters to lowercase\n",
        "\n",
        "new_df['LOWER'] = new_df['TOKENIZED'].apply(lambda x: [word.lower() for word in x])\n",
        "\n",
        "new_df.head()"
      ],
      "execution_count": null,
      "outputs": [
        {
          "output_type": "execute_result",
          "data": {
            "text/html": [
              "<div>\n",
              "<style scoped>\n",
              "    .dataframe tbody tr th:only-of-type {\n",
              "        vertical-align: middle;\n",
              "    }\n",
              "\n",
              "    .dataframe tbody tr th {\n",
              "        vertical-align: top;\n",
              "    }\n",
              "\n",
              "    .dataframe thead th {\n",
              "        text-align: right;\n",
              "    }\n",
              "</style>\n",
              "<table border=\"1\" class=\"dataframe\">\n",
              "  <thead>\n",
              "    <tr style=\"text-align: right;\">\n",
              "      <th></th>\n",
              "      <th>Unnamed: 0</th>\n",
              "      <th>ID</th>\n",
              "      <th>DATE</th>\n",
              "      <th>TWEET</th>\n",
              "      <th>RETWEETS</th>\n",
              "      <th>FAVORITES</th>\n",
              "      <th>HASHTAGS</th>\n",
              "      <th>UNCONTRACTED</th>\n",
              "      <th>UNCONTRACTED_STR</th>\n",
              "      <th>TOKENIZED</th>\n",
              "      <th>LOWER</th>\n",
              "    </tr>\n",
              "  </thead>\n",
              "  <tbody>\n",
              "    <tr>\n",
              "      <th>0</th>\n",
              "      <td>0</td>\n",
              "      <td>1289314486092877825</td>\n",
              "      <td>2020-07-31 21:38:22+00:00</td>\n",
              "      <td>#FACupFinal #ruiru #lockdownextension #COVID19KE #TheUmbrellaAcademy https://m.facebook.com/stor...</td>\n",
              "      <td>0</td>\n",
              "      <td>1</td>\n",
              "      <td>#FACupFinal #ruiru #lockdownextension #COVID19KE #TheUmbrellaAcademy #TheUmbrellaAcademy</td>\n",
              "      <td>[#FACupFinal, #ruiru, #lockdownextension, #COVID19KE, #TheUmbrellaAcademy, https://m.facebook.co...</td>\n",
              "      <td>#FACupFinal #ruiru #lockdownextension #COVID19KE #TheUmbrellaAcademy https://m.facebook.com/stor...</td>\n",
              "      <td>[#, FACupFinal, #, ruiru, #, lockdownextension, #, COVID19KE, #, TheUmbrellaAcademy, https, :, /...</td>\n",
              "      <td>[#, facupfinal, #, ruiru, #, lockdownextension, #, covid19ke, #, theumbrellaacademy, https, :, /...</td>\n",
              "    </tr>\n",
              "    <tr>\n",
              "      <th>1</th>\n",
              "      <td>1</td>\n",
              "      <td>1215096387550896128</td>\n",
              "      <td>2020-01-09 02:22:08+00:00</td>\n",
              "      <td>Check out Audio Book Elven Magic on Audible, amazon pay $75 for every bounty(have to be a member...</td>\n",
              "      <td>28</td>\n",
              "      <td>108</td>\n",
              "      <td>NaN</td>\n",
              "      <td>[Check, out, Audio, Book, Elven, Magic, on, Audible,, amazon, pay, $75, for, every, bounty(have,...</td>\n",
              "      <td>Check out Audio Book Elven Magic on Audible, amazon pay $75 for every bounty(have to be a member...</td>\n",
              "      <td>[Check, out, Audio, Book, Elven, Magic, on, Audible, ,, amazon, pay, $, 75, for, every, bounty, ...</td>\n",
              "      <td>[check, out, audio, book, elven, magic, on, audible, ,, amazon, pay, $, 75, for, every, bounty, ...</td>\n",
              "    </tr>\n",
              "    <tr>\n",
              "      <th>2</th>\n",
              "      <td>2</td>\n",
              "      <td>1289257452219793408</td>\n",
              "      <td>2020-07-31 17:51:44+00:00</td>\n",
              "      <td>#COVID19KE #TheScoreKE #ruiru</td>\n",
              "      <td>0</td>\n",
              "      <td>2</td>\n",
              "      <td>#COVID19KE #TheScoreKE #ruiru</td>\n",
              "      <td>[#COVID19KE, #TheScoreKE, #ruiru]</td>\n",
              "      <td>#COVID19KE #TheScoreKE #ruiru</td>\n",
              "      <td>[#, COVID19KE, #, TheScoreKE, #, ruiru]</td>\n",
              "      <td>[#, covid19ke, #, thescoreke, #, ruiru]</td>\n",
              "    </tr>\n",
              "    <tr>\n",
              "      <th>3</th>\n",
              "      <td>3</td>\n",
              "      <td>1289191573054345219</td>\n",
              "      <td>2020-07-31 13:29:57+00:00</td>\n",
              "      <td>In the opening remarks @Ezra_K_Yego mentioned that it is extremely important for us to come up w...</td>\n",
              "      <td>10</td>\n",
              "      <td>28</td>\n",
              "      <td>#BuildBackBetter #SDGs #COVID19KE</td>\n",
              "      <td>[In, the, opening, remarks, @Ezra_K_Yego, mentioned, that, it, is, extremely, important, for, us...</td>\n",
              "      <td>In the opening remarks @Ezra_K_Yego mentioned that it is extremely important for us to come up w...</td>\n",
              "      <td>[In, the, opening, remarks, @, Ezra_K_Yego, mentioned, that, it, is, extremely, important, for, ...</td>\n",
              "      <td>[in, the, opening, remarks, @, ezra_k_yego, mentioned, that, it, is, extremely, important, for, ...</td>\n",
              "    </tr>\n",
              "    <tr>\n",
              "      <th>4</th>\n",
              "      <td>4</td>\n",
              "      <td>1289142305593724928</td>\n",
              "      <td>2020-07-31 10:14:11+00:00</td>\n",
              "      <td>Wishing him and all front line workers quick recovery from #COVID19KE.</td>\n",
              "      <td>0</td>\n",
              "      <td>0</td>\n",
              "      <td>#COVID19KE</td>\n",
              "      <td>[Wishing, him, and, all, front, line, workers, quick, recovery, from, #COVID19KE.]</td>\n",
              "      <td>Wishing him and all front line workers quick recovery from #COVID19KE.</td>\n",
              "      <td>[Wishing, him, and, all, front, line, workers, quick, recovery, from, #, COVID19KE, .]</td>\n",
              "      <td>[wishing, him, and, all, front, line, workers, quick, recovery, from, #, covid19ke, .]</td>\n",
              "    </tr>\n",
              "  </tbody>\n",
              "</table>\n",
              "</div>"
            ],
            "text/plain": [
              "   Unnamed: 0  ...                                                                                                LOWER\n",
              "0           0  ...  [#, facupfinal, #, ruiru, #, lockdownextension, #, covid19ke, #, theumbrellaacademy, https, :, /...\n",
              "1           1  ...  [check, out, audio, book, elven, magic, on, audible, ,, amazon, pay, $, 75, for, every, bounty, ...\n",
              "2           2  ...                                                              [#, covid19ke, #, thescoreke, #, ruiru]\n",
              "3           3  ...  [in, the, opening, remarks, @, ezra_k_yego, mentioned, that, it, is, extremely, important, for, ...\n",
              "4           4  ...               [wishing, him, and, all, front, line, workers, quick, recovery, from, #, covid19ke, .]\n",
              "\n",
              "[5 rows x 11 columns]"
            ]
          },
          "metadata": {
            "tags": []
          },
          "execution_count": 60
        }
      ]
    },
    {
      "cell_type": "code",
      "metadata": {
        "id": "I6hXMJGhy67S",
        "outputId": "aec90018-7cd5-44b5-c689-451e58e74823",
        "colab": {
          "base_uri": "https://localhost:8080/",
          "height": 564
        }
      },
      "source": [
        "#Removing punctuations\n",
        "\n",
        "punc = string.punctuation\n",
        "new_df['NO_PUNC'] = new_df['LOWER'].apply(lambda x: [word for word in x if word not in punc])\n",
        "new_df.head()"
      ],
      "execution_count": null,
      "outputs": [
        {
          "output_type": "execute_result",
          "data": {
            "text/html": [
              "<div>\n",
              "<style scoped>\n",
              "    .dataframe tbody tr th:only-of-type {\n",
              "        vertical-align: middle;\n",
              "    }\n",
              "\n",
              "    .dataframe tbody tr th {\n",
              "        vertical-align: top;\n",
              "    }\n",
              "\n",
              "    .dataframe thead th {\n",
              "        text-align: right;\n",
              "    }\n",
              "</style>\n",
              "<table border=\"1\" class=\"dataframe\">\n",
              "  <thead>\n",
              "    <tr style=\"text-align: right;\">\n",
              "      <th></th>\n",
              "      <th>Unnamed: 0</th>\n",
              "      <th>ID</th>\n",
              "      <th>DATE</th>\n",
              "      <th>TWEET</th>\n",
              "      <th>RETWEETS</th>\n",
              "      <th>FAVORITES</th>\n",
              "      <th>HASHTAGS</th>\n",
              "      <th>UNCONTRACTED</th>\n",
              "      <th>UNCONTRACTED_STR</th>\n",
              "      <th>TOKENIZED</th>\n",
              "      <th>LOWER</th>\n",
              "      <th>NO_PUNC</th>\n",
              "    </tr>\n",
              "  </thead>\n",
              "  <tbody>\n",
              "    <tr>\n",
              "      <th>0</th>\n",
              "      <td>0</td>\n",
              "      <td>1289314486092877825</td>\n",
              "      <td>2020-07-31 21:38:22+00:00</td>\n",
              "      <td>#FACupFinal #ruiru #lockdownextension #COVID19KE #TheUmbrellaAcademy https://m.facebook.com/stor...</td>\n",
              "      <td>0</td>\n",
              "      <td>1</td>\n",
              "      <td>#FACupFinal #ruiru #lockdownextension #COVID19KE #TheUmbrellaAcademy #TheUmbrellaAcademy</td>\n",
              "      <td>[#FACupFinal, #ruiru, #lockdownextension, #COVID19KE, #TheUmbrellaAcademy, https://m.facebook.co...</td>\n",
              "      <td>#FACupFinal #ruiru #lockdownextension #COVID19KE #TheUmbrellaAcademy https://m.facebook.com/stor...</td>\n",
              "      <td>[#, FACupFinal, #, ruiru, #, lockdownextension, #, COVID19KE, #, TheUmbrellaAcademy, https, :, /...</td>\n",
              "      <td>[#, facupfinal, #, ruiru, #, lockdownextension, #, covid19ke, #, theumbrellaacademy, https, :, /...</td>\n",
              "      <td>[facupfinal, ruiru, lockdownextension, covid19ke, theumbrellaacademy, https, //m.facebook.com/st...</td>\n",
              "    </tr>\n",
              "    <tr>\n",
              "      <th>1</th>\n",
              "      <td>1</td>\n",
              "      <td>1215096387550896128</td>\n",
              "      <td>2020-01-09 02:22:08+00:00</td>\n",
              "      <td>Check out Audio Book Elven Magic on Audible, amazon pay $75 for every bounty(have to be a member...</td>\n",
              "      <td>28</td>\n",
              "      <td>108</td>\n",
              "      <td>NaN</td>\n",
              "      <td>[Check, out, Audio, Book, Elven, Magic, on, Audible,, amazon, pay, $75, for, every, bounty(have,...</td>\n",
              "      <td>Check out Audio Book Elven Magic on Audible, amazon pay $75 for every bounty(have to be a member...</td>\n",
              "      <td>[Check, out, Audio, Book, Elven, Magic, on, Audible, ,, amazon, pay, $, 75, for, every, bounty, ...</td>\n",
              "      <td>[check, out, audio, book, elven, magic, on, audible, ,, amazon, pay, $, 75, for, every, bounty, ...</td>\n",
              "      <td>[check, out, audio, book, elven, magic, on, audible, amazon, pay, 75, for, every, bounty, have, ...</td>\n",
              "    </tr>\n",
              "    <tr>\n",
              "      <th>2</th>\n",
              "      <td>2</td>\n",
              "      <td>1289257452219793408</td>\n",
              "      <td>2020-07-31 17:51:44+00:00</td>\n",
              "      <td>#COVID19KE #TheScoreKE #ruiru</td>\n",
              "      <td>0</td>\n",
              "      <td>2</td>\n",
              "      <td>#COVID19KE #TheScoreKE #ruiru</td>\n",
              "      <td>[#COVID19KE, #TheScoreKE, #ruiru]</td>\n",
              "      <td>#COVID19KE #TheScoreKE #ruiru</td>\n",
              "      <td>[#, COVID19KE, #, TheScoreKE, #, ruiru]</td>\n",
              "      <td>[#, covid19ke, #, thescoreke, #, ruiru]</td>\n",
              "      <td>[covid19ke, thescoreke, ruiru]</td>\n",
              "    </tr>\n",
              "    <tr>\n",
              "      <th>3</th>\n",
              "      <td>3</td>\n",
              "      <td>1289191573054345219</td>\n",
              "      <td>2020-07-31 13:29:57+00:00</td>\n",
              "      <td>In the opening remarks @Ezra_K_Yego mentioned that it is extremely important for us to come up w...</td>\n",
              "      <td>10</td>\n",
              "      <td>28</td>\n",
              "      <td>#BuildBackBetter #SDGs #COVID19KE</td>\n",
              "      <td>[In, the, opening, remarks, @Ezra_K_Yego, mentioned, that, it, is, extremely, important, for, us...</td>\n",
              "      <td>In the opening remarks @Ezra_K_Yego mentioned that it is extremely important for us to come up w...</td>\n",
              "      <td>[In, the, opening, remarks, @, Ezra_K_Yego, mentioned, that, it, is, extremely, important, for, ...</td>\n",
              "      <td>[in, the, opening, remarks, @, ezra_k_yego, mentioned, that, it, is, extremely, important, for, ...</td>\n",
              "      <td>[in, the, opening, remarks, ezra_k_yego, mentioned, that, it, is, extremely, important, for, us,...</td>\n",
              "    </tr>\n",
              "    <tr>\n",
              "      <th>4</th>\n",
              "      <td>4</td>\n",
              "      <td>1289142305593724928</td>\n",
              "      <td>2020-07-31 10:14:11+00:00</td>\n",
              "      <td>Wishing him and all front line workers quick recovery from #COVID19KE.</td>\n",
              "      <td>0</td>\n",
              "      <td>0</td>\n",
              "      <td>#COVID19KE</td>\n",
              "      <td>[Wishing, him, and, all, front, line, workers, quick, recovery, from, #COVID19KE.]</td>\n",
              "      <td>Wishing him and all front line workers quick recovery from #COVID19KE.</td>\n",
              "      <td>[Wishing, him, and, all, front, line, workers, quick, recovery, from, #, COVID19KE, .]</td>\n",
              "      <td>[wishing, him, and, all, front, line, workers, quick, recovery, from, #, covid19ke, .]</td>\n",
              "      <td>[wishing, him, and, all, front, line, workers, quick, recovery, from, covid19ke]</td>\n",
              "    </tr>\n",
              "  </tbody>\n",
              "</table>\n",
              "</div>"
            ],
            "text/plain": [
              "   Unnamed: 0  ...                                                                                              NO_PUNC\n",
              "0           0  ...  [facupfinal, ruiru, lockdownextension, covid19ke, theumbrellaacademy, https, //m.facebook.com/st...\n",
              "1           1  ...  [check, out, audio, book, elven, magic, on, audible, amazon, pay, 75, for, every, bounty, have, ...\n",
              "2           2  ...                                                                       [covid19ke, thescoreke, ruiru]\n",
              "3           3  ...  [in, the, opening, remarks, ezra_k_yego, mentioned, that, it, is, extremely, important, for, us,...\n",
              "4           4  ...                     [wishing, him, and, all, front, line, workers, quick, recovery, from, covid19ke]\n",
              "\n",
              "[5 rows x 12 columns]"
            ]
          },
          "metadata": {
            "tags": []
          },
          "execution_count": 61
        }
      ]
    },
    {
      "cell_type": "code",
      "metadata": {
        "id": "2eJGuSxJTSLB",
        "outputId": "2b0c5b70-4be6-45b7-d5a4-aa291c3adf14",
        "colab": {
          "base_uri": "https://localhost:8080/",
          "height": 68
        }
      },
      "source": [
        "nltk.download('stopwords')"
      ],
      "execution_count": null,
      "outputs": [
        {
          "output_type": "stream",
          "text": [
            "[nltk_data] Downloading package stopwords to /root/nltk_data...\n",
            "[nltk_data]   Package stopwords is already up-to-date!\n"
          ],
          "name": "stdout"
        },
        {
          "output_type": "execute_result",
          "data": {
            "text/plain": [
              "True"
            ]
          },
          "metadata": {
            "tags": []
          },
          "execution_count": 62
        }
      ]
    },
    {
      "cell_type": "code",
      "metadata": {
        "id": "YfBGq0xo0FLA",
        "outputId": "1623d08e-38c3-4cd1-be73-c842e0970319",
        "colab": {
          "base_uri": "https://localhost:8080/",
          "height": 581
        }
      },
      "source": [
        "#Removing stopwords\n",
        "\n",
        "stop_words = set(stopwords.words('english'))\n",
        "new_df['STOPWORDS_REMOVED'] = new_df['NO_PUNC'].apply(lambda x: [word for word in x if word not in stop_words])\n",
        "new_df.head()"
      ],
      "execution_count": null,
      "outputs": [
        {
          "output_type": "execute_result",
          "data": {
            "text/html": [
              "<div>\n",
              "<style scoped>\n",
              "    .dataframe tbody tr th:only-of-type {\n",
              "        vertical-align: middle;\n",
              "    }\n",
              "\n",
              "    .dataframe tbody tr th {\n",
              "        vertical-align: top;\n",
              "    }\n",
              "\n",
              "    .dataframe thead th {\n",
              "        text-align: right;\n",
              "    }\n",
              "</style>\n",
              "<table border=\"1\" class=\"dataframe\">\n",
              "  <thead>\n",
              "    <tr style=\"text-align: right;\">\n",
              "      <th></th>\n",
              "      <th>Unnamed: 0</th>\n",
              "      <th>ID</th>\n",
              "      <th>DATE</th>\n",
              "      <th>TWEET</th>\n",
              "      <th>RETWEETS</th>\n",
              "      <th>FAVORITES</th>\n",
              "      <th>HASHTAGS</th>\n",
              "      <th>UNCONTRACTED</th>\n",
              "      <th>UNCONTRACTED_STR</th>\n",
              "      <th>TOKENIZED</th>\n",
              "      <th>LOWER</th>\n",
              "      <th>NO_PUNC</th>\n",
              "      <th>STOPWORDS_REMOVED</th>\n",
              "    </tr>\n",
              "  </thead>\n",
              "  <tbody>\n",
              "    <tr>\n",
              "      <th>0</th>\n",
              "      <td>0</td>\n",
              "      <td>1289314486092877825</td>\n",
              "      <td>2020-07-31 21:38:22+00:00</td>\n",
              "      <td>#FACupFinal #ruiru #lockdownextension #COVID19KE #TheUmbrellaAcademy https://m.facebook.com/stor...</td>\n",
              "      <td>0</td>\n",
              "      <td>1</td>\n",
              "      <td>#FACupFinal #ruiru #lockdownextension #COVID19KE #TheUmbrellaAcademy #TheUmbrellaAcademy</td>\n",
              "      <td>[#FACupFinal, #ruiru, #lockdownextension, #COVID19KE, #TheUmbrellaAcademy, https://m.facebook.co...</td>\n",
              "      <td>#FACupFinal #ruiru #lockdownextension #COVID19KE #TheUmbrellaAcademy https://m.facebook.com/stor...</td>\n",
              "      <td>[#, FACupFinal, #, ruiru, #, lockdownextension, #, COVID19KE, #, TheUmbrellaAcademy, https, :, /...</td>\n",
              "      <td>[#, facupfinal, #, ruiru, #, lockdownextension, #, covid19ke, #, theumbrellaacademy, https, :, /...</td>\n",
              "      <td>[facupfinal, ruiru, lockdownextension, covid19ke, theumbrellaacademy, https, //m.facebook.com/st...</td>\n",
              "      <td>[facupfinal, ruiru, lockdownextension, covid19ke, theumbrellaacademy, https, //m.facebook.com/st...</td>\n",
              "    </tr>\n",
              "    <tr>\n",
              "      <th>1</th>\n",
              "      <td>1</td>\n",
              "      <td>1215096387550896128</td>\n",
              "      <td>2020-01-09 02:22:08+00:00</td>\n",
              "      <td>Check out Audio Book Elven Magic on Audible, amazon pay $75 for every bounty(have to be a member...</td>\n",
              "      <td>28</td>\n",
              "      <td>108</td>\n",
              "      <td>NaN</td>\n",
              "      <td>[Check, out, Audio, Book, Elven, Magic, on, Audible,, amazon, pay, $75, for, every, bounty(have,...</td>\n",
              "      <td>Check out Audio Book Elven Magic on Audible, amazon pay $75 for every bounty(have to be a member...</td>\n",
              "      <td>[Check, out, Audio, Book, Elven, Magic, on, Audible, ,, amazon, pay, $, 75, for, every, bounty, ...</td>\n",
              "      <td>[check, out, audio, book, elven, magic, on, audible, ,, amazon, pay, $, 75, for, every, bounty, ...</td>\n",
              "      <td>[check, out, audio, book, elven, magic, on, audible, amazon, pay, 75, for, every, bounty, have, ...</td>\n",
              "      <td>[check, audio, book, elven, magic, audible, amazon, pay, 75, every, bounty, member, 91, days, co...</td>\n",
              "    </tr>\n",
              "    <tr>\n",
              "      <th>2</th>\n",
              "      <td>2</td>\n",
              "      <td>1289257452219793408</td>\n",
              "      <td>2020-07-31 17:51:44+00:00</td>\n",
              "      <td>#COVID19KE #TheScoreKE #ruiru</td>\n",
              "      <td>0</td>\n",
              "      <td>2</td>\n",
              "      <td>#COVID19KE #TheScoreKE #ruiru</td>\n",
              "      <td>[#COVID19KE, #TheScoreKE, #ruiru]</td>\n",
              "      <td>#COVID19KE #TheScoreKE #ruiru</td>\n",
              "      <td>[#, COVID19KE, #, TheScoreKE, #, ruiru]</td>\n",
              "      <td>[#, covid19ke, #, thescoreke, #, ruiru]</td>\n",
              "      <td>[covid19ke, thescoreke, ruiru]</td>\n",
              "      <td>[covid19ke, thescoreke, ruiru]</td>\n",
              "    </tr>\n",
              "    <tr>\n",
              "      <th>3</th>\n",
              "      <td>3</td>\n",
              "      <td>1289191573054345219</td>\n",
              "      <td>2020-07-31 13:29:57+00:00</td>\n",
              "      <td>In the opening remarks @Ezra_K_Yego mentioned that it is extremely important for us to come up w...</td>\n",
              "      <td>10</td>\n",
              "      <td>28</td>\n",
              "      <td>#BuildBackBetter #SDGs #COVID19KE</td>\n",
              "      <td>[In, the, opening, remarks, @Ezra_K_Yego, mentioned, that, it, is, extremely, important, for, us...</td>\n",
              "      <td>In the opening remarks @Ezra_K_Yego mentioned that it is extremely important for us to come up w...</td>\n",
              "      <td>[In, the, opening, remarks, @, Ezra_K_Yego, mentioned, that, it, is, extremely, important, for, ...</td>\n",
              "      <td>[in, the, opening, remarks, @, ezra_k_yego, mentioned, that, it, is, extremely, important, for, ...</td>\n",
              "      <td>[in, the, opening, remarks, ezra_k_yego, mentioned, that, it, is, extremely, important, for, us,...</td>\n",
              "      <td>[opening, remarks, ezra_k_yego, mentioned, extremely, important, us, come, inclusive, collaborat...</td>\n",
              "    </tr>\n",
              "    <tr>\n",
              "      <th>4</th>\n",
              "      <td>4</td>\n",
              "      <td>1289142305593724928</td>\n",
              "      <td>2020-07-31 10:14:11+00:00</td>\n",
              "      <td>Wishing him and all front line workers quick recovery from #COVID19KE.</td>\n",
              "      <td>0</td>\n",
              "      <td>0</td>\n",
              "      <td>#COVID19KE</td>\n",
              "      <td>[Wishing, him, and, all, front, line, workers, quick, recovery, from, #COVID19KE.]</td>\n",
              "      <td>Wishing him and all front line workers quick recovery from #COVID19KE.</td>\n",
              "      <td>[Wishing, him, and, all, front, line, workers, quick, recovery, from, #, COVID19KE, .]</td>\n",
              "      <td>[wishing, him, and, all, front, line, workers, quick, recovery, from, #, covid19ke, .]</td>\n",
              "      <td>[wishing, him, and, all, front, line, workers, quick, recovery, from, covid19ke]</td>\n",
              "      <td>[wishing, front, line, workers, quick, recovery, covid19ke]</td>\n",
              "    </tr>\n",
              "  </tbody>\n",
              "</table>\n",
              "</div>"
            ],
            "text/plain": [
              "   Unnamed: 0  ...                                                                                    STOPWORDS_REMOVED\n",
              "0           0  ...  [facupfinal, ruiru, lockdownextension, covid19ke, theumbrellaacademy, https, //m.facebook.com/st...\n",
              "1           1  ...  [check, audio, book, elven, magic, audible, amazon, pay, 75, every, bounty, member, 91, days, co...\n",
              "2           2  ...                                                                       [covid19ke, thescoreke, ruiru]\n",
              "3           3  ...  [opening, remarks, ezra_k_yego, mentioned, extremely, important, us, come, inclusive, collaborat...\n",
              "4           4  ...                                          [wishing, front, line, workers, quick, recovery, covid19ke]\n",
              "\n",
              "[5 rows x 13 columns]"
            ]
          },
          "metadata": {
            "tags": []
          },
          "execution_count": 63
        }
      ]
    },
    {
      "cell_type": "code",
      "metadata": {
        "id": "dXz7Jwd8TpHx",
        "outputId": "68d4aeae-8fac-4d5d-e24c-71cb2536090a",
        "colab": {
          "base_uri": "https://localhost:8080/",
          "height": 102
        }
      },
      "source": [
        "nltk.download('averaged_perceptron_tagger')"
      ],
      "execution_count": null,
      "outputs": [
        {
          "output_type": "stream",
          "text": [
            "[nltk_data] Downloading package averaged_perceptron_tagger to\n",
            "[nltk_data]     /root/nltk_data...\n",
            "[nltk_data]   Package averaged_perceptron_tagger is already up-to-\n",
            "[nltk_data]       date!\n"
          ],
          "name": "stdout"
        },
        {
          "output_type": "execute_result",
          "data": {
            "text/plain": [
              "True"
            ]
          },
          "metadata": {
            "tags": []
          },
          "execution_count": 64
        }
      ]
    },
    {
      "cell_type": "code",
      "metadata": {
        "id": "1sDdbjyQTxcJ",
        "outputId": "a5612976-0bf0-4fdb-81e6-c27df6d8d46d",
        "colab": {
          "base_uri": "https://localhost:8080/",
          "height": 68
        }
      },
      "source": [
        "nltk.download('wordnet')"
      ],
      "execution_count": null,
      "outputs": [
        {
          "output_type": "stream",
          "text": [
            "[nltk_data] Downloading package wordnet to /root/nltk_data...\n",
            "[nltk_data]   Package wordnet is already up-to-date!\n"
          ],
          "name": "stdout"
        },
        {
          "output_type": "execute_result",
          "data": {
            "text/plain": [
              "True"
            ]
          },
          "metadata": {
            "tags": []
          },
          "execution_count": 65
        }
      ]
    },
    {
      "cell_type": "code",
      "metadata": {
        "id": "cpoDOmSc2X3n",
        "outputId": "b02cee8e-000e-4963-a044-27d9b177660a",
        "colab": {
          "base_uri": "https://localhost:8080/",
          "height": 598
        }
      },
      "source": [
        "#Stemming VS Lematization\n",
        "\n",
        "'''Stemming is certainly the less complicated method but it often does not produce a dictionary-specific morphological root \n",
        "of the word. let’s apply lemmatization to our data but it requires some additional steps compared to stemming.'''\n",
        "\n",
        "#Apply parts of speech tags\n",
        "\n",
        "new_df['POS_TAGS'] = new_df['STOPWORDS_REMOVED'].apply(nltk.tag.pos_tag)\n",
        "\n",
        "#Convert POS tags to Wordnet format\n",
        "'''write a function which make the proper conversion and then use the function within \n",
        "a list comprehension to apply the conversion.'''\n",
        "\n",
        "def get_wordnet_pos(tag):\n",
        "    if tag.startswith('J'):\n",
        "        return wordnet.ADJ\n",
        "    elif tag.startswith('V'):\n",
        "        return wordnet.VERB\n",
        "    elif tag.startswith('N'):\n",
        "        return wordnet.NOUN\n",
        "    elif tag.startswith('R'):\n",
        "        return wordnet.ADV\n",
        "    else:\n",
        "        return wordnet.NOUN\n",
        "\n",
        "new_df['WORDNET_POS'] = new_df['POS_TAGS'].apply(lambda x: [(word, get_wordnet_pos(pos_tag)) for (word, pos_tag) in x])\n",
        "#new_df.head()\n",
        "\n",
        "#Apply NLTK's word Lemmatizer\n",
        "\n",
        "wnl = WordNetLemmatizer()\n",
        "new_df['LEMMATIZED'] = new_df['WORDNET_POS'].apply(lambda x: [wnl.lemmatize(word, tag) for word, tag in x])\n",
        "new_df.head()"
      ],
      "execution_count": null,
      "outputs": [
        {
          "output_type": "execute_result",
          "data": {
            "text/html": [
              "<div>\n",
              "<style scoped>\n",
              "    .dataframe tbody tr th:only-of-type {\n",
              "        vertical-align: middle;\n",
              "    }\n",
              "\n",
              "    .dataframe tbody tr th {\n",
              "        vertical-align: top;\n",
              "    }\n",
              "\n",
              "    .dataframe thead th {\n",
              "        text-align: right;\n",
              "    }\n",
              "</style>\n",
              "<table border=\"1\" class=\"dataframe\">\n",
              "  <thead>\n",
              "    <tr style=\"text-align: right;\">\n",
              "      <th></th>\n",
              "      <th>Unnamed: 0</th>\n",
              "      <th>ID</th>\n",
              "      <th>DATE</th>\n",
              "      <th>TWEET</th>\n",
              "      <th>RETWEETS</th>\n",
              "      <th>FAVORITES</th>\n",
              "      <th>HASHTAGS</th>\n",
              "      <th>UNCONTRACTED</th>\n",
              "      <th>UNCONTRACTED_STR</th>\n",
              "      <th>TOKENIZED</th>\n",
              "      <th>LOWER</th>\n",
              "      <th>NO_PUNC</th>\n",
              "      <th>STOPWORDS_REMOVED</th>\n",
              "      <th>POS_TAGS</th>\n",
              "      <th>WORDNET_POS</th>\n",
              "      <th>LEMMATIZED</th>\n",
              "    </tr>\n",
              "  </thead>\n",
              "  <tbody>\n",
              "    <tr>\n",
              "      <th>0</th>\n",
              "      <td>0</td>\n",
              "      <td>1289314486092877825</td>\n",
              "      <td>2020-07-31 21:38:22+00:00</td>\n",
              "      <td>#FACupFinal #ruiru #lockdownextension #COVID19KE #TheUmbrellaAcademy https://m.facebook.com/stor...</td>\n",
              "      <td>0</td>\n",
              "      <td>1</td>\n",
              "      <td>#FACupFinal #ruiru #lockdownextension #COVID19KE #TheUmbrellaAcademy #TheUmbrellaAcademy</td>\n",
              "      <td>[#FACupFinal, #ruiru, #lockdownextension, #COVID19KE, #TheUmbrellaAcademy, https://m.facebook.co...</td>\n",
              "      <td>#FACupFinal #ruiru #lockdownextension #COVID19KE #TheUmbrellaAcademy https://m.facebook.com/stor...</td>\n",
              "      <td>[#, FACupFinal, #, ruiru, #, lockdownextension, #, COVID19KE, #, TheUmbrellaAcademy, https, :, /...</td>\n",
              "      <td>[#, facupfinal, #, ruiru, #, lockdownextension, #, covid19ke, #, theumbrellaacademy, https, :, /...</td>\n",
              "      <td>[facupfinal, ruiru, lockdownextension, covid19ke, theumbrellaacademy, https, //m.facebook.com/st...</td>\n",
              "      <td>[facupfinal, ruiru, lockdownextension, covid19ke, theumbrellaacademy, https, //m.facebook.com/st...</td>\n",
              "      <td>[(facupfinal, JJ), (ruiru, NN), (lockdownextension, NN), (covid19ke, NN), (theumbrellaacademy, N...</td>\n",
              "      <td>[(facupfinal, a), (ruiru, n), (lockdownextension, n), (covid19ke, n), (theumbrellaacademy, n), (...</td>\n",
              "      <td>[facupfinal, ruiru, lockdownextension, covid19ke, theumbrellaacademy, http, //m.facebook.com/sto...</td>\n",
              "    </tr>\n",
              "    <tr>\n",
              "      <th>1</th>\n",
              "      <td>1</td>\n",
              "      <td>1215096387550896128</td>\n",
              "      <td>2020-01-09 02:22:08+00:00</td>\n",
              "      <td>Check out Audio Book Elven Magic on Audible, amazon pay $75 for every bounty(have to be a member...</td>\n",
              "      <td>28</td>\n",
              "      <td>108</td>\n",
              "      <td>NaN</td>\n",
              "      <td>[Check, out, Audio, Book, Elven, Magic, on, Audible,, amazon, pay, $75, for, every, bounty(have,...</td>\n",
              "      <td>Check out Audio Book Elven Magic on Audible, amazon pay $75 for every bounty(have to be a member...</td>\n",
              "      <td>[Check, out, Audio, Book, Elven, Magic, on, Audible, ,, amazon, pay, $, 75, for, every, bounty, ...</td>\n",
              "      <td>[check, out, audio, book, elven, magic, on, audible, ,, amazon, pay, $, 75, for, every, bounty, ...</td>\n",
              "      <td>[check, out, audio, book, elven, magic, on, audible, amazon, pay, 75, for, every, bounty, have, ...</td>\n",
              "      <td>[check, audio, book, elven, magic, audible, amazon, pay, 75, every, bounty, member, 91, days, co...</td>\n",
              "      <td>[(check, NN), (audio, JJ), (book, NN), (elven, RB), (magic, JJ), (audible, JJ), (amazon, NN), (p...</td>\n",
              "      <td>[(check, n), (audio, a), (book, n), (elven, r), (magic, a), (audible, a), (amazon, n), (pay, n),...</td>\n",
              "      <td>[check, audio, book, elven, magic, audible, amazon, pay, 75, every, bounty, member, 91, day, con...</td>\n",
              "    </tr>\n",
              "    <tr>\n",
              "      <th>2</th>\n",
              "      <td>2</td>\n",
              "      <td>1289257452219793408</td>\n",
              "      <td>2020-07-31 17:51:44+00:00</td>\n",
              "      <td>#COVID19KE #TheScoreKE #ruiru</td>\n",
              "      <td>0</td>\n",
              "      <td>2</td>\n",
              "      <td>#COVID19KE #TheScoreKE #ruiru</td>\n",
              "      <td>[#COVID19KE, #TheScoreKE, #ruiru]</td>\n",
              "      <td>#COVID19KE #TheScoreKE #ruiru</td>\n",
              "      <td>[#, COVID19KE, #, TheScoreKE, #, ruiru]</td>\n",
              "      <td>[#, covid19ke, #, thescoreke, #, ruiru]</td>\n",
              "      <td>[covid19ke, thescoreke, ruiru]</td>\n",
              "      <td>[covid19ke, thescoreke, ruiru]</td>\n",
              "      <td>[(covid19ke, NN), (thescoreke, NN), (ruiru, NN)]</td>\n",
              "      <td>[(covid19ke, n), (thescoreke, n), (ruiru, n)]</td>\n",
              "      <td>[covid19ke, thescoreke, ruiru]</td>\n",
              "    </tr>\n",
              "    <tr>\n",
              "      <th>3</th>\n",
              "      <td>3</td>\n",
              "      <td>1289191573054345219</td>\n",
              "      <td>2020-07-31 13:29:57+00:00</td>\n",
              "      <td>In the opening remarks @Ezra_K_Yego mentioned that it is extremely important for us to come up w...</td>\n",
              "      <td>10</td>\n",
              "      <td>28</td>\n",
              "      <td>#BuildBackBetter #SDGs #COVID19KE</td>\n",
              "      <td>[In, the, opening, remarks, @Ezra_K_Yego, mentioned, that, it, is, extremely, important, for, us...</td>\n",
              "      <td>In the opening remarks @Ezra_K_Yego mentioned that it is extremely important for us to come up w...</td>\n",
              "      <td>[In, the, opening, remarks, @, Ezra_K_Yego, mentioned, that, it, is, extremely, important, for, ...</td>\n",
              "      <td>[in, the, opening, remarks, @, ezra_k_yego, mentioned, that, it, is, extremely, important, for, ...</td>\n",
              "      <td>[in, the, opening, remarks, ezra_k_yego, mentioned, that, it, is, extremely, important, for, us,...</td>\n",
              "      <td>[opening, remarks, ezra_k_yego, mentioned, extremely, important, us, come, inclusive, collaborat...</td>\n",
              "      <td>[(opening, VBG), (remarks, NNS), (ezra_k_yego, RB), (mentioned, VBD), (extremely, RB), (importan...</td>\n",
              "      <td>[(opening, v), (remarks, n), (ezra_k_yego, r), (mentioned, v), (extremely, r), (important, a), (...</td>\n",
              "      <td>[open, remark, ezra_k_yego, mention, extremely, important, u, come, inclusive, collaborative, am...</td>\n",
              "    </tr>\n",
              "    <tr>\n",
              "      <th>4</th>\n",
              "      <td>4</td>\n",
              "      <td>1289142305593724928</td>\n",
              "      <td>2020-07-31 10:14:11+00:00</td>\n",
              "      <td>Wishing him and all front line workers quick recovery from #COVID19KE.</td>\n",
              "      <td>0</td>\n",
              "      <td>0</td>\n",
              "      <td>#COVID19KE</td>\n",
              "      <td>[Wishing, him, and, all, front, line, workers, quick, recovery, from, #COVID19KE.]</td>\n",
              "      <td>Wishing him and all front line workers quick recovery from #COVID19KE.</td>\n",
              "      <td>[Wishing, him, and, all, front, line, workers, quick, recovery, from, #, COVID19KE, .]</td>\n",
              "      <td>[wishing, him, and, all, front, line, workers, quick, recovery, from, #, covid19ke, .]</td>\n",
              "      <td>[wishing, him, and, all, front, line, workers, quick, recovery, from, covid19ke]</td>\n",
              "      <td>[wishing, front, line, workers, quick, recovery, covid19ke]</td>\n",
              "      <td>[(wishing, VBG), (front, JJ), (line, NN), (workers, NNS), (quick, JJ), (recovery, NN), (covid19k...</td>\n",
              "      <td>[(wishing, v), (front, a), (line, n), (workers, n), (quick, a), (recovery, n), (covid19ke, n)]</td>\n",
              "      <td>[wish, front, line, worker, quick, recovery, covid19ke]</td>\n",
              "    </tr>\n",
              "  </tbody>\n",
              "</table>\n",
              "</div>"
            ],
            "text/plain": [
              "   Unnamed: 0  ...                                                                                           LEMMATIZED\n",
              "0           0  ...  [facupfinal, ruiru, lockdownextension, covid19ke, theumbrellaacademy, http, //m.facebook.com/sto...\n",
              "1           1  ...  [check, audio, book, elven, magic, audible, amazon, pay, 75, every, bounty, member, 91, day, con...\n",
              "2           2  ...                                                                       [covid19ke, thescoreke, ruiru]\n",
              "3           3  ...  [open, remark, ezra_k_yego, mention, extremely, important, u, come, inclusive, collaborative, am...\n",
              "4           4  ...                                              [wish, front, line, worker, quick, recovery, covid19ke]\n",
              "\n",
              "[5 rows x 16 columns]"
            ]
          },
          "metadata": {
            "tags": []
          },
          "execution_count": 66
        }
      ]
    },
    {
      "cell_type": "code",
      "metadata": {
        "id": "pmvPWILL8Yhm"
      },
      "source": [
        "#Save to a CSV file for further exploratory data analysis\n",
        "\n",
        "new_df.to_csv('/content/gdrive/My Drive/Tweets/nairobi_clean.csv')"
      ],
      "execution_count": null,
      "outputs": []
    },
    {
      "cell_type": "markdown",
      "metadata": {
        "id": "5b22dhtjBmWb"
      },
      "source": [
        "# <center>**Nairobi;Exploratory Data Analysis**</center>\n",
        "\n",
        "*The steps below are meant to:*\n",
        "\n",
        "\n",
        "*   Drive intuition\n",
        "*   Formulate testable hypotheses\n",
        "*   Make use of descriptive statistics and visualizations\n",
        "\n",
        "\n",
        "\n"
      ]
    },
    {
      "cell_type": "code",
      "metadata": {
        "id": "3384Moph-htt",
        "outputId": "34259c5a-5d55-4dc4-bf2d-56d198a96de1",
        "colab": {
          "base_uri": "https://localhost:8080/",
          "height": 564
        }
      },
      "source": [
        "#with open('/content/gdrive/My Drive/Tweets/nairobi_pkl', 'rb') as pickle_file:\n",
        "    #clean_df = pickle.load(pickle_file)\n",
        "\n",
        "#clean_df = pd.read_pickle('/content/gdrive/My Drive/Tweets/nairobi_pkl', compression=None)\n",
        "#clean_df = pickle.load(open('/content/gdrive/My Drive/Tweets/nairobi_pkl','rb'))\n",
        "#Load the clean dataset\n",
        "clean_df = pd.read_csv('/content/gdrive/My Drive/Tweets/nairobi_clean.csv')\n",
        "clean_df.head()"
      ],
      "execution_count": null,
      "outputs": [
        {
          "output_type": "execute_result",
          "data": {
            "text/html": [
              "<div>\n",
              "<style scoped>\n",
              "    .dataframe tbody tr th:only-of-type {\n",
              "        vertical-align: middle;\n",
              "    }\n",
              "\n",
              "    .dataframe tbody tr th {\n",
              "        vertical-align: top;\n",
              "    }\n",
              "\n",
              "    .dataframe thead th {\n",
              "        text-align: right;\n",
              "    }\n",
              "</style>\n",
              "<table border=\"1\" class=\"dataframe\">\n",
              "  <thead>\n",
              "    <tr style=\"text-align: right;\">\n",
              "      <th></th>\n",
              "      <th>Unnamed: 0</th>\n",
              "      <th>Unnamed: 0.1</th>\n",
              "      <th>ID</th>\n",
              "      <th>DATE</th>\n",
              "      <th>TWEET</th>\n",
              "      <th>RETWEETS</th>\n",
              "      <th>FAVORITES</th>\n",
              "      <th>HASHTAGS</th>\n",
              "      <th>UNCONTRACTED</th>\n",
              "      <th>UNCONTRACTED_STR</th>\n",
              "      <th>TOKENIZED</th>\n",
              "      <th>LOWER</th>\n",
              "      <th>NO_PUNC</th>\n",
              "      <th>STOPWORDS_REMOVED</th>\n",
              "      <th>POS_TAGS</th>\n",
              "      <th>WORDNET_POS</th>\n",
              "      <th>LEMMATIZED</th>\n",
              "    </tr>\n",
              "  </thead>\n",
              "  <tbody>\n",
              "    <tr>\n",
              "      <th>0</th>\n",
              "      <td>0</td>\n",
              "      <td>0</td>\n",
              "      <td>1289314486092877825</td>\n",
              "      <td>2020-07-31 21:38:22+00:00</td>\n",
              "      <td>#FACupFinal #ruiru #lockdownextension #COVID19KE #TheUmbrellaAcademy https://m.facebook.com/stor...</td>\n",
              "      <td>0</td>\n",
              "      <td>1</td>\n",
              "      <td>#FACupFinal #ruiru #lockdownextension #COVID19KE #TheUmbrellaAcademy #TheUmbrellaAcademy</td>\n",
              "      <td>['#FACupFinal', '#ruiru', '#lockdownextension', '#COVID19KE', '#TheUmbrellaAcademy', 'https://m....</td>\n",
              "      <td>#FACupFinal #ruiru #lockdownextension #COVID19KE #TheUmbrellaAcademy https://m.facebook.com/stor...</td>\n",
              "      <td>['#', 'FACupFinal', '#', 'ruiru', '#', 'lockdownextension', '#', 'COVID19KE', '#', 'TheUmbrellaA...</td>\n",
              "      <td>['#', 'facupfinal', '#', 'ruiru', '#', 'lockdownextension', '#', 'covid19ke', '#', 'theumbrellaa...</td>\n",
              "      <td>['facupfinal', 'ruiru', 'lockdownextension', 'covid19ke', 'theumbrellaacademy', 'https', '//m.fa...</td>\n",
              "      <td>['facupfinal', 'ruiru', 'lockdownextension', 'covid19ke', 'theumbrellaacademy', 'https', '//m.fa...</td>\n",
              "      <td>[('facupfinal', 'JJ'), ('ruiru', 'NN'), ('lockdownextension', 'NN'), ('covid19ke', 'NN'), ('theu...</td>\n",
              "      <td>[('facupfinal', 'a'), ('ruiru', 'n'), ('lockdownextension', 'n'), ('covid19ke', 'n'), ('theumbre...</td>\n",
              "      <td>['facupfinal', 'ruiru', 'lockdownextension', 'covid19ke', 'theumbrellaacademy', 'http', '//m.fac...</td>\n",
              "    </tr>\n",
              "    <tr>\n",
              "      <th>1</th>\n",
              "      <td>1</td>\n",
              "      <td>1</td>\n",
              "      <td>1215096387550896128</td>\n",
              "      <td>2020-01-09 02:22:08+00:00</td>\n",
              "      <td>Check out Audio Book Elven Magic on Audible, amazon pay $75 for every bounty(have to be a member...</td>\n",
              "      <td>28</td>\n",
              "      <td>108</td>\n",
              "      <td>NaN</td>\n",
              "      <td>['Check', 'out', 'Audio', 'Book', 'Elven', 'Magic', 'on', 'Audible,', 'amazon', 'pay', '$75', 'f...</td>\n",
              "      <td>Check out Audio Book Elven Magic on Audible, amazon pay $75 for every bounty(have to be a member...</td>\n",
              "      <td>['Check', 'out', 'Audio', 'Book', 'Elven', 'Magic', 'on', 'Audible', ',', 'amazon', 'pay', '$', ...</td>\n",
              "      <td>['check', 'out', 'audio', 'book', 'elven', 'magic', 'on', 'audible', ',', 'amazon', 'pay', '$', ...</td>\n",
              "      <td>['check', 'out', 'audio', 'book', 'elven', 'magic', 'on', 'audible', 'amazon', 'pay', '75', 'for...</td>\n",
              "      <td>['check', 'audio', 'book', 'elven', 'magic', 'audible', 'amazon', 'pay', '75', 'every', 'bounty'...</td>\n",
              "      <td>[('check', 'NN'), ('audio', 'JJ'), ('book', 'NN'), ('elven', 'RB'), ('magic', 'JJ'), ('audible',...</td>\n",
              "      <td>[('check', 'n'), ('audio', 'a'), ('book', 'n'), ('elven', 'r'), ('magic', 'a'), ('audible', 'a')...</td>\n",
              "      <td>['check', 'audio', 'book', 'elven', 'magic', 'audible', 'amazon', 'pay', '75', 'every', 'bounty'...</td>\n",
              "    </tr>\n",
              "    <tr>\n",
              "      <th>2</th>\n",
              "      <td>2</td>\n",
              "      <td>2</td>\n",
              "      <td>1289257452219793408</td>\n",
              "      <td>2020-07-31 17:51:44+00:00</td>\n",
              "      <td>#COVID19KE #TheScoreKE #ruiru</td>\n",
              "      <td>0</td>\n",
              "      <td>2</td>\n",
              "      <td>#COVID19KE #TheScoreKE #ruiru</td>\n",
              "      <td>['#COVID19KE', '#TheScoreKE', '#ruiru']</td>\n",
              "      <td>#COVID19KE #TheScoreKE #ruiru</td>\n",
              "      <td>['#', 'COVID19KE', '#', 'TheScoreKE', '#', 'ruiru']</td>\n",
              "      <td>['#', 'covid19ke', '#', 'thescoreke', '#', 'ruiru']</td>\n",
              "      <td>['covid19ke', 'thescoreke', 'ruiru']</td>\n",
              "      <td>['covid19ke', 'thescoreke', 'ruiru']</td>\n",
              "      <td>[('covid19ke', 'NN'), ('thescoreke', 'NN'), ('ruiru', 'NN')]</td>\n",
              "      <td>[('covid19ke', 'n'), ('thescoreke', 'n'), ('ruiru', 'n')]</td>\n",
              "      <td>['covid19ke', 'thescoreke', 'ruiru']</td>\n",
              "    </tr>\n",
              "    <tr>\n",
              "      <th>3</th>\n",
              "      <td>3</td>\n",
              "      <td>3</td>\n",
              "      <td>1289191573054345219</td>\n",
              "      <td>2020-07-31 13:29:57+00:00</td>\n",
              "      <td>In the opening remarks @Ezra_K_Yego mentioned that it is extremely important for us to come up w...</td>\n",
              "      <td>10</td>\n",
              "      <td>28</td>\n",
              "      <td>#BuildBackBetter #SDGs #COVID19KE</td>\n",
              "      <td>['In', 'the', 'opening', 'remarks', '@Ezra_K_Yego', 'mentioned', 'that', 'it', 'is', 'extremely'...</td>\n",
              "      <td>In the opening remarks @Ezra_K_Yego mentioned that it is extremely important for us to come up w...</td>\n",
              "      <td>['In', 'the', 'opening', 'remarks', '@', 'Ezra_K_Yego', 'mentioned', 'that', 'it', 'is', 'extrem...</td>\n",
              "      <td>['in', 'the', 'opening', 'remarks', '@', 'ezra_k_yego', 'mentioned', 'that', 'it', 'is', 'extrem...</td>\n",
              "      <td>['in', 'the', 'opening', 'remarks', 'ezra_k_yego', 'mentioned', 'that', 'it', 'is', 'extremely',...</td>\n",
              "      <td>['opening', 'remarks', 'ezra_k_yego', 'mentioned', 'extremely', 'important', 'us', 'come', 'incl...</td>\n",
              "      <td>[('opening', 'VBG'), ('remarks', 'NNS'), ('ezra_k_yego', 'RB'), ('mentioned', 'VBD'), ('extremel...</td>\n",
              "      <td>[('opening', 'v'), ('remarks', 'n'), ('ezra_k_yego', 'r'), ('mentioned', 'v'), ('extremely', 'r'...</td>\n",
              "      <td>['open', 'remark', 'ezra_k_yego', 'mention', 'extremely', 'important', 'u', 'come', 'inclusive',...</td>\n",
              "    </tr>\n",
              "    <tr>\n",
              "      <th>4</th>\n",
              "      <td>4</td>\n",
              "      <td>4</td>\n",
              "      <td>1289142305593724928</td>\n",
              "      <td>2020-07-31 10:14:11+00:00</td>\n",
              "      <td>Wishing him and all front line workers quick recovery from #COVID19KE.</td>\n",
              "      <td>0</td>\n",
              "      <td>0</td>\n",
              "      <td>#COVID19KE</td>\n",
              "      <td>['Wishing', 'him', 'and', 'all', 'front', 'line', 'workers', 'quick', 'recovery', 'from', '#COVI...</td>\n",
              "      <td>Wishing him and all front line workers quick recovery from #COVID19KE.</td>\n",
              "      <td>['Wishing', 'him', 'and', 'all', 'front', 'line', 'workers', 'quick', 'recovery', 'from', '#', '...</td>\n",
              "      <td>['wishing', 'him', 'and', 'all', 'front', 'line', 'workers', 'quick', 'recovery', 'from', '#', '...</td>\n",
              "      <td>['wishing', 'him', 'and', 'all', 'front', 'line', 'workers', 'quick', 'recovery', 'from', 'covid...</td>\n",
              "      <td>['wishing', 'front', 'line', 'workers', 'quick', 'recovery', 'covid19ke']</td>\n",
              "      <td>[('wishing', 'VBG'), ('front', 'JJ'), ('line', 'NN'), ('workers', 'NNS'), ('quick', 'JJ'), ('rec...</td>\n",
              "      <td>[('wishing', 'v'), ('front', 'a'), ('line', 'n'), ('workers', 'n'), ('quick', 'a'), ('recovery',...</td>\n",
              "      <td>['wish', 'front', 'line', 'worker', 'quick', 'recovery', 'covid19ke']</td>\n",
              "    </tr>\n",
              "  </tbody>\n",
              "</table>\n",
              "</div>"
            ],
            "text/plain": [
              "   Unnamed: 0  ...                                                                                           LEMMATIZED\n",
              "0           0  ...  ['facupfinal', 'ruiru', 'lockdownextension', 'covid19ke', 'theumbrellaacademy', 'http', '//m.fac...\n",
              "1           1  ...  ['check', 'audio', 'book', 'elven', 'magic', 'audible', 'amazon', 'pay', '75', 'every', 'bounty'...\n",
              "2           2  ...                                                                 ['covid19ke', 'thescoreke', 'ruiru']\n",
              "3           3  ...  ['open', 'remark', 'ezra_k_yego', 'mention', 'extremely', 'important', 'u', 'come', 'inclusive',...\n",
              "4           4  ...                                ['wish', 'front', 'line', 'worker', 'quick', 'recovery', 'covid19ke']\n",
              "\n",
              "[5 rows x 17 columns]"
            ]
          },
          "metadata": {
            "tags": []
          },
          "execution_count": 68
        }
      ]
    },
    {
      "cell_type": "code",
      "metadata": {
        "id": "cqDaBAMiE8-Z",
        "outputId": "9cb5341c-e36a-406e-9c6f-d3e531f86e7e",
        "colab": {
          "base_uri": "https://localhost:8080/",
          "height": 306
        }
      },
      "source": [
        "#Overwrite our dataframe to retain the only columns we are interested in.\n",
        "'''Re-arrange the columns so as to have the 'Lemmatized' column preceeded by the 'Date' column'''\n",
        "\n",
        "clean_df = clean_df[['ID','DATE','LEMMATIZED','RETWEETS','FAVORITES','HASHTAGS']]\n",
        "clean_df.head()"
      ],
      "execution_count": null,
      "outputs": [
        {
          "output_type": "execute_result",
          "data": {
            "text/html": [
              "<div>\n",
              "<style scoped>\n",
              "    .dataframe tbody tr th:only-of-type {\n",
              "        vertical-align: middle;\n",
              "    }\n",
              "\n",
              "    .dataframe tbody tr th {\n",
              "        vertical-align: top;\n",
              "    }\n",
              "\n",
              "    .dataframe thead th {\n",
              "        text-align: right;\n",
              "    }\n",
              "</style>\n",
              "<table border=\"1\" class=\"dataframe\">\n",
              "  <thead>\n",
              "    <tr style=\"text-align: right;\">\n",
              "      <th></th>\n",
              "      <th>ID</th>\n",
              "      <th>DATE</th>\n",
              "      <th>LEMMATIZED</th>\n",
              "      <th>RETWEETS</th>\n",
              "      <th>FAVORITES</th>\n",
              "      <th>HASHTAGS</th>\n",
              "    </tr>\n",
              "  </thead>\n",
              "  <tbody>\n",
              "    <tr>\n",
              "      <th>0</th>\n",
              "      <td>1289314486092877825</td>\n",
              "      <td>2020-07-31 21:38:22+00:00</td>\n",
              "      <td>['facupfinal', 'ruiru', 'lockdownextension', 'covid19ke', 'theumbrellaacademy', 'http', '//m.fac...</td>\n",
              "      <td>0</td>\n",
              "      <td>1</td>\n",
              "      <td>#FACupFinal #ruiru #lockdownextension #COVID19KE #TheUmbrellaAcademy #TheUmbrellaAcademy</td>\n",
              "    </tr>\n",
              "    <tr>\n",
              "      <th>1</th>\n",
              "      <td>1215096387550896128</td>\n",
              "      <td>2020-01-09 02:22:08+00:00</td>\n",
              "      <td>['check', 'audio', 'book', 'elven', 'magic', 'audible', 'amazon', 'pay', '75', 'every', 'bounty'...</td>\n",
              "      <td>28</td>\n",
              "      <td>108</td>\n",
              "      <td>NaN</td>\n",
              "    </tr>\n",
              "    <tr>\n",
              "      <th>2</th>\n",
              "      <td>1289257452219793408</td>\n",
              "      <td>2020-07-31 17:51:44+00:00</td>\n",
              "      <td>['covid19ke', 'thescoreke', 'ruiru']</td>\n",
              "      <td>0</td>\n",
              "      <td>2</td>\n",
              "      <td>#COVID19KE #TheScoreKE #ruiru</td>\n",
              "    </tr>\n",
              "    <tr>\n",
              "      <th>3</th>\n",
              "      <td>1289191573054345219</td>\n",
              "      <td>2020-07-31 13:29:57+00:00</td>\n",
              "      <td>['open', 'remark', 'ezra_k_yego', 'mention', 'extremely', 'important', 'u', 'come', 'inclusive',...</td>\n",
              "      <td>10</td>\n",
              "      <td>28</td>\n",
              "      <td>#BuildBackBetter #SDGs #COVID19KE</td>\n",
              "    </tr>\n",
              "    <tr>\n",
              "      <th>4</th>\n",
              "      <td>1289142305593724928</td>\n",
              "      <td>2020-07-31 10:14:11+00:00</td>\n",
              "      <td>['wish', 'front', 'line', 'worker', 'quick', 'recovery', 'covid19ke']</td>\n",
              "      <td>0</td>\n",
              "      <td>0</td>\n",
              "      <td>#COVID19KE</td>\n",
              "    </tr>\n",
              "  </tbody>\n",
              "</table>\n",
              "</div>"
            ],
            "text/plain": [
              "                    ID  ...                                                                                  HASHTAGS\n",
              "0  1289314486092877825  ...  #FACupFinal #ruiru #lockdownextension #COVID19KE #TheUmbrellaAcademy #TheUmbrellaAcademy\n",
              "1  1215096387550896128  ...                                                                                       NaN\n",
              "2  1289257452219793408  ...                                                             #COVID19KE #TheScoreKE #ruiru\n",
              "3  1289191573054345219  ...                                                         #BuildBackBetter #SDGs #COVID19KE\n",
              "4  1289142305593724928  ...                                                                                #COVID19KE\n",
              "\n",
              "[5 rows x 6 columns]"
            ]
          },
          "metadata": {
            "tags": []
          },
          "execution_count": 69
        }
      ]
    },
    {
      "cell_type": "code",
      "metadata": {
        "id": "UgKl-yylIf9G",
        "outputId": "354192a6-4482-41c3-f8e2-d97eb7aef979",
        "colab": {
          "base_uri": "https://localhost:8080/",
          "height": 476
        }
      },
      "source": [
        "#Use TextBlob library to analyze sentiment\n",
        "#Convert the 'Lemmatized' column to string since textblob only takes in string inputs.\n",
        "\n",
        "clean_df['LEMMA_STR'] = [' '.join(map(str,l)) for l in clean_df['LEMMATIZED']]\n",
        "#clean_df.head()\n",
        "clean_df['SENTIMENT'] = clean_df['LEMMA_STR'].apply(lambda x: TextBlob(x).sentiment.polarity)\n",
        "clean_df.tail()"
      ],
      "execution_count": null,
      "outputs": [
        {
          "output_type": "execute_result",
          "data": {
            "text/html": [
              "<div>\n",
              "<style scoped>\n",
              "    .dataframe tbody tr th:only-of-type {\n",
              "        vertical-align: middle;\n",
              "    }\n",
              "\n",
              "    .dataframe tbody tr th {\n",
              "        vertical-align: top;\n",
              "    }\n",
              "\n",
              "    .dataframe thead th {\n",
              "        text-align: right;\n",
              "    }\n",
              "</style>\n",
              "<table border=\"1\" class=\"dataframe\">\n",
              "  <thead>\n",
              "    <tr style=\"text-align: right;\">\n",
              "      <th></th>\n",
              "      <th>ID</th>\n",
              "      <th>DATE</th>\n",
              "      <th>LEMMATIZED</th>\n",
              "      <th>RETWEETS</th>\n",
              "      <th>FAVORITES</th>\n",
              "      <th>HASHTAGS</th>\n",
              "      <th>LEMMA_STR</th>\n",
              "      <th>SENTIMENT</th>\n",
              "    </tr>\n",
              "  </thead>\n",
              "  <tbody>\n",
              "    <tr>\n",
              "      <th>8636</th>\n",
              "      <td>1247945415967850499</td>\n",
              "      <td>2020-04-08 17:52:27+00:00</td>\n",
              "      <td>['lockdownextension']</td>\n",
              "      <td>0</td>\n",
              "      <td>1</td>\n",
              "      <td>#lockdownextension</td>\n",
              "      <td>[ ' l o c k d o w n e x t e n s i o n ' ]</td>\n",
              "      <td>0.0</td>\n",
              "    </tr>\n",
              "    <tr>\n",
              "      <th>8637</th>\n",
              "      <td>1247936155166875651</td>\n",
              "      <td>2020-04-08 17:15:39+00:00</td>\n",
              "      <td>['covid-19', 'pandemic', 'end', 'country', 'music', 'sorry', 'fan', 'leave', '...', 'kenny', 'ro...</td>\n",
              "      <td>0</td>\n",
              "      <td>0</td>\n",
              "      <td>#RealRuto #KunaHopeTutawin #COVID19 #FullMoon #WednesdayMotivation #WednesdayThoughts #lockdowne...</td>\n",
              "      <td>[ ' c o v i d - 1 9 ' ,   ' p a n d e m i c ' ,   ' e n d ' ,   ' c o u n t r y ' ,   ' m u s i ...</td>\n",
              "      <td>0.0</td>\n",
              "    </tr>\n",
              "    <tr>\n",
              "      <th>8638</th>\n",
              "      <td>1247928683626668033</td>\n",
              "      <td>2020-04-08 16:45:58+00:00</td>\n",
              "      <td>['know', 'patient', 'south', 'sudan', 'send', 'kenya', 'last', 'one', 'kenya', 'please', 'open',...</td>\n",
              "      <td>0</td>\n",
              "      <td>14</td>\n",
              "      <td>#lockdownextension #SouthSudan #RealRuto</td>\n",
              "      <td>[ ' k n o w ' ,   ' p a t i e n t ' ,   ' s o u t h ' ,   ' s u d a n ' ,   ' s e n d ' ,   ' k ...</td>\n",
              "      <td>0.0</td>\n",
              "    </tr>\n",
              "    <tr>\n",
              "      <th>8639</th>\n",
              "      <td>1247916014114877440</td>\n",
              "      <td>2020-04-08 15:55:37+00:00</td>\n",
              "      <td>['iam_ronoh', 'rate', '10', 'kunahopetutawin', 'covid19', 'wednesdaymotivation', 'stayhome', 'we...</td>\n",
              "      <td>0</td>\n",
              "      <td>1</td>\n",
              "      <td>#KunaHopeTutawin #COVID19 #WednesdayMotivation #StayHome #StayHome #WednesdayThoughts #lockdowne...</td>\n",
              "      <td>[ ' i a m _ r o n o h ' ,   ' r a t e ' ,   ' 1 0 ' ,   ' k u n a h o p e t u t a w i n ' ,   ' ...</td>\n",
              "      <td>0.0</td>\n",
              "    </tr>\n",
              "    <tr>\n",
              "      <th>8640</th>\n",
              "      <td>1247812906613264385</td>\n",
              "      <td>2020-04-08 09:05:54+00:00</td>\n",
              "      <td>['wiredea', 'message', 'kenya', 'golf', 'union', 'light', 'announcement', 'c', 'health', 'yester...</td>\n",
              "      <td>0</td>\n",
              "      <td>0</td>\n",
              "      <td>#WiredEA #17mps #coronavirusinKenya #FullMoon #CoronavirusPandemic #StayHome #StayHome #lockdown...</td>\n",
              "      <td>[ ' w i r e d e a ' ,   ' m e s s a g e ' ,   ' k e n y a ' ,   ' g o l f ' ,   ' u n i o n ' , ...</td>\n",
              "      <td>0.0</td>\n",
              "    </tr>\n",
              "  </tbody>\n",
              "</table>\n",
              "</div>"
            ],
            "text/plain": [
              "                       ID  ... SENTIMENT\n",
              "8636  1247945415967850499  ...       0.0\n",
              "8637  1247936155166875651  ...       0.0\n",
              "8638  1247928683626668033  ...       0.0\n",
              "8639  1247916014114877440  ...       0.0\n",
              "8640  1247812906613264385  ...       0.0\n",
              "\n",
              "[5 rows x 8 columns]"
            ]
          },
          "metadata": {
            "tags": []
          },
          "execution_count": 70
        }
      ]
    },
    {
      "cell_type": "markdown",
      "metadata": {
        "id": "dU_oWBDBHZDz"
      },
      "source": [
        "### **Tokenization**"
      ]
    },
    {
      "cell_type": "code",
      "metadata": {
        "id": "IYi9zGaI6FYr",
        "outputId": "f6c8f6c1-f91c-4237-b7d1-57d584ff83f8",
        "colab": {
          "base_uri": "https://localhost:8080/",
          "height": 231
        }
      },
      "source": [
        "import string\n",
        "from spacy.lang.en.stop_words import STOP_WORDS\n",
        "from spacy.lang.en import English\n",
        "\n",
        "# Create our list of punctuation marks\n",
        "punctuations = string.punctuation\n",
        "\n",
        "# Create our list of stopwords\n",
        "nlp = spacy.load('en')\n",
        "stop_words = spacy.lang.en.stop_words.STOP_WORDS\n",
        "\n",
        "# Load English tokenizer, tagger, parser, NER and word vectors\n",
        "parser = English()\n",
        "\n",
        "# Creating our tokenizer function\n",
        "def spacy_tokenizer(sentence):\n",
        "    # Creating our token object, which is used to create documents with linguistic annotations.\n",
        "    mytokens = parser(sentence)\n",
        "\n",
        "    # Lemmatizing each token and converting each token into lowercase\n",
        "    mytokens = [ word.lemma_.lower().strip() if word.lemma_ != \"-PRON-\" else word.lower_ for word in mytokens ]\n",
        "# Removing stop words\n",
        "    mytokens = [ word for word in mytokens if word not in stop_words and word not in punctuations ]\n",
        "\n",
        "    # return preprocessed list of tokens\n",
        "    return mytokens\n",
        "\n",
        "spacy_tokenizer(sentence=new_df)\n",
        "\n",
        "'''#Load model to return language object\n",
        "\n",
        "nlp = spacy.load('en')\n",
        "\n",
        "#Calling nlp on our tweet texts to return a processed Doc for each\n",
        "\n",
        "new_df['doc'] = [nlp(TWEET) for TWEET in new_df.TWEET]\n",
        "\n",
        "new_df.sample(3)\n",
        "#new_df.head()'''"
      ],
      "execution_count": null,
      "outputs": [
        {
          "output_type": "error",
          "ename": "NameError",
          "evalue": "ignored",
          "traceback": [
            "\u001b[0;31m---------------------------------------------------------------------------\u001b[0m",
            "\u001b[0;31mNameError\u001b[0m                                 Traceback (most recent call last)",
            "\u001b[0;32m<ipython-input-71-2c67a0c5b32e>\u001b[0m in \u001b[0;36m<module>\u001b[0;34m()\u001b[0m\n\u001b[1;32m      7\u001b[0m \u001b[0;34m\u001b[0m\u001b[0m\n\u001b[1;32m      8\u001b[0m \u001b[0;31m# Create our list of stopwords\u001b[0m\u001b[0;34m\u001b[0m\u001b[0;34m\u001b[0m\u001b[0;34m\u001b[0m\u001b[0m\n\u001b[0;32m----> 9\u001b[0;31m \u001b[0mnlp\u001b[0m \u001b[0;34m=\u001b[0m \u001b[0mspacy\u001b[0m\u001b[0;34m.\u001b[0m\u001b[0mload\u001b[0m\u001b[0;34m(\u001b[0m\u001b[0;34m'en'\u001b[0m\u001b[0;34m)\u001b[0m\u001b[0;34m\u001b[0m\u001b[0;34m\u001b[0m\u001b[0m\n\u001b[0m\u001b[1;32m     10\u001b[0m \u001b[0mstop_words\u001b[0m \u001b[0;34m=\u001b[0m \u001b[0mspacy\u001b[0m\u001b[0;34m.\u001b[0m\u001b[0mlang\u001b[0m\u001b[0;34m.\u001b[0m\u001b[0men\u001b[0m\u001b[0;34m.\u001b[0m\u001b[0mstop_words\u001b[0m\u001b[0;34m.\u001b[0m\u001b[0mSTOP_WORDS\u001b[0m\u001b[0;34m\u001b[0m\u001b[0;34m\u001b[0m\u001b[0m\n\u001b[1;32m     11\u001b[0m \u001b[0;34m\u001b[0m\u001b[0m\n",
            "\u001b[0;31mNameError\u001b[0m: name 'spacy' is not defined"
          ]
        }
      ]
    },
    {
      "cell_type": "code",
      "metadata": {
        "id": "iVBN_TUt7Hnk"
      },
      "source": [
        "#converting HTML entities\n",
        "\n",
        "print(\"\"\"First Step : Converting html entities i.e. (&lt; &gt; &amp;)\n",
        "( \"&lt;\" is converted to “<” and \"&amp;\" is converted to “&”)\"\"\")\n",
        "\n",
        "html_parser = HTMLParser()"
      ],
      "execution_count": null,
      "outputs": []
    },
    {
      "cell_type": "code",
      "metadata": {
        "id": "IcQ3EbK28Fk2"
      },
      "source": [
        "# Created a new columns i.e. clean_tweet contains the same tweets but cleaned version\n",
        "\n",
        "new_df['CLEAN_TWEET'] = new_df['TWEET'].apply(lambda x: html_parser.unescape(x))\n",
        "\n",
        "new_df.head()"
      ],
      "execution_count": null,
      "outputs": []
    },
    {
      "cell_type": "code",
      "metadata": {
        "id": "ULGqh1gA-nIh"
      },
      "source": [
        "#Re-arrange the columns so that the 'clean tweets' column is preceeded by the 'tweet' column\n",
        "\n",
        "'''List of former columns in order:\n",
        "Unnamed: 0 \n",
        "ID             \n",
        "DATE           \n",
        "TWEET          \n",
        "RETWEETS       \n",
        "FAVORITES      \n",
        "HASHTAGS'''\n",
        "\n",
        "new_df = new_df[['Unnamed: 0','ID','DATE','TWEET', 'CLEAN_TWEET', 'RETWEETS', 'FAVORITES', 'HASHTAGS']]\n",
        "\n",
        "\n",
        "#Print out the new order of columns\n",
        "\n",
        "'''for col in new_df:\n",
        "  print(col)'''\n",
        "\n",
        "#view the adjusted dataframe\n",
        "\n",
        "new_df.head()"
      ],
      "execution_count": null,
      "outputs": []
    },
    {
      "cell_type": "code",
      "metadata": {
        "id": "PVQjP7f5DEIp"
      },
      "source": [
        "#Removing '@User' from all the tweets\n",
        "\n",
        "def remove_pattern(input_txt, pattern):\n",
        "    r = re.findall(pattern, input_txt)\n",
        "    for i in r:\n",
        "        input_txt = re.sub(i, '', input_txt)\n",
        "    return input_txt\n",
        "\n",
        "# remove twitter handles (@user)\n",
        "new_df['CLEAN_TWEET'] = np.vectorize(remove_pattern)(new_df['CLEAN_TWEET'], \"@[\\w]*\")\n",
        "\n",
        "new_df.head(10)"
      ],
      "execution_count": null,
      "outputs": []
    },
    {
      "cell_type": "code",
      "metadata": {
        "id": "IWlYaWa9GB9w"
      },
      "source": [
        "# Changing all the tweets into lowercase\n",
        "\n",
        "new_df['CLEAN_TWEET'] = new_df['CLEAN_TWEET'].apply(lambda x: x.lower())\n",
        "new_df.head(10)"
      ],
      "execution_count": null,
      "outputs": []
    },
    {
      "cell_type": "code",
      "metadata": {
        "id": "u6bD0uM6MWNe"
      },
      "source": [
        "#Replacing punctuation with space\n",
        "\n",
        "new_df['CLEAN_TWEET'] = new_df['CLEAN_TWEET'].apply(lambda x: re.sub(r'[^\\w\\s]',' ',x))\n",
        "\n",
        "new_df.head(10)"
      ],
      "execution_count": null,
      "outputs": []
    },
    {
      "cell_type": "code",
      "metadata": {
        "id": "HcegkEUQMvbc"
      },
      "source": [
        "#Replacing special characters with space\n",
        "\n",
        "new_df['CLEAN_TWEET'] = new_df['CLEAN_TWEET'].apply(lambda x: re.sub(r'[^a-zA-Z0-9]',' ',x))\n",
        "\n",
        "new_df.head(10)"
      ],
      "execution_count": null,
      "outputs": []
    },
    {
      "cell_type": "code",
      "metadata": {
        "id": "nCI_HcocNneB"
      },
      "source": [
        "#Replacing Numbers(Integers) with space\n",
        "\n",
        "new_df['CLEAN_TWEET'] = new_df['CLEAN_TWEET'].apply(lambda x: re.sub(r'[^a-zA-Z]',' ',x))\n",
        "\n",
        "new_df.head(10)"
      ],
      "execution_count": null,
      "outputs": []
    },
    {
      "cell_type": "code",
      "metadata": {
        "id": "XowlyF5XOlIK"
      },
      "source": [
        "#Removing words whose length is less than 1\n",
        "\n",
        "new_df['CLEAN_TWEET'] = new_df['CLEAN_TWEET'].apply(lambda x: ' '.join([w for w in x.split() if len(w)>1]))\n",
        "new_df['CLEAN_TWEET'][0:5]"
      ],
      "execution_count": null,
      "outputs": []
    },
    {
      "cell_type": "code",
      "metadata": {
        "id": "wCoYSfxqGpAL"
      },
      "source": [
        "#Word Cloud\n",
        "\n",
        "wordcloud__ = WordCloud(\n",
        "                          background_color='yellow',\n",
        "                          stopwords=set(STOPWORDS),\n",
        "                          max_words=250,\n",
        "                          max_font_size=40, \n",
        "                          random_state=1705\n",
        "                         ).generate(str(new_df['LEMMATIZED'].dropna()))\n",
        "def cloud_plot(wordcloud):\n",
        "    fig = plt.figure(1, figsize=(20,15))\n",
        "    plt.imshow(wordcloud)\n",
        "    plt.axis('off')\n",
        "    plt.show()\n",
        "cloud_plot(wordcloud__)"
      ],
      "execution_count": null,
      "outputs": []
    },
    {
      "cell_type": "code",
      "metadata": {
        "id": "__z6RnO2HMgn"
      },
      "source": [
        "#The number of tweets according to dates\n",
        "\n",
        "df['DATE'] =  pd.to_datetime(df['DATE'])\n",
        "cnt_srs =df['DATE'].dt.date.value_counts()\n",
        "cnt_srs = cnt_srs.sort_index()\n",
        "plt.figure(figsize=(16,12))\n",
        "sns.barplot(cnt_srs.index, cnt_srs.values, alpha=0.8, color='green')\n",
        "plt.xticks(rotation='vertical')\n",
        "plt.xlabel('Date', fontsize=12)\n",
        "plt.ylabel('Number of tweets', fontsize=12)\n",
        "plt.title(\"Number of tweets according to dates\")\n",
        "plt.show()"
      ],
      "execution_count": null,
      "outputs": []
    }
  ]
}